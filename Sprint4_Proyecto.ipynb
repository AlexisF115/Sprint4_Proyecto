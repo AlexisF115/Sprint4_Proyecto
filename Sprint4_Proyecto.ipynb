{
 "cells": [
  {
   "cell_type": "markdown",
   "id": "b62fdb67",
   "metadata": {},
   "source": [
    "# ¡Hola, Javier!  \n",
    "\n",
    "Mi nombre es Francisco Benavides, soy code reviewer de Tripleten y voy a revisar el proyecto que acabas de desarrollar.\n",
    "\n",
    "\n",
    "Cada ves que vea un error por primera vez, lo señalaré. Deberás encontrarlo y arreglarlo, ya que buscamos que te prepares para un trabajo real, en el cual tu líder de equipo hará lo mismo. Si no puedes solucionar el error, te brindaré algunos tips más especificos la proxima vez.\n",
    "\n",
    "Podrás encontrar mis comentarios más abajo - **por favor, no los muevas, no los modifiques ni los borres**.\n",
    "\n",
    "¿Cómo lo voy a hacer? Voy a leer cuidadosamente cada una de tus implementaciones que has llevado a cabo para complir con tu informe. Cada uno de mis comentarios tiene el siguiente código de colores:\n",
    "\n",
    "<div class=\"alert alert-block alert-success\">\n",
    "<b>Comentario del revisor</b> <a class=\"tocSkip\"></a>\n",
    "    \n",
    "Si todo está perfecto.\n",
    "</div>\n",
    "\n",
    "\n",
    "<div class=\"alert alert-block alert-warning\">\n",
    "<b>Comentario del revisor</b> <a class=\"tocSkip\"></a>\n",
    "    \n",
    "Si tu código está bien pero se puede mejorar o hay algún detalle que le hace falta.\n",
    "</div>\n",
    "\n",
    "\n",
    "<div class=\"alert alert-block alert-danger\">\n",
    "    \n",
    "<b>Comentario del revisor</b> <a class=\"tocSkip\"></a>\n",
    "    \n",
    "    \n",
    "Si de pronto hace falta algo o existe algún problema con tu código o conclusiones.\n",
    "</div>\n",
    "\n",
    "\n",
    "Si encuentras que es necesario, puedes responderme de esta forma: \n",
    "\n",
    "<div class=\"alert alert-block alert-info\">\n",
    "<b>Respuesta del estudiante</b> <a class=\"tocSkip\"></a>\n",
    "</div>\n",
    "\n",
    "Mucho éxito!"
   ]
  },
  {
   "cell_type": "markdown",
   "id": "3Xg_RQfnafXz",
   "metadata": {
    "id": "3Xg_RQfnafXz"
   },
   "source": [
    "# ¡Llena ese carrito!"
   ]
  },
  {
   "cell_type": "markdown",
   "id": "mhIvmmkW414q",
   "metadata": {
    "id": "mhIvmmkW414q"
   },
   "source": [
    "# Introducción\n",
    "\n",
    "Instacart es una plataforma de entregas de comestibles donde la clientela puede registrar un pedido y hacer que se lo entreguen, similar a Uber Eats y Door Dash.\n",
    "El conjunto de datos que te hemos proporcionado tiene modificaciones del original. Redujimos el tamaño del conjunto para que tus cálculos se hicieran más rápido e introdujimos valores ausentes y duplicados. Tuvimos cuidado de conservar las distribuciones de los datos originales cuando hicimos los cambios.\n",
    "\n",
    "Debes completar tres pasos. Para cada uno de ellos, escribe una breve introducción que refleje con claridad cómo pretendes resolver cada paso, y escribe párrafos explicatorios que justifiquen tus decisiones al tiempo que avanzas en tu solución.  También escribe una conclusión que resuma tus hallazgos y elecciones.\n"
   ]
  },
  {
   "cell_type": "markdown",
   "id": "3MbyzpOQZ5Or",
   "metadata": {
    "id": "3MbyzpOQZ5Or"
   },
   "source": [
    "## Diccionario de datos\n",
    "\n",
    "Hay cinco tablas en el conjunto de datos, y tendrás que usarlas todas para hacer el preprocesamiento de datos y el análisis exploratorio de datos. A continuación se muestra un diccionario de datos que enumera las columnas de cada tabla y describe los datos que contienen.\n",
    "\n",
    "- `instacart_orders.csv`: cada fila corresponde a un pedido en la aplicación Instacart.\n",
    "    - `'order_id'`: número de ID que identifica de manera única cada pedido.\n",
    "    - `'user_id'`: número de ID que identifica de manera única la cuenta de cada cliente.\n",
    "    - `'order_number'`: el número de veces que este cliente ha hecho un pedido.\n",
    "    - `'order_dow'`: día de la semana en que se hizo el pedido (0 si es domingo).\n",
    "    - `'order_hour_of_day'`: hora del día en que se hizo el pedido.\n",
    "    - `'days_since_prior_order'`: número de días transcurridos desde que este cliente hizo su pedido anterior.\n",
    "- `products.csv`: cada fila corresponde a un producto único que pueden comprar los clientes.\n",
    "    - `'product_id'`: número ID que identifica de manera única cada producto.\n",
    "    - `'product_name'`: nombre del producto.\n",
    "    - `'aisle_id'`: número ID que identifica de manera única cada categoría de pasillo de víveres.\n",
    "    - `'department_id'`: número ID que identifica de manera única cada departamento de víveres.\n",
    "- `order_products.csv`: cada fila corresponde a un artículo pedido en un pedido.\n",
    "    - `'order_id'`: número de ID que identifica de manera única cada pedido.\n",
    "    - `'product_id'`: número ID que identifica de manera única cada producto.\n",
    "    - `'add_to_cart_order'`: el orden secuencial en el que se añadió cada artículo en el carrito.\n",
    "    - `'reordered'`: 0 si el cliente nunca ha pedido este producto antes, 1 si lo ha pedido.\n",
    "- `aisles.csv`\n",
    "    - `'aisle_id'`: número ID que identifica de manera única cada categoría de pasillo de víveres.\n",
    "    - `'aisle'`: nombre del pasillo.\n",
    "- `departments.csv`\n",
    "    - `'department_id'`: número ID que identifica de manera única cada departamento de víveres.\n",
    "    - `'department'`: nombre del departamento."
   ]
  },
  {
   "cell_type": "markdown",
   "id": "n3Ha_cNSZ8lK",
   "metadata": {
    "id": "n3Ha_cNSZ8lK"
   },
   "source": [
    "# Paso 1. Descripción de los datos\n",
    "\n",
    "Lee los archivos de datos (`/datasets/instacart_orders.csv`, `/datasets/products.csv`, `/datasets/aisles.csv`, `/datasets/departments.csv` y `/datasets/order_products.csv`) con `pd.read_csv()` usando los parámetros adecuados para leer los datos correctamente. Verifica la información para cada DataFrame creado.\n"
   ]
  },
  {
   "cell_type": "markdown",
   "id": "OmlQPLlyaAfR",
   "metadata": {
    "id": "OmlQPLlyaAfR"
   },
   "source": [
    "## Plan de solución\n",
    "\n",
    "Escribe aquí tu plan de solución para el Paso 1. Descripción de los datos."
   ]
  },
  {
   "cell_type": "code",
   "execution_count": 1,
   "id": "fbf1adab",
   "metadata": {
    "id": "fbf1adab"
   },
   "outputs": [],
   "source": [
    "import pandas as pd\n",
    "from matplotlib import pyplot as plt"
   ]
  },
  {
   "cell_type": "code",
   "execution_count": 2,
   "id": "ad36396d",
   "metadata": {
    "id": "ad36396d"
   },
   "outputs": [],
   "source": [
    "df_orders = pd.read_csv(\"/datasets/instacart_orders.csv\", sep=';',\n",
    "    header=\"infer\",\n",
    "    decimal='.',)\n",
    "\n",
    "df_products = pd.read_csv(\"/datasets/products.csv\", sep=';',\n",
    "    header=\"infer\",\n",
    "    decimal='.',)\n",
    "\n",
    "df_aisles = pd.read_csv(\"/datasets/aisles.csv\", sep=';',\n",
    "    header=\"infer\",\n",
    "    decimal='.',)\n",
    "\n",
    "df_departments = pd.read_csv(\"/datasets/departments.csv\", sep=';',\n",
    "    header=\"infer\",\n",
    "    decimal='.',)\n",
    "\n",
    "df_order_products = pd.read_csv(\"/datasets/order_products.csv\", sep=';',\n",
    "    header=\"infer\",\n",
    "    decimal='.',)"
   ]
  },
  {
   "cell_type": "markdown",
   "id": "dae4541b",
   "metadata": {},
   "source": [
    "<div class=\"alert alert-block alert-success\">\n",
    "<b>Comentario del revisor</b> <a class=\"tocSkip\"></a>\n",
    "\n",
    "Bien leido los dataframes!\n",
    "</div>"
   ]
  },
  {
   "cell_type": "code",
   "execution_count": 3,
   "id": "ad6a1efa",
   "metadata": {
    "id": "ad6a1efa"
   },
   "outputs": [
    {
     "name": "stdout",
     "output_type": "stream",
     "text": [
      "   order_id  user_id  order_number  order_dow  order_hour_of_day  \\\n",
      "0   1515936   183418            11          6                 13   \n",
      "1   1690866   163593             5          5                 12   \n",
      "2   1454967    39980             4          5                 19   \n",
      "3   1768857    82516            56          0                 20   \n",
      "4   3007858   196724             2          4                 12   \n",
      "\n",
      "   days_since_prior_order  \n",
      "0                    30.0  \n",
      "1                     9.0  \n",
      "2                     2.0  \n",
      "3                    10.0  \n",
      "4                    17.0  \n",
      "\n"
     ]
    },
    {
     "data": {
      "text/plain": [
       "<bound method DataFrame.info of         order_id  user_id  order_number  order_dow  order_hour_of_day  \\\n",
       "0        1515936   183418            11          6                 13   \n",
       "1        1690866   163593             5          5                 12   \n",
       "2        1454967    39980             4          5                 19   \n",
       "3        1768857    82516            56          0                 20   \n",
       "4        3007858   196724             2          4                 12   \n",
       "...          ...      ...           ...        ...                ...   \n",
       "478962   3210681     5617             5          1                 14   \n",
       "478963   3270802   112087             2          3                 13   \n",
       "478964    885349    82944            16          2                 11   \n",
       "478965    216274     4391             3          3                  8   \n",
       "478966   2071924     1730            18          1                 14   \n",
       "\n",
       "        days_since_prior_order  \n",
       "0                         30.0  \n",
       "1                          9.0  \n",
       "2                          2.0  \n",
       "3                         10.0  \n",
       "4                         17.0  \n",
       "...                        ...  \n",
       "478962                     7.0  \n",
       "478963                     6.0  \n",
       "478964                     6.0  \n",
       "478965                     8.0  \n",
       "478966                    15.0  \n",
       "\n",
       "[478967 rows x 6 columns]>"
      ]
     },
     "execution_count": 3,
     "metadata": {},
     "output_type": "execute_result"
    }
   ],
   "source": [
    "print(df_orders.head())\n",
    "print()\n",
    "df_orders.info"
   ]
  },
  {
   "cell_type": "code",
   "execution_count": 4,
   "id": "5130e05e",
   "metadata": {
    "id": "5130e05e"
   },
   "outputs": [
    {
     "name": "stdout",
     "output_type": "stream",
     "text": [
      "   product_id                                       product_name  aisle_id  \\\n",
      "0           1                         Chocolate Sandwich Cookies        61   \n",
      "1           2                                   All-Seasons Salt       104   \n",
      "2           3               Robust Golden Unsweetened Oolong Tea        94   \n",
      "3           4  Smart Ones Classic Favorites Mini Rigatoni Wit...        38   \n",
      "4           5                          Green Chile Anytime Sauce         5   \n",
      "\n",
      "   department_id  \n",
      "0             19  \n",
      "1             13  \n",
      "2              7  \n",
      "3              1  \n",
      "4             13  \n",
      "\n"
     ]
    },
    {
     "data": {
      "text/plain": [
       "<bound method DataFrame.info of        product_id                                       product_name  \\\n",
       "0               1                         Chocolate Sandwich Cookies   \n",
       "1               2                                   All-Seasons Salt   \n",
       "2               3               Robust Golden Unsweetened Oolong Tea   \n",
       "3               4  Smart Ones Classic Favorites Mini Rigatoni Wit...   \n",
       "4               5                          Green Chile Anytime Sauce   \n",
       "...           ...                                                ...   \n",
       "49689       49690                      HIGH PERFORMANCE ENERGY DRINK   \n",
       "49690       49691                      ORIGINAL PANCAKE & WAFFLE MIX   \n",
       "49691       49692    ORGANIC INSTANT OATMEAL LIGHT MAPLE BROWN SUGAR   \n",
       "49692       49693                             SPRING WATER BODY WASH   \n",
       "49693       49694                            BURRITO- STEAK & CHEESE   \n",
       "\n",
       "       aisle_id  department_id  \n",
       "0            61             19  \n",
       "1           104             13  \n",
       "2            94              7  \n",
       "3            38              1  \n",
       "4             5             13  \n",
       "...         ...            ...  \n",
       "49689        64              7  \n",
       "49690       130             14  \n",
       "49691       130             14  \n",
       "49692       127             11  \n",
       "49693        38              1  \n",
       "\n",
       "[49694 rows x 4 columns]>"
      ]
     },
     "execution_count": 4,
     "metadata": {},
     "output_type": "execute_result"
    }
   ],
   "source": [
    "print(df_products.head())\n",
    "print()\n",
    "df_products.info"
   ]
  },
  {
   "cell_type": "code",
   "execution_count": 5,
   "id": "d8370c05",
   "metadata": {
    "id": "d8370c05"
   },
   "outputs": [
    {
     "name": "stdout",
     "output_type": "stream",
     "text": [
      "   aisle_id                       aisle\n",
      "0         1       prepared soups salads\n",
      "1         2           specialty cheeses\n",
      "2         3         energy granola bars\n",
      "3         4               instant foods\n",
      "4         5  marinades meat preparation\n",
      "\n"
     ]
    },
    {
     "data": {
      "text/plain": [
       "<bound method DataFrame.info of      aisle_id                       aisle\n",
       "0           1       prepared soups salads\n",
       "1           2           specialty cheeses\n",
       "2           3         energy granola bars\n",
       "3           4               instant foods\n",
       "4           5  marinades meat preparation\n",
       "..        ...                         ...\n",
       "129       130    hot cereal pancake mixes\n",
       "130       131                   dry pasta\n",
       "131       132                      beauty\n",
       "132       133  muscles joints pain relief\n",
       "133       134  specialty wines champagnes\n",
       "\n",
       "[134 rows x 2 columns]>"
      ]
     },
     "execution_count": 5,
     "metadata": {},
     "output_type": "execute_result"
    }
   ],
   "source": [
    "print(df_aisles.head())\n",
    "print()\n",
    "df_aisles.info"
   ]
  },
  {
   "cell_type": "code",
   "execution_count": 6,
   "id": "59e2090f",
   "metadata": {
    "id": "59e2090f"
   },
   "outputs": [
    {
     "name": "stdout",
     "output_type": "stream",
     "text": [
      "   department_id department\n",
      "0              1     frozen\n",
      "1              2      other\n",
      "2              3     bakery\n",
      "3              4    produce\n",
      "4              5    alcohol\n",
      "\n"
     ]
    },
    {
     "data": {
      "text/plain": [
       "<bound method DataFrame.info of     department_id       department\n",
       "0               1           frozen\n",
       "1               2            other\n",
       "2               3           bakery\n",
       "3               4          produce\n",
       "4               5          alcohol\n",
       "5               6    international\n",
       "6               7        beverages\n",
       "7               8             pets\n",
       "8               9  dry goods pasta\n",
       "9              10             bulk\n",
       "10             11    personal care\n",
       "11             12     meat seafood\n",
       "12             13           pantry\n",
       "13             14        breakfast\n",
       "14             15     canned goods\n",
       "15             16       dairy eggs\n",
       "16             17        household\n",
       "17             18           babies\n",
       "18             19           snacks\n",
       "19             20             deli\n",
       "20             21          missing>"
      ]
     },
     "execution_count": 6,
     "metadata": {},
     "output_type": "execute_result"
    }
   ],
   "source": [
    "print(df_departments.head())\n",
    "print()\n",
    "df_departments.info"
   ]
  },
  {
   "cell_type": "code",
   "execution_count": 7,
   "id": "6fc81694",
   "metadata": {
    "id": "6fc81694"
   },
   "outputs": [
    {
     "name": "stdout",
     "output_type": "stream",
     "text": [
      "   order_id  product_id  add_to_cart_order  reordered\n",
      "0   2141543       11440               17.0          0\n",
      "1    567889        1560                1.0          1\n",
      "2   2261212       26683                1.0          1\n",
      "3    491251        8670               35.0          1\n",
      "4   2571142        1940                5.0          1\n",
      "\n"
     ]
    },
    {
     "data": {
      "text/plain": [
       "<bound method DataFrame.info of          order_id  product_id  add_to_cart_order  reordered\n",
       "0         2141543       11440               17.0          0\n",
       "1          567889        1560                1.0          1\n",
       "2         2261212       26683                1.0          1\n",
       "3          491251        8670               35.0          1\n",
       "4         2571142        1940                5.0          1\n",
       "...           ...         ...                ...        ...\n",
       "4545002    577211       15290               12.0          1\n",
       "4545003   1219554       21914                9.0          0\n",
       "4545004    692640       47766                4.0          1\n",
       "4545005    319435         691                8.0          1\n",
       "4545006   1398151       28733                9.0          0\n",
       "\n",
       "[4545007 rows x 4 columns]>"
      ]
     },
     "execution_count": 7,
     "metadata": {},
     "output_type": "execute_result"
    }
   ],
   "source": [
    "print(df_order_products.head())\n",
    "print()\n",
    "df_order_products.info"
   ]
  },
  {
   "cell_type": "markdown",
   "id": "t75BD19oaR5f",
   "metadata": {
    "id": "t75BD19oaR5f"
   },
   "source": [
    "## Conclusiones\n",
    "\n",
    "Escribe aquí tus conclusiones intermedias sobre el Paso 1. Descripción de los datos.\n",
    "\n",
    "- Mis conclusiones: Me di cuenta que en la mayoria de los archivos de datos estaban desordenados, de tal manera que no se podian leer bien lo que tenian de información. Asi que procedi a dar los parametros adecuados para poder que sean más faciles de ver y entender a la hora de imprimirlos.\n",
    "- Como se puede observar, existen diferentes tipos de datos dependiendo de la columna que se, hay desde Int64, Float64 y String. Ademas, podedmos observar que hay datos faltantes en diferentes columnas, lo cual vamos a solucionar más adelante para tener DatFrames más limpios que nos permitan analizarlos mejor y entregar mejores resultados.\n",
    "- Las colummnas con datos faltantes son: \"product_name\", \"days_since_prior_order\" y el tipo de dato incorrecto es \"Float64\" en la columna de \"add_to_cart_order\", el cual debe de ser \"Int64\"."
   ]
  },
  {
   "cell_type": "markdown",
   "id": "62ef24c0",
   "metadata": {},
   "source": [
    "<div class=\"alert alert-block alert-warning\">\n",
    "<b>Comentario del revisor</b> <a class=\"tocSkip\"></a>\n",
    "    \n",
    "**tercera iteracion**\n",
    "\n",
    "Cuales son las columnas con datos faltantes y tipos de datos incorrectos?"
   ]
  },
  {
   "cell_type": "markdown",
   "id": "e2478174",
   "metadata": {},
   "source": [
    "<div class=\"alert alert-block alert-danger\">\n",
    "<b>Comentario del revisor</b> <a class=\"tocSkip\"></a>\n",
    "    \n",
    "**Segunda iteracion**\n",
    "Debes comentar sobre el estado de los datos, valores faltantes, tipos de datos, etc.    \n",
    "   \n",
    "    "
   ]
  },
  {
   "cell_type": "markdown",
   "id": "874ab792",
   "metadata": {},
   "source": [
    "<div class=\"alert alert-block alert-danger\">\n",
    "<b>Comentario del revisor</b> <a class=\"tocSkip\"></a>\n",
    "    \n",
    "    \n",
    "**Primera iteracion (solucionado)**\n",
    "Debes tambien utilizar el metodo info para ver el estado inicial de los datos\n",
    "</div>"
   ]
  },
  {
   "cell_type": "markdown",
   "id": "8RJHqxVmaVsF",
   "metadata": {
    "id": "8RJHqxVmaVsF"
   },
   "source": [
    "# Paso 2. Preprocesamiento de los datos\n",
    "\n",
    "Preprocesa los datos de la siguiente manera:\n",
    "\n",
    "- Verifica y corrige los tipos de datos (por ejemplo, asegúrate de que las columnas de ID sean números enteros).\n",
    "- Identifica y completa los valores ausentes.\n",
    "- Identifica y elimina los valores duplicados.\n",
    "\n",
    "Asegúrate de explicar qué tipos de valores ausentes y duplicados encontraste, cómo los completaste o eliminaste y por qué usaste esos métodos. ¿Por qué crees que estos valores ausentes y duplicados pueden haber estado presentes en el conjunto de datos?"
   ]
  },
  {
   "cell_type": "markdown",
   "id": "p6poABZQaZYb",
   "metadata": {
    "id": "p6poABZQaZYb"
   },
   "source": [
    "## Plan de solución\n",
    "\n",
    "Escribe aquí tu plan para el Paso 2. Preprocesamiento de los datos.\n",
    "\n",
    " - Mi plan: Voy a analizar los tipos de datos que se encuentren en los diferentes DataFrames y voy a proceder a identificar si se encuentran valores ausentes y duplicados. En caso de encontrarlos, voy a proceder a eliminarlos para que no interfieran en el análisis de nuestros datos."
   ]
  },
  {
   "cell_type": "markdown",
   "id": "07357848-dc64-4156-9cc3-01ff4365226d",
   "metadata": {
    "id": "07357848-dc64-4156-9cc3-01ff4365226d"
   },
   "source": [
    "## Encuentra y elimina los valores duplicados (y describe cómo tomaste tus decisiones)."
   ]
  },
  {
   "cell_type": "markdown",
   "id": "f179f0a9",
   "metadata": {
    "id": "f179f0a9"
   },
   "source": [
    "### `instacart_orders` data frame"
   ]
  },
  {
   "cell_type": "code",
   "execution_count": 8,
   "id": "b99297a5-405a-463d-8535-9adc3da4ad74",
   "metadata": {
    "id": "b99297a5-405a-463d-8535-9adc3da4ad74"
   },
   "outputs": [
    {
     "name": "stdout",
     "output_type": "stream",
     "text": [
      "15\n",
      "        order_id  user_id  order_number  order_dow  order_hour_of_day  \\\n",
      "145574    794638    50898            24          3                  2   \n",
      "223105   2160484   107525            16          3                  2   \n",
      "230807   1918001   188546            14          3                  2   \n",
      "266232   1782114   106752             1          3                  2   \n",
      "273805   1112182   202304            84          3                  2   \n",
      "284038   2845099    31189            11          3                  2   \n",
      "311713   1021560    53767             3          3                  2   \n",
      "321100    408114    68324             4          3                  2   \n",
      "323900   1919531   191501            32          3                  2   \n",
      "345917   2232988    82565             1          3                  2   \n",
      "371905    391768    57671            19          3                  2   \n",
      "394347    467134    63189            21          3                  2   \n",
      "411408   1286742   183220            48          3                  2   \n",
      "415163   2282673    86751            49          3                  2   \n",
      "441599   2125197    14050            48          3                  2   \n",
      "\n",
      "        days_since_prior_order  \n",
      "145574                     2.0  \n",
      "223105                    30.0  \n",
      "230807                    16.0  \n",
      "266232                     NaN  \n",
      "273805                     6.0  \n",
      "284038                     7.0  \n",
      "311713                     9.0  \n",
      "321100                    18.0  \n",
      "323900                     7.0  \n",
      "345917                     NaN  \n",
      "371905                    10.0  \n",
      "394347                     2.0  \n",
      "411408                     4.0  \n",
      "415163                     2.0  \n",
      "441599                     3.0  \n"
     ]
    }
   ],
   "source": [
    "print(df_orders.duplicated().sum())\n",
    "print(df_orders[df_orders.duplicated()])"
   ]
  },
  {
   "cell_type": "markdown",
   "id": "PEkwUX_gvt5A",
   "metadata": {
    "id": "PEkwUX_gvt5A"
   },
   "source": [
    "¿Tienes líneas duplicadas? Si sí, ¿qué tienen en común?\n",
    "\n",
    "- Respuesta: Si, si tiene lineas duplicadas. Al parecer, lo que tienen en comun es el \"order_dow\" y el \"order_hour_of_day\""
   ]
  },
  {
   "cell_type": "code",
   "execution_count": 9,
   "id": "0d44de5d",
   "metadata": {
    "id": "0d44de5d"
   },
   "outputs": [
    {
     "name": "stdout",
     "output_type": "stream",
     "text": [
      "        order_id  user_id  order_number  order_dow  order_hour_of_day  \\\n",
      "4838     2766110   162084            41          3                  2   \n",
      "5156     2190225   138285            18          3                  2   \n",
      "15506     553049    58599            13          3                  2   \n",
      "18420     382357   120200            19          3                  2   \n",
      "24691     690242    77357             2          3                  2   \n",
      "...          ...      ...           ...        ...                ...   \n",
      "457013   3384021    14881             6          3                  2   \n",
      "458816    910166   164782            18          3                  2   \n",
      "459635   1680532   106435             6          3                  2   \n",
      "468324    222962    54979            59          3                  2   \n",
      "477526   2592344    46860            38          3                  2   \n",
      "\n",
      "        days_since_prior_order  \n",
      "4838                      16.0  \n",
      "5156                      11.0  \n",
      "15506                      7.0  \n",
      "18420                     11.0  \n",
      "24691                      9.0  \n",
      "...                        ...  \n",
      "457013                    30.0  \n",
      "458816                     4.0  \n",
      "459635                    21.0  \n",
      "468324                     3.0  \n",
      "477526                     3.0  \n",
      "\n",
      "[121 rows x 6 columns]\n"
     ]
    }
   ],
   "source": [
    "# Basándote en tus hallazgos,\n",
    "# Verifica todos los pedidos que se hicieron el miércoles a las 2:00 a.m.\n",
    "\n",
    "print(df_orders[(df_orders[\"order_dow\"] == 3) & (df_orders[\"order_hour_of_day\"] == 2)])"
   ]
  },
  {
   "cell_type": "markdown",
   "id": "vu2OWyoqwOx5",
   "metadata": {
    "id": "vu2OWyoqwOx5"
   },
   "source": [
    "¿Qué sugiere este resultado?\n",
    "\n",
    " - Respuesta: Sugiere que como tal existen más datos para esos dias en especifico que los duplicados."
   ]
  },
  {
   "cell_type": "markdown",
   "id": "4b37c600",
   "metadata": {},
   "source": [
    "<div class=\"alert alert-block alert-success\">\n",
    "<b>Comentario del revisor</b> <a class=\"tocSkip\"></a>\n",
    "**Solucionado**\n",
    "Esto no es cierto, solo que hay más datos para esos días que los duplicados\n",
    "</div>"
   ]
  },
  {
   "cell_type": "code",
   "execution_count": 10,
   "id": "480563c7",
   "metadata": {
    "id": "480563c7"
   },
   "outputs": [
    {
     "name": "stdout",
     "output_type": "stream",
     "text": [
      "None\n"
     ]
    }
   ],
   "source": [
    "# Elimina los pedidos duplicados\n",
    "print(df_orders.drop_duplicates(inplace=True))"
   ]
  },
  {
   "cell_type": "code",
   "execution_count": 11,
   "id": "0b2396a2",
   "metadata": {
    "id": "0b2396a2"
   },
   "outputs": [
    {
     "name": "stdout",
     "output_type": "stream",
     "text": [
      "0\n",
      "\n",
      "Empty DataFrame\n",
      "Columns: [order_id, user_id, order_number, order_dow, order_hour_of_day, days_since_prior_order]\n",
      "Index: []\n"
     ]
    }
   ],
   "source": [
    "# Vuelve a verificar si hay filas duplicadas\n",
    "print(df_orders.duplicated().sum())\n",
    "print()\n",
    "print(df_orders[df_orders.duplicated()])"
   ]
  },
  {
   "cell_type": "code",
   "execution_count": 12,
   "id": "f6113ef1",
   "metadata": {
    "id": "f6113ef1"
   },
   "outputs": [
    {
     "name": "stdout",
     "output_type": "stream",
     "text": [
      "Empty DataFrame\n",
      "Columns: [order_id, user_id, order_number, order_dow, order_hour_of_day, days_since_prior_order]\n",
      "Index: []\n"
     ]
    }
   ],
   "source": [
    "# Vuelve a verificar si hay IDs duplicados de pedidos\n",
    "print(df_orders[df_orders.duplicated(\"order_id\")])"
   ]
  },
  {
   "cell_type": "markdown",
   "id": "5e8905ae",
   "metadata": {
    "id": "5e8905ae"
   },
   "source": [
    "Describe brevemente tus hallazgos y lo que hiciste con ellos\n",
    "\n",
    "- Pude identificar los valores duplicados que se encontraban en mi Dataframe y pude eliminarlos para que no interfirieran en análisis futuros."
   ]
  },
  {
   "cell_type": "markdown",
   "id": "45e6bc46",
   "metadata": {
    "id": "45e6bc46"
   },
   "source": [
    "### `products` data frame"
   ]
  },
  {
   "cell_type": "code",
   "execution_count": 13,
   "id": "5f526b5b-8175-46fa-a0fd-441767d50e64",
   "metadata": {
    "id": "5f526b5b-8175-46fa-a0fd-441767d50e64"
   },
   "outputs": [
    {
     "name": "stdout",
     "output_type": "stream",
     "text": [
      "0\n",
      "Empty DataFrame\n",
      "Columns: [product_id, product_name, aisle_id, department_id]\n",
      "Index: []\n"
     ]
    }
   ],
   "source": [
    "# Verifica si hay filas totalmente duplicadas\n",
    "print(df_products.duplicated().sum())\n",
    "print(df_products[df_products.duplicated()])"
   ]
  },
  {
   "cell_type": "code",
   "execution_count": 14,
   "id": "88daa4f4",
   "metadata": {
    "id": "88daa4f4"
   },
   "outputs": [
    {
     "name": "stdout",
     "output_type": "stream",
     "text": [
      "0\n"
     ]
    }
   ],
   "source": [
    "# Verifica si hay IDs duplicadas de productos\n",
    "print(df_products[\"product_id\"].duplicated().sum())"
   ]
  },
  {
   "cell_type": "code",
   "execution_count": 15,
   "id": "c773f0bf",
   "metadata": {
    "id": "c773f0bf"
   },
   "outputs": [
    {
     "name": "stdout",
     "output_type": "stream",
     "text": [
      "       product_id                                     product_name  aisle_id  \\\n",
      "71             72                                              NaN       100   \n",
      "109           110                                              NaN       100   \n",
      "296           297                                              NaN       100   \n",
      "416           417                                              NaN       100   \n",
      "436           437                                              NaN       100   \n",
      "...           ...                                              ...       ...   \n",
      "49689       49690                    HIGH PERFORMANCE ENERGY DRINK        64   \n",
      "49690       49691                    ORIGINAL PANCAKE & WAFFLE MIX       130   \n",
      "49691       49692  ORGANIC INSTANT OATMEAL LIGHT MAPLE BROWN SUGAR       130   \n",
      "49692       49693                           SPRING WATER BODY WASH       127   \n",
      "49693       49694                          BURRITO- STEAK & CHEESE        38   \n",
      "\n",
      "       department_id  \n",
      "71                21  \n",
      "109               21  \n",
      "296               21  \n",
      "416               21  \n",
      "436               21  \n",
      "...              ...  \n",
      "49689              7  \n",
      "49690             14  \n",
      "49691             14  \n",
      "49692             11  \n",
      "49693              1  \n",
      "\n",
      "[1361 rows x 4 columns]\n"
     ]
    }
   ],
   "source": [
    "# Revisa si hay nombres duplicados de productos (convierte los nombres a letras mayúsculas para compararlos mejor)\n",
    "df_products[\"product_name\"] = df_products[\"product_name\"].str.upper()\n",
    "print(df_products[df_products.duplicated(\"product_name\")])"
   ]
  },
  {
   "cell_type": "code",
   "execution_count": 16,
   "id": "01efd02e",
   "metadata": {
    "id": "01efd02e"
   },
   "outputs": [
    {
     "name": "stdout",
     "output_type": "stream",
     "text": [
      "GREEN TEA WITH GINSENG AND HONEY                                3\n",
      "ORGANIC INSTANT OATMEAL LIGHT MAPLE BROWN SUGAR                 2\n",
      "CHUNK LIGHT TUNA IN WATER                                       2\n",
      "FAMILY SIZE LASAGNA WITH MEAT & SAUCE                           2\n",
      "SKINLESS & BONELESS SARDINES IN OLIVE OIL                       2\n",
      "                                                               ..\n",
      "PREMIUM CHOW MEIN TERIYAKI BEEF FLAVOR                          1\n",
      "VELVEETA MEXICAN CHEESE                                         1\n",
      "WOODLAND SOAP BAR                                               1\n",
      "THE SOOTHING REMOVER CLEANSING TOWELETTES FOR SENSITIVE SKIN    1\n",
      "CRUSHED PINEAPPLE IN 100% JUICE                                 1\n",
      "Name: product_name, Length: 48332, dtype: int64\n"
     ]
    }
   ],
   "source": [
    "# Revisa si hay nombres duplicados de productos no faltantes\n",
    "print(df_products[\"product_name\"].value_counts())"
   ]
  },
  {
   "cell_type": "markdown",
   "id": "9da8d293",
   "metadata": {
    "id": "9da8d293"
   },
   "source": [
    "Describe brevemente tus hallazgos y lo que hiciste con ellos.\n",
    "- Por lo visto existen valores duplicados los cuales serian los NaN que son valores ausentes, en este caso esta mal por que no deberiamos de tener esos valores repetidos.\n",
    "- En este dataframe, lo que identifica a un producto para que sea considerado unico es tanto el nombre del producto como el id, ya que no tendria sentido tener dos productos del mismo nombre o el id repetido.\n",
    "- Una vez identificado eso, ya podemos modificar y eliminar los valores duplicados que existan en este DataFrame."
   ]
  },
  {
   "cell_type": "markdown",
   "id": "c558cfa3",
   "metadata": {},
   "source": [
    "<div class=\"alert alert-block alert-success\">\n",
    "<b>Comentario del revisor</b> <a class=\"tocSkip\"></a>\n",
    "    \n",
    "**Solucionado**\n",
    "\n",
    "En este dataframe, que identifica a un producto unico? el nombre o el id?\n",
    "</div>"
   ]
  },
  {
   "cell_type": "markdown",
   "id": "a80689af",
   "metadata": {},
   "source": [
    "<div class=\"alert alert-block alert-danger\">\n",
    "<b>Comentario del revisor</b> <a class=\"tocSkip\"></a>\n",
    "    \n",
    "**Segunda iteración**\n",
    "\n",
    "Revisa que información contiene este dataframe en la descripción del proyecto. Teniendo en consideración ese dato, vuelve a darle una vuelta a si estos duplicados estan bien o mal\n",
    "</div>"
   ]
  },
  {
   "cell_type": "markdown",
   "id": "60f30db1",
   "metadata": {
    "id": "60f30db1"
   },
   "source": [
    "### `departments` data frame"
   ]
  },
  {
   "cell_type": "code",
   "execution_count": 17,
   "id": "fb410ad4-0fbf-4b80-bb09-23fdea79afe3",
   "metadata": {
    "id": "fb410ad4-0fbf-4b80-bb09-23fdea79afe3"
   },
   "outputs": [
    {
     "name": "stdout",
     "output_type": "stream",
     "text": [
      "0\n",
      "Empty DataFrame\n",
      "Columns: [department_id, department]\n",
      "Index: []\n"
     ]
    }
   ],
   "source": [
    "# Revisa si hay filas totalmente duplicadas\n",
    "print(df_departments.duplicated().sum())\n",
    "print(df_departments[df_departments.duplicated()])"
   ]
  },
  {
   "cell_type": "code",
   "execution_count": 18,
   "id": "332b12bb",
   "metadata": {
    "id": "332b12bb"
   },
   "outputs": [
    {
     "name": "stdout",
     "output_type": "stream",
     "text": [
      "0\n"
     ]
    }
   ],
   "source": [
    "# Revisa si hay IDs duplicadas de productos\n",
    "print(df_departments[\"department_id\"].duplicated().sum())"
   ]
  },
  {
   "cell_type": "markdown",
   "id": "bd30d78e",
   "metadata": {
    "id": "bd30d78e"
   },
   "source": [
    "Describe brevemente tus hallazgos y lo que hiciste con ellos.\n",
    "- Este DataFrame es pequeño y no cuenta con ningun dato duplicado. A pesar de que se verifico dos veces."
   ]
  },
  {
   "cell_type": "markdown",
   "id": "889349c1",
   "metadata": {
    "id": "889349c1"
   },
   "source": [
    "### `aisles` data frame"
   ]
  },
  {
   "cell_type": "code",
   "execution_count": 19,
   "id": "9da89fb9-4679-40f5-ad0d-c34df753a3f8",
   "metadata": {
    "id": "9da89fb9-4679-40f5-ad0d-c34df753a3f8"
   },
   "outputs": [
    {
     "name": "stdout",
     "output_type": "stream",
     "text": [
      "0\n",
      "Empty DataFrame\n",
      "Columns: [aisle_id, aisle]\n",
      "Index: []\n"
     ]
    }
   ],
   "source": [
    "# Revisa si hay filas totalmente duplicadas\n",
    "print(df_aisles.duplicated().sum())\n",
    "print(df_aisles[df_aisles.duplicated()])"
   ]
  },
  {
   "cell_type": "code",
   "execution_count": 20,
   "id": "da7c2822",
   "metadata": {
    "id": "da7c2822"
   },
   "outputs": [
    {
     "name": "stdout",
     "output_type": "stream",
     "text": [
      "0\n"
     ]
    }
   ],
   "source": [
    "# Revisa si hay IDs duplicadas de productos\n",
    "print(df_aisles[\"aisle_id\"].duplicated().sum())"
   ]
  },
  {
   "cell_type": "markdown",
   "id": "ac63826f",
   "metadata": {
    "id": "ac63826f"
   },
   "source": [
    "Describe brevemente tus hallazgos y lo que hiciste con ellos.\n",
    "- Al igual que el anterior DataFrame, este no presenta ningun valor duplicado entre sus filas, apesar de que se reviso dos veces."
   ]
  },
  {
   "cell_type": "markdown",
   "id": "274cd06a",
   "metadata": {
    "id": "274cd06a"
   },
   "source": [
    "### `order_products` data frame"
   ]
  },
  {
   "cell_type": "code",
   "execution_count": 21,
   "id": "52326689-84a8-4b8f-a881-7c68780f62c9",
   "metadata": {
    "id": "52326689-84a8-4b8f-a881-7c68780f62c9"
   },
   "outputs": [
    {
     "name": "stdout",
     "output_type": "stream",
     "text": [
      "0\n",
      "Empty DataFrame\n",
      "Columns: [order_id, product_id, add_to_cart_order, reordered]\n",
      "Index: []\n"
     ]
    }
   ],
   "source": [
    "# Revisa si hay filas totalmente duplicadas\n",
    "print(df_order_products.duplicated().sum())\n",
    "print(df_order_products[df_order_products.duplicated()])"
   ]
  },
  {
   "cell_type": "code",
   "execution_count": 66,
   "id": "7b861391",
   "metadata": {
    "id": "7b861391"
   },
   "outputs": [
    {
     "name": "stdout",
     "output_type": "stream",
     "text": [
      "4094961\n"
     ]
    }
   ],
   "source": [
    "# Vuelve a verificar si hay cualquier otro duplicado engañoso\n",
    "print(df_order_products[\"order_id\"].duplicated().sum())"
   ]
  },
  {
   "cell_type": "markdown",
   "id": "0b890492",
   "metadata": {
    "id": "0b890492"
   },
   "source": [
    "Describe brevemente tus hallazgos y lo que hiciste con ellos.\n",
    "- Descubri que se repite el numero de veces que las personas reordenan un pedido, es muy imporante revisar los duplicados engañosos por que a la hora de realizar graficas nos puede confundir con los resultados que nos pueden salir.\n",
    "- La combinación de variables que debe de ser unica, es la columna de \"order_id\" y \"product_id\", ya que es el numero unico y especifo que identifica la orden que esta realizando un cliente en especifico y ademas el nombre del producto es unico ya que no se debe de repetir más de dos veces un producto."
   ]
  },
  {
   "cell_type": "markdown",
   "id": "834f8c72",
   "metadata": {},
   "source": [
    "<div class=\"alert alert-block alert-success\">\n",
    "<b>Comentario del revisor</b> <a class=\"tocSkip\"></a>\n",
    "    \n",
    "**Solucionado**\n",
    "\n",
    "No, la combinación unica debe ser order_id - product_id. Es alli donde debes revisar los duplicados\n",
    "</div>"
   ]
  },
  {
   "cell_type": "markdown",
   "id": "1e46de76",
   "metadata": {
    "id": "1e46de76"
   },
   "source": [
    "## Encuentra y elimina los valores ausentes\n",
    "\n",
    "Al trabajar con valores duplicados, pudimos observar que también nos falta investigar valores ausentes:\n",
    "\n",
    "* La columna `'product_name'` de la tabla products.\n",
    "* La columna `'days_since_prior_order'` de la tabla orders.\n",
    "* La columna `'add_to_cart_order'` de la tabla order_productos."
   ]
  },
  {
   "cell_type": "markdown",
   "id": "c0aebd78",
   "metadata": {
    "id": "c0aebd78"
   },
   "source": [
    "### `products` data frame"
   ]
  },
  {
   "cell_type": "code",
   "execution_count": 65,
   "id": "fe4a8b0f",
   "metadata": {
    "id": "fe4a8b0f"
   },
   "outputs": [
    {
     "name": "stdout",
     "output_type": "stream",
     "text": [
      "<class 'pandas.core.frame.DataFrame'>\n",
      "RangeIndex: 49694 entries, 0 to 49693\n",
      "Data columns (total 4 columns):\n",
      " #   Column         Non-Null Count  Dtype \n",
      "---  ------         --------------  ----- \n",
      " 0   product_id     49694 non-null  int64 \n",
      " 1   product_name   48436 non-null  object\n",
      " 2   aisle_id       49694 non-null  int64 \n",
      " 3   department_id  49694 non-null  int64 \n",
      "dtypes: int64(3), object(1)\n",
      "memory usage: 1.5+ MB\n",
      "\n",
      "       product_id product_name  aisle_id  department_id\n",
      "37             38          NaN       100             21\n",
      "71             72          NaN       100             21\n",
      "109           110          NaN       100             21\n",
      "296           297          NaN       100             21\n",
      "416           417          NaN       100             21\n",
      "...           ...          ...       ...            ...\n",
      "49552       49553          NaN       100             21\n",
      "49574       49575          NaN       100             21\n",
      "49640       49641          NaN       100             21\n",
      "49663       49664          NaN       100             21\n",
      "49668       49669          NaN       100             21\n",
      "\n",
      "[1258 rows x 4 columns]\n",
      "\n",
      "NaN                                                1258\n",
      "Any'tizers  Popcorn Chicken                           1\n",
      "Granola- Super Seed & Fruit                           1\n",
      "Organic Shoyu Soy Sauce                               1\n",
      "Cheddar Jalapeno Crunchy Cheese Flavored Snacks       1\n",
      "                                                   ... \n",
      "Guerrero 10 Ct 15 Oz Fresquirica                      1\n",
      "Grenache Blanc                                        1\n",
      "Mushroom & Green Pepper Pasta Sauce                   1\n",
      "Sprouted Seven-Grain Bread                            1\n",
      "Sugar Free Peppermint Chewing Gum                     1\n",
      "Name: product_name, Length: 48437, dtype: int64\n"
     ]
    }
   ],
   "source": [
    "# Encuentra los valores ausentes en la columna 'product_name'\n",
    "df_products.info()\n",
    "print()\n",
    "print(df_products[df_products[\"product_name\"].isna()])\n",
    "print()\n",
    "print(df_products[\"product_name\"].value_counts(dropna=False))"
   ]
  },
  {
   "cell_type": "markdown",
   "id": "-A6x1AbJhjkp",
   "metadata": {
    "id": "-A6x1AbJhjkp"
   },
   "source": [
    "Describe brevemente cuáles son tus hallazgos.\n",
    "- Al momento de analizar detalladamente, se descubrio que existe un total de 1258 valores ausentes o \"NaN\" en la columna de \"product_name\". Lo que tienen en comun estos valores es que como tal no estan registrados y su nombre es desconocido.\n",
    "- Lo que tienen en comun, es que comparten el mismo numero de departamento y pasillo el cual es 100 y 21. En especificamemente este departamento/pasillo, es donde existen los valores ausentes de la columna \"product_name\"."
   ]
  },
  {
   "cell_type": "markdown",
   "id": "7b8d46a1",
   "metadata": {},
   "source": [
    "<div class=\"alert alert-block alert-success\">\n",
    "<b>Comentario del revisor</b> <a class=\"tocSkip\"></a>\n",
    "    \n",
    "    \n",
    "**Solucionado**\n",
    "Para ver que tienen en común estos valores ausentes, debes utilizar el método isna como filtro, siguiendo la siguiente estructura:\n",
    "    \n",
    "df[df.product_id.isna()]\n",
    "\n",
    "</div>"
   ]
  },
  {
   "cell_type": "code",
   "execution_count": 24,
   "id": "e96167bc",
   "metadata": {
    "id": "e96167bc"
   },
   "outputs": [
    {
     "name": "stdout",
     "output_type": "stream",
     "text": [
      "       product_id product_name  aisle_id  department_id\n",
      "37             38          NaN       100             21\n",
      "71             72          NaN       100             21\n",
      "109           110          NaN       100             21\n",
      "296           297          NaN       100             21\n",
      "416           417          NaN       100             21\n",
      "...           ...          ...       ...            ...\n",
      "49552       49553          NaN       100             21\n",
      "49574       49575          NaN       100             21\n",
      "49640       49641          NaN       100             21\n",
      "49663       49664          NaN       100             21\n",
      "49668       49669          NaN       100             21\n",
      "\n",
      "[1258 rows x 4 columns]\n",
      "\n",
      "Empty DataFrame\n",
      "Columns: [product_id, product_name, aisle_id, department_id]\n",
      "Index: []\n"
     ]
    }
   ],
   "source": [
    "#  ¿Todos los nombres de productos ausentes están relacionados con el pasillo con ID 100?\n",
    "df_products = pd.read_csv(\"/datasets/products.csv\", sep=';',\n",
    "    header=\"infer\",\n",
    "    decimal='.',)\n",
    "\n",
    "df_aisles = pd.read_csv(\"/datasets/aisles.csv\", sep=';',\n",
    "    header=\"infer\",\n",
    "    decimal='.',)\n",
    "\n",
    "print(df_products[(df_products[\"product_name\"].isna()) & (df_products[\"aisle_id\"] == 100)])\n",
    "print()\n",
    "print(df_products[(df_products[\"product_name\"].isna()) & (df_products[\"aisle_id\"] != 100)])"
   ]
  },
  {
   "cell_type": "markdown",
   "id": "WRpIfXRphpSL",
   "metadata": {
    "id": "WRpIfXRphpSL"
   },
   "source": [
    "Describe brevemente cuáles son tus hallazgos.\n",
    "- Una vez realizando el filtrado, nos damos cuenta que los valores ausentes estan relacionados con el numero de pasillo 100.\n",
    "Al revisar los demas pasillos/departamentos, nos damos cuenta que nos arroja un \"Empty DataFrame, eso significa que como tal no existen valores ausentes en otros pasillos/departamentos que no sea el 100 o el 21."
   ]
  },
  {
   "cell_type": "markdown",
   "id": "7f90500c",
   "metadata": {},
   "source": [
    "<div class=\"alert alert-block alert-success\">\n",
    "<b>Comentario del revisor</b> <a class=\"tocSkip\"></a>\n",
    "    \n",
    "**Solucionado**\n",
    "    \n",
    "Debes revisar los otros ausentes en los pasillos/departamentos que NO sean el 100 y el 21, esto puedes hacerlo utilizando el comparador \"distinto\" (!=) \n",
    "</div>"
   ]
  },
  {
   "cell_type": "code",
   "execution_count": 58,
   "id": "8fd0a541",
   "metadata": {
    "id": "8fd0a541"
   },
   "outputs": [
    {
     "name": "stdout",
     "output_type": "stream",
     "text": [
      "       product_id product_name  aisle_id  department_id\n",
      "37             38          NaN       100             21\n",
      "71             72          NaN       100             21\n",
      "109           110          NaN       100             21\n",
      "296           297          NaN       100             21\n",
      "416           417          NaN       100             21\n",
      "...           ...          ...       ...            ...\n",
      "49552       49553          NaN       100             21\n",
      "49574       49575          NaN       100             21\n",
      "49640       49641          NaN       100             21\n",
      "49663       49664          NaN       100             21\n",
      "49668       49669          NaN       100             21\n",
      "\n",
      "[1258 rows x 4 columns]\n",
      "\n",
      "Empty DataFrame\n",
      "Columns: [product_id, product_name, aisle_id, department_id]\n",
      "Index: []\n"
     ]
    }
   ],
   "source": [
    "# ¿Todos los nombres de productos ausentes están relacionados con el departamento con ID 21?\n",
    "df_products = pd.read_csv(\"/datasets/products.csv\", sep=';',\n",
    "    header=\"infer\",\n",
    "    decimal='.',)\n",
    "\n",
    "df_aisles = pd.read_csv(\"/datasets/aisles.csv\", sep=';',\n",
    "    header=\"infer\",\n",
    "    decimal='.',)\n",
    "\n",
    "print(df_products[(df_products[\"product_name\"].isna()) & (df_products[\"department_id\"] == 21)])\n",
    "print()\n",
    "print(df_products[(df_products[\"product_name\"].isna()) & (df_products[\"department_id\"] != 21)])"
   ]
  },
  {
   "cell_type": "markdown",
   "id": "qDpdYn1Fht_I",
   "metadata": {
    "id": "qDpdYn1Fht_I"
   },
   "source": [
    "Describe brevemente cuáles son tus hallazgos.\n",
    "- Una vez realizando el filtrado especifico, tambien nos damos cuenta que los valores ausentes estan relacionados tambien que el departamento es el numero 21.\n",
    "Al revisar los demas pasillos/departamentos, nos damos cuenta que nos arroja un \"Empty DataFrame, eso significa que como tal no existen valores ausentes en otros pasillos/departamentos que no sea el 100 o el 21."
   ]
  },
  {
   "cell_type": "code",
   "execution_count": 26,
   "id": "325c3464",
   "metadata": {
    "id": "325c3464"
   },
   "outputs": [
    {
     "name": "stdout",
     "output_type": "stream",
     "text": [
      "       product_id product_name  aisle_id  department_id\n",
      "37             38          NaN       100             21\n",
      "71             72          NaN       100             21\n",
      "109           110          NaN       100             21\n",
      "296           297          NaN       100             21\n",
      "416           417          NaN       100             21\n",
      "...           ...          ...       ...            ...\n",
      "49552       49553          NaN       100             21\n",
      "49574       49575          NaN       100             21\n",
      "49640       49641          NaN       100             21\n",
      "49663       49664          NaN       100             21\n",
      "49668       49669          NaN       100             21\n",
      "\n",
      "[1258 rows x 4 columns]\n"
     ]
    }
   ],
   "source": [
    "# Usa las tablas department y aisle para revisar los datos del pasillo con ID 100 y el departamento con ID 21.\n",
    "print(df_products[(df_products[\"aisle_id\"] == 100) & (df_products[\"department_id\"] == 21)])"
   ]
  },
  {
   "cell_type": "markdown",
   "id": "nqhSTUPhhvEJ",
   "metadata": {
    "id": "nqhSTUPhhvEJ"
   },
   "source": [
    "Describe brevemente cuáles son tus hallazgos.\n",
    "- Una ves realizado el filtrado en donde utilizamos las tablas de \"aisle_id\" y \"departmen_id\", podemos ver que 1258 datos son ausentes en la columna de \"product_name\"."
   ]
  },
  {
   "cell_type": "code",
   "execution_count": 27,
   "id": "6b295120",
   "metadata": {
    "id": "6b295120"
   },
   "outputs": [
    {
     "name": "stdout",
     "output_type": "stream",
     "text": [
      "['Chocolate Sandwich Cookies' 'All-Seasons Salt'\n",
      " 'Robust Golden Unsweetened Oolong Tea' ...\n",
      " 'ORGANIC INSTANT OATMEAL LIGHT MAPLE BROWN SUGAR'\n",
      " 'SPRING WATER BODY WASH' 'BURRITO- STEAK & CHEESE']\n",
      "\n",
      "<class 'pandas.core.frame.DataFrame'>\n",
      "RangeIndex: 49694 entries, 0 to 49693\n",
      "Data columns (total 4 columns):\n",
      " #   Column         Non-Null Count  Dtype \n",
      "---  ------         --------------  ----- \n",
      " 0   product_id     49694 non-null  int64 \n",
      " 1   product_name   49694 non-null  object\n",
      " 2   aisle_id       49694 non-null  int64 \n",
      " 3   department_id  49694 non-null  int64 \n",
      "dtypes: int64(3), object(1)\n",
      "memory usage: 1.5+ MB\n",
      "\n",
      "       product_id product_name  aisle_id  department_id\n",
      "37             38      Unknown       100             21\n",
      "71             72      Unknown       100             21\n",
      "109           110      Unknown       100             21\n",
      "296           297      Unknown       100             21\n",
      "416           417      Unknown       100             21\n",
      "...           ...          ...       ...            ...\n",
      "49552       49553      Unknown       100             21\n",
      "49574       49575      Unknown       100             21\n",
      "49640       49641      Unknown       100             21\n",
      "49663       49664      Unknown       100             21\n",
      "49668       49669      Unknown       100             21\n",
      "\n",
      "[1258 rows x 4 columns]\n"
     ]
    }
   ],
   "source": [
    "# Completa los nombres de productos ausentes con 'Unknown'\n",
    "df_products[\"product_name\"] = df_products[\"product_name\"].fillna(value=\"Unknown\")\n",
    "print(df_products[\"product_name\"].unique())\n",
    "print()\n",
    "df_products.info()\n",
    "print()\n",
    "print(df_products[(df_products[\"aisle_id\"] == 100) & (df_products[\"department_id\"] == 21)])"
   ]
  },
  {
   "cell_type": "markdown",
   "id": "fc70e5ad",
   "metadata": {
    "id": "fc70e5ad"
   },
   "source": [
    "Describe brevemente tus hallazgos y lo que hiciste con ellos.\n",
    "- Como se me indico, sustitui todos los valores ausentes o \"NaN\" a \"Unknown\" con el metodo Fillna(), de esta manera ya no aparecen datos ausentes en la columna de \"product_name\"."
   ]
  },
  {
   "cell_type": "markdown",
   "id": "7eb45c86",
   "metadata": {
    "id": "7eb45c86"
   },
   "source": [
    "### `orders` data frame"
   ]
  },
  {
   "cell_type": "code",
   "execution_count": 28,
   "id": "93e41d96",
   "metadata": {
    "id": "93e41d96"
   },
   "outputs": [
    {
     "name": "stdout",
     "output_type": "stream",
     "text": [
      "<class 'pandas.core.frame.DataFrame'>\n",
      "Int64Index: 478952 entries, 0 to 478966\n",
      "Data columns (total 6 columns):\n",
      " #   Column                  Non-Null Count   Dtype  \n",
      "---  ------                  --------------   -----  \n",
      " 0   order_id                478952 non-null  int64  \n",
      " 1   user_id                 478952 non-null  int64  \n",
      " 2   order_number            478952 non-null  int64  \n",
      " 3   order_dow               478952 non-null  int64  \n",
      " 4   order_hour_of_day       478952 non-null  int64  \n",
      " 5   days_since_prior_order  450135 non-null  float64\n",
      "dtypes: float64(1), int64(5)\n",
      "memory usage: 25.6 MB\n",
      "\n",
      "30.0    51337\n",
      "7.0     44577\n",
      "6.0     33930\n",
      "4.0     31006\n",
      "3.0     30224\n",
      "5.0     30096\n",
      "NaN     28817\n",
      "2.0     27138\n",
      "8.0     25361\n",
      "1.0     20179\n",
      "9.0     16753\n",
      "14.0    13992\n",
      "10.0    13309\n",
      "13.0    11737\n",
      "11.0    11467\n",
      "12.0    10658\n",
      "0.0      9589\n",
      "15.0     9416\n",
      "16.0     6587\n",
      "21.0     6448\n",
      "17.0     5498\n",
      "20.0     5302\n",
      "18.0     4971\n",
      "19.0     4939\n",
      "22.0     4514\n",
      "28.0     3745\n",
      "23.0     3337\n",
      "24.0     3015\n",
      "27.0     2986\n",
      "25.0     2711\n",
      "29.0     2673\n",
      "26.0     2640\n",
      "Name: days_since_prior_order, dtype: int64\n"
     ]
    }
   ],
   "source": [
    "# Encuentra los valores ausentes\n",
    "df_orders.info()\n",
    "print()\n",
    "print(df_orders[\"days_since_prior_order\"].value_counts(dropna=False))"
   ]
  },
  {
   "cell_type": "code",
   "execution_count": 29,
   "id": "166e5a86",
   "metadata": {
    "id": "166e5a86"
   },
   "outputs": [
    {
     "name": "stdout",
     "output_type": "stream",
     "text": [
      "        order_id  user_id  order_number  order_dow  order_hour_of_day  \\\n",
      "28        133707   182261             1          3                 10   \n",
      "96        787445    25685             1          6                 18   \n",
      "100       294410   111449             1          0                 19   \n",
      "103      2869915   123958             1          4                 16   \n",
      "104      2521921    42286             1          3                 18   \n",
      "...          ...      ...           ...        ...                ...   \n",
      "478895   2589657   205028             1          0                 16   \n",
      "478896   2222353   141211             1          2                 13   \n",
      "478922   2272807   204154             1          1                 15   \n",
      "478926   2499542    68810             1          4                 19   \n",
      "478945   1387033    22496             1          5                 14   \n",
      "\n",
      "        days_since_prior_order  \n",
      "28                         NaN  \n",
      "96                         NaN  \n",
      "100                        NaN  \n",
      "103                        NaN  \n",
      "104                        NaN  \n",
      "...                        ...  \n",
      "478895                     NaN  \n",
      "478896                     NaN  \n",
      "478922                     NaN  \n",
      "478926                     NaN  \n",
      "478945                     NaN  \n",
      "\n",
      "[28817 rows x 6 columns]\n"
     ]
    }
   ],
   "source": [
    "# ¿Hay algún valor ausente que no sea el primer pedido del cliente?\n",
    "print(df_orders[(df_orders[\"days_since_prior_order\"].isna()) & (df_orders[\"order_number\"] == 1)])"
   ]
  },
  {
   "cell_type": "markdown",
   "id": "894cd48a",
   "metadata": {},
   "source": [
    "<div class=\"alert alert-block alert-success\">\n",
    "<b>Comentario del revisor</b> <a class=\"tocSkip\"></a>\n",
    "    \n",
    "**Solucionado**\n",
    "\n",
    "Si estos NaN estan asociados a las primeras ordenes que se realiza por cliente, es posible que hayan pasado dias desde una orden previa?\n",
    "\n",
    "</div>"
   ]
  },
  {
   "cell_type": "markdown",
   "id": "4e23d089",
   "metadata": {
    "id": "4e23d089"
   },
   "source": [
    "Describe brevemente tus hallazgos y lo que hiciste con ellos.\n",
    "- Existen valores ausentes en la columna \"days_since_prior_order\", lo cual se debe de analizar ya que esa columna nos dice el numero de dias transcurridos desde que el cliente hizo su pedido anterior y se aparece como Dato Ausente, eso significa que ese cliente ya no volvio a realizar otra compra más.\n",
    "- Es posible que se hayan registrado dias antes de que se realice la primera orden del cliente pero en este DataFrame unicamente esta contando los dias que pasan a partir de la primera orden que se realiza."
   ]
  },
  {
   "cell_type": "markdown",
   "id": "69dc9ca4",
   "metadata": {
    "id": "69dc9ca4"
   },
   "source": [
    "### `order_products` data frame"
   ]
  },
  {
   "cell_type": "code",
   "execution_count": 30,
   "id": "b8240253",
   "metadata": {
    "id": "b8240253"
   },
   "outputs": [
    {
     "name": "stdout",
     "output_type": "stream",
     "text": [
      "<class 'pandas.core.frame.DataFrame'>\n",
      "RangeIndex: 4545007 entries, 0 to 4545006\n",
      "Data columns (total 4 columns):\n",
      " #   Column             Dtype  \n",
      "---  ------             -----  \n",
      " 0   order_id           int64  \n",
      " 1   product_id         int64  \n",
      " 2   add_to_cart_order  float64\n",
      " 3   reordered          int64  \n",
      "dtypes: float64(1), int64(3)\n",
      "memory usage: 138.7 MB\n",
      "\n",
      "1.0     450046\n",
      "2.0     428199\n",
      "3.0     401907\n",
      "4.0     372861\n",
      "5.0     341807\n",
      "         ...  \n",
      "61.0       114\n",
      "62.0        98\n",
      "63.0        87\n",
      "64.0        75\n",
      "NaN        836\n",
      "Name: add_to_cart_order, Length: 65, dtype: int64\n"
     ]
    }
   ],
   "source": [
    "# Encuentra los valores ausentes\n",
    "df_order_products.info()\n",
    "print()\n",
    "print(df_order_products[\"add_to_cart_order\"].value_counts(dropna=False).sort_index())"
   ]
  },
  {
   "cell_type": "code",
   "execution_count": 31,
   "id": "9a78e5ee",
   "metadata": {
    "id": "9a78e5ee"
   },
   "outputs": [
    {
     "name": "stdout",
     "output_type": "stream",
     "text": [
      "1.0\n",
      "64.0\n"
     ]
    }
   ],
   "source": [
    "# ¿Cuáles son los valores mínimos y máximos en esta columna?\n",
    "num_min = df_order_products[\"add_to_cart_order\"].min()\n",
    "num_max = df_order_products[\"add_to_cart_order\"].max()\n",
    "\n",
    "print(num_min)\n",
    "print(num_max)"
   ]
  },
  {
   "cell_type": "markdown",
   "id": "-Z2Ja215jW78",
   "metadata": {
    "id": "-Z2Ja215jW78"
   },
   "source": [
    "Describe brevemente cuáles son tus hallazgos.\n",
    "- Mediante el metodo de \"value_counts()\" pudimos identificar los valores ausentes o \"NaN\" los cuales faltan 836 en total en la columna \"add_to_cart_order\" donde su valor minimo es 1 y su valor maximo es 64."
   ]
  },
  {
   "cell_type": "code",
   "execution_count": 32,
   "id": "ab9d0c2b",
   "metadata": {
    "id": "ab9d0c2b"
   },
   "outputs": [],
   "source": [
    "# Guarda todas las IDs de pedidos que tengan un valor ausente en 'add_to_cart_order'\n",
    "ids_nan = sorted(list(df_order_products[df_order_products[\"add_to_cart_order\"].isnull()][\"order_id\"].unique()))"
   ]
  },
  {
   "cell_type": "code",
   "execution_count": 33,
   "id": "54c31695",
   "metadata": {
    "id": "54c31695"
   },
   "outputs": [
    {
     "data": {
      "text/plain": [
       "order_id\n",
       "61355      127\n",
       "3308010    115\n",
       "2136777    108\n",
       "171934     104\n",
       "1959075     98\n",
       "          ... \n",
       "888470      65\n",
       "1598369     65\n",
       "747668      65\n",
       "1677118     65\n",
       "9310        65\n",
       "Length: 70, dtype: int64"
      ]
     },
     "metadata": {},
     "output_type": "display_data"
    },
    {
     "data": {
      "text/plain": [
       "index    add_to_cart_order\n",
       "0                     4480\n",
       "dtype: object"
      ]
     },
     "metadata": {},
     "output_type": "display_data"
    }
   ],
   "source": [
    "# ¿Todos los pedidos con valores ausentes tienen más de 64 productos?\n",
    "# Agrupa todos los pedidos con datos ausentes por su ID de pedido.\n",
    "# Cuenta el número de 'product_id' en cada pedido y revisa el valor mínimo del conteo.\n",
    "display(df_order_products[df_order_products[\"order_id\"].isin(ids_nan)].groupby(\"order_id\").size().sort_values(ascending=False))\n",
    "display(df_order_products[df_order_products[\"order_id\"].isin(ids_nan)].count().reset_index().min())"
   ]
  },
  {
   "cell_type": "markdown",
   "id": "p9V6pddtjglj",
   "metadata": {
    "id": "p9V6pddtjglj"
   },
   "source": [
    "Describe brevemente cuáles son tus hallazgos.\n",
    "- Una vez guardados los IDs de los pedidos que tienen datos ausentes, procedi a agruparlos y de esta manera identificar cual es el valor minimo del conteo. Esto nos da a entender que como tal, la columna presenta varios datos ausentes que estan relacionados con los IDs de los pedidos."
   ]
  },
  {
   "cell_type": "code",
   "execution_count": 34,
   "id": "7a987d08",
   "metadata": {
    "id": "7a987d08"
   },
   "outputs": [
    {
     "name": "stdout",
     "output_type": "stream",
     "text": [
      "<class 'pandas.core.frame.DataFrame'>\n",
      "RangeIndex: 4545007 entries, 0 to 4545006\n",
      "Data columns (total 4 columns):\n",
      " #   Column             Dtype\n",
      "---  ------             -----\n",
      " 0   order_id           int64\n",
      " 1   product_id         int64\n",
      " 2   add_to_cart_order  int64\n",
      " 3   reordered          int64\n",
      "dtypes: int64(4)\n",
      "memory usage: 138.7 MB\n"
     ]
    }
   ],
   "source": [
    "# Remplaza los valores ausentes en la columna 'add_to_cart? con 999 y convierte la columna al tipo entero.\n",
    "df_order_products[\"add_to_cart_order\"] = df_order_products['add_to_cart_order'].fillna(\"\")\n",
    "df_order_products[\"add_to_cart_order\"] = df_order_products['add_to_cart_order'].replace(\"\", 999)\n",
    "df_order_products[\"add_to_cart_order\"] = df_order_products['add_to_cart_order'].astype('int')\n",
    "df_order_products.info()"
   ]
  },
  {
   "cell_type": "markdown",
   "id": "fea4bcc7",
   "metadata": {
    "id": "fea4bcc7"
   },
   "source": [
    "Describe brevemente tus hallazgos y lo que hiciste con ellos.\n",
    "- Realice los metodos necesarios para que ya no se tengan datos ausentes y transformar el tipo de dato a Entero (int) para que todas las columnas compartan el mismo tipo de dato y no se pierda la información como tal. Estos valores ausentes aparecian por que las ordenes se estan realizando con más de 64 productos, el cual es el limite."
   ]
  },
  {
   "cell_type": "markdown",
   "id": "RnplPFY1gSrb",
   "metadata": {
    "id": "RnplPFY1gSrb"
   },
   "source": [
    "## Conclusiones\n",
    "\n",
    "Escribe aquí tus conclusiones intermedias sobre el Paso 2. Preprocesamiento de los datos\n",
    "\n",
    "- Mis conclusiones: Me llama la atención que a simple vista no puedas observar si los diferentes DataFrames presentan datos ausentes o duplicados, utilizando las funciones y metodos adecuadas pudimos dar con ellos y resolverlos para poder crear Dataframes más limpios, llamativos y faciles de analizar, lo cual nos facilitara el trabajo siguiente que ya seria crear graficas especificas para poder presentarlas y entregar un resumen más limpio y detallado."
   ]
  },
  {
   "cell_type": "markdown",
   "id": "UjrOIwTcz3ri",
   "metadata": {
    "id": "UjrOIwTcz3ri"
   },
   "source": [
    "# Paso 3. Análisis de los datos\n",
    "\n",
    "Una vez los datos estén procesados y listos, haz el siguiente análisis:"
   ]
  },
  {
   "cell_type": "markdown",
   "id": "turkish-kidney",
   "metadata": {
    "id": "turkish-kidney"
   },
   "source": [
    "# [A] Fácil (deben completarse todos para aprobar)\n",
    "\n",
    "1. Verifica que los valores en las columnas `'order_hour_of_day'` y `'order_dow'` en la tabla orders sean razonables (es decir, `'order_hour_of_day'` oscile entre 0 y 23 y `'order_dow'` oscile entre 0 y 6).\n",
    "2. Crea un gráfico que muestre el número de personas que hacen pedidos dependiendo de la hora del día.\n",
    "3. Crea un gráfico que muestre qué día de la semana la gente hace sus compras.\n",
    "4. Crea un gráfico que muestre el tiempo que la gente espera hasta hacer su siguiente pedido, y comenta sobre los valores mínimos y máximos."
   ]
  },
  {
   "cell_type": "markdown",
   "id": "short-capability",
   "metadata": {
    "id": "short-capability"
   },
   "source": [
    "### [A1] Verifica que los valores sean sensibles"
   ]
  },
  {
   "cell_type": "code",
   "execution_count": 60,
   "id": "growing-fruit",
   "metadata": {
    "id": "growing-fruit"
   },
   "outputs": [
    {
     "data": {
      "text/plain": [
       "array([13, 12, 19, 20, 11,  8, 18, 15, 16,  9, 22, 10,  0, 14, 17,  1,  7,\n",
       "        6,  2, 21,  3, 23,  5,  4])"
      ]
     },
     "execution_count": 60,
     "metadata": {},
     "output_type": "execute_result"
    }
   ],
   "source": [
    "df_orders.order_hour_of_day.unique()"
   ]
  },
  {
   "cell_type": "code",
   "execution_count": 63,
   "id": "accessory-malaysia",
   "metadata": {
    "id": "accessory-malaysia"
   },
   "outputs": [
    {
     "data": {
      "text/plain": [
       "array([6, 5, 0, 4, 3, 1, 2])"
      ]
     },
     "execution_count": 63,
     "metadata": {},
     "output_type": "execute_result"
    }
   ],
   "source": [
    "df_orders.order_dow.unique()"
   ]
  },
  {
   "cell_type": "markdown",
   "id": "a5da87b2",
   "metadata": {},
   "source": [
    "<div class=\"alert alert-block alert-success\">\n",
    "<b>Comentario del revisor</b> <a class=\"tocSkip\"></a>\n",
    "    \n",
    "**Solucionado** Revisa usando los valores con unique\n",
    "</div>"
   ]
  },
  {
   "cell_type": "markdown",
   "id": "hmR2GNQ6lCsX",
   "metadata": {
    "id": "hmR2GNQ6lCsX"
   },
   "source": [
    "Escribe aquí tus conclusiones\n",
    "- Mis conclusiones: Al momento de sacar los minimos y maximos de cada columna, se pudo verificar que los datos si son sensibles y se encuentran oscilando en los rangos que nos pidieron. En caso de existir valores intermedios anomalos, se asignaran valores especificos sensibles que cumplan con el objetivo del análisis."
   ]
  },
  {
   "cell_type": "markdown",
   "id": "a6743a70",
   "metadata": {
    "id": "a6743a70"
   },
   "source": [
    "### [A2] Para cada hora del día, ¿cuántas personas hacen órdenes?"
   ]
  },
  {
   "cell_type": "code",
   "execution_count": 37,
   "id": "a36cca27",
   "metadata": {
    "id": "a36cca27"
   },
   "outputs": [
    {
     "data": {
      "image/png": "[encoded data removed]",
      "text/plain": [
       "<Figure size 640x480 with 1 Axes>"
      ]
     },
     "metadata": {},
     "output_type": "display_data"
    }
   ],
   "source": [
    "users_per_hours = df_orders.groupby('order_hour_of_day')['user_id'].count()\n",
    "\n",
    "users_per_hours.plot(title = 'Estas son las horas más solicitadas por los usuarios de Instacart',\n",
    "                      kind = 'bar',\n",
    "                      xlabel = 'Hora',\n",
    "                      ylabel = 'Número de usuarios',\n",
    "                      xlim = [0, 23],\n",
    "                      ylim = [0, 45000])\n",
    "plt.show()"
   ]
  },
  {
   "cell_type": "markdown",
   "id": "11270eed",
   "metadata": {
    "id": "11270eed"
   },
   "source": [
    "Escribe aquí tus conclusiones\n",
    "- Mis conclusiones: Como nos podemos dar cuenta, la hora del dia en donde los usuarios realizarn más pedidos seria a partir de las 8am. Lo más probable es que pidan desayuno para poder ir a trabajar con el estomago lleno."
   ]
  },
  {
   "cell_type": "markdown",
   "id": "documented-command",
   "metadata": {
    "id": "documented-command"
   },
   "source": [
    "### [A3] ¿Qué día de la semana compran víveres las personas?"
   ]
  },
  {
   "cell_type": "code",
   "execution_count": 38,
   "id": "chief-digit",
   "metadata": {
    "id": "chief-digit"
   },
   "outputs": [
    {
     "data": {
      "image/png": "[encoded data removed]",
      "text/plain": [
       "<Figure size 640x480 with 1 Axes>"
      ]
     },
     "metadata": {},
     "output_type": "display_data"
    }
   ],
   "source": [
    "user_day_order = df_orders.groupby('order_dow')['order_id'].count()\n",
    "\n",
    "user_day_order.plot(title = 'Estos son los dias de la semana para comprar viveres',\n",
    "                      kind = 'bar',\n",
    "                      xlabel = 'Dia',\n",
    "                      ylabel = 'Número de pedidos',\n",
    "                      xlim = [0, 6],)\n",
    "plt.show()"
   ]
  },
  {
   "cell_type": "markdown",
   "id": "dominant-lightning",
   "metadata": {
    "id": "dominant-lightning"
   },
   "source": [
    "Escribe aquí tus conclusiones\n",
    "- Mis conclusiones: Como podemos observar, el dia Domingo, es el dia que más personas compran sus viveres. Esto se debe a que es el dia que todas las personas tienen tiempo libre ya que no se encuentran trabajando o en la escuela."
   ]
  },
  {
   "cell_type": "markdown",
   "id": "cutting-concert",
   "metadata": {
    "id": "cutting-concert"
   },
   "source": [
    "### [A4] ¿Cuánto tiempo esperan las personas hasta hacer otro pedido? Comenta sobre los valores mínimos y máximos."
   ]
  },
  {
   "cell_type": "code",
   "execution_count": 39,
   "id": "c231f523",
   "metadata": {
    "id": "c231f523"
   },
   "outputs": [
    {
     "data": {
      "image/png": "[encoded data removed]",
      "text/plain": [
       "<Figure size 640x480 with 1 Axes>"
      ]
     },
     "metadata": {},
     "output_type": "display_data"
    }
   ],
   "source": [
    "time_new_order = df_orders.groupby(\"days_since_prior_order\")[\"order_number\"].count()\n",
    "time_new_order.plot(title = 'Estos son los dias de la semana para comprar viveres',\n",
    "                      kind = 'bar',\n",
    "                      xlabel = 'Dia de espera',\n",
    "                      ylabel = 'Número de pedidos',)\n",
    "plt.show()"
   ]
  },
  {
   "cell_type": "markdown",
   "id": "discrete-vertex",
   "metadata": {
    "id": "discrete-vertex"
   },
   "source": [
    "Escribe aquí tus conclusiones\n",
    "- Mis conclusiones: Aqui varia el tiempo en que las personas tardan en volver a comprar viveres, la mayoria de las personas coinciden en que despues de los 30 dias ya pueden volver a comprar viveres lo cual es lo más usual y comun. En este caso hay personas que no se esperan ni un dia para volver a comprar (Valor minimo = 0 dias) y hay personas que se esperan hasta 30 dias (Valor maximo = 30 dias)."
   ]
  },
  {
   "cell_type": "markdown",
   "id": "a3bf8e65",
   "metadata": {},
   "source": [
    "<div class=\"alert alert-block alert-success\">\n",
    "<b>Comentario del revisor</b> <a class=\"tocSkip\"></a>\n",
    "    \n",
    "En general bien resuelta la parte A!\n",
    "</div>"
   ]
  },
  {
   "cell_type": "markdown",
   "id": "tight-staff",
   "metadata": {
    "id": "tight-staff"
   },
   "source": [
    "# [B] Intermedio (deben completarse todos para aprobar)\n",
    "\n",
    "1. ¿Existe alguna diferencia entre las distribuciones `'order_hour_of_day'` de los miércoles y los sábados? Traza gráficos de barra de `'order_hour_of_day'` para ambos días en la misma figura y describe las diferencias que observes.\n",
    "2. Grafica la distribución para el número de órdenes que hacen los clientes (es decir, cuántos clientes hicieron solo 1 pedido, cuántos hicieron 2, cuántos 3, y así sucesivamente...).\n",
    "3. ¿Cuáles son los 20 principales productos que se piden con más frecuencia (muestra su identificación y nombre)?"
   ]
  },
  {
   "cell_type": "markdown",
   "id": "packed-classic",
   "metadata": {
    "id": "packed-classic"
   },
   "source": [
    "### [B1] Diferencia entre miércoles y sábados para  `'order_hour_of_day'`. Traza gráficos de barra para los dos días y describe las diferencias que veas."
   ]
  },
  {
   "cell_type": "code",
   "execution_count": 40,
   "id": "d89b8403",
   "metadata": {
    "id": "d89b8403"
   },
   "outputs": [],
   "source": [
    "wednesday_orders = df_orders[df_orders[\"order_dow\"] == 3]\n",
    "saturday_orders = df_orders[df_orders[\"order_dow\"] == 6]"
   ]
  },
  {
   "cell_type": "code",
   "execution_count": 41,
   "id": "94e54e8a",
   "metadata": {
    "id": "94e54e8a"
   },
   "outputs": [],
   "source": [
    "wednesday_distribution = wednesday_orders['order_hour_of_day'].value_counts().sort_index()\n",
    "saturday_distribution = saturday_orders['order_hour_of_day'].value_counts().sort_index()"
   ]
  },
  {
   "cell_type": "code",
   "execution_count": 42,
   "id": "797c90a8",
   "metadata": {
    "id": "797c90a8"
   },
   "outputs": [
    {
     "data": {
      "image/png": "[encoded data removed]",
      "text/plain": [
       "<Figure size 1400x700 with 1 Axes>"
      ]
     },
     "metadata": {},
     "output_type": "display_data"
    }
   ],
   "source": [
    "plt.figure(figsize=(14, 7))\n",
    "plt.bar(wednesday_distribution.index - 0.2, wednesday_distribution.values, width=0.4, label='Miércoles', align='center')\n",
    "plt.bar(saturday_distribution.index + 0.2, saturday_distribution.values, width=0.4, label='Sábado', align='center')\n",
    "plt.xlabel('Hora del día')\n",
    "plt.ylabel('Número de pedidos')\n",
    "plt.title('El sabado es el dia favorito de los clientes para realizar pedidos')\n",
    "plt.legend()\n",
    "plt.xticks(range(24))\n",
    "plt.grid(True)\n",
    "plt.show()"
   ]
  },
  {
   "cell_type": "markdown",
   "id": "charitable-congo",
   "metadata": {
    "id": "charitable-congo"
   },
   "source": [
    "Escribe aquí tus conclusiones\n",
    "- Mis conclusiones: En la grafica se puede observar que el dia favorito de los usuarios para realizar pedido es el Sabado a las 2pm. Esto debido a que mucha gente quiere descansar y pasarla bien una buena tarde de fin de semana."
   ]
  },
  {
   "cell_type": "markdown",
   "id": "e3891143",
   "metadata": {
    "id": "e3891143"
   },
   "source": [
    "### [B2] ¿Cuál es la distribución para el número de pedidos por cliente?"
   ]
  },
  {
   "cell_type": "code",
   "execution_count": 43,
   "id": "d8c26c23",
   "metadata": {
    "id": "d8c26c23"
   },
   "outputs": [],
   "source": [
    "order_per_customers = df_orders[\"user_id\"].value_counts()"
   ]
  },
  {
   "cell_type": "code",
   "execution_count": 44,
   "id": "00e69a66",
   "metadata": {
    "id": "00e69a66"
   },
   "outputs": [
    {
     "data": {
      "image/png": "[encoded data removed]",
      "text/plain": [
       "<Figure size 1200x600 with 1 Axes>"
      ]
     },
     "metadata": {},
     "output_type": "display_data"
    }
   ],
   "source": [
    "plt.figure(figsize=(12, 6))\n",
    "plt.hist(order_per_customers, bins=range(1, order_per_customers.max() + 1), alpha=0.7, edgecolor='black')\n",
    "plt.xlabel('Numero de Pedidos')\n",
    "plt.ylabel('Number de Clientes')\n",
    "plt.title('Distribución de número de pedidos por cliente')\n",
    "plt.show()"
   ]
  },
  {
   "cell_type": "markdown",
   "id": "d2eff7d5",
   "metadata": {
    "id": "d2eff7d5"
   },
   "source": [
    "Escribe aquí tus conclusiones\n",
    "- Mis conclusiones: Nos podemos dar cuenta que la mayorias de los clientes no piden más de 15 veces en un determinado tiempo. Hay muy pocas personas que lograr llegar a los 20 pedidos."
   ]
  },
  {
   "cell_type": "markdown",
   "id": "54a0319c",
   "metadata": {
    "id": "54a0319c"
   },
   "source": [
    "### [B3] ¿Cuáles son los 20 productos más populares (muestra su ID y nombre)?"
   ]
  },
  {
   "cell_type": "code",
   "execution_count": 45,
   "id": "exterior-arizona",
   "metadata": {
    "id": "exterior-arizona",
    "scrolled": true
   },
   "outputs": [],
   "source": [
    "num_of_products = df_products[\"product_id\"].value_counts().head(20)"
   ]
  },
  {
   "cell_type": "code",
   "execution_count": 46,
   "id": "universal-facial",
   "metadata": {
    "id": "universal-facial"
   },
   "outputs": [],
   "source": [
    "top_products = df_products[df_products[\"product_id\"].isin(num_of_products.index)][[\"product_id\", \"product_name\"]].drop_duplicates()"
   ]
  },
  {
   "cell_type": "code",
   "execution_count": 47,
   "id": "bbcdd20b",
   "metadata": {
    "id": "bbcdd20b"
   },
   "outputs": [
    {
     "name": "stdout",
     "output_type": "stream",
     "text": [
      "       product_id                                       product_name\n",
      "692           693                               Tropical Brain Toniq\n",
      "2048         2049                                     Malbec Mendoza\n",
      "4758         4759                                   Yellow Corn Meal\n",
      "10927       10928                                 Vanilla Bean Paste\n",
      "17052       17053                          Multi-Grain Club Crackers\n",
      "19099       19100  Decaf House 100% Organic Coffee From Fair Trad...\n",
      "21150       21151  Children's CF Grape Flavor Liquid Cough & Cold...\n",
      "23197       23198                         Organic Chicken Drumsticks\n",
      "25240       25241              Chocolate Peppermint Crunch Ice Cream\n",
      "27287       27288                        Chocolate Chip Cookie Dough\n",
      "29338       29339                                 Light Butter Syrup\n",
      "31385       31386     Peach Yogurt Protein Drink With a Crunchy Shot\n",
      "33444       33445  Light Blueberry Patch Strawberry Variety Pack ...\n",
      "35491       35492                      Hawaiian Shampoo Cocoa Butter\n",
      "37542       37543                                         Spiced Rum\n",
      "39589       39590                                      Light Bologna\n",
      "41632       41633  Original Flavor Manuka Honey with Propolis Loz...\n",
      "43679       43680                               Holy Pepperoni Pizza\n",
      "45730       45731        Diced Tomatoes with Oregano- Garlic & Basil\n",
      "47777       47778               Sahara Pita Pockets 100% Whole Wheat\n"
     ]
    }
   ],
   "source": [
    "print(top_products)"
   ]
  },
  {
   "cell_type": "markdown",
   "id": "7df00f47",
   "metadata": {
    "id": "7df00f47"
   },
   "source": [
    "Escribe aquí tus conclusiones\n",
    "- Mis conclusiones: Con el análisis adecuado podemos observar que hay una amplia gama de productos que a los usuarios les gusta pedir muy seguido. En el top 20 podemos encontrar desde pasteles, pizza, cafe, bebidass hasta shampoo y pollo."
   ]
  },
  {
   "cell_type": "markdown",
   "id": "34f0dacc",
   "metadata": {},
   "source": [
    "<div class=\"alert alert-block alert-success\">\n",
    "<b>Comentario del revisor</b> <a class=\"tocSkip\"></a>\n",
    "    \n",
    "Perfectamente ejecutada la parte B\n",
    "</div>"
   ]
  },
  {
   "cell_type": "markdown",
   "id": "gross-theme",
   "metadata": {
    "id": "gross-theme"
   },
   "source": [
    "# [C] Difícil (deben completarse todos para aprobar)\n",
    "\n",
    "1. ¿Cuántos artículos suelen comprar las personas en un pedido? ¿Cómo es la distribución?\n",
    "2. ¿Cuáles son los 20 principales artículos que vuelven a pedirse con mayor frecuencia (muestra sus nombres e IDs de los productos)?\n",
    "3. Para cada producto, ¿cuál es la tasa de repetición del pedido (número de repeticiones de pedido/total de pedidos?\n",
    "4. Para cada cliente, ¿qué proporción de los productos que pidió ya los había pedido? Calcula la tasa de repetición de pedido para cada usuario en lugar de para cada producto.\n",
    "5. ¿Cuáles son los 20 principales artículos que la gente pone primero en sus carritos (muestra las IDs de los productos, sus nombres, y el número de veces en que fueron el primer artículo en añadirse al carrito)?"
   ]
  },
  {
   "cell_type": "markdown",
   "id": "romantic-deposit",
   "metadata": {
    "id": "romantic-deposit"
   },
   "source": [
    "### [C1] ¿Cuántos artículos compran normalmente las personas en un pedido? ¿Cómo es la distribución?"
   ]
  },
  {
   "cell_type": "code",
   "execution_count": 48,
   "id": "virtual-punch",
   "metadata": {
    "id": "virtual-punch"
   },
   "outputs": [
    {
     "data": {
      "image/png": "[encoded data removed]",
      "text/plain": [
       "<Figure size 640x480 with 1 Axes>"
      ]
     },
     "metadata": {},
     "output_type": "display_data"
    }
   ],
   "source": [
    "num_items_per_order = df_order_products.groupby(\"order_id\").size()\n",
    "distribution_stats = num_items_per_order.describe()\n",
    "\n",
    "plt.hist(num_items_per_order, bins=range(1, num_items_per_order.max() + 1), edgecolor='black')\n",
    "plt.xlabel('Número de artículos por pedido')\n",
    "plt.ylabel('Frecuencia')\n",
    "plt.title('La mayoria de las personas compran menos de 20 articulos por pedido')\n",
    "plt.show()"
   ]
  },
  {
   "cell_type": "markdown",
   "id": "designed-mortality",
   "metadata": {
    "id": "designed-mortality"
   },
   "source": [
    "Escribe aquí tus conclusiones\n",
    "- Mis conclusiones: Como podemos observar, la mayoria de los usuarios compran entre 0 y 10 articulos por pedido. Muy pocos superan la cantidad de 20 en adelante."
   ]
  },
  {
   "cell_type": "markdown",
   "id": "5e6b5537",
   "metadata": {
    "id": "5e6b5537"
   },
   "source": [
    "### [C2] ¿Cuáles son los 20 principales artículos que vuelven a pedirse con mayor frecuencia (muestra sus nombres e IDs de los productos)?"
   ]
  },
  {
   "cell_type": "code",
   "execution_count": 49,
   "id": "9374e55a",
   "metadata": {
    "id": "9374e55a"
   },
   "outputs": [
    {
     "name": "stdout",
     "output_type": "stream",
     "text": [
      "product_id  product_name                                              \n",
      "1           Meaty Ground Dinner with Chunky Beef- Bacon and Cheese        1\n",
      "45          Jamon Serrano Dry Cured Ham                                   1\n",
      "            Organic Gojiberry Granola                                     1\n",
      "123         Dietary Supplement Melatonin TR Time Release 5 mg - 100 CT    1\n",
      "126         Steel Cut Oatmeal Blueberries and Cranberries                 1\n",
      "130         Healthy Grains with Chia Seeds- Raspberry Clusters            1\n",
      "196         Organic Hawthorn with Hibiscus Tea                            1\n",
      "            Intense Orange Dark Chocolate Bar                             1\n",
      "            Italian Olive Antipasto                                       1\n",
      "            Jalapeno & Cheddar Smoked Sausage                             1\n",
      "            Kale and Brown Rice Gratin- Gluten Free                       1\n",
      "            Learning Designs Training Pants Jumbo Pack Girls              1\n",
      "45          Healthy Kids Chicken Alphabet Condensed Soup                  1\n",
      "196         Low Carb Traditional Flour Tortillas                          1\n",
      "            Magnesium Malate 1250 Mg                                      1\n",
      "            Marrakesh Mint Green Tea                                      1\n",
      "            Organic Bagged Mini Dark Peanut Butter                        1\n",
      "            Organic Grass Fed Beef                                        1\n",
      "            Organic Savory Herb Gravy Mix                                 1\n",
      "            Gluten Free Parmesan & Garlic Bagel Chips                     1\n",
      "Name: order_id, dtype: int64\n"
     ]
    }
   ],
   "source": [
    "products_names = df_products[\"product_name\"]\n",
    "\n",
    "reordered_items = df_order_products[df_order_products[\"reordered\"] == 1]\n",
    "reordered_counts = reordered_items.groupby([\"product_id\",products_names])[\"order_id\"].count().sort_values()\n",
    "\n",
    "top_reordered_items = reordered_counts.sort_values().head(20)\n",
    "print(top_reordered_items)"
   ]
  },
  {
   "cell_type": "markdown",
   "id": "80e70c74",
   "metadata": {
    "id": "80e70c74"
   },
   "source": [
    "Escribe aquí tus conclusiones\n",
    "- Mis conclusiones: El top 20 de los articulos en donde los usuarios vuelven a pedir se conforman generalmente de medicina, verduras, pasta de dientes, cafe, entre otros. Es curioso lo que las personas le dan prioridad para su uso personal."
   ]
  },
  {
   "cell_type": "markdown",
   "id": "9d312b14",
   "metadata": {
    "id": "9d312b14"
   },
   "source": [
    "### [C3] Para cada producto, ¿cuál es la proporción de las veces que se pide y que se vuelve a pedir?"
   ]
  },
  {
   "cell_type": "code",
   "execution_count": 50,
   "id": "8ae9f4b1",
   "metadata": {
    "id": "8ae9f4b1"
   },
   "outputs": [
    {
     "name": "stdout",
     "output_type": "stream",
     "text": [
      "       product_id                                      product_name  \\\n",
      "10689       10690                                           Unknown   \n",
      "1239         1240                    Plain Better Than Cream Cheese   \n",
      "33133       33134                      Orange Recovery Energy Drink   \n",
      "33123       33124  Healthy Kids Organic Chocolate Nutritional Shake   \n",
      "33124       33125              Organic Mini Cheddar Cheese Crackers   \n",
      "...           ...                                               ...   \n",
      "16568       16569                                   Hummus Original   \n",
      "16569       16570                        Organic Fresh Carrot Chips   \n",
      "16570       16571                      Unbleached Jumbo Baking Cups   \n",
      "16571       16572                            Super Glue Gel Control   \n",
      "49693       49694                           BURRITO- STEAK & CHEESE   \n",
      "\n",
      "       total_orders  num_reorders  reorder_rate  \n",
      "10689             1           1.0           1.0  \n",
      "1239              1           1.0           1.0  \n",
      "33133             1           0.0           0.0  \n",
      "33123             1           0.0           0.0  \n",
      "33124             1           0.0           0.0  \n",
      "...             ...           ...           ...  \n",
      "16568             1           0.0           0.0  \n",
      "16569             1           0.0           0.0  \n",
      "16570             1           0.0           0.0  \n",
      "16571             1           0.0           0.0  \n",
      "49693             1           0.0           0.0  \n",
      "\n",
      "[49694 rows x 5 columns]\n"
     ]
    }
   ],
   "source": [
    "products_names = df_products[\"product_name\"]\n",
    "\n",
    "product_order_counts = df_products.groupby(['product_id', products_names]).size().reset_index(name='total_orders')\n",
    "\n",
    "product_reordered_counts = reordered_items.groupby(['product_id', products_names]).size().reset_index(name='num_reorders')\n",
    "\n",
    "product_stats = pd.merge(product_order_counts, product_reordered_counts, on=['product_id', 'product_name'], how='left').fillna(0)\n",
    "\n",
    "product_stats['reorder_rate'] = product_stats['num_reorders'] / product_stats['total_orders']\n",
    "\n",
    "print(product_stats.sort_values(by='reorder_rate', ascending=False))"
   ]
  },
  {
   "cell_type": "markdown",
   "id": "I10dEIAyldcO",
   "metadata": {
    "id": "I10dEIAyldcO"
   },
   "source": [
    "Escribe aquí tus conclusiones\n",
    "- Mis conclusiones: En esta ocasion nos podemos dar cuenta que la mayoria de las veces, el producto que más se logra pedir es el chocolate. Dado este análisis, es muy comun que los niños lo consuman mucho."
   ]
  },
  {
   "cell_type": "markdown",
   "id": "subject-boxing",
   "metadata": {
    "id": "subject-boxing"
   },
   "source": [
    "### [C4] Para cada cliente, ¿qué proporción de sus productos ya los había pedido?"
   ]
  },
  {
   "cell_type": "code",
   "execution_count": 51,
   "id": "medical-couple",
   "metadata": {
    "id": "medical-couple",
    "scrolled": true
   },
   "outputs": [
    {
     "data": {
      "text/html": [
       "<div>\n",
       "<style scoped>\n",
       "    .dataframe tbody tr th:only-of-type {\n",
       "        vertical-align: middle;\n",
       "    }\n",
       "\n",
       "    .dataframe tbody tr th {\n",
       "        vertical-align: top;\n",
       "    }\n",
       "\n",
       "    .dataframe thead th {\n",
       "        text-align: right;\n",
       "    }\n",
       "</style>\n",
       "<table border=\"1\" class=\"dataframe\">\n",
       "  <thead>\n",
       "    <tr style=\"text-align: right;\">\n",
       "      <th></th>\n",
       "      <th>user_id</th>\n",
       "      <th>reordered</th>\n",
       "    </tr>\n",
       "  </thead>\n",
       "  <tbody>\n",
       "    <tr>\n",
       "      <th>0</th>\n",
       "      <td>137587</td>\n",
       "      <td>1.0</td>\n",
       "    </tr>\n",
       "    <tr>\n",
       "      <th>1</th>\n",
       "      <td>173474</td>\n",
       "      <td>1.0</td>\n",
       "    </tr>\n",
       "    <tr>\n",
       "      <th>2</th>\n",
       "      <td>13918</td>\n",
       "      <td>1.0</td>\n",
       "    </tr>\n",
       "    <tr>\n",
       "      <th>3</th>\n",
       "      <td>62300</td>\n",
       "      <td>1.0</td>\n",
       "    </tr>\n",
       "    <tr>\n",
       "      <th>4</th>\n",
       "      <td>62307</td>\n",
       "      <td>1.0</td>\n",
       "    </tr>\n",
       "    <tr>\n",
       "      <th>...</th>\n",
       "      <td>...</td>\n",
       "      <td>...</td>\n",
       "    </tr>\n",
       "    <tr>\n",
       "      <th>149621</th>\n",
       "      <td>190953</td>\n",
       "      <td>0.0</td>\n",
       "    </tr>\n",
       "    <tr>\n",
       "      <th>149622</th>\n",
       "      <td>119371</td>\n",
       "      <td>0.0</td>\n",
       "    </tr>\n",
       "    <tr>\n",
       "      <th>149623</th>\n",
       "      <td>63173</td>\n",
       "      <td>0.0</td>\n",
       "    </tr>\n",
       "    <tr>\n",
       "      <th>149624</th>\n",
       "      <td>63163</td>\n",
       "      <td>0.0</td>\n",
       "    </tr>\n",
       "    <tr>\n",
       "      <th>149625</th>\n",
       "      <td>165726</td>\n",
       "      <td>0.0</td>\n",
       "    </tr>\n",
       "  </tbody>\n",
       "</table>\n",
       "<p>149626 rows × 2 columns</p>\n",
       "</div>"
      ],
      "text/plain": [
       "        user_id  reordered\n",
       "0        137587        1.0\n",
       "1        173474        1.0\n",
       "2         13918        1.0\n",
       "3         62300        1.0\n",
       "4         62307        1.0\n",
       "...         ...        ...\n",
       "149621   190953        0.0\n",
       "149622   119371        0.0\n",
       "149623    63173        0.0\n",
       "149624    63163        0.0\n",
       "149625   165726        0.0\n",
       "\n",
       "[149626 rows x 2 columns]"
      ]
     },
     "execution_count": 51,
     "metadata": {},
     "output_type": "execute_result"
    }
   ],
   "source": [
    "df_merge = df_order_products.merge(df_orders)\n",
    "reorder_pct = df_merge.groupby('user_id')['reordered'].mean()\n",
    "reorder_pct\n",
    "reorder_pct_as_df = reorder_pct.sort_values(ascending=False).reset_index()\n",
    "reorder_pct_as_df"
   ]
  },
  {
   "cell_type": "markdown",
   "id": "BgJSvXDsleXz",
   "metadata": {
    "id": "BgJSvXDsleXz"
   },
   "source": [
    "Escribe aquí tus conclusiones\n",
    "- Como podemos observar, la gran mayoria de los clientes tienen un promedio de una vez que han reordenado en la mayoria de los productos que anteriormente adquieron. Esto significa que se les acaba los productos que compraron la primera vez, asi que necesitan volverlo a adquirir."
   ]
  },
  {
   "cell_type": "markdown",
   "id": "92d35137",
   "metadata": {
    "id": "92d35137"
   },
   "source": [
    "### [C5] ¿Cuáles son los 20 principales artículos que las personas ponen primero en sus carritos?"
   ]
  },
  {
   "cell_type": "code",
   "execution_count": 52,
   "id": "0ae57274",
   "metadata": {
    "id": "0ae57274",
    "scrolled": true
   },
   "outputs": [],
   "source": [
    "product_name = df_products[\"product_name\"]\n",
    "first_added_items = df_order_products[df_order_products['add_to_cart_order'] == 1]"
   ]
  },
  {
   "cell_type": "code",
   "execution_count": 53,
   "id": "forty-netherlands",
   "metadata": {
    "id": "forty-netherlands",
    "scrolled": true
   },
   "outputs": [],
   "source": [
    "first_added_counts = first_added_items.groupby(['product_id', product_name]).size().reset_index(name='first_adds')"
   ]
  },
  {
   "cell_type": "code",
   "execution_count": 54,
   "id": "08e41ec2",
   "metadata": {
    "id": "08e41ec2"
   },
   "outputs": [
    {
     "name": "stdout",
     "output_type": "stream",
     "text": [
      "      product_id                                       product_name  \\\n",
      "2439       24852                                            Unknown   \n",
      "4310       45007                                            Unknown   \n",
      "1228       13176                                            Unknown   \n",
      "1777       19660                                            Unknown   \n",
      "2796       27966                                            Unknown   \n",
      "1950       21386                                            Unknown   \n",
      "3188       32655            Fruit and Vegetable Wash Natural Refill   \n",
      "3187       32655                         Club Sandwich Variety Pack   \n",
      "3189       32655                Organic Canned Great Northern Beans   \n",
      "3190       32655  Organic Quinoa Squares Sweet Potato & Apple & ...   \n",
      "3191       32655  Organic YoKids Smoothie Strawberry Banana Lowf...   \n",
      "3186       32655                         Blueberries in Light Syrup   \n",
      "3193       32655                              Veggie Canadian Bacon   \n",
      "3194       32657                    Pineapple Soft Serve Fruit Pops   \n",
      "3195       32665               Coconut & Hibiscus Curl & Style Milk   \n",
      "3196       32667                                        Fresh Thyme   \n",
      "3197       32684                                        Fresh Basil   \n",
      "3198       32689                          Cranberry Plus 100% Juice   \n",
      "3199       32689                            Organic Oolong Tea Bags   \n",
      "3200       32689                 Pork Sausage Zesty Hot Premium Cut   \n",
      "\n",
      "      first_adds  \n",
      "2439           8  \n",
      "4310           2  \n",
      "1228           2  \n",
      "1777           2  \n",
      "2796           2  \n",
      "1950           2  \n",
      "3188           1  \n",
      "3187           1  \n",
      "3189           1  \n",
      "3190           1  \n",
      "3191           1  \n",
      "3186           1  \n",
      "3193           1  \n",
      "3194           1  \n",
      "3195           1  \n",
      "3196           1  \n",
      "3197           1  \n",
      "3198           1  \n",
      "3199           1  \n",
      "3200           1  \n"
     ]
    }
   ],
   "source": [
    "top_first_adds = first_added_counts.sort_values(by='first_adds', ascending=False).head(20)\n",
    "print(top_first_adds)"
   ]
  },
  {
   "cell_type": "markdown",
   "id": "bd36b966",
   "metadata": {},
   "source": [
    "<div class=\"alert alert-block alert-success\">\n",
    "<b>Comentario del revisor</b> <a class=\"tocSkip\"></a>\n",
    "    \n",
    "Bien resuelta la parte C! felicidades\n",
    "</div>"
   ]
  },
  {
   "cell_type": "markdown",
   "id": "28ce9872",
   "metadata": {
    "id": "28ce9872"
   },
   "source": [
    "Escribe aquí tus conclusiones\n",
    "- Mis conclusiones: Me siguen apareciendo valores Unknown, al final no pude resolverlos como tal, espero en la retroalimentación me puedan apoyar para poder resolverlo lo antes posible y corregirlo."
   ]
  },
  {
   "cell_type": "markdown",
   "id": "uITbFCEoDosC",
   "metadata": {
    "id": "uITbFCEoDosC"
   },
   "source": [
    "### Conclusion general del proyecto:"
   ]
  },
  {
   "cell_type": "markdown",
   "id": "eecf7128",
   "metadata": {
    "id": "Nk-4GS7mDwqY"
   },
   "source": [
    "- Mis conclusiones acerca del proyecto y datos analizados: Muchas personas realizan varios pedidos ya sea cada quincena o en menos de una semana. Los tops de articulos más comprados son la mayoria verduras, comida, articulos de higiene personal, hasta dulces. Las personas se enfocan en llevar lo más importante e indispensable por que no compran más de 20 articulos por cada compra que realizan. Es importante destacar que una vez sabiendo que dias son los más transcurridos, a que hora y que articlos, nosotros podemos sacarle provecho para poder realizar descuentos o utilizar publicidad para que más gente compre con nosotros.\n",
    "\n",
    "#Mis conclusiones personales: Este proyecto me parecio muy desafiante, la verdad se me dificulto ya al final la mayoria de los ejercicios. Lo senti muy pesado en lo persona aunque tambien lo senti como un reto para mi por superar. Espero tener una retroalimentación especifica para poder ver en que enfocarme y que es lo que me esta fallando para poder mejorarlo más."
   ]
  },
  {
   "cell_type": "markdown",
   "id": "3c558536",
   "metadata": {},
   "source": [
    "<div class=\"alert alert-block alert-success\">\n",
    "<b>Comentario del revisor</b> <a class=\"tocSkip\"></a>\n",
    "    \n",
    "Mucho mejor :D\n",
    "</div>"
   ]
  },
  {
   "cell_type": "code",
   "execution_count": null,
   "id": "b2abf6a9",
   "metadata": {},
   "outputs": [],
   "source": []
  }
 ],
 "metadata": {
  "ExecuteTimeLog": [
   {
    "duration": 318,
    "start_time": "2024-07-23T20:18:36.330Z"
   },
   {
    "duration": 484,
    "start_time": "2024-07-23T20:18:43.587Z"
   },
   {
    "duration": 4172,
    "start_time": "2024-07-23T20:22:50.357Z"
   },
   {
    "duration": 32,
    "start_time": "2024-07-23T20:23:01.644Z"
   },
   {
    "duration": 11,
    "start_time": "2024-07-23T20:24:44.983Z"
   },
   {
    "duration": 61,
    "start_time": "2024-07-23T20:25:07.327Z"
   },
   {
    "duration": 3846,
    "start_time": "2024-07-23T20:28:56.160Z"
   },
   {
    "duration": 8,
    "start_time": "2024-07-23T20:29:08.079Z"
   },
   {
    "duration": 3957,
    "start_time": "2024-07-23T20:29:27.119Z"
   },
   {
    "duration": 26,
    "start_time": "2024-07-23T20:29:31.080Z"
   },
   {
    "duration": 3681,
    "start_time": "2024-07-23T20:30:04.766Z"
   },
   {
    "duration": 8,
    "start_time": "2024-07-23T20:30:08.583Z"
   },
   {
    "duration": 3619,
    "start_time": "2024-07-23T20:30:12.982Z"
   },
   {
    "duration": 3570,
    "start_time": "2024-07-23T20:31:46.050Z"
   },
   {
    "duration": 3623,
    "start_time": "2024-07-23T20:31:51.596Z"
   },
   {
    "duration": 8,
    "start_time": "2024-07-23T20:31:55.222Z"
   },
   {
    "duration": 4078,
    "start_time": "2024-07-23T20:32:25.498Z"
   },
   {
    "duration": 3908,
    "start_time": "2024-07-23T20:32:33.877Z"
   },
   {
    "duration": 8,
    "start_time": "2024-07-23T20:32:37.789Z"
   },
   {
    "duration": 9,
    "start_time": "2024-07-23T20:33:14.473Z"
   },
   {
    "duration": 4091,
    "start_time": "2024-07-23T20:33:23.667Z"
   },
   {
    "duration": 12,
    "start_time": "2024-07-23T20:33:27.761Z"
   },
   {
    "duration": 3651,
    "start_time": "2024-07-23T20:34:45.008Z"
   },
   {
    "duration": 29,
    "start_time": "2024-07-23T20:35:05.155Z"
   },
   {
    "duration": 7,
    "start_time": "2024-07-23T20:35:10.188Z"
   },
   {
    "duration": 453,
    "start_time": "2024-07-23T20:35:54.327Z"
   },
   {
    "duration": 1495,
    "start_time": "2024-07-23T20:35:54.784Z"
   },
   {
    "duration": 9,
    "start_time": "2024-07-23T20:35:56.282Z"
   },
   {
    "duration": 9,
    "start_time": "2024-07-23T20:35:56.305Z"
   },
   {
    "duration": 3,
    "start_time": "2024-07-23T20:35:56.318Z"
   },
   {
    "duration": 4,
    "start_time": "2024-07-23T20:35:56.324Z"
   },
   {
    "duration": 3,
    "start_time": "2024-07-23T20:35:56.331Z"
   },
   {
    "duration": 4,
    "start_time": "2024-07-23T20:35:56.337Z"
   },
   {
    "duration": 4,
    "start_time": "2024-07-23T20:35:56.344Z"
   },
   {
    "duration": 3,
    "start_time": "2024-07-23T20:35:56.410Z"
   },
   {
    "duration": 3,
    "start_time": "2024-07-23T20:35:56.418Z"
   },
   {
    "duration": 4,
    "start_time": "2024-07-23T20:35:56.424Z"
   },
   {
    "duration": 3,
    "start_time": "2024-07-23T20:35:56.432Z"
   },
   {
    "duration": 3,
    "start_time": "2024-07-23T20:35:56.439Z"
   },
   {
    "duration": 4,
    "start_time": "2024-07-23T20:35:56.445Z"
   },
   {
    "duration": 65,
    "start_time": "2024-07-23T20:35:56.452Z"
   },
   {
    "duration": 5,
    "start_time": "2024-07-23T20:35:56.520Z"
   },
   {
    "duration": 3,
    "start_time": "2024-07-23T20:35:56.529Z"
   },
   {
    "duration": 3,
    "start_time": "2024-07-23T20:35:56.535Z"
   },
   {
    "duration": 3,
    "start_time": "2024-07-23T20:35:56.542Z"
   },
   {
    "duration": 4,
    "start_time": "2024-07-23T20:35:56.548Z"
   },
   {
    "duration": 50,
    "start_time": "2024-07-23T20:35:56.555Z"
   },
   {
    "duration": 4,
    "start_time": "2024-07-23T20:35:56.608Z"
   },
   {
    "duration": 3,
    "start_time": "2024-07-23T20:35:56.615Z"
   },
   {
    "duration": 4,
    "start_time": "2024-07-23T20:35:56.622Z"
   },
   {
    "duration": 4,
    "start_time": "2024-07-23T20:35:56.628Z"
   },
   {
    "duration": 4,
    "start_time": "2024-07-23T20:35:56.635Z"
   },
   {
    "duration": 3,
    "start_time": "2024-07-23T20:35:56.646Z"
   },
   {
    "duration": 55,
    "start_time": "2024-07-23T20:35:56.652Z"
   },
   {
    "duration": 3,
    "start_time": "2024-07-23T20:35:56.711Z"
   },
   {
    "duration": 4,
    "start_time": "2024-07-23T20:35:56.717Z"
   },
   {
    "duration": 3,
    "start_time": "2024-07-23T20:35:56.725Z"
   },
   {
    "duration": 3,
    "start_time": "2024-07-23T20:35:56.732Z"
   },
   {
    "duration": 4,
    "start_time": "2024-07-23T20:35:56.738Z"
   },
   {
    "duration": 7,
    "start_time": "2024-07-23T20:38:01.806Z"
   },
   {
    "duration": 6,
    "start_time": "2024-07-23T20:38:30.981Z"
   },
   {
    "duration": 6,
    "start_time": "2024-07-23T20:38:40.374Z"
   },
   {
    "duration": 6,
    "start_time": "2024-07-23T20:38:55.782Z"
   },
   {
    "duration": 6,
    "start_time": "2024-07-23T20:39:08.336Z"
   },
   {
    "duration": 438,
    "start_time": "2024-07-24T00:02:17.244Z"
   },
   {
    "duration": 1545,
    "start_time": "2024-07-24T00:02:17.686Z"
   },
   {
    "duration": 10,
    "start_time": "2024-07-24T00:02:19.234Z"
   },
   {
    "duration": 8,
    "start_time": "2024-07-24T00:02:19.249Z"
   },
   {
    "duration": 8,
    "start_time": "2024-07-24T00:02:19.260Z"
   },
   {
    "duration": 6,
    "start_time": "2024-07-24T00:02:19.306Z"
   },
   {
    "duration": 7,
    "start_time": "2024-07-24T00:02:19.316Z"
   },
   {
    "duration": 4,
    "start_time": "2024-07-24T00:02:19.327Z"
   },
   {
    "duration": 3,
    "start_time": "2024-07-24T00:02:19.335Z"
   },
   {
    "duration": 3,
    "start_time": "2024-07-24T00:02:19.345Z"
   },
   {
    "duration": 56,
    "start_time": "2024-07-24T00:02:19.351Z"
   },
   {
    "duration": 4,
    "start_time": "2024-07-24T00:02:19.410Z"
   },
   {
    "duration": 4,
    "start_time": "2024-07-24T00:02:19.417Z"
   },
   {
    "duration": 6,
    "start_time": "2024-07-24T00:02:19.424Z"
   },
   {
    "duration": 4,
    "start_time": "2024-07-24T00:02:19.432Z"
   },
   {
    "duration": 3,
    "start_time": "2024-07-24T00:02:19.439Z"
   },
   {
    "duration": 3,
    "start_time": "2024-07-24T00:02:19.446Z"
   },
   {
    "duration": 54,
    "start_time": "2024-07-24T00:02:19.453Z"
   },
   {
    "duration": 3,
    "start_time": "2024-07-24T00:02:19.511Z"
   },
   {
    "duration": 4,
    "start_time": "2024-07-24T00:02:19.517Z"
   },
   {
    "duration": 6,
    "start_time": "2024-07-24T00:02:19.524Z"
   },
   {
    "duration": 4,
    "start_time": "2024-07-24T00:02:19.533Z"
   },
   {
    "duration": 3,
    "start_time": "2024-07-24T00:02:19.540Z"
   },
   {
    "duration": 4,
    "start_time": "2024-07-24T00:02:19.546Z"
   },
   {
    "duration": 4,
    "start_time": "2024-07-24T00:02:19.606Z"
   },
   {
    "duration": 4,
    "start_time": "2024-07-24T00:02:19.612Z"
   },
   {
    "duration": 3,
    "start_time": "2024-07-24T00:02:19.619Z"
   },
   {
    "duration": 4,
    "start_time": "2024-07-24T00:02:19.630Z"
   },
   {
    "duration": 4,
    "start_time": "2024-07-24T00:02:19.637Z"
   },
   {
    "duration": 3,
    "start_time": "2024-07-24T00:02:19.644Z"
   },
   {
    "duration": 55,
    "start_time": "2024-07-24T00:02:19.651Z"
   },
   {
    "duration": 3,
    "start_time": "2024-07-24T00:02:19.709Z"
   },
   {
    "duration": 8,
    "start_time": "2024-07-24T00:02:19.715Z"
   },
   {
    "duration": 5,
    "start_time": "2024-07-24T00:02:19.726Z"
   },
   {
    "duration": 18,
    "start_time": "2024-07-24T00:06:21.101Z"
   },
   {
    "duration": 182,
    "start_time": "2024-07-24T00:09:50.461Z"
   },
   {
    "duration": 166,
    "start_time": "2024-07-24T00:12:07.112Z"
   },
   {
    "duration": 329,
    "start_time": "2024-07-24T00:13:10.002Z"
   },
   {
    "duration": 19,
    "start_time": "2024-07-24T00:21:52.033Z"
   },
   {
    "duration": 135,
    "start_time": "2024-07-24T00:30:56.608Z"
   },
   {
    "duration": 442,
    "start_time": "2024-07-24T00:32:02.274Z"
   },
   {
    "duration": 1507,
    "start_time": "2024-07-24T00:32:02.720Z"
   },
   {
    "duration": 10,
    "start_time": "2024-07-24T00:32:04.230Z"
   },
   {
    "duration": 7,
    "start_time": "2024-07-24T00:32:04.244Z"
   },
   {
    "duration": 7,
    "start_time": "2024-07-24T00:32:04.255Z"
   },
   {
    "duration": 41,
    "start_time": "2024-07-24T00:32:04.265Z"
   },
   {
    "duration": 8,
    "start_time": "2024-07-24T00:32:04.309Z"
   },
   {
    "duration": 378,
    "start_time": "2024-07-24T00:32:04.320Z"
   },
   {
    "duration": 14,
    "start_time": "2024-07-24T00:32:04.705Z"
   },
   {
    "duration": 153,
    "start_time": "2024-07-24T00:32:04.723Z"
   },
   {
    "duration": 0,
    "start_time": "2024-07-24T00:32:04.880Z"
   },
   {
    "duration": 0,
    "start_time": "2024-07-24T00:32:04.885Z"
   },
   {
    "duration": 0,
    "start_time": "2024-07-24T00:32:04.886Z"
   },
   {
    "duration": 0,
    "start_time": "2024-07-24T00:32:04.889Z"
   },
   {
    "duration": 0,
    "start_time": "2024-07-24T00:32:04.891Z"
   },
   {
    "duration": 12,
    "start_time": "2024-07-24T00:32:04.893Z"
   },
   {
    "duration": 0,
    "start_time": "2024-07-24T00:32:04.907Z"
   },
   {
    "duration": 0,
    "start_time": "2024-07-24T00:32:04.909Z"
   },
   {
    "duration": 0,
    "start_time": "2024-07-24T00:32:04.911Z"
   },
   {
    "duration": 0,
    "start_time": "2024-07-24T00:32:04.913Z"
   },
   {
    "duration": 0,
    "start_time": "2024-07-24T00:32:04.914Z"
   },
   {
    "duration": 0,
    "start_time": "2024-07-24T00:32:04.917Z"
   },
   {
    "duration": 0,
    "start_time": "2024-07-24T00:32:04.919Z"
   },
   {
    "duration": 0,
    "start_time": "2024-07-24T00:32:04.921Z"
   },
   {
    "duration": 0,
    "start_time": "2024-07-24T00:32:04.925Z"
   },
   {
    "duration": 1,
    "start_time": "2024-07-24T00:32:04.927Z"
   },
   {
    "duration": 0,
    "start_time": "2024-07-24T00:32:04.930Z"
   },
   {
    "duration": 0,
    "start_time": "2024-07-24T00:32:04.932Z"
   },
   {
    "duration": 0,
    "start_time": "2024-07-24T00:32:04.935Z"
   },
   {
    "duration": 0,
    "start_time": "2024-07-24T00:32:04.937Z"
   },
   {
    "duration": 0,
    "start_time": "2024-07-24T00:32:04.939Z"
   },
   {
    "duration": 0,
    "start_time": "2024-07-24T00:32:04.941Z"
   },
   {
    "duration": 0,
    "start_time": "2024-07-24T00:32:04.944Z"
   },
   {
    "duration": 0,
    "start_time": "2024-07-24T00:32:05.007Z"
   },
   {
    "duration": 17,
    "start_time": "2024-07-24T00:32:11.695Z"
   },
   {
    "duration": 188,
    "start_time": "2024-07-24T00:33:15.595Z"
   },
   {
    "duration": 314,
    "start_time": "2024-07-24T00:33:34.663Z"
   },
   {
    "duration": 318,
    "start_time": "2024-07-24T00:34:10.726Z"
   },
   {
    "duration": 417,
    "start_time": "2024-07-24T00:34:18.961Z"
   },
   {
    "duration": 1529,
    "start_time": "2024-07-24T00:34:19.382Z"
   },
   {
    "duration": 9,
    "start_time": "2024-07-24T00:34:20.914Z"
   },
   {
    "duration": 7,
    "start_time": "2024-07-24T00:34:20.927Z"
   },
   {
    "duration": 6,
    "start_time": "2024-07-24T00:34:20.941Z"
   },
   {
    "duration": 7,
    "start_time": "2024-07-24T00:34:20.950Z"
   },
   {
    "duration": 7,
    "start_time": "2024-07-24T00:34:21.006Z"
   },
   {
    "duration": 367,
    "start_time": "2024-07-24T00:34:21.016Z"
   },
   {
    "duration": 25,
    "start_time": "2024-07-24T00:34:21.387Z"
   },
   {
    "duration": 204,
    "start_time": "2024-07-24T00:34:21.415Z"
   },
   {
    "duration": 329,
    "start_time": "2024-07-24T00:34:21.622Z"
   },
   {
    "duration": 4,
    "start_time": "2024-07-24T00:34:21.953Z"
   },
   {
    "duration": 4,
    "start_time": "2024-07-24T00:34:21.960Z"
   },
   {
    "duration": 3,
    "start_time": "2024-07-24T00:34:21.971Z"
   },
   {
    "duration": 31,
    "start_time": "2024-07-24T00:34:21.977Z"
   },
   {
    "duration": 5,
    "start_time": "2024-07-24T00:34:22.010Z"
   },
   {
    "duration": 3,
    "start_time": "2024-07-24T00:34:22.018Z"
   },
   {
    "duration": 4,
    "start_time": "2024-07-24T00:34:22.024Z"
   },
   {
    "duration": 5,
    "start_time": "2024-07-24T00:34:22.031Z"
   },
   {
    "duration": 4,
    "start_time": "2024-07-24T00:34:22.038Z"
   },
   {
    "duration": 4,
    "start_time": "2024-07-24T00:34:22.046Z"
   },
   {
    "duration": 3,
    "start_time": "2024-07-24T00:34:22.107Z"
   },
   {
    "duration": 4,
    "start_time": "2024-07-24T00:34:22.113Z"
   },
   {
    "duration": 3,
    "start_time": "2024-07-24T00:34:22.120Z"
   },
   {
    "duration": 4,
    "start_time": "2024-07-24T00:34:22.127Z"
   },
   {
    "duration": 3,
    "start_time": "2024-07-24T00:34:22.137Z"
   },
   {
    "duration": 4,
    "start_time": "2024-07-24T00:34:22.144Z"
   },
   {
    "duration": 55,
    "start_time": "2024-07-24T00:34:22.151Z"
   },
   {
    "duration": 4,
    "start_time": "2024-07-24T00:34:22.209Z"
   },
   {
    "duration": 4,
    "start_time": "2024-07-24T00:34:22.215Z"
   },
   {
    "duration": 5,
    "start_time": "2024-07-24T00:34:22.222Z"
   },
   {
    "duration": 3,
    "start_time": "2024-07-24T00:34:22.230Z"
   },
   {
    "duration": 5,
    "start_time": "2024-07-24T00:34:22.236Z"
   },
   {
    "duration": 4,
    "start_time": "2024-07-24T00:34:22.244Z"
   },
   {
    "duration": 325,
    "start_time": "2024-07-24T00:34:34.504Z"
   },
   {
    "duration": 87,
    "start_time": "2024-07-24T00:36:04.654Z"
   },
   {
    "duration": 780,
    "start_time": "2024-07-24T00:40:11.113Z"
   },
   {
    "duration": 101,
    "start_time": "2024-07-24T00:40:16.880Z"
   },
   {
    "duration": 302,
    "start_time": "2024-07-24T00:40:22.037Z"
   },
   {
    "duration": 85,
    "start_time": "2024-07-24T00:40:33.523Z"
   },
   {
    "duration": 179,
    "start_time": "2024-07-24T00:41:36.898Z"
   },
   {
    "duration": 442,
    "start_time": "2024-07-24T00:41:50.044Z"
   },
   {
    "duration": 1503,
    "start_time": "2024-07-24T00:41:50.489Z"
   },
   {
    "duration": 16,
    "start_time": "2024-07-24T00:41:51.995Z"
   },
   {
    "duration": 6,
    "start_time": "2024-07-24T00:41:52.014Z"
   },
   {
    "duration": 7,
    "start_time": "2024-07-24T00:41:52.025Z"
   },
   {
    "duration": 7,
    "start_time": "2024-07-24T00:41:52.035Z"
   },
   {
    "duration": 7,
    "start_time": "2024-07-24T00:41:52.045Z"
   },
   {
    "duration": 389,
    "start_time": "2024-07-24T00:41:52.055Z"
   },
   {
    "duration": 13,
    "start_time": "2024-07-24T00:41:52.448Z"
   },
   {
    "duration": 220,
    "start_time": "2024-07-24T00:41:52.463Z"
   },
   {
    "duration": 327,
    "start_time": "2024-07-24T00:41:52.686Z"
   },
   {
    "duration": 99,
    "start_time": "2024-07-24T00:41:53.016Z"
   },
   {
    "duration": 3,
    "start_time": "2024-07-24T00:41:53.118Z"
   },
   {
    "duration": 3,
    "start_time": "2024-07-24T00:41:53.130Z"
   },
   {
    "duration": 3,
    "start_time": "2024-07-24T00:41:53.136Z"
   },
   {
    "duration": 3,
    "start_time": "2024-07-24T00:41:53.143Z"
   },
   {
    "duration": 3,
    "start_time": "2024-07-24T00:41:53.149Z"
   },
   {
    "duration": 3,
    "start_time": "2024-07-24T00:41:53.156Z"
   },
   {
    "duration": 3,
    "start_time": "2024-07-24T00:41:53.207Z"
   },
   {
    "duration": 3,
    "start_time": "2024-07-24T00:41:53.214Z"
   },
   {
    "duration": 3,
    "start_time": "2024-07-24T00:41:53.221Z"
   },
   {
    "duration": 4,
    "start_time": "2024-07-24T00:41:53.228Z"
   },
   {
    "duration": 3,
    "start_time": "2024-07-24T00:41:53.235Z"
   },
   {
    "duration": 4,
    "start_time": "2024-07-24T00:41:53.241Z"
   },
   {
    "duration": 59,
    "start_time": "2024-07-24T00:41:53.248Z"
   },
   {
    "duration": 3,
    "start_time": "2024-07-24T00:41:53.310Z"
   },
   {
    "duration": 4,
    "start_time": "2024-07-24T00:41:53.317Z"
   },
   {
    "duration": 5,
    "start_time": "2024-07-24T00:41:53.323Z"
   },
   {
    "duration": 6,
    "start_time": "2024-07-24T00:41:53.332Z"
   },
   {
    "duration": 4,
    "start_time": "2024-07-24T00:41:53.341Z"
   },
   {
    "duration": 4,
    "start_time": "2024-07-24T00:41:53.348Z"
   },
   {
    "duration": 3,
    "start_time": "2024-07-24T00:41:53.407Z"
   },
   {
    "duration": 3,
    "start_time": "2024-07-24T00:41:53.413Z"
   },
   {
    "duration": 4,
    "start_time": "2024-07-24T00:41:53.419Z"
   },
   {
    "duration": 312,
    "start_time": "2024-07-24T15:05:49.175Z"
   },
   {
    "duration": 485,
    "start_time": "2024-07-24T15:06:02.425Z"
   },
   {
    "duration": 1948,
    "start_time": "2024-07-24T15:06:02.914Z"
   },
   {
    "duration": 10,
    "start_time": "2024-07-24T15:06:04.865Z"
   },
   {
    "duration": 8,
    "start_time": "2024-07-24T15:06:04.891Z"
   },
   {
    "duration": 7,
    "start_time": "2024-07-24T15:06:04.905Z"
   },
   {
    "duration": 7,
    "start_time": "2024-07-24T15:06:04.915Z"
   },
   {
    "duration": 8,
    "start_time": "2024-07-24T15:06:04.925Z"
   },
   {
    "duration": 402,
    "start_time": "2024-07-24T15:06:04.936Z"
   },
   {
    "duration": 17,
    "start_time": "2024-07-24T15:06:05.341Z"
   },
   {
    "duration": 213,
    "start_time": "2024-07-24T15:06:05.361Z"
   },
   {
    "duration": 407,
    "start_time": "2024-07-24T15:06:05.577Z"
   },
   {
    "duration": 118,
    "start_time": "2024-07-24T15:06:05.987Z"
   },
   {
    "duration": 4,
    "start_time": "2024-07-24T15:06:06.108Z"
   },
   {
    "duration": 4,
    "start_time": "2024-07-24T15:06:06.119Z"
   },
   {
    "duration": 4,
    "start_time": "2024-07-24T15:06:06.127Z"
   },
   {
    "duration": 4,
    "start_time": "2024-07-24T15:06:06.136Z"
   },
   {
    "duration": 48,
    "start_time": "2024-07-24T15:06:06.143Z"
   },
   {
    "duration": 4,
    "start_time": "2024-07-24T15:06:06.194Z"
   },
   {
    "duration": 4,
    "start_time": "2024-07-24T15:06:06.202Z"
   },
   {
    "duration": 3,
    "start_time": "2024-07-24T15:06:06.210Z"
   },
   {
    "duration": 4,
    "start_time": "2024-07-24T15:06:06.217Z"
   },
   {
    "duration": 4,
    "start_time": "2024-07-24T15:06:06.224Z"
   },
   {
    "duration": 61,
    "start_time": "2024-07-24T15:06:06.231Z"
   },
   {
    "duration": 5,
    "start_time": "2024-07-24T15:06:06.296Z"
   },
   {
    "duration": 4,
    "start_time": "2024-07-24T15:06:06.305Z"
   },
   {
    "duration": 5,
    "start_time": "2024-07-24T15:06:06.312Z"
   },
   {
    "duration": 4,
    "start_time": "2024-07-24T15:06:06.320Z"
   },
   {
    "duration": 8,
    "start_time": "2024-07-24T15:06:06.327Z"
   },
   {
    "duration": 66,
    "start_time": "2024-07-24T15:06:06.337Z"
   },
   {
    "duration": 4,
    "start_time": "2024-07-24T15:06:06.407Z"
   },
   {
    "duration": 4,
    "start_time": "2024-07-24T15:06:06.416Z"
   },
   {
    "duration": 5,
    "start_time": "2024-07-24T15:06:06.423Z"
   },
   {
    "duration": 4,
    "start_time": "2024-07-24T15:06:06.432Z"
   },
   {
    "duration": 51,
    "start_time": "2024-07-24T15:06:06.440Z"
   },
   {
    "duration": 19,
    "start_time": "2024-07-24T15:07:10.743Z"
   },
   {
    "duration": 93,
    "start_time": "2024-07-24T15:07:29.934Z"
   },
   {
    "duration": 44,
    "start_time": "2024-07-24T15:23:33.681Z"
   },
   {
    "duration": 10,
    "start_time": "2024-07-24T15:24:40.654Z"
   },
   {
    "duration": 19,
    "start_time": "2024-07-24T15:25:06.645Z"
   },
   {
    "duration": 36,
    "start_time": "2024-07-24T15:50:29.480Z"
   },
   {
    "duration": 28,
    "start_time": "2024-07-24T15:52:13.999Z"
   },
   {
    "duration": 426,
    "start_time": "2024-07-24T15:52:28.741Z"
   },
   {
    "duration": 1550,
    "start_time": "2024-07-24T15:52:29.171Z"
   },
   {
    "duration": 18,
    "start_time": "2024-07-24T15:52:30.724Z"
   },
   {
    "duration": 9,
    "start_time": "2024-07-24T15:52:30.746Z"
   },
   {
    "duration": 32,
    "start_time": "2024-07-24T15:52:30.760Z"
   },
   {
    "duration": 7,
    "start_time": "2024-07-24T15:52:30.796Z"
   },
   {
    "duration": 8,
    "start_time": "2024-07-24T15:52:30.806Z"
   },
   {
    "duration": 415,
    "start_time": "2024-07-24T15:52:30.817Z"
   },
   {
    "duration": 14,
    "start_time": "2024-07-24T15:52:31.236Z"
   },
   {
    "duration": 221,
    "start_time": "2024-07-24T15:52:31.252Z"
   },
   {
    "duration": 352,
    "start_time": "2024-07-24T15:52:31.476Z"
   },
   {
    "duration": 109,
    "start_time": "2024-07-24T15:52:31.831Z"
   },
   {
    "duration": 60,
    "start_time": "2024-07-24T15:52:31.943Z"
   },
   {
    "duration": 9,
    "start_time": "2024-07-24T15:52:32.009Z"
   },
   {
    "duration": 33,
    "start_time": "2024-07-24T15:52:32.021Z"
   },
   {
    "duration": 34,
    "start_time": "2024-07-24T15:52:32.057Z"
   },
   {
    "duration": 4,
    "start_time": "2024-07-24T15:52:32.095Z"
   },
   {
    "duration": 4,
    "start_time": "2024-07-24T15:52:32.103Z"
   },
   {
    "duration": 5,
    "start_time": "2024-07-24T15:52:32.110Z"
   },
   {
    "duration": 4,
    "start_time": "2024-07-24T15:52:32.118Z"
   },
   {
    "duration": 4,
    "start_time": "2024-07-24T15:52:32.125Z"
   },
   {
    "duration": 4,
    "start_time": "2024-07-24T15:52:32.189Z"
   },
   {
    "duration": 3,
    "start_time": "2024-07-24T15:52:32.198Z"
   },
   {
    "duration": 5,
    "start_time": "2024-07-24T15:52:32.205Z"
   },
   {
    "duration": 4,
    "start_time": "2024-07-24T15:52:32.213Z"
   },
   {
    "duration": 22,
    "start_time": "2024-07-24T15:52:32.221Z"
   },
   {
    "duration": 4,
    "start_time": "2024-07-24T15:52:32.246Z"
   },
   {
    "duration": 39,
    "start_time": "2024-07-24T15:52:32.253Z"
   },
   {
    "duration": 4,
    "start_time": "2024-07-24T15:52:32.296Z"
   },
   {
    "duration": 4,
    "start_time": "2024-07-24T15:52:32.303Z"
   },
   {
    "duration": 5,
    "start_time": "2024-07-24T15:52:32.311Z"
   },
   {
    "duration": 3,
    "start_time": "2024-07-24T15:52:32.320Z"
   },
   {
    "duration": 4,
    "start_time": "2024-07-24T15:52:32.327Z"
   },
   {
    "duration": 57,
    "start_time": "2024-07-24T15:52:32.334Z"
   },
   {
    "duration": 47,
    "start_time": "2024-07-24T15:53:18.111Z"
   },
   {
    "duration": 53,
    "start_time": "2024-07-24T17:42:30.473Z"
   },
   {
    "duration": 475,
    "start_time": "2024-07-24T17:44:14.966Z"
   },
   {
    "duration": 1542,
    "start_time": "2024-07-24T17:44:15.445Z"
   },
   {
    "duration": 11,
    "start_time": "2024-07-24T17:44:16.990Z"
   },
   {
    "duration": 7,
    "start_time": "2024-07-24T17:44:17.006Z"
   },
   {
    "duration": 8,
    "start_time": "2024-07-24T17:44:17.017Z"
   },
   {
    "duration": 8,
    "start_time": "2024-07-24T17:44:17.029Z"
   },
   {
    "duration": 54,
    "start_time": "2024-07-24T17:44:17.039Z"
   },
   {
    "duration": 365,
    "start_time": "2024-07-24T17:44:17.097Z"
   },
   {
    "duration": 28,
    "start_time": "2024-07-24T17:44:17.464Z"
   },
   {
    "duration": 227,
    "start_time": "2024-07-24T17:44:17.497Z"
   },
   {
    "duration": 388,
    "start_time": "2024-07-24T17:44:17.727Z"
   },
   {
    "duration": 108,
    "start_time": "2024-07-24T17:44:18.118Z"
   },
   {
    "duration": 40,
    "start_time": "2024-07-24T17:44:18.229Z"
   },
   {
    "duration": 27,
    "start_time": "2024-07-24T17:44:18.271Z"
   },
   {
    "duration": 260,
    "start_time": "2024-07-24T17:44:18.301Z"
   },
   {
    "duration": 48,
    "start_time": "2024-07-24T17:44:18.566Z"
   },
   {
    "duration": 3,
    "start_time": "2024-07-24T17:44:18.618Z"
   },
   {
    "duration": 3,
    "start_time": "2024-07-24T17:44:18.626Z"
   },
   {
    "duration": 4,
    "start_time": "2024-07-24T17:44:18.633Z"
   },
   {
    "duration": 4,
    "start_time": "2024-07-24T17:44:18.641Z"
   },
   {
    "duration": 41,
    "start_time": "2024-07-24T17:44:18.650Z"
   },
   {
    "duration": 5,
    "start_time": "2024-07-24T17:44:18.695Z"
   },
   {
    "duration": 4,
    "start_time": "2024-07-24T17:44:18.705Z"
   },
   {
    "duration": 5,
    "start_time": "2024-07-24T17:44:18.712Z"
   },
   {
    "duration": 4,
    "start_time": "2024-07-24T17:44:18.721Z"
   },
   {
    "duration": 5,
    "start_time": "2024-07-24T17:44:18.728Z"
   },
   {
    "duration": 55,
    "start_time": "2024-07-24T17:44:18.736Z"
   },
   {
    "duration": 3,
    "start_time": "2024-07-24T17:44:18.799Z"
   },
   {
    "duration": 4,
    "start_time": "2024-07-24T17:44:18.805Z"
   },
   {
    "duration": 4,
    "start_time": "2024-07-24T17:44:18.815Z"
   },
   {
    "duration": 4,
    "start_time": "2024-07-24T17:44:18.824Z"
   },
   {
    "duration": 4,
    "start_time": "2024-07-24T17:44:18.832Z"
   },
   {
    "duration": 52,
    "start_time": "2024-07-24T17:44:18.840Z"
   },
   {
    "duration": 4,
    "start_time": "2024-07-24T17:44:18.897Z"
   },
   {
    "duration": 246,
    "start_time": "2024-07-24T17:44:23.174Z"
   },
   {
    "duration": 46,
    "start_time": "2024-07-24T17:44:26.460Z"
   },
   {
    "duration": 60,
    "start_time": "2024-07-24T17:44:40.269Z"
   },
   {
    "duration": 38,
    "start_time": "2024-07-24T17:44:44.831Z"
   },
   {
    "duration": 9,
    "start_time": "2024-07-24T17:46:58.804Z"
   },
   {
    "duration": 11,
    "start_time": "2024-07-24T17:47:46.506Z"
   },
   {
    "duration": 12,
    "start_time": "2024-07-24T17:48:14.549Z"
   },
   {
    "duration": 6,
    "start_time": "2024-07-24T17:48:49.134Z"
   },
   {
    "duration": 6,
    "start_time": "2024-07-24T17:49:01.727Z"
   },
   {
    "duration": 7,
    "start_time": "2024-07-24T17:49:41.494Z"
   },
   {
    "duration": 6,
    "start_time": "2024-07-24T17:49:49.744Z"
   },
   {
    "duration": 465,
    "start_time": "2024-07-24T17:49:59.813Z"
   },
   {
    "duration": 1540,
    "start_time": "2024-07-24T17:50:00.282Z"
   },
   {
    "duration": 11,
    "start_time": "2024-07-24T17:50:01.825Z"
   },
   {
    "duration": 10,
    "start_time": "2024-07-24T17:50:01.840Z"
   },
   {
    "duration": 38,
    "start_time": "2024-07-24T17:50:01.855Z"
   },
   {
    "duration": 7,
    "start_time": "2024-07-24T17:50:01.897Z"
   },
   {
    "duration": 9,
    "start_time": "2024-07-24T17:50:01.907Z"
   },
   {
    "duration": 427,
    "start_time": "2024-07-24T17:50:01.919Z"
   },
   {
    "duration": 14,
    "start_time": "2024-07-24T17:50:02.349Z"
   },
   {
    "duration": 245,
    "start_time": "2024-07-24T17:50:02.365Z"
   },
   {
    "duration": 417,
    "start_time": "2024-07-24T17:50:02.617Z"
   },
   {
    "duration": 109,
    "start_time": "2024-07-24T17:50:03.038Z"
   },
   {
    "duration": 61,
    "start_time": "2024-07-24T17:50:03.154Z"
   },
   {
    "duration": 6,
    "start_time": "2024-07-24T17:50:03.224Z"
   },
   {
    "duration": 74,
    "start_time": "2024-07-24T17:50:03.235Z"
   },
   {
    "duration": 41,
    "start_time": "2024-07-24T17:50:03.313Z"
   },
   {
    "duration": 34,
    "start_time": "2024-07-24T17:50:03.357Z"
   },
   {
    "duration": 6,
    "start_time": "2024-07-24T17:50:03.396Z"
   },
   {
    "duration": 4,
    "start_time": "2024-07-24T17:50:03.406Z"
   },
   {
    "duration": 3,
    "start_time": "2024-07-24T17:50:03.413Z"
   },
   {
    "duration": 4,
    "start_time": "2024-07-24T17:50:03.419Z"
   },
   {
    "duration": 3,
    "start_time": "2024-07-24T17:50:03.426Z"
   },
   {
    "duration": 3,
    "start_time": "2024-07-24T17:50:03.432Z"
   },
   {
    "duration": 53,
    "start_time": "2024-07-24T17:50:03.439Z"
   },
   {
    "duration": 8,
    "start_time": "2024-07-24T17:50:03.495Z"
   },
   {
    "duration": 6,
    "start_time": "2024-07-24T17:50:03.506Z"
   },
   {
    "duration": 4,
    "start_time": "2024-07-24T17:50:03.516Z"
   },
   {
    "duration": 3,
    "start_time": "2024-07-24T17:50:03.523Z"
   },
   {
    "duration": 3,
    "start_time": "2024-07-24T17:50:03.530Z"
   },
   {
    "duration": 5,
    "start_time": "2024-07-24T17:50:03.535Z"
   },
   {
    "duration": 4,
    "start_time": "2024-07-24T17:50:03.592Z"
   },
   {
    "duration": 3,
    "start_time": "2024-07-24T17:50:03.599Z"
   },
   {
    "duration": 4,
    "start_time": "2024-07-24T17:50:03.605Z"
   },
   {
    "duration": 4,
    "start_time": "2024-07-24T17:50:03.612Z"
   },
   {
    "duration": 9,
    "start_time": "2024-07-24T17:58:32.790Z"
   },
   {
    "duration": 5,
    "start_time": "2024-07-24T17:58:58.930Z"
   },
   {
    "duration": 2923,
    "start_time": "2024-07-24T18:00:40.008Z"
   },
   {
    "duration": 494,
    "start_time": "2024-07-24T18:00:52.684Z"
   },
   {
    "duration": 1528,
    "start_time": "2024-07-24T18:00:53.190Z"
   },
   {
    "duration": 10,
    "start_time": "2024-07-24T18:00:54.721Z"
   },
   {
    "duration": 12,
    "start_time": "2024-07-24T18:00:54.735Z"
   },
   {
    "duration": 8,
    "start_time": "2024-07-24T18:00:54.751Z"
   },
   {
    "duration": 11,
    "start_time": "2024-07-24T18:00:54.791Z"
   },
   {
    "duration": 8,
    "start_time": "2024-07-24T18:00:54.806Z"
   },
   {
    "duration": 450,
    "start_time": "2024-07-24T18:00:54.818Z"
   },
   {
    "duration": 27,
    "start_time": "2024-07-24T18:00:55.272Z"
   },
   {
    "duration": 247,
    "start_time": "2024-07-24T18:00:55.306Z"
   },
   {
    "duration": 403,
    "start_time": "2024-07-24T18:00:55.556Z"
   },
   {
    "duration": 112,
    "start_time": "2024-07-24T18:00:55.963Z"
   },
   {
    "duration": 54,
    "start_time": "2024-07-24T18:00:56.078Z"
   },
   {
    "duration": 5,
    "start_time": "2024-07-24T18:00:56.135Z"
   },
   {
    "duration": 82,
    "start_time": "2024-07-24T18:00:56.144Z"
   },
   {
    "duration": 43,
    "start_time": "2024-07-24T18:00:56.229Z"
   },
   {
    "duration": 9,
    "start_time": "2024-07-24T18:00:56.292Z"
   },
   {
    "duration": 6,
    "start_time": "2024-07-24T18:00:56.304Z"
   },
   {
    "duration": 10,
    "start_time": "2024-07-24T18:00:56.314Z"
   },
   {
    "duration": 5,
    "start_time": "2024-07-24T18:00:56.327Z"
   },
   {
    "duration": 2908,
    "start_time": "2024-07-24T18:00:56.390Z"
   },
   {
    "duration": 4,
    "start_time": "2024-07-24T18:00:59.301Z"
   },
   {
    "duration": 4,
    "start_time": "2024-07-24T18:00:59.309Z"
   },
   {
    "duration": 4,
    "start_time": "2024-07-24T18:00:59.316Z"
   },
   {
    "duration": 4,
    "start_time": "2024-07-24T18:00:59.323Z"
   },
   {
    "duration": 4,
    "start_time": "2024-07-24T18:00:59.331Z"
   },
   {
    "duration": 52,
    "start_time": "2024-07-24T18:00:59.339Z"
   },
   {
    "duration": 3,
    "start_time": "2024-07-24T18:00:59.398Z"
   },
   {
    "duration": 3,
    "start_time": "2024-07-24T18:00:59.405Z"
   },
   {
    "duration": 5,
    "start_time": "2024-07-24T18:00:59.411Z"
   },
   {
    "duration": 4,
    "start_time": "2024-07-24T18:00:59.419Z"
   },
   {
    "duration": 5,
    "start_time": "2024-07-24T18:00:59.426Z"
   },
   {
    "duration": 56,
    "start_time": "2024-07-24T18:00:59.434Z"
   },
   {
    "duration": 3,
    "start_time": "2024-07-24T18:00:59.494Z"
   },
   {
    "duration": 57,
    "start_time": "2024-07-24T18:06:31.365Z"
   },
   {
    "duration": 14,
    "start_time": "2024-07-24T18:07:19.318Z"
   },
   {
    "duration": 7,
    "start_time": "2024-07-24T18:08:34.269Z"
   },
   {
    "duration": 497,
    "start_time": "2024-07-24T18:08:49.384Z"
   },
   {
    "duration": 1524,
    "start_time": "2024-07-24T18:08:49.885Z"
   },
   {
    "duration": 9,
    "start_time": "2024-07-24T18:08:51.412Z"
   },
   {
    "duration": 8,
    "start_time": "2024-07-24T18:08:51.425Z"
   },
   {
    "duration": 10,
    "start_time": "2024-07-24T18:08:51.436Z"
   },
   {
    "duration": 43,
    "start_time": "2024-07-24T18:08:51.449Z"
   },
   {
    "duration": 9,
    "start_time": "2024-07-24T18:08:51.494Z"
   },
   {
    "duration": 387,
    "start_time": "2024-07-24T18:08:51.506Z"
   },
   {
    "duration": 14,
    "start_time": "2024-07-24T18:08:51.896Z"
   },
   {
    "duration": 222,
    "start_time": "2024-07-24T18:08:51.917Z"
   },
   {
    "duration": 327,
    "start_time": "2024-07-24T18:08:52.142Z"
   },
   {
    "duration": 97,
    "start_time": "2024-07-24T18:08:52.472Z"
   },
   {
    "duration": 67,
    "start_time": "2024-07-24T18:08:52.572Z"
   },
   {
    "duration": 10,
    "start_time": "2024-07-24T18:08:52.643Z"
   },
   {
    "duration": 70,
    "start_time": "2024-07-24T18:08:52.657Z"
   },
   {
    "duration": 37,
    "start_time": "2024-07-24T18:08:52.730Z"
   },
   {
    "duration": 11,
    "start_time": "2024-07-24T18:08:52.790Z"
   },
   {
    "duration": 7,
    "start_time": "2024-07-24T18:08:52.805Z"
   },
   {
    "duration": 9,
    "start_time": "2024-07-24T18:08:52.815Z"
   },
   {
    "duration": 6,
    "start_time": "2024-07-24T18:08:52.827Z"
   },
   {
    "duration": 2778,
    "start_time": "2024-07-24T18:08:52.837Z"
   },
   {
    "duration": 51,
    "start_time": "2024-07-24T18:08:55.618Z"
   },
   {
    "duration": 20,
    "start_time": "2024-07-24T18:08:55.672Z"
   },
   {
    "duration": 3,
    "start_time": "2024-07-24T18:08:55.695Z"
   },
   {
    "duration": 4,
    "start_time": "2024-07-24T18:08:55.702Z"
   },
   {
    "duration": 4,
    "start_time": "2024-07-24T18:08:55.710Z"
   },
   {
    "duration": 3,
    "start_time": "2024-07-24T18:08:55.718Z"
   },
   {
    "duration": 3,
    "start_time": "2024-07-24T18:08:55.729Z"
   },
   {
    "duration": 57,
    "start_time": "2024-07-24T18:08:55.735Z"
   },
   {
    "duration": 4,
    "start_time": "2024-07-24T18:08:55.796Z"
   },
   {
    "duration": 3,
    "start_time": "2024-07-24T18:08:55.805Z"
   },
   {
    "duration": 4,
    "start_time": "2024-07-24T18:08:55.811Z"
   },
   {
    "duration": 3,
    "start_time": "2024-07-24T18:08:55.820Z"
   },
   {
    "duration": 3,
    "start_time": "2024-07-24T18:08:55.828Z"
   },
   {
    "duration": 16,
    "start_time": "2024-07-24T18:11:30.885Z"
   },
   {
    "duration": 62,
    "start_time": "2024-07-24T18:13:31.466Z"
   },
   {
    "duration": 8,
    "start_time": "2024-07-24T18:32:38.515Z"
   },
   {
    "duration": 482,
    "start_time": "2024-07-24T18:33:12.277Z"
   },
   {
    "duration": 1536,
    "start_time": "2024-07-24T18:33:12.764Z"
   },
   {
    "duration": 10,
    "start_time": "2024-07-24T18:33:14.304Z"
   },
   {
    "duration": 8,
    "start_time": "2024-07-24T18:33:14.320Z"
   },
   {
    "duration": 8,
    "start_time": "2024-07-24T18:33:14.332Z"
   },
   {
    "duration": 50,
    "start_time": "2024-07-24T18:33:14.343Z"
   },
   {
    "duration": 7,
    "start_time": "2024-07-24T18:33:14.396Z"
   },
   {
    "duration": 391,
    "start_time": "2024-07-24T18:33:14.406Z"
   },
   {
    "duration": 18,
    "start_time": "2024-07-24T18:33:14.800Z"
   },
   {
    "duration": 223,
    "start_time": "2024-07-24T18:33:14.829Z"
   },
   {
    "duration": 330,
    "start_time": "2024-07-24T18:33:15.055Z"
   },
   {
    "duration": 101,
    "start_time": "2024-07-24T18:33:15.391Z"
   },
   {
    "duration": 37,
    "start_time": "2024-07-24T18:33:15.495Z"
   },
   {
    "duration": 5,
    "start_time": "2024-07-24T18:33:15.535Z"
   },
   {
    "duration": 79,
    "start_time": "2024-07-24T18:33:15.543Z"
   },
   {
    "duration": 39,
    "start_time": "2024-07-24T18:33:15.625Z"
   },
   {
    "duration": 28,
    "start_time": "2024-07-24T18:33:15.667Z"
   },
   {
    "duration": 5,
    "start_time": "2024-07-24T18:33:15.698Z"
   },
   {
    "duration": 10,
    "start_time": "2024-07-24T18:33:15.707Z"
   },
   {
    "duration": 6,
    "start_time": "2024-07-24T18:33:15.719Z"
   },
   {
    "duration": 2770,
    "start_time": "2024-07-24T18:33:15.728Z"
   },
   {
    "duration": 47,
    "start_time": "2024-07-24T18:33:18.501Z"
   },
   {
    "duration": 72,
    "start_time": "2024-07-24T18:33:18.551Z"
   },
   {
    "duration": 7,
    "start_time": "2024-07-24T18:33:18.627Z"
   },
   {
    "duration": 0,
    "start_time": "2024-07-24T18:33:18.638Z"
   },
   {
    "duration": 0,
    "start_time": "2024-07-24T18:33:18.641Z"
   },
   {
    "duration": 0,
    "start_time": "2024-07-24T18:33:18.644Z"
   },
   {
    "duration": 0,
    "start_time": "2024-07-24T18:33:18.647Z"
   },
   {
    "duration": 0,
    "start_time": "2024-07-24T18:33:18.649Z"
   },
   {
    "duration": 0,
    "start_time": "2024-07-24T18:33:18.652Z"
   },
   {
    "duration": 0,
    "start_time": "2024-07-24T18:33:18.692Z"
   },
   {
    "duration": 0,
    "start_time": "2024-07-24T18:33:18.694Z"
   },
   {
    "duration": 0,
    "start_time": "2024-07-24T18:33:18.696Z"
   },
   {
    "duration": 0,
    "start_time": "2024-07-24T18:33:18.698Z"
   },
   {
    "duration": 4,
    "start_time": "2024-07-24T18:33:45.367Z"
   },
   {
    "duration": 13,
    "start_time": "2024-07-24T18:34:12.004Z"
   },
   {
    "duration": 13,
    "start_time": "2024-07-24T18:35:17.897Z"
   },
   {
    "duration": 15,
    "start_time": "2024-07-24T18:38:33.258Z"
   },
   {
    "duration": 14,
    "start_time": "2024-07-24T18:43:22.930Z"
   },
   {
    "duration": 11,
    "start_time": "2024-07-24T18:48:30.921Z"
   },
   {
    "duration": 28,
    "start_time": "2024-07-24T18:56:46.670Z"
   },
   {
    "duration": 488,
    "start_time": "2024-07-24T18:58:30.180Z"
   },
   {
    "duration": 1514,
    "start_time": "2024-07-24T18:58:30.671Z"
   },
   {
    "duration": 12,
    "start_time": "2024-07-24T18:58:32.190Z"
   },
   {
    "duration": 7,
    "start_time": "2024-07-24T18:58:32.206Z"
   },
   {
    "duration": 8,
    "start_time": "2024-07-24T18:58:32.216Z"
   },
   {
    "duration": 7,
    "start_time": "2024-07-24T18:58:32.227Z"
   },
   {
    "duration": 56,
    "start_time": "2024-07-24T18:58:32.237Z"
   },
   {
    "duration": 377,
    "start_time": "2024-07-24T18:58:32.297Z"
   },
   {
    "duration": 25,
    "start_time": "2024-07-24T18:58:32.677Z"
   },
   {
    "duration": 227,
    "start_time": "2024-07-24T18:58:32.707Z"
   },
   {
    "duration": 412,
    "start_time": "2024-07-24T18:58:32.938Z"
   },
   {
    "duration": 109,
    "start_time": "2024-07-24T18:58:33.354Z"
   },
   {
    "duration": 52,
    "start_time": "2024-07-24T18:58:33.466Z"
   },
   {
    "duration": 5,
    "start_time": "2024-07-24T18:58:33.522Z"
   },
   {
    "duration": 77,
    "start_time": "2024-07-24T18:58:33.531Z"
   },
   {
    "duration": 35,
    "start_time": "2024-07-24T18:58:33.611Z"
   },
   {
    "duration": 8,
    "start_time": "2024-07-24T18:58:33.649Z"
   },
   {
    "duration": 5,
    "start_time": "2024-07-24T18:58:33.692Z"
   },
   {
    "duration": 10,
    "start_time": "2024-07-24T18:58:33.700Z"
   },
   {
    "duration": 8,
    "start_time": "2024-07-24T18:58:33.714Z"
   },
   {
    "duration": 2788,
    "start_time": "2024-07-24T18:58:33.725Z"
   },
   {
    "duration": 49,
    "start_time": "2024-07-24T18:58:36.516Z"
   },
   {
    "duration": 81,
    "start_time": "2024-07-24T18:58:36.571Z"
   },
   {
    "duration": 36,
    "start_time": "2024-07-24T18:58:36.655Z"
   },
   {
    "duration": 14,
    "start_time": "2024-07-24T18:58:36.694Z"
   },
   {
    "duration": 13,
    "start_time": "2024-07-24T18:58:36.711Z"
   },
   {
    "duration": 63,
    "start_time": "2024-07-24T18:58:36.727Z"
   },
   {
    "duration": 3,
    "start_time": "2024-07-24T18:58:36.798Z"
   },
   {
    "duration": 3,
    "start_time": "2024-07-24T18:58:36.804Z"
   },
   {
    "duration": 3,
    "start_time": "2024-07-24T18:58:36.811Z"
   },
   {
    "duration": 3,
    "start_time": "2024-07-24T18:58:36.818Z"
   },
   {
    "duration": 6,
    "start_time": "2024-07-24T18:58:36.824Z"
   },
   {
    "duration": 55,
    "start_time": "2024-07-24T18:58:36.834Z"
   },
   {
    "duration": 4,
    "start_time": "2024-07-24T18:58:36.893Z"
   },
   {
    "duration": 27,
    "start_time": "2024-07-24T19:06:35.813Z"
   },
   {
    "duration": 5,
    "start_time": "2024-07-24T19:09:31.883Z"
   },
   {
    "duration": 4,
    "start_time": "2024-07-24T19:09:49.009Z"
   },
   {
    "duration": 440,
    "start_time": "2024-07-24T19:09:55.320Z"
   },
   {
    "duration": 1527,
    "start_time": "2024-07-24T19:09:55.764Z"
   },
   {
    "duration": 10,
    "start_time": "2024-07-24T19:09:57.294Z"
   },
   {
    "duration": 8,
    "start_time": "2024-07-24T19:09:57.308Z"
   },
   {
    "duration": 8,
    "start_time": "2024-07-24T19:09:57.319Z"
   },
   {
    "duration": 10,
    "start_time": "2024-07-24T19:09:57.330Z"
   },
   {
    "duration": 52,
    "start_time": "2024-07-24T19:09:57.343Z"
   },
   {
    "duration": 361,
    "start_time": "2024-07-24T19:09:57.398Z"
   },
   {
    "duration": 29,
    "start_time": "2024-07-24T19:09:57.762Z"
   },
   {
    "duration": 206,
    "start_time": "2024-07-24T19:09:57.796Z"
   },
   {
    "duration": 345,
    "start_time": "2024-07-24T19:09:58.006Z"
   },
   {
    "duration": 97,
    "start_time": "2024-07-24T19:09:58.354Z"
   },
   {
    "duration": 44,
    "start_time": "2024-07-24T19:09:58.454Z"
   },
   {
    "duration": 6,
    "start_time": "2024-07-24T19:09:58.501Z"
   },
   {
    "duration": 45,
    "start_time": "2024-07-24T19:09:58.511Z"
   },
   {
    "duration": 64,
    "start_time": "2024-07-24T19:09:58.560Z"
   },
   {
    "duration": 9,
    "start_time": "2024-07-24T19:09:58.628Z"
   },
   {
    "duration": 7,
    "start_time": "2024-07-24T19:09:58.640Z"
   },
   {
    "duration": 45,
    "start_time": "2024-07-24T19:09:58.650Z"
   },
   {
    "duration": 6,
    "start_time": "2024-07-24T19:09:58.697Z"
   },
   {
    "duration": 2723,
    "start_time": "2024-07-24T19:09:58.706Z"
   },
   {
    "duration": 61,
    "start_time": "2024-07-24T19:10:01.432Z"
   },
   {
    "duration": 49,
    "start_time": "2024-07-24T19:10:01.498Z"
   },
   {
    "duration": 14,
    "start_time": "2024-07-24T19:10:01.550Z"
   },
   {
    "duration": 14,
    "start_time": "2024-07-24T19:10:01.591Z"
   },
   {
    "duration": 11,
    "start_time": "2024-07-24T19:10:01.608Z"
   },
   {
    "duration": 5,
    "start_time": "2024-07-24T19:10:01.622Z"
   },
   {
    "duration": 70,
    "start_time": "2024-07-24T19:10:01.635Z"
   },
   {
    "duration": 6,
    "start_time": "2024-07-24T19:10:01.708Z"
   },
   {
    "duration": 4,
    "start_time": "2024-07-24T19:10:01.716Z"
   },
   {
    "duration": 4,
    "start_time": "2024-07-24T19:10:01.723Z"
   },
   {
    "duration": 3,
    "start_time": "2024-07-24T19:10:01.730Z"
   },
   {
    "duration": 4,
    "start_time": "2024-07-24T19:10:01.737Z"
   },
   {
    "duration": 3,
    "start_time": "2024-07-24T19:10:01.792Z"
   },
   {
    "duration": 2,
    "start_time": "2024-07-24T19:11:09.510Z"
   },
   {
    "duration": 24,
    "start_time": "2024-07-24T19:12:53.880Z"
   },
   {
    "duration": 32,
    "start_time": "2024-07-24T19:13:23.927Z"
   },
   {
    "duration": 47,
    "start_time": "2024-07-24T19:13:43.559Z"
   },
   {
    "duration": 33,
    "start_time": "2024-07-24T19:17:09.460Z"
   },
   {
    "duration": 17,
    "start_time": "2024-07-24T20:37:32.929Z"
   },
   {
    "duration": 102,
    "start_time": "2024-07-24T20:40:24.603Z"
   },
   {
    "duration": 51,
    "start_time": "2024-07-24T20:47:09.556Z"
   },
   {
    "duration": 18,
    "start_time": "2024-07-24T20:50:17.089Z"
   },
   {
    "duration": 18,
    "start_time": "2024-07-24T20:50:31.485Z"
   },
   {
    "duration": 15,
    "start_time": "2024-07-24T20:51:21.971Z"
   },
   {
    "duration": 19,
    "start_time": "2024-07-24T20:52:10.571Z"
   },
   {
    "duration": 96,
    "start_time": "2024-07-24T20:52:51.275Z"
   },
   {
    "duration": 104,
    "start_time": "2024-07-24T20:53:24.358Z"
   },
   {
    "duration": 97,
    "start_time": "2024-07-24T20:53:44.094Z"
   },
   {
    "duration": 100,
    "start_time": "2024-07-24T20:53:58.175Z"
   },
   {
    "duration": 307,
    "start_time": "2024-07-24T23:00:59.635Z"
   },
   {
    "duration": 455,
    "start_time": "2024-07-24T23:01:15.440Z"
   },
   {
    "duration": 1659,
    "start_time": "2024-07-24T23:01:15.898Z"
   },
   {
    "duration": 10,
    "start_time": "2024-07-24T23:01:17.559Z"
   },
   {
    "duration": 7,
    "start_time": "2024-07-24T23:01:17.573Z"
   },
   {
    "duration": 32,
    "start_time": "2024-07-24T23:01:17.583Z"
   },
   {
    "duration": 7,
    "start_time": "2024-07-24T23:01:17.618Z"
   },
   {
    "duration": 8,
    "start_time": "2024-07-24T23:01:17.629Z"
   },
   {
    "duration": 387,
    "start_time": "2024-07-24T23:01:17.640Z"
   },
   {
    "duration": 13,
    "start_time": "2024-07-24T23:01:18.031Z"
   },
   {
    "duration": 217,
    "start_time": "2024-07-24T23:01:18.050Z"
   },
   {
    "duration": 346,
    "start_time": "2024-07-24T23:01:18.270Z"
   },
   {
    "duration": 93,
    "start_time": "2024-07-24T23:01:18.618Z"
   },
   {
    "duration": 39,
    "start_time": "2024-07-24T23:01:18.714Z"
   },
   {
    "duration": 6,
    "start_time": "2024-07-24T23:01:18.755Z"
   },
   {
    "duration": 80,
    "start_time": "2024-07-24T23:01:18.764Z"
   },
   {
    "duration": 34,
    "start_time": "2024-07-24T23:01:18.847Z"
   },
   {
    "duration": 28,
    "start_time": "2024-07-24T23:01:18.884Z"
   },
   {
    "duration": 6,
    "start_time": "2024-07-24T23:01:18.915Z"
   },
   {
    "duration": 11,
    "start_time": "2024-07-24T23:01:18.924Z"
   },
   {
    "duration": 5,
    "start_time": "2024-07-24T23:01:18.939Z"
   },
   {
    "duration": 2842,
    "start_time": "2024-07-24T23:01:18.947Z"
   },
   {
    "duration": 57,
    "start_time": "2024-07-24T23:01:21.792Z"
   },
   {
    "duration": 66,
    "start_time": "2024-07-24T23:01:21.852Z"
   },
   {
    "duration": 18,
    "start_time": "2024-07-24T23:01:21.922Z"
   },
   {
    "duration": 16,
    "start_time": "2024-07-24T23:01:21.943Z"
   },
   {
    "duration": 48,
    "start_time": "2024-07-24T23:01:21.962Z"
   },
   {
    "duration": 40,
    "start_time": "2024-07-24T23:01:22.013Z"
   },
   {
    "duration": 57,
    "start_time": "2024-07-24T23:01:22.061Z"
   },
   {
    "duration": 17,
    "start_time": "2024-07-24T23:01:22.125Z"
   },
   {
    "duration": 126,
    "start_time": "2024-07-24T23:01:22.145Z"
   },
   {
    "duration": 66,
    "start_time": "2024-07-24T23:01:22.274Z"
   },
   {
    "duration": 7,
    "start_time": "2024-07-24T23:01:22.343Z"
   },
   {
    "duration": 4,
    "start_time": "2024-07-24T23:01:22.353Z"
   },
   {
    "duration": 4,
    "start_time": "2024-07-24T23:01:22.360Z"
   },
   {
    "duration": 633,
    "start_time": "2024-07-24T23:02:05.354Z"
   },
   {
    "duration": 95,
    "start_time": "2024-07-24T23:03:24.007Z"
   },
   {
    "duration": 21,
    "start_time": "2024-07-24T23:08:45.573Z"
   },
   {
    "duration": 469,
    "start_time": "2024-07-24T23:08:56.723Z"
   },
   {
    "duration": 1526,
    "start_time": "2024-07-24T23:08:57.195Z"
   },
   {
    "duration": 11,
    "start_time": "2024-07-24T23:08:58.723Z"
   },
   {
    "duration": 7,
    "start_time": "2024-07-24T23:08:58.737Z"
   },
   {
    "duration": 7,
    "start_time": "2024-07-24T23:08:58.751Z"
   },
   {
    "duration": 50,
    "start_time": "2024-07-24T23:08:58.761Z"
   },
   {
    "duration": 8,
    "start_time": "2024-07-24T23:08:58.814Z"
   },
   {
    "duration": 371,
    "start_time": "2024-07-24T23:08:58.825Z"
   },
   {
    "duration": 20,
    "start_time": "2024-07-24T23:08:59.199Z"
   },
   {
    "duration": 208,
    "start_time": "2024-07-24T23:08:59.221Z"
   },
   {
    "duration": 333,
    "start_time": "2024-07-24T23:08:59.432Z"
   },
   {
    "duration": 94,
    "start_time": "2024-07-24T23:08:59.772Z"
   },
   {
    "duration": 49,
    "start_time": "2024-07-24T23:08:59.869Z"
   },
   {
    "duration": 6,
    "start_time": "2024-07-24T23:08:59.925Z"
   },
   {
    "duration": 46,
    "start_time": "2024-07-24T23:08:59.934Z"
   },
   {
    "duration": 58,
    "start_time": "2024-07-24T23:08:59.982Z"
   },
   {
    "duration": 8,
    "start_time": "2024-07-24T23:09:00.042Z"
   },
   {
    "duration": 5,
    "start_time": "2024-07-24T23:09:00.054Z"
   },
   {
    "duration": 50,
    "start_time": "2024-07-24T23:09:00.062Z"
   },
   {
    "duration": 5,
    "start_time": "2024-07-24T23:09:00.115Z"
   },
   {
    "duration": 2687,
    "start_time": "2024-07-24T23:09:00.124Z"
   },
   {
    "duration": 48,
    "start_time": "2024-07-24T23:09:02.814Z"
   },
   {
    "duration": 80,
    "start_time": "2024-07-24T23:09:02.865Z"
   },
   {
    "duration": 14,
    "start_time": "2024-07-24T23:09:02.949Z"
   },
   {
    "duration": 44,
    "start_time": "2024-07-24T23:09:02.966Z"
   },
   {
    "duration": 12,
    "start_time": "2024-07-24T23:09:03.013Z"
   },
   {
    "duration": 38,
    "start_time": "2024-07-24T23:09:03.028Z"
   },
   {
    "duration": 63,
    "start_time": "2024-07-24T23:09:03.069Z"
   },
   {
    "duration": 14,
    "start_time": "2024-07-24T23:09:03.136Z"
   },
   {
    "duration": 130,
    "start_time": "2024-07-24T23:09:03.152Z"
   },
   {
    "duration": 59,
    "start_time": "2024-07-24T23:09:03.285Z"
   },
   {
    "duration": 348,
    "start_time": "2024-07-24T23:09:03.347Z"
   },
   {
    "duration": 0,
    "start_time": "2024-07-24T23:09:03.697Z"
   },
   {
    "duration": 0,
    "start_time": "2024-07-24T23:09:03.701Z"
   },
   {
    "duration": 8,
    "start_time": "2024-07-24T23:09:18.530Z"
   },
   {
    "duration": 22,
    "start_time": "2024-07-25T00:22:23.615Z"
   },
   {
    "duration": 489,
    "start_time": "2024-07-25T00:25:12.321Z"
   },
   {
    "duration": 473,
    "start_time": "2024-07-25T00:25:19.714Z"
   },
   {
    "duration": 1527,
    "start_time": "2024-07-25T00:25:20.191Z"
   },
   {
    "duration": 12,
    "start_time": "2024-07-25T00:25:21.724Z"
   },
   {
    "duration": 11,
    "start_time": "2024-07-25T00:25:21.741Z"
   },
   {
    "duration": 10,
    "start_time": "2024-07-25T00:25:21.755Z"
   },
   {
    "duration": 45,
    "start_time": "2024-07-25T00:25:21.768Z"
   },
   {
    "duration": 9,
    "start_time": "2024-07-25T00:25:21.817Z"
   },
   {
    "duration": 392,
    "start_time": "2024-07-25T00:25:21.830Z"
   },
   {
    "duration": 15,
    "start_time": "2024-07-25T00:25:22.226Z"
   },
   {
    "duration": 223,
    "start_time": "2024-07-25T00:25:22.249Z"
   },
   {
    "duration": 384,
    "start_time": "2024-07-25T00:25:22.476Z"
   },
   {
    "duration": 106,
    "start_time": "2024-07-25T00:25:22.863Z"
   },
   {
    "duration": 53,
    "start_time": "2024-07-25T00:25:22.972Z"
   },
   {
    "duration": 6,
    "start_time": "2024-07-25T00:25:23.028Z"
   },
   {
    "duration": 73,
    "start_time": "2024-07-25T00:25:23.038Z"
   },
   {
    "duration": 36,
    "start_time": "2024-07-25T00:25:23.113Z"
   },
   {
    "duration": 7,
    "start_time": "2024-07-25T00:25:23.152Z"
   },
   {
    "duration": 5,
    "start_time": "2024-07-25T00:25:23.162Z"
   },
   {
    "duration": 45,
    "start_time": "2024-07-25T00:25:23.170Z"
   },
   {
    "duration": 7,
    "start_time": "2024-07-25T00:25:23.218Z"
   },
   {
    "duration": 2681,
    "start_time": "2024-07-25T00:25:23.228Z"
   },
   {
    "duration": 51,
    "start_time": "2024-07-25T00:25:25.912Z"
   },
   {
    "duration": 80,
    "start_time": "2024-07-25T00:25:25.966Z"
   },
   {
    "duration": 14,
    "start_time": "2024-07-25T00:25:26.049Z"
   },
   {
    "duration": 13,
    "start_time": "2024-07-25T00:25:26.068Z"
   },
   {
    "duration": 11,
    "start_time": "2024-07-25T00:25:26.109Z"
   },
   {
    "duration": 37,
    "start_time": "2024-07-25T00:25:26.123Z"
   },
   {
    "duration": 59,
    "start_time": "2024-07-25T00:25:26.168Z"
   },
   {
    "duration": 14,
    "start_time": "2024-07-25T00:25:26.230Z"
   },
   {
    "duration": 129,
    "start_time": "2024-07-25T00:25:26.248Z"
   },
   {
    "duration": 64,
    "start_time": "2024-07-25T00:25:26.379Z"
   },
   {
    "duration": 836,
    "start_time": "2024-07-25T00:25:26.446Z"
   },
   {
    "duration": 0,
    "start_time": "2024-07-25T00:25:27.285Z"
   },
   {
    "duration": 0,
    "start_time": "2024-07-25T00:25:27.287Z"
   },
   {
    "duration": 507,
    "start_time": "2024-07-25T00:25:43.189Z"
   },
   {
    "duration": 766,
    "start_time": "2024-07-25T00:38:53.589Z"
   },
   {
    "duration": 94,
    "start_time": "2024-07-25T00:39:13.483Z"
   },
   {
    "duration": 110,
    "start_time": "2024-07-25T00:39:35.890Z"
   },
   {
    "duration": 306,
    "start_time": "2024-07-25T00:39:52.029Z"
   },
   {
    "duration": 438,
    "start_time": "2024-07-25T00:40:06.143Z"
   },
   {
    "duration": 1498,
    "start_time": "2024-07-25T00:40:06.585Z"
   },
   {
    "duration": 22,
    "start_time": "2024-07-25T00:40:08.086Z"
   },
   {
    "duration": 7,
    "start_time": "2024-07-25T00:40:08.111Z"
   },
   {
    "duration": 9,
    "start_time": "2024-07-25T00:40:08.122Z"
   },
   {
    "duration": 6,
    "start_time": "2024-07-25T00:40:08.134Z"
   },
   {
    "duration": 7,
    "start_time": "2024-07-25T00:40:08.143Z"
   },
   {
    "duration": 398,
    "start_time": "2024-07-25T00:40:08.153Z"
   },
   {
    "duration": 14,
    "start_time": "2024-07-25T00:40:08.554Z"
   },
   {
    "duration": 210,
    "start_time": "2024-07-25T00:40:08.570Z"
   },
   {
    "duration": 345,
    "start_time": "2024-07-25T00:40:08.783Z"
   },
   {
    "duration": 96,
    "start_time": "2024-07-25T00:40:09.130Z"
   },
   {
    "duration": 38,
    "start_time": "2024-07-25T00:40:09.229Z"
   },
   {
    "duration": 5,
    "start_time": "2024-07-25T00:40:09.273Z"
   },
   {
    "duration": 72,
    "start_time": "2024-07-25T00:40:09.281Z"
   },
   {
    "duration": 55,
    "start_time": "2024-07-25T00:40:09.356Z"
   },
   {
    "duration": 10,
    "start_time": "2024-07-25T00:40:09.414Z"
   },
   {
    "duration": 6,
    "start_time": "2024-07-25T00:40:09.427Z"
   },
   {
    "duration": 9,
    "start_time": "2024-07-25T00:40:09.436Z"
   },
   {
    "duration": 5,
    "start_time": "2024-07-25T00:40:09.447Z"
   },
   {
    "duration": 2800,
    "start_time": "2024-07-25T00:40:09.455Z"
   },
   {
    "duration": 59,
    "start_time": "2024-07-25T00:40:12.258Z"
   },
   {
    "duration": 48,
    "start_time": "2024-07-25T00:40:12.320Z"
   },
   {
    "duration": 41,
    "start_time": "2024-07-25T00:40:12.371Z"
   },
   {
    "duration": 13,
    "start_time": "2024-07-25T00:40:12.416Z"
   },
   {
    "duration": 12,
    "start_time": "2024-07-25T00:40:12.432Z"
   },
   {
    "duration": 68,
    "start_time": "2024-07-25T00:40:12.447Z"
   },
   {
    "duration": 28,
    "start_time": "2024-07-25T00:40:12.518Z"
   },
   {
    "duration": 15,
    "start_time": "2024-07-25T00:40:12.549Z"
   },
   {
    "duration": 155,
    "start_time": "2024-07-25T00:40:12.567Z"
   },
   {
    "duration": 52,
    "start_time": "2024-07-25T00:40:12.730Z"
   },
   {
    "duration": 691,
    "start_time": "2024-07-25T00:40:12.785Z"
   },
   {
    "duration": 1320,
    "start_time": "2024-07-25T00:40:13.479Z"
   },
   {
    "duration": 0,
    "start_time": "2024-07-25T00:40:14.810Z"
   },
   {
    "duration": 287,
    "start_time": "2024-07-25T00:40:25.001Z"
   },
   {
    "duration": 622,
    "start_time": "2024-07-25T00:42:56.390Z"
   },
   {
    "duration": 33,
    "start_time": "2024-07-25T00:45:40.449Z"
   },
   {
    "duration": 32,
    "start_time": "2024-07-25T00:46:17.099Z"
   },
   {
    "duration": 249,
    "start_time": "2024-07-25T00:46:54.310Z"
   },
   {
    "duration": 43,
    "start_time": "2024-07-25T00:47:16.320Z"
   },
   {
    "duration": 5,
    "start_time": "2024-07-25T00:47:40.726Z"
   },
   {
    "duration": 468,
    "start_time": "2024-07-25T00:47:55.599Z"
   },
   {
    "duration": 1504,
    "start_time": "2024-07-25T00:47:56.071Z"
   },
   {
    "duration": 9,
    "start_time": "2024-07-25T00:47:57.578Z"
   },
   {
    "duration": 21,
    "start_time": "2024-07-25T00:47:57.591Z"
   },
   {
    "duration": 7,
    "start_time": "2024-07-25T00:47:57.619Z"
   },
   {
    "duration": 6,
    "start_time": "2024-07-25T00:47:57.630Z"
   },
   {
    "duration": 7,
    "start_time": "2024-07-25T00:47:57.639Z"
   },
   {
    "duration": 403,
    "start_time": "2024-07-25T00:47:57.649Z"
   },
   {
    "duration": 13,
    "start_time": "2024-07-25T00:47:58.055Z"
   },
   {
    "duration": 211,
    "start_time": "2024-07-25T00:47:58.072Z"
   },
   {
    "duration": 345,
    "start_time": "2024-07-25T00:47:58.285Z"
   },
   {
    "duration": 98,
    "start_time": "2024-07-25T00:47:58.633Z"
   },
   {
    "duration": 36,
    "start_time": "2024-07-25T00:47:58.734Z"
   },
   {
    "duration": 5,
    "start_time": "2024-07-25T00:47:58.777Z"
   },
   {
    "duration": 79,
    "start_time": "2024-07-25T00:47:58.784Z"
   },
   {
    "duration": 55,
    "start_time": "2024-07-25T00:47:58.866Z"
   },
   {
    "duration": 8,
    "start_time": "2024-07-25T00:47:58.925Z"
   },
   {
    "duration": 5,
    "start_time": "2024-07-25T00:47:58.937Z"
   },
   {
    "duration": 10,
    "start_time": "2024-07-25T00:47:58.945Z"
   },
   {
    "duration": 51,
    "start_time": "2024-07-25T00:47:58.957Z"
   },
   {
    "duration": 2644,
    "start_time": "2024-07-25T00:47:59.011Z"
   },
   {
    "duration": 56,
    "start_time": "2024-07-25T00:48:01.659Z"
   },
   {
    "duration": 51,
    "start_time": "2024-07-25T00:48:01.717Z"
   },
   {
    "duration": 37,
    "start_time": "2024-07-25T00:48:01.771Z"
   },
   {
    "duration": 13,
    "start_time": "2024-07-25T00:48:01.812Z"
   },
   {
    "duration": 10,
    "start_time": "2024-07-25T00:48:01.828Z"
   },
   {
    "duration": 72,
    "start_time": "2024-07-25T00:48:01.842Z"
   },
   {
    "duration": 29,
    "start_time": "2024-07-25T00:48:01.917Z"
   },
   {
    "duration": 14,
    "start_time": "2024-07-25T00:48:01.949Z"
   },
   {
    "duration": 142,
    "start_time": "2024-07-25T00:48:01.966Z"
   },
   {
    "duration": 47,
    "start_time": "2024-07-25T00:48:02.111Z"
   },
   {
    "duration": 711,
    "start_time": "2024-07-25T00:48:02.161Z"
   },
   {
    "duration": 5,
    "start_time": "2024-07-25T00:48:02.876Z"
   },
   {
    "duration": 24,
    "start_time": "2024-07-25T00:48:02.885Z"
   },
   {
    "duration": 6,
    "start_time": "2024-07-25T00:50:09.618Z"
   },
   {
    "duration": 0,
    "start_time": "2024-07-25T00:50:35.095Z"
   },
   {
    "duration": 685,
    "start_time": "2024-07-25T00:50:38.316Z"
   },
   {
    "duration": 1549,
    "start_time": "2024-07-25T00:50:51.548Z"
   },
   {
    "duration": 971,
    "start_time": "2024-07-25T00:51:25.081Z"
   },
   {
    "duration": 70,
    "start_time": "2024-07-25T01:05:56.733Z"
   },
   {
    "duration": 492,
    "start_time": "2024-07-25T01:06:25.551Z"
   },
   {
    "duration": 1813,
    "start_time": "2024-07-25T01:06:26.048Z"
   },
   {
    "duration": 11,
    "start_time": "2024-07-25T01:06:27.867Z"
   },
   {
    "duration": 8,
    "start_time": "2024-07-25T01:06:27.883Z"
   },
   {
    "duration": 23,
    "start_time": "2024-07-25T01:06:27.894Z"
   },
   {
    "duration": 11,
    "start_time": "2024-07-25T01:06:27.923Z"
   },
   {
    "duration": 14,
    "start_time": "2024-07-25T01:06:27.937Z"
   },
   {
    "duration": 435,
    "start_time": "2024-07-25T01:06:27.954Z"
   },
   {
    "duration": 24,
    "start_time": "2024-07-25T01:06:28.393Z"
   },
   {
    "duration": 257,
    "start_time": "2024-07-25T01:06:28.428Z"
   },
   {
    "duration": 415,
    "start_time": "2024-07-25T01:06:28.688Z"
   },
   {
    "duration": 122,
    "start_time": "2024-07-25T01:06:29.108Z"
   },
   {
    "duration": 60,
    "start_time": "2024-07-25T01:06:29.233Z"
   },
   {
    "duration": 8,
    "start_time": "2024-07-25T01:06:29.296Z"
   },
   {
    "duration": 106,
    "start_time": "2024-07-25T01:06:29.326Z"
   },
   {
    "duration": 38,
    "start_time": "2024-07-25T01:06:29.442Z"
   },
   {
    "duration": 8,
    "start_time": "2024-07-25T01:06:29.483Z"
   },
   {
    "duration": 6,
    "start_time": "2024-07-25T01:06:29.494Z"
   },
   {
    "duration": 23,
    "start_time": "2024-07-25T01:06:29.509Z"
   },
   {
    "duration": 11,
    "start_time": "2024-07-25T01:06:29.534Z"
   },
   {
    "duration": 2814,
    "start_time": "2024-07-25T01:06:29.557Z"
   },
   {
    "duration": 76,
    "start_time": "2024-07-25T01:06:32.378Z"
   },
   {
    "duration": 56,
    "start_time": "2024-07-25T01:06:32.459Z"
   },
   {
    "duration": 25,
    "start_time": "2024-07-25T01:06:32.518Z"
   },
   {
    "duration": 17,
    "start_time": "2024-07-25T01:06:32.547Z"
   },
   {
    "duration": 12,
    "start_time": "2024-07-25T01:06:32.566Z"
   },
   {
    "duration": 72,
    "start_time": "2024-07-25T01:06:32.581Z"
   },
   {
    "duration": 29,
    "start_time": "2024-07-25T01:06:32.660Z"
   },
   {
    "duration": 32,
    "start_time": "2024-07-25T01:06:32.715Z"
   },
   {
    "duration": 108,
    "start_time": "2024-07-25T01:06:32.758Z"
   },
   {
    "duration": 73,
    "start_time": "2024-07-25T01:06:32.870Z"
   },
   {
    "duration": 13,
    "start_time": "2024-07-25T01:06:32.946Z"
   },
   {
    "duration": 603,
    "start_time": "2024-07-25T01:06:32.964Z"
   },
   {
    "duration": 1336,
    "start_time": "2024-07-25T01:06:33.570Z"
   },
   {
    "duration": 63,
    "start_time": "2024-07-25T01:08:44.247Z"
   },
   {
    "duration": 4,
    "start_time": "2024-07-25T01:09:56.603Z"
   },
   {
    "duration": 6,
    "start_time": "2024-07-25T01:10:56.330Z"
   },
   {
    "duration": 76,
    "start_time": "2024-07-25T01:11:31.622Z"
   },
   {
    "duration": 12,
    "start_time": "2024-07-25T01:12:34.404Z"
   },
   {
    "duration": 426,
    "start_time": "2024-07-25T01:12:51.368Z"
   },
   {
    "duration": 1510,
    "start_time": "2024-07-25T01:12:51.798Z"
   },
   {
    "duration": 10,
    "start_time": "2024-07-25T01:12:53.311Z"
   },
   {
    "duration": 7,
    "start_time": "2024-07-25T01:12:53.324Z"
   },
   {
    "duration": 8,
    "start_time": "2024-07-25T01:12:53.336Z"
   },
   {
    "duration": 7,
    "start_time": "2024-07-25T01:12:53.347Z"
   },
   {
    "duration": 52,
    "start_time": "2024-07-25T01:12:53.357Z"
   },
   {
    "duration": 351,
    "start_time": "2024-07-25T01:12:53.413Z"
   },
   {
    "duration": 13,
    "start_time": "2024-07-25T01:12:53.767Z"
   },
   {
    "duration": 216,
    "start_time": "2024-07-25T01:12:53.783Z"
   },
   {
    "duration": 336,
    "start_time": "2024-07-25T01:12:54.002Z"
   },
   {
    "duration": 100,
    "start_time": "2024-07-25T01:12:54.341Z"
   },
   {
    "duration": 37,
    "start_time": "2024-07-25T01:12:54.444Z"
   },
   {
    "duration": 21,
    "start_time": "2024-07-25T01:12:54.488Z"
   },
   {
    "duration": 49,
    "start_time": "2024-07-25T01:12:54.512Z"
   },
   {
    "duration": 70,
    "start_time": "2024-07-25T01:12:54.564Z"
   },
   {
    "duration": 9,
    "start_time": "2024-07-25T01:12:54.637Z"
   },
   {
    "duration": 5,
    "start_time": "2024-07-25T01:12:54.649Z"
   },
   {
    "duration": 10,
    "start_time": "2024-07-25T01:12:54.657Z"
   },
   {
    "duration": 5,
    "start_time": "2024-07-25T01:12:54.711Z"
   },
   {
    "duration": 2744,
    "start_time": "2024-07-25T01:12:54.720Z"
   },
   {
    "duration": 66,
    "start_time": "2024-07-25T01:12:57.467Z"
   },
   {
    "duration": 54,
    "start_time": "2024-07-25T01:12:57.537Z"
   },
   {
    "duration": 17,
    "start_time": "2024-07-25T01:12:57.610Z"
   },
   {
    "duration": 13,
    "start_time": "2024-07-25T01:12:57.630Z"
   },
   {
    "duration": 11,
    "start_time": "2024-07-25T01:12:57.646Z"
   },
   {
    "duration": 79,
    "start_time": "2024-07-25T01:12:57.660Z"
   },
   {
    "duration": 30,
    "start_time": "2024-07-25T01:12:57.742Z"
   },
   {
    "duration": 45,
    "start_time": "2024-07-25T01:12:57.776Z"
   },
   {
    "duration": 126,
    "start_time": "2024-07-25T01:12:57.828Z"
   },
   {
    "duration": 63,
    "start_time": "2024-07-25T01:12:57.957Z"
   },
   {
    "duration": 10,
    "start_time": "2024-07-25T01:12:58.025Z"
   },
   {
    "duration": 126,
    "start_time": "2024-07-25T01:12:58.041Z"
   },
   {
    "duration": 1211,
    "start_time": "2024-07-25T01:12:58.170Z"
   },
   {
    "duration": 32,
    "start_time": "2024-07-25T01:16:42.402Z"
   },
   {
    "duration": 6,
    "start_time": "2024-07-25T01:17:06.064Z"
   },
   {
    "duration": 6,
    "start_time": "2024-07-25T01:18:26.664Z"
   },
   {
    "duration": 444,
    "start_time": "2024-07-25T01:18:35.583Z"
   },
   {
    "duration": 1626,
    "start_time": "2024-07-25T01:18:36.034Z"
   },
   {
    "duration": 11,
    "start_time": "2024-07-25T01:18:37.662Z"
   },
   {
    "duration": 7,
    "start_time": "2024-07-25T01:18:37.678Z"
   },
   {
    "duration": 16,
    "start_time": "2024-07-25T01:18:37.721Z"
   },
   {
    "duration": 7,
    "start_time": "2024-07-25T01:18:37.740Z"
   },
   {
    "duration": 9,
    "start_time": "2024-07-25T01:18:37.750Z"
   },
   {
    "duration": 383,
    "start_time": "2024-07-25T01:18:37.762Z"
   },
   {
    "duration": 14,
    "start_time": "2024-07-25T01:18:38.147Z"
   },
   {
    "duration": 238,
    "start_time": "2024-07-25T01:18:38.168Z"
   },
   {
    "duration": 364,
    "start_time": "2024-07-25T01:18:38.413Z"
   },
   {
    "duration": 107,
    "start_time": "2024-07-25T01:18:38.780Z"
   },
   {
    "duration": 57,
    "start_time": "2024-07-25T01:18:38.890Z"
   },
   {
    "duration": 5,
    "start_time": "2024-07-25T01:18:38.951Z"
   },
   {
    "duration": 82,
    "start_time": "2024-07-25T01:18:38.961Z"
   },
   {
    "duration": 32,
    "start_time": "2024-07-25T01:18:39.046Z"
   },
   {
    "duration": 8,
    "start_time": "2024-07-25T01:18:39.081Z"
   },
   {
    "duration": 26,
    "start_time": "2024-07-25T01:18:39.093Z"
   },
   {
    "duration": 18,
    "start_time": "2024-07-25T01:18:39.122Z"
   },
   {
    "duration": 6,
    "start_time": "2024-07-25T01:18:39.143Z"
   },
   {
    "duration": 2827,
    "start_time": "2024-07-25T01:18:39.153Z"
   },
   {
    "duration": 76,
    "start_time": "2024-07-25T01:18:41.983Z"
   },
   {
    "duration": 65,
    "start_time": "2024-07-25T01:18:42.062Z"
   },
   {
    "duration": 14,
    "start_time": "2024-07-25T01:18:42.138Z"
   },
   {
    "duration": 14,
    "start_time": "2024-07-25T01:18:42.155Z"
   },
   {
    "duration": 11,
    "start_time": "2024-07-25T01:18:42.173Z"
   },
   {
    "duration": 70,
    "start_time": "2024-07-25T01:18:42.187Z"
   },
   {
    "duration": 28,
    "start_time": "2024-07-25T01:18:42.264Z"
   },
   {
    "duration": 19,
    "start_time": "2024-07-25T01:18:42.308Z"
   },
   {
    "duration": 120,
    "start_time": "2024-07-25T01:18:42.332Z"
   },
   {
    "duration": 71,
    "start_time": "2024-07-25T01:18:42.456Z"
   },
   {
    "duration": 10,
    "start_time": "2024-07-25T01:18:42.530Z"
   },
   {
    "duration": 7,
    "start_time": "2024-07-25T01:18:42.543Z"
   },
   {
    "duration": 0,
    "start_time": "2024-07-25T01:18:42.554Z"
   },
   {
    "duration": 1235,
    "start_time": "2024-07-25T01:18:51.328Z"
   },
   {
    "duration": 6,
    "start_time": "2024-07-25T01:19:15.838Z"
   },
   {
    "duration": 6,
    "start_time": "2024-07-25T01:19:21.964Z"
   },
   {
    "duration": 164,
    "start_time": "2024-07-25T01:19:27.378Z"
   },
   {
    "duration": 207,
    "start_time": "2024-07-25T01:20:46.407Z"
   },
   {
    "duration": 211,
    "start_time": "2024-07-25T01:23:03.166Z"
   },
   {
    "duration": 76,
    "start_time": "2024-07-25T01:26:25.700Z"
   },
   {
    "duration": 432,
    "start_time": "2024-07-25T16:06:34.289Z"
   },
   {
    "duration": 1680,
    "start_time": "2024-07-25T16:06:34.730Z"
   },
   {
    "duration": 22,
    "start_time": "2024-07-25T16:06:36.413Z"
   },
   {
    "duration": 7,
    "start_time": "2024-07-25T16:06:36.439Z"
   },
   {
    "duration": 8,
    "start_time": "2024-07-25T16:06:36.449Z"
   },
   {
    "duration": 6,
    "start_time": "2024-07-25T16:06:36.461Z"
   },
   {
    "duration": 9,
    "start_time": "2024-07-25T16:06:36.470Z"
   },
   {
    "duration": 372,
    "start_time": "2024-07-25T16:06:36.482Z"
   },
   {
    "duration": 13,
    "start_time": "2024-07-25T16:06:36.857Z"
   },
   {
    "duration": 213,
    "start_time": "2024-07-25T16:06:36.876Z"
   },
   {
    "duration": 322,
    "start_time": "2024-07-25T16:06:37.092Z"
   },
   {
    "duration": 90,
    "start_time": "2024-07-25T16:06:37.417Z"
   },
   {
    "duration": 50,
    "start_time": "2024-07-25T16:06:37.511Z"
   },
   {
    "duration": 4,
    "start_time": "2024-07-25T16:06:37.564Z"
   },
   {
    "duration": 66,
    "start_time": "2024-07-25T16:06:37.572Z"
   },
   {
    "duration": 34,
    "start_time": "2024-07-25T16:06:37.641Z"
   },
   {
    "duration": 7,
    "start_time": "2024-07-25T16:06:37.678Z"
   },
   {
    "duration": 6,
    "start_time": "2024-07-25T16:06:37.688Z"
   },
   {
    "duration": 9,
    "start_time": "2024-07-25T16:06:37.732Z"
   },
   {
    "duration": 4,
    "start_time": "2024-07-25T16:06:37.747Z"
   },
   {
    "duration": 2671,
    "start_time": "2024-07-25T16:06:37.754Z"
   },
   {
    "duration": 49,
    "start_time": "2024-07-25T16:06:40.427Z"
   },
   {
    "duration": 74,
    "start_time": "2024-07-25T16:06:40.478Z"
   },
   {
    "duration": 13,
    "start_time": "2024-07-25T16:06:40.555Z"
   },
   {
    "duration": 13,
    "start_time": "2024-07-25T16:06:40.571Z"
   },
   {
    "duration": 11,
    "start_time": "2024-07-25T16:06:40.587Z"
   },
   {
    "duration": 37,
    "start_time": "2024-07-25T16:06:40.632Z"
   },
   {
    "duration": 55,
    "start_time": "2024-07-25T16:06:40.676Z"
   },
   {
    "duration": 16,
    "start_time": "2024-07-25T16:06:40.734Z"
   },
   {
    "duration": 123,
    "start_time": "2024-07-25T16:06:40.753Z"
   },
   {
    "duration": 65,
    "start_time": "2024-07-25T16:06:40.879Z"
   },
   {
    "duration": 9,
    "start_time": "2024-07-25T16:06:40.947Z"
   },
   {
    "duration": 226,
    "start_time": "2024-07-25T16:06:40.959Z"
   },
   {
    "duration": 1191,
    "start_time": "2024-07-25T16:06:41.188Z"
   },
   {
    "duration": 1111,
    "start_time": "2024-07-25T16:33:38.975Z"
   },
   {
    "duration": 6,
    "start_time": "2024-07-25T16:34:10.472Z"
   },
   {
    "duration": 7,
    "start_time": "2024-07-25T16:34:35.813Z"
   },
   {
    "duration": 3933,
    "start_time": "2024-07-25T16:42:03.052Z"
   },
   {
    "duration": 450,
    "start_time": "2024-07-25T16:42:33.667Z"
   },
   {
    "duration": 1507,
    "start_time": "2024-07-25T16:42:34.120Z"
   },
   {
    "duration": 19,
    "start_time": "2024-07-25T16:42:35.635Z"
   },
   {
    "duration": 7,
    "start_time": "2024-07-25T16:42:35.659Z"
   },
   {
    "duration": 9,
    "start_time": "2024-07-25T16:42:35.669Z"
   },
   {
    "duration": 8,
    "start_time": "2024-07-25T16:42:35.682Z"
   },
   {
    "duration": 38,
    "start_time": "2024-07-25T16:42:35.692Z"
   },
   {
    "duration": 359,
    "start_time": "2024-07-25T16:42:35.734Z"
   },
   {
    "duration": 13,
    "start_time": "2024-07-25T16:42:36.097Z"
   },
   {
    "duration": 186,
    "start_time": "2024-07-25T16:42:36.131Z"
   },
   {
    "duration": 322,
    "start_time": "2024-07-25T16:42:36.320Z"
   },
   {
    "duration": 95,
    "start_time": "2024-07-25T16:42:36.645Z"
   },
   {
    "duration": 36,
    "start_time": "2024-07-25T16:42:36.743Z"
   },
   {
    "duration": 5,
    "start_time": "2024-07-25T16:42:36.782Z"
   },
   {
    "duration": 79,
    "start_time": "2024-07-25T16:42:36.790Z"
   },
   {
    "duration": 33,
    "start_time": "2024-07-25T16:42:36.872Z"
   },
   {
    "duration": 28,
    "start_time": "2024-07-25T16:42:36.908Z"
   },
   {
    "duration": 6,
    "start_time": "2024-07-25T16:42:36.939Z"
   },
   {
    "duration": 8,
    "start_time": "2024-07-25T16:42:36.949Z"
   },
   {
    "duration": 5,
    "start_time": "2024-07-25T16:42:36.961Z"
   },
   {
    "duration": 2685,
    "start_time": "2024-07-25T16:42:36.970Z"
   },
   {
    "duration": 48,
    "start_time": "2024-07-25T16:42:39.658Z"
   },
   {
    "duration": 62,
    "start_time": "2024-07-25T16:42:39.708Z"
   },
   {
    "duration": 15,
    "start_time": "2024-07-25T16:42:39.773Z"
   },
   {
    "duration": 43,
    "start_time": "2024-07-25T16:42:39.791Z"
   },
   {
    "duration": 12,
    "start_time": "2024-07-25T16:42:39.836Z"
   },
   {
    "duration": 37,
    "start_time": "2024-07-25T16:42:39.851Z"
   },
   {
    "duration": 60,
    "start_time": "2024-07-25T16:42:39.895Z"
   },
   {
    "duration": 15,
    "start_time": "2024-07-25T16:42:39.958Z"
   },
   {
    "duration": 141,
    "start_time": "2024-07-25T16:42:39.978Z"
   },
   {
    "duration": 63,
    "start_time": "2024-07-25T16:42:40.122Z"
   },
   {
    "duration": 10,
    "start_time": "2024-07-25T16:42:40.188Z"
   },
   {
    "duration": 247,
    "start_time": "2024-07-25T16:42:40.201Z"
   },
   {
    "duration": 1162,
    "start_time": "2024-07-25T16:42:40.451Z"
   },
   {
    "duration": 17,
    "start_time": "2024-07-25T16:42:41.616Z"
   },
   {
    "duration": 7,
    "start_time": "2024-07-25T16:42:41.637Z"
   },
   {
    "duration": 1526,
    "start_time": "2024-07-25T16:42:41.647Z"
   },
   {
    "duration": 121,
    "start_time": "2024-07-25T16:46:09.539Z"
   },
   {
    "duration": 121,
    "start_time": "2024-07-25T16:46:32.262Z"
   },
   {
    "duration": 120,
    "start_time": "2024-07-25T16:46:38.314Z"
   },
   {
    "duration": 122,
    "start_time": "2024-07-25T16:47:05.869Z"
   },
   {
    "duration": 116,
    "start_time": "2024-07-25T16:47:07.868Z"
   },
   {
    "duration": 471,
    "start_time": "2024-07-25T16:47:17.038Z"
   },
   {
    "duration": 1600,
    "start_time": "2024-07-25T16:47:17.513Z"
   },
   {
    "duration": 15,
    "start_time": "2024-07-25T16:47:19.116Z"
   },
   {
    "duration": 6,
    "start_time": "2024-07-25T16:47:19.134Z"
   },
   {
    "duration": 8,
    "start_time": "2024-07-25T16:47:19.145Z"
   },
   {
    "duration": 7,
    "start_time": "2024-07-25T16:47:19.156Z"
   },
   {
    "duration": 7,
    "start_time": "2024-07-25T16:47:19.166Z"
   },
   {
    "duration": 390,
    "start_time": "2024-07-25T16:47:19.176Z"
   },
   {
    "duration": 19,
    "start_time": "2024-07-25T16:47:19.570Z"
   },
   {
    "duration": 205,
    "start_time": "2024-07-25T16:47:19.592Z"
   },
   {
    "duration": 333,
    "start_time": "2024-07-25T16:47:19.802Z"
   },
   {
    "duration": 95,
    "start_time": "2024-07-25T16:47:20.138Z"
   },
   {
    "duration": 39,
    "start_time": "2024-07-25T16:47:20.235Z"
   },
   {
    "duration": 5,
    "start_time": "2024-07-25T16:47:20.282Z"
   },
   {
    "duration": 75,
    "start_time": "2024-07-25T16:47:20.290Z"
   },
   {
    "duration": 34,
    "start_time": "2024-07-25T16:47:20.368Z"
   },
   {
    "duration": 26,
    "start_time": "2024-07-25T16:47:20.405Z"
   },
   {
    "duration": 6,
    "start_time": "2024-07-25T16:47:20.434Z"
   },
   {
    "duration": 10,
    "start_time": "2024-07-25T16:47:20.443Z"
   },
   {
    "duration": 5,
    "start_time": "2024-07-25T16:47:20.456Z"
   },
   {
    "duration": 2694,
    "start_time": "2024-07-25T16:47:20.464Z"
   },
   {
    "duration": 49,
    "start_time": "2024-07-25T16:47:23.161Z"
   },
   {
    "duration": 62,
    "start_time": "2024-07-25T16:47:23.212Z"
   },
   {
    "duration": 13,
    "start_time": "2024-07-25T16:47:23.277Z"
   },
   {
    "duration": 43,
    "start_time": "2024-07-25T16:47:23.292Z"
   },
   {
    "duration": 11,
    "start_time": "2024-07-25T16:47:23.338Z"
   },
   {
    "duration": 36,
    "start_time": "2024-07-25T16:47:23.353Z"
   },
   {
    "duration": 61,
    "start_time": "2024-07-25T16:47:23.392Z"
   },
   {
    "duration": 14,
    "start_time": "2024-07-25T16:47:23.456Z"
   },
   {
    "duration": 133,
    "start_time": "2024-07-25T16:47:23.473Z"
   },
   {
    "duration": 56,
    "start_time": "2024-07-25T16:47:23.610Z"
   },
   {
    "duration": 9,
    "start_time": "2024-07-25T16:47:23.669Z"
   },
   {
    "duration": 230,
    "start_time": "2024-07-25T16:47:23.682Z"
   },
   {
    "duration": 1207,
    "start_time": "2024-07-25T16:47:23.915Z"
   },
   {
    "duration": 5,
    "start_time": "2024-07-25T16:47:25.130Z"
   },
   {
    "duration": 6,
    "start_time": "2024-07-25T16:47:25.138Z"
   },
   {
    "duration": 1458,
    "start_time": "2024-07-25T16:47:25.147Z"
   },
   {
    "duration": 443,
    "start_time": "2024-07-25T16:49:37.564Z"
   },
   {
    "duration": 1682,
    "start_time": "2024-07-25T16:49:38.011Z"
   },
   {
    "duration": 10,
    "start_time": "2024-07-25T16:49:39.696Z"
   },
   {
    "duration": 22,
    "start_time": "2024-07-25T16:49:39.709Z"
   },
   {
    "duration": 8,
    "start_time": "2024-07-25T16:49:39.735Z"
   },
   {
    "duration": 7,
    "start_time": "2024-07-25T16:49:39.746Z"
   },
   {
    "duration": 8,
    "start_time": "2024-07-25T16:49:39.756Z"
   },
   {
    "duration": 386,
    "start_time": "2024-07-25T16:49:39.766Z"
   },
   {
    "duration": 14,
    "start_time": "2024-07-25T16:49:40.158Z"
   },
   {
    "duration": 202,
    "start_time": "2024-07-25T16:49:40.175Z"
   },
   {
    "duration": 331,
    "start_time": "2024-07-25T16:49:40.380Z"
   },
   {
    "duration": 101,
    "start_time": "2024-07-25T16:49:40.714Z"
   },
   {
    "duration": 47,
    "start_time": "2024-07-25T16:49:40.817Z"
   },
   {
    "duration": 5,
    "start_time": "2024-07-25T16:49:40.871Z"
   },
   {
    "duration": 74,
    "start_time": "2024-07-25T16:49:40.878Z"
   },
   {
    "duration": 34,
    "start_time": "2024-07-25T16:49:40.955Z"
   },
   {
    "duration": 8,
    "start_time": "2024-07-25T16:49:40.992Z"
   },
   {
    "duration": 5,
    "start_time": "2024-07-25T16:49:41.030Z"
   },
   {
    "duration": 10,
    "start_time": "2024-07-25T16:49:41.038Z"
   },
   {
    "duration": 5,
    "start_time": "2024-07-25T16:49:41.051Z"
   },
   {
    "duration": 2698,
    "start_time": "2024-07-25T16:49:41.059Z"
   },
   {
    "duration": 49,
    "start_time": "2024-07-25T16:49:43.760Z"
   },
   {
    "duration": 62,
    "start_time": "2024-07-25T16:49:43.811Z"
   },
   {
    "duration": 13,
    "start_time": "2024-07-25T16:49:43.876Z"
   },
   {
    "duration": 43,
    "start_time": "2024-07-25T16:49:43.893Z"
   },
   {
    "duration": 10,
    "start_time": "2024-07-25T16:49:43.940Z"
   },
   {
    "duration": 37,
    "start_time": "2024-07-25T16:49:43.953Z"
   },
   {
    "duration": 61,
    "start_time": "2024-07-25T16:49:43.993Z"
   },
   {
    "duration": 15,
    "start_time": "2024-07-25T16:49:44.057Z"
   },
   {
    "duration": 131,
    "start_time": "2024-07-25T16:49:44.074Z"
   },
   {
    "duration": 63,
    "start_time": "2024-07-25T16:49:44.208Z"
   },
   {
    "duration": 9,
    "start_time": "2024-07-25T16:49:44.274Z"
   },
   {
    "duration": 236,
    "start_time": "2024-07-25T16:49:44.285Z"
   },
   {
    "duration": 1183,
    "start_time": "2024-07-25T16:49:44.525Z"
   },
   {
    "duration": 5,
    "start_time": "2024-07-25T16:49:45.711Z"
   },
   {
    "duration": 6,
    "start_time": "2024-07-25T16:49:45.731Z"
   },
   {
    "duration": 417,
    "start_time": "2024-07-25T16:53:47.997Z"
   },
   {
    "duration": 1663,
    "start_time": "2024-07-25T16:53:48.418Z"
   },
   {
    "duration": 10,
    "start_time": "2024-07-25T16:53:50.084Z"
   },
   {
    "duration": 7,
    "start_time": "2024-07-25T16:53:50.098Z"
   },
   {
    "duration": 29,
    "start_time": "2024-07-25T16:53:50.107Z"
   },
   {
    "duration": 7,
    "start_time": "2024-07-25T16:53:50.139Z"
   },
   {
    "duration": 8,
    "start_time": "2024-07-25T16:53:50.149Z"
   },
   {
    "duration": 379,
    "start_time": "2024-07-25T16:53:50.162Z"
   },
   {
    "duration": 14,
    "start_time": "2024-07-25T16:53:50.544Z"
   },
   {
    "duration": 218,
    "start_time": "2024-07-25T16:53:50.563Z"
   },
   {
    "duration": 350,
    "start_time": "2024-07-25T16:53:50.784Z"
   },
   {
    "duration": 98,
    "start_time": "2024-07-25T16:53:51.136Z"
   },
   {
    "duration": 37,
    "start_time": "2024-07-25T16:53:51.237Z"
   },
   {
    "duration": 6,
    "start_time": "2024-07-25T16:53:51.277Z"
   },
   {
    "duration": 75,
    "start_time": "2024-07-25T16:53:51.286Z"
   },
   {
    "duration": 33,
    "start_time": "2024-07-25T16:53:51.364Z"
   },
   {
    "duration": 37,
    "start_time": "2024-07-25T16:53:51.400Z"
   },
   {
    "duration": 7,
    "start_time": "2024-07-25T16:53:51.439Z"
   },
   {
    "duration": 9,
    "start_time": "2024-07-25T16:53:51.449Z"
   },
   {
    "duration": 5,
    "start_time": "2024-07-25T16:53:51.462Z"
   },
   {
    "duration": 2887,
    "start_time": "2024-07-25T16:53:51.470Z"
   },
   {
    "duration": 48,
    "start_time": "2024-07-25T16:53:54.360Z"
   },
   {
    "duration": 64,
    "start_time": "2024-07-25T16:53:54.411Z"
   },
   {
    "duration": 14,
    "start_time": "2024-07-25T16:53:54.478Z"
   },
   {
    "duration": 41,
    "start_time": "2024-07-25T16:53:54.495Z"
   },
   {
    "duration": 11,
    "start_time": "2024-07-25T16:53:54.539Z"
   },
   {
    "duration": 39,
    "start_time": "2024-07-25T16:53:54.553Z"
   },
   {
    "duration": 29,
    "start_time": "2024-07-25T16:53:54.632Z"
   },
   {
    "duration": 14,
    "start_time": "2024-07-25T16:53:54.664Z"
   },
   {
    "duration": 133,
    "start_time": "2024-07-25T16:53:54.681Z"
   },
   {
    "duration": 56,
    "start_time": "2024-07-25T16:53:54.817Z"
   },
   {
    "duration": 10,
    "start_time": "2024-07-25T16:53:54.876Z"
   },
   {
    "duration": 245,
    "start_time": "2024-07-25T16:53:54.888Z"
   },
   {
    "duration": 1216,
    "start_time": "2024-07-25T16:53:55.136Z"
   },
   {
    "duration": 6,
    "start_time": "2024-07-25T16:53:56.355Z"
   },
   {
    "duration": 7,
    "start_time": "2024-07-25T16:53:56.365Z"
   },
   {
    "duration": 477,
    "start_time": "2024-07-25T16:59:09.754Z"
   },
   {
    "duration": 1714,
    "start_time": "2024-07-25T16:59:10.234Z"
   },
   {
    "duration": 9,
    "start_time": "2024-07-25T16:59:11.951Z"
   },
   {
    "duration": 7,
    "start_time": "2024-07-25T16:59:11.963Z"
   },
   {
    "duration": 7,
    "start_time": "2024-07-25T16:59:11.976Z"
   },
   {
    "duration": 6,
    "start_time": "2024-07-25T16:59:11.986Z"
   },
   {
    "duration": 9,
    "start_time": "2024-07-25T16:59:12.033Z"
   },
   {
    "duration": 373,
    "start_time": "2024-07-25T16:59:12.045Z"
   },
   {
    "duration": 22,
    "start_time": "2024-07-25T16:59:12.421Z"
   },
   {
    "duration": 213,
    "start_time": "2024-07-25T16:59:12.446Z"
   },
   {
    "duration": 334,
    "start_time": "2024-07-25T16:59:12.662Z"
   },
   {
    "duration": 101,
    "start_time": "2024-07-25T16:59:13.000Z"
   },
   {
    "duration": 45,
    "start_time": "2024-07-25T16:59:13.103Z"
   },
   {
    "duration": 5,
    "start_time": "2024-07-25T16:59:13.157Z"
   },
   {
    "duration": 70,
    "start_time": "2024-07-25T16:59:13.165Z"
   },
   {
    "duration": 35,
    "start_time": "2024-07-25T16:59:13.238Z"
   },
   {
    "duration": 8,
    "start_time": "2024-07-25T16:59:13.276Z"
   },
   {
    "duration": 5,
    "start_time": "2024-07-25T16:59:13.287Z"
   },
   {
    "duration": 9,
    "start_time": "2024-07-25T16:59:13.330Z"
   },
   {
    "duration": 4,
    "start_time": "2024-07-25T16:59:13.343Z"
   },
   {
    "duration": 2639,
    "start_time": "2024-07-25T16:59:13.351Z"
   },
   {
    "duration": 59,
    "start_time": "2024-07-25T16:59:15.993Z"
   },
   {
    "duration": 48,
    "start_time": "2024-07-25T16:59:16.055Z"
   },
   {
    "duration": 33,
    "start_time": "2024-07-25T16:59:16.105Z"
   },
   {
    "duration": 14,
    "start_time": "2024-07-25T16:59:16.140Z"
   },
   {
    "duration": 11,
    "start_time": "2024-07-25T16:59:16.157Z"
   },
   {
    "duration": 79,
    "start_time": "2024-07-25T16:59:16.170Z"
   },
   {
    "duration": 27,
    "start_time": "2024-07-25T16:59:16.252Z"
   },
   {
    "duration": 14,
    "start_time": "2024-07-25T16:59:16.282Z"
   },
   {
    "duration": 140,
    "start_time": "2024-07-25T16:59:16.299Z"
   },
   {
    "duration": 48,
    "start_time": "2024-07-25T16:59:16.442Z"
   },
   {
    "duration": 37,
    "start_time": "2024-07-25T16:59:16.493Z"
   },
   {
    "duration": 223,
    "start_time": "2024-07-25T16:59:16.533Z"
   },
   {
    "duration": 1180,
    "start_time": "2024-07-25T16:59:16.759Z"
   },
   {
    "duration": 6,
    "start_time": "2024-07-25T16:59:17.942Z"
   },
   {
    "duration": 6,
    "start_time": "2024-07-25T16:59:17.952Z"
   },
   {
    "duration": 453,
    "start_time": "2024-07-25T17:00:27.153Z"
   },
   {
    "duration": 1507,
    "start_time": "2024-07-25T17:00:27.610Z"
   },
   {
    "duration": 17,
    "start_time": "2024-07-25T17:00:29.120Z"
   },
   {
    "duration": 9,
    "start_time": "2024-07-25T17:00:29.140Z"
   },
   {
    "duration": 8,
    "start_time": "2024-07-25T17:00:29.155Z"
   },
   {
    "duration": 7,
    "start_time": "2024-07-25T17:00:29.166Z"
   },
   {
    "duration": 54,
    "start_time": "2024-07-25T17:00:29.178Z"
   },
   {
    "duration": 351,
    "start_time": "2024-07-25T17:00:29.235Z"
   },
   {
    "duration": 14,
    "start_time": "2024-07-25T17:00:29.590Z"
   },
   {
    "duration": 207,
    "start_time": "2024-07-25T17:00:29.607Z"
   },
   {
    "duration": 330,
    "start_time": "2024-07-25T17:00:29.816Z"
   },
   {
    "duration": 100,
    "start_time": "2024-07-25T17:00:30.149Z"
   },
   {
    "duration": 37,
    "start_time": "2024-07-25T17:00:30.252Z"
   },
   {
    "duration": 5,
    "start_time": "2024-07-25T17:00:30.296Z"
   },
   {
    "duration": 48,
    "start_time": "2024-07-25T17:00:30.332Z"
   },
   {
    "duration": 47,
    "start_time": "2024-07-25T17:00:30.384Z"
   },
   {
    "duration": 8,
    "start_time": "2024-07-25T17:00:30.434Z"
   },
   {
    "duration": 6,
    "start_time": "2024-07-25T17:00:30.445Z"
   },
   {
    "duration": 9,
    "start_time": "2024-07-25T17:00:30.455Z"
   },
   {
    "duration": 6,
    "start_time": "2024-07-25T17:00:30.468Z"
   },
   {
    "duration": 2758,
    "start_time": "2024-07-25T17:00:30.476Z"
   },
   {
    "duration": 48,
    "start_time": "2024-07-25T17:00:33.236Z"
   },
   {
    "duration": 71,
    "start_time": "2024-07-25T17:00:33.287Z"
   },
   {
    "duration": 13,
    "start_time": "2024-07-25T17:00:33.361Z"
   },
   {
    "duration": 15,
    "start_time": "2024-07-25T17:00:33.376Z"
   },
   {
    "duration": 39,
    "start_time": "2024-07-25T17:00:33.395Z"
   },
   {
    "duration": 43,
    "start_time": "2024-07-25T17:00:33.438Z"
   },
   {
    "duration": 60,
    "start_time": "2024-07-25T17:00:33.484Z"
   },
   {
    "duration": 14,
    "start_time": "2024-07-25T17:00:33.547Z"
   },
   {
    "duration": 129,
    "start_time": "2024-07-25T17:00:33.564Z"
   },
   {
    "duration": 62,
    "start_time": "2024-07-25T17:00:33.696Z"
   },
   {
    "duration": 10,
    "start_time": "2024-07-25T17:00:33.761Z"
   },
   {
    "duration": 235,
    "start_time": "2024-07-25T17:00:33.773Z"
   },
   {
    "duration": 1188,
    "start_time": "2024-07-25T17:00:34.011Z"
   },
   {
    "duration": 8,
    "start_time": "2024-07-25T17:00:35.201Z"
   },
   {
    "duration": 22,
    "start_time": "2024-07-25T17:00:35.211Z"
   },
   {
    "duration": 318,
    "start_time": "2024-07-25T17:08:12.508Z"
   },
   {
    "duration": 473,
    "start_time": "2024-07-25T17:08:21.029Z"
   },
   {
    "duration": 1681,
    "start_time": "2024-07-25T17:08:21.507Z"
   },
   {
    "duration": 10,
    "start_time": "2024-07-25T17:08:23.191Z"
   },
   {
    "duration": 28,
    "start_time": "2024-07-25T17:08:23.204Z"
   },
   {
    "duration": 6,
    "start_time": "2024-07-25T17:08:23.238Z"
   },
   {
    "duration": 7,
    "start_time": "2024-07-25T17:08:23.248Z"
   },
   {
    "duration": 9,
    "start_time": "2024-07-25T17:08:23.258Z"
   },
   {
    "duration": 389,
    "start_time": "2024-07-25T17:08:23.269Z"
   },
   {
    "duration": 14,
    "start_time": "2024-07-25T17:08:23.661Z"
   },
   {
    "duration": 204,
    "start_time": "2024-07-25T17:08:23.677Z"
   },
   {
    "duration": 326,
    "start_time": "2024-07-25T17:08:23.884Z"
   },
   {
    "duration": 92,
    "start_time": "2024-07-25T17:08:24.213Z"
   },
   {
    "duration": 46,
    "start_time": "2024-07-25T17:08:24.307Z"
   },
   {
    "duration": 5,
    "start_time": "2024-07-25T17:08:24.360Z"
   },
   {
    "duration": 79,
    "start_time": "2024-07-25T17:08:24.368Z"
   },
   {
    "duration": 34,
    "start_time": "2024-07-25T17:08:24.449Z"
   },
   {
    "duration": 8,
    "start_time": "2024-07-25T17:08:24.486Z"
   },
   {
    "duration": 34,
    "start_time": "2024-07-25T17:08:24.497Z"
   },
   {
    "duration": 10,
    "start_time": "2024-07-25T17:08:24.534Z"
   },
   {
    "duration": 7,
    "start_time": "2024-07-25T17:08:24.548Z"
   },
   {
    "duration": 2719,
    "start_time": "2024-07-25T17:08:24.558Z"
   },
   {
    "duration": 60,
    "start_time": "2024-07-25T17:08:27.280Z"
   },
   {
    "duration": 46,
    "start_time": "2024-07-25T17:08:27.342Z"
   },
   {
    "duration": 14,
    "start_time": "2024-07-25T17:08:27.390Z"
   },
   {
    "duration": 14,
    "start_time": "2024-07-25T17:08:27.431Z"
   },
   {
    "duration": 11,
    "start_time": "2024-07-25T17:08:27.448Z"
   },
   {
    "duration": 68,
    "start_time": "2024-07-25T17:08:27.462Z"
   },
   {
    "duration": 30,
    "start_time": "2024-07-25T17:08:27.533Z"
   },
   {
    "duration": 15,
    "start_time": "2024-07-25T17:08:27.566Z"
   },
   {
    "duration": 130,
    "start_time": "2024-07-25T17:08:27.584Z"
   },
   {
    "duration": 56,
    "start_time": "2024-07-25T17:08:27.718Z"
   },
   {
    "duration": 9,
    "start_time": "2024-07-25T17:08:27.777Z"
   },
   {
    "duration": 243,
    "start_time": "2024-07-25T17:08:27.789Z"
   },
   {
    "duration": 1181,
    "start_time": "2024-07-25T17:08:28.035Z"
   },
   {
    "duration": 11,
    "start_time": "2024-07-25T17:08:29.221Z"
   },
   {
    "duration": 7,
    "start_time": "2024-07-25T17:08:29.236Z"
   },
   {
    "duration": 314,
    "start_time": "2024-07-25T17:15:18.963Z"
   },
   {
    "duration": 466,
    "start_time": "2024-07-25T17:15:29.038Z"
   },
   {
    "duration": 1651,
    "start_time": "2024-07-25T17:15:29.507Z"
   },
   {
    "duration": 9,
    "start_time": "2024-07-25T17:15:31.163Z"
   },
   {
    "duration": 7,
    "start_time": "2024-07-25T17:15:31.176Z"
   },
   {
    "duration": 43,
    "start_time": "2024-07-25T17:15:31.188Z"
   },
   {
    "duration": 9,
    "start_time": "2024-07-25T17:15:31.235Z"
   },
   {
    "duration": 9,
    "start_time": "2024-07-25T17:15:31.247Z"
   },
   {
    "duration": 374,
    "start_time": "2024-07-25T17:15:31.259Z"
   },
   {
    "duration": 14,
    "start_time": "2024-07-25T17:15:31.636Z"
   },
   {
    "duration": 219,
    "start_time": "2024-07-25T17:15:31.653Z"
   },
   {
    "duration": 346,
    "start_time": "2024-07-25T17:15:31.875Z"
   },
   {
    "duration": 108,
    "start_time": "2024-07-25T17:15:32.223Z"
   },
   {
    "duration": 56,
    "start_time": "2024-07-25T17:15:32.338Z"
   },
   {
    "duration": 4,
    "start_time": "2024-07-25T17:15:32.406Z"
   },
   {
    "duration": 51,
    "start_time": "2024-07-25T17:15:32.430Z"
   },
   {
    "duration": 49,
    "start_time": "2024-07-25T17:15:32.484Z"
   },
   {
    "duration": 9,
    "start_time": "2024-07-25T17:15:32.537Z"
   },
   {
    "duration": 8,
    "start_time": "2024-07-25T17:15:32.548Z"
   },
   {
    "duration": 9,
    "start_time": "2024-07-25T17:15:32.561Z"
   },
   {
    "duration": 6,
    "start_time": "2024-07-25T17:15:32.572Z"
   },
   {
    "duration": 2669,
    "start_time": "2024-07-25T17:15:32.581Z"
   },
   {
    "duration": 48,
    "start_time": "2024-07-25T17:15:35.253Z"
   },
   {
    "duration": 64,
    "start_time": "2024-07-25T17:15:35.304Z"
   },
   {
    "duration": 14,
    "start_time": "2024-07-25T17:15:35.372Z"
   },
   {
    "duration": 43,
    "start_time": "2024-07-25T17:15:35.388Z"
   },
   {
    "duration": 11,
    "start_time": "2024-07-25T17:15:35.435Z"
   },
   {
    "duration": 35,
    "start_time": "2024-07-25T17:15:35.449Z"
   },
   {
    "duration": 63,
    "start_time": "2024-07-25T17:15:35.488Z"
   },
   {
    "duration": 14,
    "start_time": "2024-07-25T17:15:35.554Z"
   },
   {
    "duration": 138,
    "start_time": "2024-07-25T17:15:35.571Z"
   },
   {
    "duration": 57,
    "start_time": "2024-07-25T17:15:35.712Z"
   },
   {
    "duration": 9,
    "start_time": "2024-07-25T17:15:35.772Z"
   },
   {
    "duration": 237,
    "start_time": "2024-07-25T17:15:35.784Z"
   },
   {
    "duration": 1175,
    "start_time": "2024-07-25T17:15:36.024Z"
   },
   {
    "duration": 5,
    "start_time": "2024-07-25T17:15:37.203Z"
   },
   {
    "duration": 7,
    "start_time": "2024-07-25T17:15:37.229Z"
   },
   {
    "duration": 419,
    "start_time": "2024-07-25T17:17:18.689Z"
   },
   {
    "duration": 1699,
    "start_time": "2024-07-25T17:17:19.111Z"
   },
   {
    "duration": 19,
    "start_time": "2024-07-25T17:17:20.813Z"
   },
   {
    "duration": 7,
    "start_time": "2024-07-25T17:17:20.835Z"
   },
   {
    "duration": 8,
    "start_time": "2024-07-25T17:17:20.845Z"
   },
   {
    "duration": 7,
    "start_time": "2024-07-25T17:17:20.856Z"
   },
   {
    "duration": 7,
    "start_time": "2024-07-25T17:17:20.866Z"
   },
   {
    "duration": 385,
    "start_time": "2024-07-25T17:17:20.876Z"
   },
   {
    "duration": 13,
    "start_time": "2024-07-25T17:17:21.264Z"
   },
   {
    "duration": 210,
    "start_time": "2024-07-25T17:17:21.283Z"
   },
   {
    "duration": 359,
    "start_time": "2024-07-25T17:17:21.496Z"
   },
   {
    "duration": 96,
    "start_time": "2024-07-25T17:17:21.858Z"
   },
   {
    "duration": 38,
    "start_time": "2024-07-25T17:17:21.958Z"
   },
   {
    "duration": 7,
    "start_time": "2024-07-25T17:17:22.000Z"
   },
   {
    "duration": 52,
    "start_time": "2024-07-25T17:17:22.032Z"
   },
   {
    "duration": 59,
    "start_time": "2024-07-25T17:17:22.087Z"
   },
   {
    "duration": 8,
    "start_time": "2024-07-25T17:17:22.149Z"
   },
   {
    "duration": 5,
    "start_time": "2024-07-25T17:17:22.168Z"
   },
   {
    "duration": 9,
    "start_time": "2024-07-25T17:17:22.178Z"
   },
   {
    "duration": 42,
    "start_time": "2024-07-25T17:17:22.190Z"
   },
   {
    "duration": 2656,
    "start_time": "2024-07-25T17:17:22.235Z"
   },
   {
    "duration": 64,
    "start_time": "2024-07-25T17:17:24.894Z"
   },
   {
    "duration": 71,
    "start_time": "2024-07-25T17:17:24.962Z"
   },
   {
    "duration": 14,
    "start_time": "2024-07-25T17:17:25.036Z"
   },
   {
    "duration": 14,
    "start_time": "2024-07-25T17:17:25.053Z"
   },
   {
    "duration": 11,
    "start_time": "2024-07-25T17:17:25.070Z"
   },
   {
    "duration": 80,
    "start_time": "2024-07-25T17:17:25.083Z"
   },
   {
    "duration": 28,
    "start_time": "2024-07-25T17:17:25.171Z"
   },
   {
    "duration": 15,
    "start_time": "2024-07-25T17:17:25.231Z"
   },
   {
    "duration": 127,
    "start_time": "2024-07-25T17:17:25.249Z"
   },
   {
    "duration": 62,
    "start_time": "2024-07-25T17:17:25.379Z"
   },
   {
    "duration": 10,
    "start_time": "2024-07-25T17:17:25.445Z"
   },
   {
    "duration": 233,
    "start_time": "2024-07-25T17:17:25.457Z"
   },
   {
    "duration": 1165,
    "start_time": "2024-07-25T17:17:25.693Z"
   },
   {
    "duration": 6,
    "start_time": "2024-07-25T17:17:26.860Z"
   },
   {
    "duration": 7,
    "start_time": "2024-07-25T17:17:26.868Z"
   },
   {
    "duration": 420,
    "start_time": "2024-07-25T17:42:09.693Z"
   },
   {
    "duration": 1683,
    "start_time": "2024-07-25T17:42:10.120Z"
   },
   {
    "duration": 10,
    "start_time": "2024-07-25T17:42:11.807Z"
   },
   {
    "duration": 7,
    "start_time": "2024-07-25T17:42:11.831Z"
   },
   {
    "duration": 6,
    "start_time": "2024-07-25T17:42:11.844Z"
   },
   {
    "duration": 7,
    "start_time": "2024-07-25T17:42:11.853Z"
   },
   {
    "duration": 7,
    "start_time": "2024-07-25T17:42:11.863Z"
   },
   {
    "duration": 425,
    "start_time": "2024-07-25T17:42:11.873Z"
   },
   {
    "duration": 14,
    "start_time": "2024-07-25T17:42:12.302Z"
   },
   {
    "duration": 204,
    "start_time": "2024-07-25T17:42:12.319Z"
   },
   {
    "duration": 333,
    "start_time": "2024-07-25T17:42:12.530Z"
   },
   {
    "duration": 98,
    "start_time": "2024-07-25T17:42:12.866Z"
   },
   {
    "duration": 37,
    "start_time": "2024-07-25T17:42:12.967Z"
   },
   {
    "duration": 7,
    "start_time": "2024-07-25T17:42:13.030Z"
   },
   {
    "duration": 51,
    "start_time": "2024-07-25T17:42:13.040Z"
   },
   {
    "duration": 53,
    "start_time": "2024-07-25T17:42:13.094Z"
   },
   {
    "duration": 13,
    "start_time": "2024-07-25T17:42:13.150Z"
   },
   {
    "duration": 6,
    "start_time": "2024-07-25T17:42:13.167Z"
   },
   {
    "duration": 10,
    "start_time": "2024-07-25T17:42:13.176Z"
   },
   {
    "duration": 41,
    "start_time": "2024-07-25T17:42:13.189Z"
   },
   {
    "duration": 2639,
    "start_time": "2024-07-25T17:42:13.233Z"
   },
   {
    "duration": 60,
    "start_time": "2024-07-25T17:42:15.875Z"
   },
   {
    "duration": 46,
    "start_time": "2024-07-25T17:42:15.938Z"
   },
   {
    "duration": 13,
    "start_time": "2024-07-25T17:42:15.989Z"
   },
   {
    "duration": 38,
    "start_time": "2024-07-25T17:42:16.004Z"
   },
   {
    "duration": 11,
    "start_time": "2024-07-25T17:42:16.046Z"
   },
   {
    "duration": 37,
    "start_time": "2024-07-25T17:42:16.060Z"
   },
   {
    "duration": 28,
    "start_time": "2024-07-25T17:42:16.132Z"
   },
   {
    "duration": 14,
    "start_time": "2024-07-25T17:42:16.163Z"
   },
   {
    "duration": 141,
    "start_time": "2024-07-25T17:42:16.180Z"
   },
   {
    "duration": 52,
    "start_time": "2024-07-25T17:42:16.323Z"
   },
   {
    "duration": 10,
    "start_time": "2024-07-25T17:42:16.378Z"
   },
   {
    "duration": 241,
    "start_time": "2024-07-25T17:42:16.391Z"
   },
   {
    "duration": 1203,
    "start_time": "2024-07-25T17:42:16.635Z"
   },
   {
    "duration": 5,
    "start_time": "2024-07-25T17:42:17.842Z"
   },
   {
    "duration": 6,
    "start_time": "2024-07-25T17:42:17.850Z"
   },
   {
    "duration": 503,
    "start_time": "2024-07-25T17:50:12.655Z"
   },
   {
    "duration": 1726,
    "start_time": "2024-07-25T17:50:13.163Z"
   },
   {
    "duration": 9,
    "start_time": "2024-07-25T17:50:14.893Z"
   },
   {
    "duration": 7,
    "start_time": "2024-07-25T17:50:14.905Z"
   },
   {
    "duration": 7,
    "start_time": "2024-07-25T17:50:14.934Z"
   },
   {
    "duration": 8,
    "start_time": "2024-07-25T17:50:14.944Z"
   },
   {
    "duration": 7,
    "start_time": "2024-07-25T17:50:14.958Z"
   },
   {
    "duration": 374,
    "start_time": "2024-07-25T17:50:14.969Z"
   },
   {
    "duration": 14,
    "start_time": "2024-07-25T17:50:15.346Z"
   },
   {
    "duration": 202,
    "start_time": "2024-07-25T17:50:15.363Z"
   },
   {
    "duration": 343,
    "start_time": "2024-07-25T17:50:15.568Z"
   },
   {
    "duration": 89,
    "start_time": "2024-07-25T17:50:15.914Z"
   },
   {
    "duration": 48,
    "start_time": "2024-07-25T17:50:16.006Z"
   },
   {
    "duration": 5,
    "start_time": "2024-07-25T17:50:16.061Z"
   },
   {
    "duration": 70,
    "start_time": "2024-07-25T17:50:16.069Z"
   },
   {
    "duration": 34,
    "start_time": "2024-07-25T17:50:16.142Z"
   },
   {
    "duration": 8,
    "start_time": "2024-07-25T17:50:16.179Z"
   },
   {
    "duration": 6,
    "start_time": "2024-07-25T17:50:16.190Z"
   },
   {
    "duration": 9,
    "start_time": "2024-07-25T17:50:16.232Z"
   },
   {
    "duration": 5,
    "start_time": "2024-07-25T17:50:16.244Z"
   },
   {
    "duration": 2758,
    "start_time": "2024-07-25T17:50:16.253Z"
   },
   {
    "duration": 58,
    "start_time": "2024-07-25T17:50:19.014Z"
   },
   {
    "duration": 64,
    "start_time": "2024-07-25T17:50:19.075Z"
   },
   {
    "duration": 14,
    "start_time": "2024-07-25T17:50:19.142Z"
   },
   {
    "duration": 13,
    "start_time": "2024-07-25T17:50:19.159Z"
   },
   {
    "duration": 11,
    "start_time": "2024-07-25T17:50:19.177Z"
   },
   {
    "duration": 37,
    "start_time": "2024-07-25T17:50:19.230Z"
   },
   {
    "duration": 27,
    "start_time": "2024-07-25T17:50:19.270Z"
   },
   {
    "duration": 39,
    "start_time": "2024-07-25T17:50:19.300Z"
   },
   {
    "duration": 119,
    "start_time": "2024-07-25T17:50:19.342Z"
   },
   {
    "duration": 50,
    "start_time": "2024-07-25T17:50:19.464Z"
   },
   {
    "duration": 9,
    "start_time": "2024-07-25T17:50:19.532Z"
   },
   {
    "duration": 228,
    "start_time": "2024-07-25T17:50:19.544Z"
   },
   {
    "duration": 1169,
    "start_time": "2024-07-25T17:50:19.774Z"
   },
   {
    "duration": 7,
    "start_time": "2024-07-25T17:50:20.947Z"
   },
   {
    "duration": 7,
    "start_time": "2024-07-25T17:50:20.957Z"
   },
   {
    "duration": 479,
    "start_time": "2024-07-25T17:52:37.230Z"
   },
   {
    "duration": 1671,
    "start_time": "2024-07-25T17:52:37.712Z"
   },
   {
    "duration": 11,
    "start_time": "2024-07-25T17:52:39.386Z"
   },
   {
    "duration": 6,
    "start_time": "2024-07-25T17:52:39.402Z"
   },
   {
    "duration": 8,
    "start_time": "2024-07-25T17:52:39.431Z"
   },
   {
    "duration": 8,
    "start_time": "2024-07-25T17:52:39.442Z"
   },
   {
    "duration": 7,
    "start_time": "2024-07-25T17:52:39.455Z"
   },
   {
    "duration": 372,
    "start_time": "2024-07-25T17:52:39.466Z"
   },
   {
    "duration": 13,
    "start_time": "2024-07-25T17:52:39.842Z"
   },
   {
    "duration": 204,
    "start_time": "2024-07-25T17:52:39.862Z"
   },
   {
    "duration": 337,
    "start_time": "2024-07-25T17:52:40.070Z"
   },
   {
    "duration": 97,
    "start_time": "2024-07-25T17:52:40.409Z"
   },
   {
    "duration": 54,
    "start_time": "2024-07-25T17:52:40.509Z"
   },
   {
    "duration": 6,
    "start_time": "2024-07-25T17:52:40.567Z"
   },
   {
    "duration": 76,
    "start_time": "2024-07-25T17:52:40.577Z"
   },
   {
    "duration": 34,
    "start_time": "2024-07-25T17:52:40.655Z"
   },
   {
    "duration": 9,
    "start_time": "2024-07-25T17:52:40.692Z"
   },
   {
    "duration": 6,
    "start_time": "2024-07-25T17:52:40.731Z"
   },
   {
    "duration": 9,
    "start_time": "2024-07-25T17:52:40.740Z"
   },
   {
    "duration": 6,
    "start_time": "2024-07-25T17:52:40.751Z"
   },
   {
    "duration": 2688,
    "start_time": "2024-07-25T17:52:40.759Z"
   },
   {
    "duration": 47,
    "start_time": "2024-07-25T17:52:43.450Z"
   },
   {
    "duration": 65,
    "start_time": "2024-07-25T17:52:43.500Z"
   },
   {
    "duration": 13,
    "start_time": "2024-07-25T17:52:43.568Z"
   },
   {
    "duration": 13,
    "start_time": "2024-07-25T17:52:43.584Z"
   },
   {
    "duration": 40,
    "start_time": "2024-07-25T17:52:43.600Z"
   },
   {
    "duration": 37,
    "start_time": "2024-07-25T17:52:43.643Z"
   },
   {
    "duration": 61,
    "start_time": "2024-07-25T17:52:43.689Z"
   },
   {
    "duration": 18,
    "start_time": "2024-07-25T17:52:43.753Z"
   },
   {
    "duration": 140,
    "start_time": "2024-07-25T17:52:43.774Z"
   },
   {
    "duration": 58,
    "start_time": "2024-07-25T17:52:43.917Z"
   },
   {
    "duration": 9,
    "start_time": "2024-07-25T17:52:43.978Z"
   },
   {
    "duration": 241,
    "start_time": "2024-07-25T17:52:43.990Z"
   },
   {
    "duration": 1172,
    "start_time": "2024-07-25T17:52:44.235Z"
   },
   {
    "duration": 22,
    "start_time": "2024-07-25T17:52:45.410Z"
   },
   {
    "duration": 5,
    "start_time": "2024-07-25T17:52:45.435Z"
   },
   {
    "duration": 670,
    "start_time": "2024-07-25T17:53:34.154Z"
   },
   {
    "duration": 1578,
    "start_time": "2024-07-25T17:53:34.828Z"
   },
   {
    "duration": 22,
    "start_time": "2024-07-25T17:53:36.409Z"
   },
   {
    "duration": 7,
    "start_time": "2024-07-25T17:53:36.434Z"
   },
   {
    "duration": 7,
    "start_time": "2024-07-25T17:53:36.447Z"
   },
   {
    "duration": 8,
    "start_time": "2024-07-25T17:53:36.456Z"
   },
   {
    "duration": 7,
    "start_time": "2024-07-25T17:53:36.467Z"
   },
   {
    "duration": 371,
    "start_time": "2024-07-25T17:53:36.477Z"
   },
   {
    "duration": 13,
    "start_time": "2024-07-25T17:53:36.851Z"
   },
   {
    "duration": 213,
    "start_time": "2024-07-25T17:53:36.867Z"
   },
   {
    "duration": 343,
    "start_time": "2024-07-25T17:53:37.083Z"
   },
   {
    "duration": 87,
    "start_time": "2024-07-25T17:53:37.428Z"
   },
   {
    "duration": 37,
    "start_time": "2024-07-25T17:53:37.531Z"
   },
   {
    "duration": 6,
    "start_time": "2024-07-25T17:53:37.574Z"
   },
   {
    "duration": 81,
    "start_time": "2024-07-25T17:53:37.582Z"
   },
   {
    "duration": 31,
    "start_time": "2024-07-25T17:53:37.667Z"
   },
   {
    "duration": 29,
    "start_time": "2024-07-25T17:53:37.701Z"
   },
   {
    "duration": 5,
    "start_time": "2024-07-25T17:53:37.733Z"
   },
   {
    "duration": 10,
    "start_time": "2024-07-25T17:53:37.741Z"
   },
   {
    "duration": 6,
    "start_time": "2024-07-25T17:53:37.753Z"
   },
   {
    "duration": 2739,
    "start_time": "2024-07-25T17:53:37.762Z"
   },
   {
    "duration": 61,
    "start_time": "2024-07-25T17:53:40.505Z"
   },
   {
    "duration": 44,
    "start_time": "2024-07-25T17:53:40.569Z"
   },
   {
    "duration": 13,
    "start_time": "2024-07-25T17:53:40.632Z"
   },
   {
    "duration": 16,
    "start_time": "2024-07-25T17:53:40.648Z"
   },
   {
    "duration": 11,
    "start_time": "2024-07-25T17:53:40.667Z"
   },
   {
    "duration": 77,
    "start_time": "2024-07-25T17:53:40.681Z"
   },
   {
    "duration": 28,
    "start_time": "2024-07-25T17:53:40.761Z"
   },
   {
    "duration": 37,
    "start_time": "2024-07-25T17:53:40.793Z"
   },
   {
    "duration": 114,
    "start_time": "2024-07-25T17:53:40.833Z"
   },
   {
    "duration": 50,
    "start_time": "2024-07-25T17:53:40.950Z"
   },
   {
    "duration": 33,
    "start_time": "2024-07-25T17:53:41.003Z"
   },
   {
    "duration": 222,
    "start_time": "2024-07-25T17:53:41.038Z"
   },
   {
    "duration": 1182,
    "start_time": "2024-07-25T17:53:41.262Z"
   },
   {
    "duration": 6,
    "start_time": "2024-07-25T17:53:42.447Z"
   },
   {
    "duration": 7,
    "start_time": "2024-07-25T17:53:42.456Z"
   },
   {
    "duration": 673,
    "start_time": "2024-07-25T17:56:24.268Z"
   },
   {
    "duration": 1711,
    "start_time": "2024-07-25T17:56:24.944Z"
   },
   {
    "duration": 10,
    "start_time": "2024-07-25T17:56:26.657Z"
   },
   {
    "duration": 6,
    "start_time": "2024-07-25T17:56:26.673Z"
   },
   {
    "duration": 6,
    "start_time": "2024-07-25T17:56:26.683Z"
   },
   {
    "duration": 44,
    "start_time": "2024-07-25T17:56:26.692Z"
   },
   {
    "duration": 7,
    "start_time": "2024-07-25T17:56:26.742Z"
   },
   {
    "duration": 353,
    "start_time": "2024-07-25T17:56:26.752Z"
   },
   {
    "duration": 25,
    "start_time": "2024-07-25T17:56:27.107Z"
   },
   {
    "duration": 192,
    "start_time": "2024-07-25T17:56:27.138Z"
   },
   {
    "duration": 336,
    "start_time": "2024-07-25T17:56:27.333Z"
   },
   {
    "duration": 95,
    "start_time": "2024-07-25T17:56:27.673Z"
   },
   {
    "duration": 38,
    "start_time": "2024-07-25T17:56:27.771Z"
   },
   {
    "duration": 22,
    "start_time": "2024-07-25T17:56:27.812Z"
   },
   {
    "duration": 47,
    "start_time": "2024-07-25T17:56:27.837Z"
   },
   {
    "duration": 61,
    "start_time": "2024-07-25T17:56:27.887Z"
   },
   {
    "duration": 8,
    "start_time": "2024-07-25T17:56:27.951Z"
   },
   {
    "duration": 6,
    "start_time": "2024-07-25T17:56:27.961Z"
   },
   {
    "duration": 9,
    "start_time": "2024-07-25T17:56:27.971Z"
   },
   {
    "duration": 47,
    "start_time": "2024-07-25T17:56:27.983Z"
   },
   {
    "duration": 2773,
    "start_time": "2024-07-25T17:56:28.034Z"
   },
   {
    "duration": 62,
    "start_time": "2024-07-25T17:56:30.810Z"
   },
   {
    "duration": 64,
    "start_time": "2024-07-25T17:56:30.875Z"
   },
   {
    "duration": 13,
    "start_time": "2024-07-25T17:56:30.942Z"
   },
   {
    "duration": 13,
    "start_time": "2024-07-25T17:56:30.958Z"
   },
   {
    "duration": 12,
    "start_time": "2024-07-25T17:56:30.974Z"
   },
   {
    "duration": 73,
    "start_time": "2024-07-25T17:56:30.989Z"
   },
   {
    "duration": 28,
    "start_time": "2024-07-25T17:56:31.069Z"
   },
   {
    "duration": 38,
    "start_time": "2024-07-25T17:56:31.100Z"
   },
   {
    "duration": 121,
    "start_time": "2024-07-25T17:56:31.141Z"
   },
   {
    "duration": 50,
    "start_time": "2024-07-25T17:56:31.264Z"
   },
   {
    "duration": 9,
    "start_time": "2024-07-25T17:56:31.331Z"
   },
   {
    "duration": 225,
    "start_time": "2024-07-25T17:56:31.344Z"
   },
   {
    "duration": 1258,
    "start_time": "2024-07-25T17:56:31.572Z"
   },
   {
    "duration": 8,
    "start_time": "2024-07-25T17:56:32.834Z"
   },
   {
    "duration": 6,
    "start_time": "2024-07-25T17:56:32.846Z"
   },
   {
    "duration": 687,
    "start_time": "2024-07-25T17:59:23.224Z"
   },
   {
    "duration": 1682,
    "start_time": "2024-07-25T17:59:23.916Z"
   },
   {
    "duration": 10,
    "start_time": "2024-07-25T17:59:25.600Z"
   },
   {
    "duration": 20,
    "start_time": "2024-07-25T17:59:25.614Z"
   },
   {
    "duration": 8,
    "start_time": "2024-07-25T17:59:25.637Z"
   },
   {
    "duration": 7,
    "start_time": "2024-07-25T17:59:25.648Z"
   },
   {
    "duration": 7,
    "start_time": "2024-07-25T17:59:25.658Z"
   },
   {
    "duration": 390,
    "start_time": "2024-07-25T17:59:25.669Z"
   },
   {
    "duration": 15,
    "start_time": "2024-07-25T17:59:26.061Z"
   },
   {
    "duration": 204,
    "start_time": "2024-07-25T17:59:26.081Z"
   },
   {
    "duration": 338,
    "start_time": "2024-07-25T17:59:26.288Z"
   },
   {
    "duration": 84,
    "start_time": "2024-07-25T17:59:26.630Z"
   },
   {
    "duration": 36,
    "start_time": "2024-07-25T17:59:26.731Z"
   },
   {
    "duration": 6,
    "start_time": "2024-07-25T17:59:26.770Z"
   },
   {
    "duration": 85,
    "start_time": "2024-07-25T17:59:26.779Z"
   },
   {
    "duration": 34,
    "start_time": "2024-07-25T17:59:26.868Z"
   },
   {
    "duration": 27,
    "start_time": "2024-07-25T17:59:26.904Z"
   },
   {
    "duration": 5,
    "start_time": "2024-07-25T17:59:26.934Z"
   },
   {
    "duration": 9,
    "start_time": "2024-07-25T17:59:26.942Z"
   },
   {
    "duration": 6,
    "start_time": "2024-07-25T17:59:26.954Z"
   },
   {
    "duration": 2679,
    "start_time": "2024-07-25T17:59:26.962Z"
   },
   {
    "duration": 51,
    "start_time": "2024-07-25T17:59:29.644Z"
   },
   {
    "duration": 74,
    "start_time": "2024-07-25T17:59:29.699Z"
   },
   {
    "duration": 14,
    "start_time": "2024-07-25T17:59:29.777Z"
   },
   {
    "duration": 42,
    "start_time": "2024-07-25T17:59:29.794Z"
   },
   {
    "duration": 12,
    "start_time": "2024-07-25T17:59:29.838Z"
   },
   {
    "duration": 36,
    "start_time": "2024-07-25T17:59:29.853Z"
   },
   {
    "duration": 29,
    "start_time": "2024-07-25T17:59:29.932Z"
   },
   {
    "duration": 14,
    "start_time": "2024-07-25T17:59:29.964Z"
   },
   {
    "duration": 138,
    "start_time": "2024-07-25T17:59:29.981Z"
   },
   {
    "duration": 50,
    "start_time": "2024-07-25T17:59:30.129Z"
   },
   {
    "duration": 11,
    "start_time": "2024-07-25T17:59:30.181Z"
   },
   {
    "duration": 238,
    "start_time": "2024-07-25T17:59:30.195Z"
   },
   {
    "duration": 1180,
    "start_time": "2024-07-25T17:59:30.437Z"
   },
   {
    "duration": 13,
    "start_time": "2024-07-25T17:59:31.620Z"
   },
   {
    "duration": 6,
    "start_time": "2024-07-25T17:59:31.637Z"
   },
   {
    "duration": 678,
    "start_time": "2024-07-25T18:01:13.952Z"
   },
   {
    "duration": 1711,
    "start_time": "2024-07-25T18:01:14.634Z"
   },
   {
    "duration": 10,
    "start_time": "2024-07-25T18:01:16.348Z"
   },
   {
    "duration": 6,
    "start_time": "2024-07-25T18:01:16.362Z"
   },
   {
    "duration": 6,
    "start_time": "2024-07-25T18:01:16.372Z"
   },
   {
    "duration": 8,
    "start_time": "2024-07-25T18:01:16.382Z"
   },
   {
    "duration": 7,
    "start_time": "2024-07-25T18:01:16.432Z"
   },
   {
    "duration": 369,
    "start_time": "2024-07-25T18:01:16.442Z"
   },
   {
    "duration": 22,
    "start_time": "2024-07-25T18:01:16.813Z"
   },
   {
    "duration": 193,
    "start_time": "2024-07-25T18:01:16.840Z"
   },
   {
    "duration": 322,
    "start_time": "2024-07-25T18:01:17.037Z"
   },
   {
    "duration": 97,
    "start_time": "2024-07-25T18:01:17.361Z"
   },
   {
    "duration": 44,
    "start_time": "2024-07-25T18:01:17.461Z"
   },
   {
    "duration": 22,
    "start_time": "2024-07-25T18:01:17.508Z"
   },
   {
    "duration": 48,
    "start_time": "2024-07-25T18:01:17.533Z"
   },
   {
    "duration": 54,
    "start_time": "2024-07-25T18:01:17.584Z"
   },
   {
    "duration": 10,
    "start_time": "2024-07-25T18:01:17.641Z"
   },
   {
    "duration": 5,
    "start_time": "2024-07-25T18:01:17.654Z"
   },
   {
    "duration": 8,
    "start_time": "2024-07-25T18:01:17.662Z"
   },
   {
    "duration": 6,
    "start_time": "2024-07-25T18:01:17.673Z"
   },
   {
    "duration": 2706,
    "start_time": "2024-07-25T18:01:17.732Z"
   },
   {
    "duration": 51,
    "start_time": "2024-07-25T18:01:20.442Z"
   },
   {
    "duration": 70,
    "start_time": "2024-07-25T18:01:20.495Z"
   },
   {
    "duration": 13,
    "start_time": "2024-07-25T18:01:20.568Z"
   },
   {
    "duration": 15,
    "start_time": "2024-07-25T18:01:20.584Z"
   },
   {
    "duration": 15,
    "start_time": "2024-07-25T18:01:20.631Z"
   },
   {
    "duration": 37,
    "start_time": "2024-07-25T18:01:20.649Z"
   },
   {
    "duration": 59,
    "start_time": "2024-07-25T18:01:20.693Z"
   },
   {
    "duration": 15,
    "start_time": "2024-07-25T18:01:20.755Z"
   },
   {
    "duration": 128,
    "start_time": "2024-07-25T18:01:20.773Z"
   },
   {
    "duration": 61,
    "start_time": "2024-07-25T18:01:20.903Z"
   },
   {
    "duration": 9,
    "start_time": "2024-07-25T18:01:20.967Z"
   },
   {
    "duration": 227,
    "start_time": "2024-07-25T18:01:20.979Z"
   },
   {
    "duration": 1204,
    "start_time": "2024-07-25T18:01:21.209Z"
   },
   {
    "duration": 16,
    "start_time": "2024-07-25T18:01:22.416Z"
   },
   {
    "duration": 7,
    "start_time": "2024-07-25T18:01:22.436Z"
   },
   {
    "duration": 722,
    "start_time": "2024-07-25T18:02:57.848Z"
   },
   {
    "duration": 1692,
    "start_time": "2024-07-25T18:02:58.573Z"
   },
   {
    "duration": 11,
    "start_time": "2024-07-25T18:03:00.268Z"
   },
   {
    "duration": 8,
    "start_time": "2024-07-25T18:03:00.282Z"
   },
   {
    "duration": 38,
    "start_time": "2024-07-25T18:03:00.296Z"
   },
   {
    "duration": 8,
    "start_time": "2024-07-25T18:03:00.337Z"
   },
   {
    "duration": 7,
    "start_time": "2024-07-25T18:03:00.348Z"
   },
   {
    "duration": 372,
    "start_time": "2024-07-25T18:03:00.358Z"
   },
   {
    "duration": 13,
    "start_time": "2024-07-25T18:03:00.734Z"
   },
   {
    "duration": 200,
    "start_time": "2024-07-25T18:03:00.750Z"
   },
   {
    "duration": 328,
    "start_time": "2024-07-25T18:03:00.953Z"
   },
   {
    "duration": 90,
    "start_time": "2024-07-25T18:03:01.285Z"
   },
   {
    "duration": 37,
    "start_time": "2024-07-25T18:03:01.378Z"
   },
   {
    "duration": 6,
    "start_time": "2024-07-25T18:03:01.435Z"
   },
   {
    "duration": 47,
    "start_time": "2024-07-25T18:03:01.444Z"
   },
   {
    "duration": 67,
    "start_time": "2024-07-25T18:03:01.494Z"
   },
   {
    "duration": 9,
    "start_time": "2024-07-25T18:03:01.564Z"
   },
   {
    "duration": 6,
    "start_time": "2024-07-25T18:03:01.576Z"
   },
   {
    "duration": 45,
    "start_time": "2024-07-25T18:03:01.586Z"
   },
   {
    "duration": 6,
    "start_time": "2024-07-25T18:03:01.635Z"
   },
   {
    "duration": 2653,
    "start_time": "2024-07-25T18:03:01.644Z"
   },
   {
    "duration": 60,
    "start_time": "2024-07-25T18:03:04.300Z"
   },
   {
    "duration": 46,
    "start_time": "2024-07-25T18:03:04.363Z"
   },
   {
    "duration": 29,
    "start_time": "2024-07-25T18:03:04.412Z"
   },
   {
    "duration": 13,
    "start_time": "2024-07-25T18:03:04.445Z"
   },
   {
    "duration": 11,
    "start_time": "2024-07-25T18:03:04.461Z"
   },
   {
    "duration": 73,
    "start_time": "2024-07-25T18:03:04.475Z"
   },
   {
    "duration": 28,
    "start_time": "2024-07-25T18:03:04.551Z"
   },
   {
    "duration": 14,
    "start_time": "2024-07-25T18:03:04.581Z"
   },
   {
    "duration": 145,
    "start_time": "2024-07-25T18:03:04.598Z"
   },
   {
    "duration": 57,
    "start_time": "2024-07-25T18:03:04.746Z"
   },
   {
    "duration": 30,
    "start_time": "2024-07-25T18:03:04.806Z"
   },
   {
    "duration": 216,
    "start_time": "2024-07-25T18:03:04.839Z"
   },
   {
    "duration": 1174,
    "start_time": "2024-07-25T18:03:05.058Z"
   },
   {
    "duration": 6,
    "start_time": "2024-07-25T18:03:06.235Z"
   },
   {
    "duration": 376,
    "start_time": "2024-07-25T18:03:06.244Z"
   },
   {
    "duration": 0,
    "start_time": "2024-07-25T18:03:06.622Z"
   },
   {
    "duration": 0,
    "start_time": "2024-07-25T18:03:06.625Z"
   },
   {
    "duration": 0,
    "start_time": "2024-07-25T18:03:06.631Z"
   },
   {
    "duration": 23,
    "start_time": "2024-07-25T18:03:25.719Z"
   },
   {
    "duration": 21,
    "start_time": "2024-07-25T18:03:32.555Z"
   },
   {
    "duration": 6,
    "start_time": "2024-07-25T18:05:13.830Z"
   },
   {
    "duration": 24,
    "start_time": "2024-07-25T18:05:18.881Z"
   },
   {
    "duration": 666,
    "start_time": "2024-07-25T18:05:27.054Z"
   },
   {
    "duration": 1555,
    "start_time": "2024-07-25T18:05:27.730Z"
   },
   {
    "duration": 9,
    "start_time": "2024-07-25T18:05:29.288Z"
   },
   {
    "duration": 29,
    "start_time": "2024-07-25T18:05:29.301Z"
   },
   {
    "duration": 6,
    "start_time": "2024-07-25T18:05:29.334Z"
   },
   {
    "duration": 6,
    "start_time": "2024-07-25T18:05:29.344Z"
   },
   {
    "duration": 8,
    "start_time": "2024-07-25T18:05:29.352Z"
   },
   {
    "duration": 367,
    "start_time": "2024-07-25T18:05:29.363Z"
   },
   {
    "duration": 14,
    "start_time": "2024-07-25T18:05:29.733Z"
   },
   {
    "duration": 204,
    "start_time": "2024-07-25T18:05:29.749Z"
   },
   {
    "duration": 336,
    "start_time": "2024-07-25T18:05:29.956Z"
   },
   {
    "duration": 105,
    "start_time": "2024-07-25T18:05:30.294Z"
   },
   {
    "duration": 44,
    "start_time": "2024-07-25T18:05:30.402Z"
   },
   {
    "duration": 5,
    "start_time": "2024-07-25T18:05:30.455Z"
   },
   {
    "duration": 73,
    "start_time": "2024-07-25T18:05:30.463Z"
   },
   {
    "duration": 41,
    "start_time": "2024-07-25T18:05:30.540Z"
   },
   {
    "duration": 8,
    "start_time": "2024-07-25T18:05:30.584Z"
   },
   {
    "duration": 6,
    "start_time": "2024-07-25T18:05:30.594Z"
   },
   {
    "duration": 9,
    "start_time": "2024-07-25T18:05:30.632Z"
   },
   {
    "duration": 8,
    "start_time": "2024-07-25T18:05:30.644Z"
   },
   {
    "duration": 2771,
    "start_time": "2024-07-25T18:05:30.655Z"
   },
   {
    "duration": 48,
    "start_time": "2024-07-25T18:05:33.431Z"
   },
   {
    "duration": 65,
    "start_time": "2024-07-25T18:05:33.483Z"
   },
   {
    "duration": 13,
    "start_time": "2024-07-25T18:05:33.551Z"
   },
   {
    "duration": 14,
    "start_time": "2024-07-25T18:05:33.567Z"
   },
   {
    "duration": 47,
    "start_time": "2024-07-25T18:05:33.584Z"
   },
   {
    "duration": 38,
    "start_time": "2024-07-25T18:05:33.635Z"
   },
   {
    "duration": 54,
    "start_time": "2024-07-25T18:05:33.676Z"
   },
   {
    "duration": 16,
    "start_time": "2024-07-25T18:05:33.733Z"
   },
   {
    "duration": 131,
    "start_time": "2024-07-25T18:05:33.752Z"
   },
   {
    "duration": 67,
    "start_time": "2024-07-25T18:05:33.886Z"
   },
   {
    "duration": 10,
    "start_time": "2024-07-25T18:05:33.956Z"
   },
   {
    "duration": 231,
    "start_time": "2024-07-25T18:05:33.969Z"
   },
   {
    "duration": 1175,
    "start_time": "2024-07-25T18:05:34.203Z"
   },
   {
    "duration": 5,
    "start_time": "2024-07-25T18:05:35.381Z"
   },
   {
    "duration": 6,
    "start_time": "2024-07-25T18:05:35.389Z"
   },
   {
    "duration": 338,
    "start_time": "2024-07-25T18:07:21.723Z"
   },
   {
    "duration": 706,
    "start_time": "2024-07-25T18:07:33.415Z"
   },
   {
    "duration": 1764,
    "start_time": "2024-07-25T18:07:34.125Z"
   },
   {
    "duration": 10,
    "start_time": "2024-07-25T18:07:35.891Z"
   },
   {
    "duration": 26,
    "start_time": "2024-07-25T18:07:35.904Z"
   },
   {
    "duration": 6,
    "start_time": "2024-07-25T18:07:35.936Z"
   },
   {
    "duration": 7,
    "start_time": "2024-07-25T18:07:35.946Z"
   },
   {
    "duration": 8,
    "start_time": "2024-07-25T18:07:35.956Z"
   },
   {
    "duration": 377,
    "start_time": "2024-07-25T18:07:35.967Z"
   },
   {
    "duration": 14,
    "start_time": "2024-07-25T18:07:36.347Z"
   },
   {
    "duration": 207,
    "start_time": "2024-07-25T18:07:36.364Z"
   },
   {
    "duration": 325,
    "start_time": "2024-07-25T18:07:36.575Z"
   },
   {
    "duration": 96,
    "start_time": "2024-07-25T18:07:36.903Z"
   },
   {
    "duration": 49,
    "start_time": "2024-07-25T18:07:37.002Z"
   },
   {
    "duration": 4,
    "start_time": "2024-07-25T18:07:37.059Z"
   },
   {
    "duration": 66,
    "start_time": "2024-07-25T18:07:37.066Z"
   },
   {
    "duration": 32,
    "start_time": "2024-07-25T18:07:37.134Z"
   },
   {
    "duration": 9,
    "start_time": "2024-07-25T18:07:37.170Z"
   },
   {
    "duration": 6,
    "start_time": "2024-07-25T18:07:37.182Z"
   },
   {
    "duration": 45,
    "start_time": "2024-07-25T18:07:37.191Z"
   },
   {
    "duration": 5,
    "start_time": "2024-07-25T18:07:37.239Z"
   },
   {
    "duration": 2733,
    "start_time": "2024-07-25T18:07:37.248Z"
   },
   {
    "duration": 57,
    "start_time": "2024-07-25T18:07:39.986Z"
   },
   {
    "duration": 51,
    "start_time": "2024-07-25T18:07:40.046Z"
   },
   {
    "duration": 40,
    "start_time": "2024-07-25T18:07:40.100Z"
   },
   {
    "duration": 17,
    "start_time": "2024-07-25T18:07:40.144Z"
   },
   {
    "duration": 16,
    "start_time": "2024-07-25T18:07:40.164Z"
   },
   {
    "duration": 68,
    "start_time": "2024-07-25T18:07:40.189Z"
   },
   {
    "duration": 28,
    "start_time": "2024-07-25T18:07:40.260Z"
   },
   {
    "duration": 42,
    "start_time": "2024-07-25T18:07:40.291Z"
   },
   {
    "duration": 123,
    "start_time": "2024-07-25T18:07:40.336Z"
   },
   {
    "duration": 52,
    "start_time": "2024-07-25T18:07:40.462Z"
   },
   {
    "duration": 12,
    "start_time": "2024-07-25T18:07:40.532Z"
   },
   {
    "duration": 236,
    "start_time": "2024-07-25T18:07:40.547Z"
   },
   {
    "duration": 1180,
    "start_time": "2024-07-25T18:07:40.787Z"
   },
   {
    "duration": 6,
    "start_time": "2024-07-25T18:07:41.970Z"
   },
   {
    "duration": 6,
    "start_time": "2024-07-25T18:07:41.979Z"
   },
   {
    "duration": 686,
    "start_time": "2024-07-25T18:30:10.854Z"
   },
   {
    "duration": 1800,
    "start_time": "2024-07-25T18:30:11.544Z"
   },
   {
    "duration": 10,
    "start_time": "2024-07-25T18:30:13.347Z"
   },
   {
    "duration": 6,
    "start_time": "2024-07-25T18:30:13.360Z"
   },
   {
    "duration": 6,
    "start_time": "2024-07-25T18:30:13.371Z"
   },
   {
    "duration": 7,
    "start_time": "2024-07-25T18:30:13.380Z"
   },
   {
    "duration": 7,
    "start_time": "2024-07-25T18:30:13.431Z"
   },
   {
    "duration": 365,
    "start_time": "2024-07-25T18:30:13.441Z"
   },
   {
    "duration": 26,
    "start_time": "2024-07-25T18:30:13.809Z"
   },
   {
    "duration": 194,
    "start_time": "2024-07-25T18:30:13.838Z"
   },
   {
    "duration": 321,
    "start_time": "2024-07-25T18:30:14.035Z"
   },
   {
    "duration": 98,
    "start_time": "2024-07-25T18:30:14.359Z"
   },
   {
    "duration": 36,
    "start_time": "2024-07-25T18:30:14.460Z"
   },
   {
    "duration": 5,
    "start_time": "2024-07-25T18:30:14.502Z"
   },
   {
    "duration": 47,
    "start_time": "2024-07-25T18:30:14.532Z"
   },
   {
    "duration": 52,
    "start_time": "2024-07-25T18:30:14.582Z"
   },
   {
    "duration": 8,
    "start_time": "2024-07-25T18:30:14.638Z"
   },
   {
    "duration": 5,
    "start_time": "2024-07-25T18:30:14.649Z"
   },
   {
    "duration": 9,
    "start_time": "2024-07-25T18:30:14.657Z"
   },
   {
    "duration": 5,
    "start_time": "2024-07-25T18:30:14.670Z"
   },
   {
    "duration": 2685,
    "start_time": "2024-07-25T18:30:14.678Z"
   },
   {
    "duration": 47,
    "start_time": "2024-07-25T18:30:17.365Z"
   },
   {
    "duration": 45,
    "start_time": "2024-07-25T18:30:17.430Z"
   },
   {
    "duration": 13,
    "start_time": "2024-07-25T18:30:17.478Z"
   },
   {
    "duration": 42,
    "start_time": "2024-07-25T18:30:17.493Z"
   },
   {
    "duration": 11,
    "start_time": "2024-07-25T18:30:17.538Z"
   },
   {
    "duration": 36,
    "start_time": "2024-07-25T18:30:17.552Z"
   },
   {
    "duration": 60,
    "start_time": "2024-07-25T18:30:17.591Z"
   },
   {
    "duration": 14,
    "start_time": "2024-07-25T18:30:17.654Z"
   },
   {
    "duration": 127,
    "start_time": "2024-07-25T18:30:17.671Z"
   },
   {
    "duration": 61,
    "start_time": "2024-07-25T18:30:17.802Z"
   },
   {
    "duration": 9,
    "start_time": "2024-07-25T18:30:17.866Z"
   },
   {
    "duration": 231,
    "start_time": "2024-07-25T18:30:17.877Z"
   },
   {
    "duration": 1168,
    "start_time": "2024-07-25T18:30:18.113Z"
   },
   {
    "duration": 6,
    "start_time": "2024-07-25T18:30:19.285Z"
   },
   {
    "duration": 6,
    "start_time": "2024-07-25T18:30:19.294Z"
   },
   {
    "duration": 331,
    "start_time": "2024-07-25T18:46:11.819Z"
   },
   {
    "duration": 670,
    "start_time": "2024-07-25T18:46:21.294Z"
   },
   {
    "duration": 1737,
    "start_time": "2024-07-25T18:46:21.968Z"
   },
   {
    "duration": 22,
    "start_time": "2024-07-25T18:46:23.708Z"
   },
   {
    "duration": 7,
    "start_time": "2024-07-25T18:46:23.735Z"
   },
   {
    "duration": 7,
    "start_time": "2024-07-25T18:46:23.745Z"
   },
   {
    "duration": 8,
    "start_time": "2024-07-25T18:46:23.754Z"
   },
   {
    "duration": 8,
    "start_time": "2024-07-25T18:46:23.764Z"
   },
   {
    "duration": 371,
    "start_time": "2024-07-25T18:46:23.776Z"
   },
   {
    "duration": 13,
    "start_time": "2024-07-25T18:46:24.150Z"
   },
   {
    "duration": 201,
    "start_time": "2024-07-25T18:46:24.168Z"
   },
   {
    "duration": 350,
    "start_time": "2024-07-25T18:46:24.373Z"
   },
   {
    "duration": 85,
    "start_time": "2024-07-25T18:46:24.726Z"
   },
   {
    "duration": 50,
    "start_time": "2024-07-25T18:46:24.814Z"
   },
   {
    "duration": 6,
    "start_time": "2024-07-25T18:46:24.867Z"
   },
   {
    "duration": 77,
    "start_time": "2024-07-25T18:46:24.876Z"
   },
   {
    "duration": 32,
    "start_time": "2024-07-25T18:46:24.956Z"
   },
   {
    "duration": 8,
    "start_time": "2024-07-25T18:46:24.990Z"
   },
   {
    "duration": 33,
    "start_time": "2024-07-25T18:46:25.001Z"
   },
   {
    "duration": 12,
    "start_time": "2024-07-25T18:46:25.037Z"
   },
   {
    "duration": 5,
    "start_time": "2024-07-25T18:46:25.052Z"
   },
   {
    "duration": 2711,
    "start_time": "2024-07-25T18:46:25.060Z"
   },
   {
    "duration": 59,
    "start_time": "2024-07-25T18:46:27.774Z"
   },
   {
    "duration": 61,
    "start_time": "2024-07-25T18:46:27.837Z"
   },
   {
    "duration": 34,
    "start_time": "2024-07-25T18:46:27.901Z"
   },
   {
    "duration": 13,
    "start_time": "2024-07-25T18:46:27.939Z"
   },
   {
    "duration": 11,
    "start_time": "2024-07-25T18:46:27.955Z"
   },
   {
    "duration": 79,
    "start_time": "2024-07-25T18:46:27.969Z"
   },
   {
    "duration": 28,
    "start_time": "2024-07-25T18:46:28.055Z"
   },
   {
    "duration": 44,
    "start_time": "2024-07-25T18:46:28.086Z"
   },
   {
    "duration": 109,
    "start_time": "2024-07-25T18:46:28.133Z"
   },
   {
    "duration": 51,
    "start_time": "2024-07-25T18:46:28.245Z"
   },
   {
    "duration": 30,
    "start_time": "2024-07-25T18:46:28.300Z"
   },
   {
    "duration": 221,
    "start_time": "2024-07-25T18:46:28.333Z"
   },
   {
    "duration": 1167,
    "start_time": "2024-07-25T18:46:28.557Z"
   },
   {
    "duration": 6,
    "start_time": "2024-07-25T18:46:29.731Z"
   },
   {
    "duration": 6,
    "start_time": "2024-07-25T18:46:29.740Z"
   },
   {
    "duration": 399,
    "start_time": "2024-07-25T18:46:29.750Z"
   },
   {
    "duration": 0,
    "start_time": "2024-07-25T18:46:30.152Z"
   },
   {
    "duration": 0,
    "start_time": "2024-07-25T18:46:30.154Z"
   },
   {
    "duration": 359,
    "start_time": "2024-07-25T18:46:40.291Z"
   },
   {
    "duration": 214,
    "start_time": "2024-07-25T19:52:55.947Z"
   },
   {
    "duration": 636,
    "start_time": "2024-07-25T19:56:04.488Z"
   },
   {
    "duration": 1574,
    "start_time": "2024-07-25T19:56:05.128Z"
   },
   {
    "duration": 10,
    "start_time": "2024-07-25T19:56:06.704Z"
   },
   {
    "duration": 17,
    "start_time": "2024-07-25T19:56:06.717Z"
   },
   {
    "duration": 7,
    "start_time": "2024-07-25T19:56:06.737Z"
   },
   {
    "duration": 7,
    "start_time": "2024-07-25T19:56:06.747Z"
   },
   {
    "duration": 7,
    "start_time": "2024-07-25T19:56:06.757Z"
   },
   {
    "duration": 379,
    "start_time": "2024-07-25T19:56:06.767Z"
   },
   {
    "duration": 14,
    "start_time": "2024-07-25T19:56:07.149Z"
   },
   {
    "duration": 205,
    "start_time": "2024-07-25T19:56:07.169Z"
   },
   {
    "duration": 343,
    "start_time": "2024-07-25T19:56:07.377Z"
   },
   {
    "duration": 85,
    "start_time": "2024-07-25T19:56:07.723Z"
   },
   {
    "duration": 48,
    "start_time": "2024-07-25T19:56:07.811Z"
   },
   {
    "duration": 5,
    "start_time": "2024-07-25T19:56:07.863Z"
   },
   {
    "duration": 78,
    "start_time": "2024-07-25T19:56:07.871Z"
   },
   {
    "duration": 34,
    "start_time": "2024-07-25T19:56:07.952Z"
   },
   {
    "duration": 8,
    "start_time": "2024-07-25T19:56:07.988Z"
   },
   {
    "duration": 35,
    "start_time": "2024-07-25T19:56:07.999Z"
   },
   {
    "duration": 12,
    "start_time": "2024-07-25T19:56:08.037Z"
   },
   {
    "duration": 6,
    "start_time": "2024-07-25T19:56:08.052Z"
   },
   {
    "duration": 2678,
    "start_time": "2024-07-25T19:56:08.061Z"
   },
   {
    "duration": 54,
    "start_time": "2024-07-25T19:56:10.742Z"
   },
   {
    "duration": 70,
    "start_time": "2024-07-25T19:56:10.799Z"
   },
   {
    "duration": 13,
    "start_time": "2024-07-25T19:56:10.872Z"
   },
   {
    "duration": 13,
    "start_time": "2024-07-25T19:56:10.889Z"
   },
   {
    "duration": 11,
    "start_time": "2024-07-25T19:56:10.931Z"
   },
   {
    "duration": 37,
    "start_time": "2024-07-25T19:56:10.945Z"
   },
   {
    "duration": 56,
    "start_time": "2024-07-25T19:56:10.989Z"
   },
   {
    "duration": 15,
    "start_time": "2024-07-25T19:56:11.048Z"
   },
   {
    "duration": 128,
    "start_time": "2024-07-25T19:56:11.065Z"
   },
   {
    "duration": 64,
    "start_time": "2024-07-25T19:56:11.196Z"
   },
   {
    "duration": 10,
    "start_time": "2024-07-25T19:56:11.263Z"
   },
   {
    "duration": 233,
    "start_time": "2024-07-25T19:56:11.276Z"
   },
   {
    "duration": 1228,
    "start_time": "2024-07-25T19:56:11.512Z"
   },
   {
    "duration": 6,
    "start_time": "2024-07-25T19:56:12.744Z"
   },
   {
    "duration": 6,
    "start_time": "2024-07-25T19:56:12.753Z"
   },
   {
    "duration": 414,
    "start_time": "2024-07-25T19:56:12.762Z"
   },
   {
    "duration": 225,
    "start_time": "2024-07-25T19:56:13.178Z"
   },
   {
    "duration": 356,
    "start_time": "2024-07-25T19:56:13.406Z"
   },
   {
    "duration": 210,
    "start_time": "2024-07-25T19:56:45.650Z"
   },
   {
    "duration": 229,
    "start_time": "2024-07-25T20:04:08.375Z"
   },
   {
    "duration": 222,
    "start_time": "2024-07-25T20:04:39.030Z"
   },
   {
    "duration": 212,
    "start_time": "2024-07-25T20:07:12.661Z"
   },
   {
    "duration": 98,
    "start_time": "2024-07-25T20:07:42.323Z"
   },
   {
    "duration": 24,
    "start_time": "2024-07-25T20:07:50.970Z"
   },
   {
    "duration": 664,
    "start_time": "2024-07-25T20:07:57.057Z"
   },
   {
    "duration": 1555,
    "start_time": "2024-07-25T20:07:57.725Z"
   },
   {
    "duration": 10,
    "start_time": "2024-07-25T20:07:59.283Z"
   },
   {
    "duration": 6,
    "start_time": "2024-07-25T20:07:59.297Z"
   },
   {
    "duration": 7,
    "start_time": "2024-07-25T20:07:59.333Z"
   },
   {
    "duration": 8,
    "start_time": "2024-07-25T20:07:59.343Z"
   },
   {
    "duration": 8,
    "start_time": "2024-07-25T20:07:59.353Z"
   },
   {
    "duration": 367,
    "start_time": "2024-07-25T20:07:59.364Z"
   },
   {
    "duration": 13,
    "start_time": "2024-07-25T20:07:59.734Z"
   },
   {
    "duration": 211,
    "start_time": "2024-07-25T20:07:59.750Z"
   },
   {
    "duration": 341,
    "start_time": "2024-07-25T20:07:59.965Z"
   },
   {
    "duration": 92,
    "start_time": "2024-07-25T20:08:00.308Z"
   },
   {
    "duration": 50,
    "start_time": "2024-07-25T20:08:00.403Z"
   },
   {
    "duration": 5,
    "start_time": "2024-07-25T20:08:00.459Z"
   },
   {
    "duration": 72,
    "start_time": "2024-07-25T20:08:00.467Z"
   },
   {
    "duration": 31,
    "start_time": "2024-07-25T20:08:00.542Z"
   },
   {
    "duration": 10,
    "start_time": "2024-07-25T20:08:00.576Z"
   },
   {
    "duration": 5,
    "start_time": "2024-07-25T20:08:00.589Z"
   },
   {
    "duration": 9,
    "start_time": "2024-07-25T20:08:00.630Z"
   },
   {
    "duration": 6,
    "start_time": "2024-07-25T20:08:00.642Z"
   },
   {
    "duration": 2727,
    "start_time": "2024-07-25T20:08:00.651Z"
   },
   {
    "duration": 55,
    "start_time": "2024-07-25T20:08:03.383Z"
   },
   {
    "duration": 46,
    "start_time": "2024-07-25T20:08:03.440Z"
   },
   {
    "duration": 42,
    "start_time": "2024-07-25T20:08:03.489Z"
   },
   {
    "duration": 12,
    "start_time": "2024-07-25T20:08:03.535Z"
   },
   {
    "duration": 11,
    "start_time": "2024-07-25T20:08:03.550Z"
   },
   {
    "duration": 68,
    "start_time": "2024-07-25T20:08:03.564Z"
   },
   {
    "duration": 29,
    "start_time": "2024-07-25T20:08:03.634Z"
   },
   {
    "duration": 15,
    "start_time": "2024-07-25T20:08:03.666Z"
   },
   {
    "duration": 132,
    "start_time": "2024-07-25T20:08:03.683Z"
   },
   {
    "duration": 58,
    "start_time": "2024-07-25T20:08:03.818Z"
   },
   {
    "duration": 10,
    "start_time": "2024-07-25T20:08:03.879Z"
   },
   {
    "duration": 240,
    "start_time": "2024-07-25T20:08:03.894Z"
   },
   {
    "duration": 1184,
    "start_time": "2024-07-25T20:08:04.136Z"
   },
   {
    "duration": 12,
    "start_time": "2024-07-25T20:08:05.322Z"
   },
   {
    "duration": 7,
    "start_time": "2024-07-25T20:08:05.337Z"
   },
   {
    "duration": 410,
    "start_time": "2024-07-25T20:08:05.347Z"
   },
   {
    "duration": 227,
    "start_time": "2024-07-25T20:08:05.760Z"
   },
   {
    "duration": 360,
    "start_time": "2024-07-25T20:08:05.990Z"
   },
   {
    "duration": 423,
    "start_time": "2024-07-25T20:08:24.487Z"
   },
   {
    "duration": 394,
    "start_time": "2024-07-25T20:09:27.967Z"
   },
   {
    "duration": 368,
    "start_time": "2024-07-25T20:10:13.223Z"
   },
   {
    "duration": 658,
    "start_time": "2024-07-25T20:29:52.898Z"
   },
   {
    "duration": 1574,
    "start_time": "2024-07-25T20:29:53.560Z"
   },
   {
    "duration": 9,
    "start_time": "2024-07-25T20:29:55.137Z"
   },
   {
    "duration": 7,
    "start_time": "2024-07-25T20:29:55.151Z"
   },
   {
    "duration": 8,
    "start_time": "2024-07-25T20:29:55.161Z"
   },
   {
    "duration": 7,
    "start_time": "2024-07-25T20:29:55.172Z"
   },
   {
    "duration": 52,
    "start_time": "2024-07-25T20:29:55.182Z"
   },
   {
    "duration": 360,
    "start_time": "2024-07-25T20:29:55.237Z"
   },
   {
    "duration": 13,
    "start_time": "2024-07-25T20:29:55.600Z"
   },
   {
    "duration": 190,
    "start_time": "2024-07-25T20:29:55.634Z"
   },
   {
    "duration": 319,
    "start_time": "2024-07-25T20:29:55.830Z"
   },
   {
    "duration": 93,
    "start_time": "2024-07-25T20:29:56.151Z"
   },
   {
    "duration": 36,
    "start_time": "2024-07-25T20:29:56.247Z"
   },
   {
    "duration": 5,
    "start_time": "2024-07-25T20:29:56.286Z"
   },
   {
    "duration": 76,
    "start_time": "2024-07-25T20:29:56.294Z"
   },
   {
    "duration": 34,
    "start_time": "2024-07-25T20:29:56.373Z"
   },
   {
    "duration": 26,
    "start_time": "2024-07-25T20:29:56.410Z"
   },
   {
    "duration": 14,
    "start_time": "2024-07-25T20:29:56.439Z"
   },
   {
    "duration": 9,
    "start_time": "2024-07-25T20:29:56.457Z"
   },
   {
    "duration": 5,
    "start_time": "2024-07-25T20:29:56.469Z"
   },
   {
    "duration": 2671,
    "start_time": "2024-07-25T20:29:56.477Z"
   },
   {
    "duration": 48,
    "start_time": "2024-07-25T20:29:59.151Z"
   },
   {
    "duration": 66,
    "start_time": "2024-07-25T20:29:59.201Z"
   },
   {
    "duration": 12,
    "start_time": "2024-07-25T20:29:59.271Z"
   },
   {
    "duration": 13,
    "start_time": "2024-07-25T20:29:59.286Z"
   },
   {
    "duration": 11,
    "start_time": "2024-07-25T20:29:59.330Z"
   },
   {
    "duration": 38,
    "start_time": "2024-07-25T20:29:59.344Z"
   },
   {
    "duration": 58,
    "start_time": "2024-07-25T20:29:59.389Z"
   },
   {
    "duration": 14,
    "start_time": "2024-07-25T20:29:59.450Z"
   },
   {
    "duration": 132,
    "start_time": "2024-07-25T20:29:59.466Z"
   },
   {
    "duration": 62,
    "start_time": "2024-07-25T20:29:59.600Z"
   },
   {
    "duration": 9,
    "start_time": "2024-07-25T20:29:59.666Z"
   },
   {
    "duration": 233,
    "start_time": "2024-07-25T20:29:59.678Z"
   },
   {
    "duration": 1153,
    "start_time": "2024-07-25T20:29:59.913Z"
   },
   {
    "duration": 7,
    "start_time": "2024-07-25T20:30:01.069Z"
   },
   {
    "duration": 6,
    "start_time": "2024-07-25T20:30:01.079Z"
   },
   {
    "duration": 390,
    "start_time": "2024-07-25T20:30:01.088Z"
   },
   {
    "duration": 221,
    "start_time": "2024-07-25T20:30:01.481Z"
   },
   {
    "duration": 406,
    "start_time": "2024-07-25T20:30:01.705Z"
   },
   {
    "duration": 24,
    "start_time": "2024-07-25T20:30:02.114Z"
   },
   {
    "duration": 11,
    "start_time": "2024-07-25T20:30:02.141Z"
   },
   {
    "duration": 531,
    "start_time": "2024-07-25T20:30:02.155Z"
   },
   {
    "duration": 353,
    "start_time": "2024-07-25T20:37:15.282Z"
   },
   {
    "duration": 673,
    "start_time": "2024-07-25T20:37:22.196Z"
   },
   {
    "duration": 1538,
    "start_time": "2024-07-25T20:37:22.873Z"
   },
   {
    "duration": 17,
    "start_time": "2024-07-25T20:37:24.413Z"
   },
   {
    "duration": 7,
    "start_time": "2024-07-25T20:37:24.435Z"
   },
   {
    "duration": 9,
    "start_time": "2024-07-25T20:37:24.445Z"
   },
   {
    "duration": 6,
    "start_time": "2024-07-25T20:37:24.457Z"
   },
   {
    "duration": 8,
    "start_time": "2024-07-25T20:37:24.466Z"
   },
   {
    "duration": 396,
    "start_time": "2024-07-25T20:37:24.477Z"
   },
   {
    "duration": 13,
    "start_time": "2024-07-25T20:37:24.878Z"
   },
   {
    "duration": 204,
    "start_time": "2024-07-25T20:37:24.896Z"
   },
   {
    "duration": 324,
    "start_time": "2024-07-25T20:37:25.103Z"
   },
   {
    "duration": 85,
    "start_time": "2024-07-25T20:37:25.431Z"
   },
   {
    "duration": 44,
    "start_time": "2024-07-25T20:37:25.519Z"
   },
   {
    "duration": 5,
    "start_time": "2024-07-25T20:37:25.566Z"
   },
   {
    "duration": 80,
    "start_time": "2024-07-25T20:37:25.574Z"
   },
   {
    "duration": 32,
    "start_time": "2024-07-25T20:37:25.657Z"
   },
   {
    "duration": 8,
    "start_time": "2024-07-25T20:37:25.692Z"
   },
   {
    "duration": 5,
    "start_time": "2024-07-25T20:37:25.731Z"
   },
   {
    "duration": 9,
    "start_time": "2024-07-25T20:37:25.739Z"
   },
   {
    "duration": 5,
    "start_time": "2024-07-25T20:37:25.752Z"
   },
   {
    "duration": 2662,
    "start_time": "2024-07-25T20:37:25.760Z"
   },
   {
    "duration": 48,
    "start_time": "2024-07-25T20:37:28.430Z"
   },
   {
    "duration": 66,
    "start_time": "2024-07-25T20:37:28.480Z"
   },
   {
    "duration": 14,
    "start_time": "2024-07-25T20:37:28.549Z"
   },
   {
    "duration": 13,
    "start_time": "2024-07-25T20:37:28.566Z"
   },
   {
    "duration": 11,
    "start_time": "2024-07-25T20:37:28.582Z"
   },
   {
    "duration": 71,
    "start_time": "2024-07-25T20:37:28.595Z"
   },
   {
    "duration": 30,
    "start_time": "2024-07-25T20:37:28.673Z"
   },
   {
    "duration": 15,
    "start_time": "2024-07-25T20:37:28.732Z"
   },
   {
    "duration": 130,
    "start_time": "2024-07-25T20:37:28.750Z"
   },
   {
    "duration": 65,
    "start_time": "2024-07-25T20:37:28.883Z"
   },
   {
    "duration": 10,
    "start_time": "2024-07-25T20:37:28.951Z"
   },
   {
    "duration": 233,
    "start_time": "2024-07-25T20:37:28.964Z"
   },
   {
    "duration": 1171,
    "start_time": "2024-07-25T20:37:29.200Z"
   },
   {
    "duration": 7,
    "start_time": "2024-07-25T20:37:30.374Z"
   },
   {
    "duration": 7,
    "start_time": "2024-07-25T20:37:30.383Z"
   },
   {
    "duration": 389,
    "start_time": "2024-07-25T20:37:30.394Z"
   },
   {
    "duration": 219,
    "start_time": "2024-07-25T20:37:30.786Z"
   },
   {
    "duration": 392,
    "start_time": "2024-07-25T20:37:31.009Z"
   },
   {
    "duration": 26,
    "start_time": "2024-07-25T20:37:31.405Z"
   },
   {
    "duration": 8,
    "start_time": "2024-07-25T20:37:31.434Z"
   },
   {
    "duration": 515,
    "start_time": "2024-07-25T20:37:31.444Z"
   },
   {
    "duration": 27,
    "start_time": "2024-07-25T20:37:31.962Z"
   },
   {
    "duration": 394,
    "start_time": "2024-07-25T20:37:31.992Z"
   },
   {
    "duration": 26,
    "start_time": "2024-07-25T20:37:59.795Z"
   },
   {
    "duration": 88,
    "start_time": "2024-07-25T20:38:01.289Z"
   },
   {
    "duration": 265,
    "start_time": "2024-07-25T20:38:10.090Z"
   },
   {
    "duration": 587,
    "start_time": "2024-07-25T20:39:27.354Z"
   },
   {
    "duration": 290,
    "start_time": "2024-07-25T20:40:15.386Z"
   },
   {
    "duration": 706,
    "start_time": "2024-07-25T20:43:42.324Z"
   },
   {
    "duration": 1538,
    "start_time": "2024-07-25T20:43:43.033Z"
   },
   {
    "duration": 10,
    "start_time": "2024-07-25T20:43:44.573Z"
   },
   {
    "duration": 7,
    "start_time": "2024-07-25T20:43:44.586Z"
   },
   {
    "duration": 35,
    "start_time": "2024-07-25T20:43:44.596Z"
   },
   {
    "duration": 6,
    "start_time": "2024-07-25T20:43:44.634Z"
   },
   {
    "duration": 7,
    "start_time": "2024-07-25T20:43:44.644Z"
   },
   {
    "duration": 371,
    "start_time": "2024-07-25T20:43:44.655Z"
   },
   {
    "duration": 13,
    "start_time": "2024-07-25T20:43:45.031Z"
   },
   {
    "duration": 202,
    "start_time": "2024-07-25T20:43:45.050Z"
   },
   {
    "duration": 320,
    "start_time": "2024-07-25T20:43:45.256Z"
   },
   {
    "duration": 94,
    "start_time": "2024-07-25T20:43:45.580Z"
   },
   {
    "duration": 35,
    "start_time": "2024-07-25T20:43:45.677Z"
   },
   {
    "duration": 17,
    "start_time": "2024-07-25T20:43:45.715Z"
   },
   {
    "duration": 57,
    "start_time": "2024-07-25T20:43:45.735Z"
   },
   {
    "duration": 60,
    "start_time": "2024-07-25T20:43:45.796Z"
   },
   {
    "duration": 7,
    "start_time": "2024-07-25T20:43:45.859Z"
   },
   {
    "duration": 6,
    "start_time": "2024-07-25T20:43:45.869Z"
   },
   {
    "duration": 9,
    "start_time": "2024-07-25T20:43:45.878Z"
   },
   {
    "duration": 5,
    "start_time": "2024-07-25T20:43:45.931Z"
   },
   {
    "duration": 2611,
    "start_time": "2024-07-25T20:43:45.940Z"
   },
   {
    "duration": 48,
    "start_time": "2024-07-25T20:43:48.554Z"
   },
   {
    "duration": 66,
    "start_time": "2024-07-25T20:43:48.605Z"
   },
   {
    "duration": 14,
    "start_time": "2024-07-25T20:43:48.673Z"
   },
   {
    "duration": 41,
    "start_time": "2024-07-25T20:43:48.689Z"
   },
   {
    "duration": 12,
    "start_time": "2024-07-25T20:43:48.733Z"
   },
   {
    "duration": 37,
    "start_time": "2024-07-25T20:43:48.748Z"
   },
   {
    "duration": 59,
    "start_time": "2024-07-25T20:43:48.792Z"
   },
   {
    "duration": 15,
    "start_time": "2024-07-25T20:43:48.854Z"
   },
   {
    "duration": 128,
    "start_time": "2024-07-25T20:43:48.872Z"
   },
   {
    "duration": 69,
    "start_time": "2024-07-25T20:43:49.004Z"
   },
   {
    "duration": 9,
    "start_time": "2024-07-25T20:43:49.076Z"
   },
   {
    "duration": 231,
    "start_time": "2024-07-25T20:43:49.087Z"
   },
   {
    "duration": 1177,
    "start_time": "2024-07-25T20:43:49.322Z"
   },
   {
    "duration": 6,
    "start_time": "2024-07-25T20:43:50.501Z"
   },
   {
    "duration": 23,
    "start_time": "2024-07-25T20:43:50.510Z"
   },
   {
    "duration": 374,
    "start_time": "2024-07-25T20:43:50.536Z"
   },
   {
    "duration": 232,
    "start_time": "2024-07-25T20:43:50.913Z"
   },
   {
    "duration": 388,
    "start_time": "2024-07-25T20:43:51.149Z"
   },
   {
    "duration": 15,
    "start_time": "2024-07-25T20:43:51.540Z"
   },
   {
    "duration": 8,
    "start_time": "2024-07-25T20:43:51.557Z"
   },
   {
    "duration": 557,
    "start_time": "2024-07-25T20:43:51.568Z"
   },
   {
    "duration": 32,
    "start_time": "2024-07-25T20:43:52.131Z"
   },
   {
    "duration": 321,
    "start_time": "2024-07-25T20:43:52.166Z"
   },
   {
    "duration": 1197,
    "start_time": "2024-07-25T20:43:52.490Z"
   },
   {
    "duration": 0,
    "start_time": "2024-07-25T20:43:53.690Z"
   },
   {
    "duration": 0,
    "start_time": "2024-07-25T20:43:53.692Z"
   },
   {
    "duration": 688,
    "start_time": "2024-07-25T20:47:03.337Z"
   },
   {
    "duration": 1548,
    "start_time": "2024-07-25T20:47:04.031Z"
   },
   {
    "duration": 10,
    "start_time": "2024-07-25T20:47:05.581Z"
   },
   {
    "duration": 7,
    "start_time": "2024-07-25T20:47:05.594Z"
   },
   {
    "duration": 9,
    "start_time": "2024-07-25T20:47:05.633Z"
   },
   {
    "duration": 16,
    "start_time": "2024-07-25T20:47:05.649Z"
   },
   {
    "duration": 7,
    "start_time": "2024-07-25T20:47:05.669Z"
   },
   {
    "duration": 360,
    "start_time": "2024-07-25T20:47:05.680Z"
   },
   {
    "duration": 13,
    "start_time": "2024-07-25T20:47:06.044Z"
   },
   {
    "duration": 205,
    "start_time": "2024-07-25T20:47:06.060Z"
   },
   {
    "duration": 331,
    "start_time": "2024-07-25T20:47:06.268Z"
   },
   {
    "duration": 90,
    "start_time": "2024-07-25T20:47:06.603Z"
   },
   {
    "duration": 50,
    "start_time": "2024-07-25T20:47:06.695Z"
   },
   {
    "duration": 6,
    "start_time": "2024-07-25T20:47:06.751Z"
   },
   {
    "duration": 80,
    "start_time": "2024-07-25T20:47:06.760Z"
   },
   {
    "duration": 39,
    "start_time": "2024-07-25T20:47:06.844Z"
   },
   {
    "duration": 9,
    "start_time": "2024-07-25T20:47:06.887Z"
   },
   {
    "duration": 33,
    "start_time": "2024-07-25T20:47:06.900Z"
   },
   {
    "duration": 9,
    "start_time": "2024-07-25T20:47:06.936Z"
   },
   {
    "duration": 4,
    "start_time": "2024-07-25T20:47:06.949Z"
   },
   {
    "duration": 2642,
    "start_time": "2024-07-25T20:47:06.958Z"
   },
   {
    "duration": 60,
    "start_time": "2024-07-25T20:47:09.603Z"
   },
   {
    "duration": 44,
    "start_time": "2024-07-25T20:47:09.666Z"
   },
   {
    "duration": 13,
    "start_time": "2024-07-25T20:47:09.730Z"
   },
   {
    "duration": 12,
    "start_time": "2024-07-25T20:47:09.746Z"
   },
   {
    "duration": 10,
    "start_time": "2024-07-25T20:47:09.762Z"
   },
   {
    "duration": 75,
    "start_time": "2024-07-25T20:47:09.775Z"
   },
   {
    "duration": 29,
    "start_time": "2024-07-25T20:47:09.852Z"
   },
   {
    "duration": 14,
    "start_time": "2024-07-25T20:47:09.884Z"
   },
   {
    "duration": 118,
    "start_time": "2024-07-25T20:47:09.931Z"
   },
   {
    "duration": 52,
    "start_time": "2024-07-25T20:47:10.052Z"
   },
   {
    "duration": 28,
    "start_time": "2024-07-25T20:47:10.109Z"
   },
   {
    "duration": 233,
    "start_time": "2024-07-25T20:47:10.140Z"
   },
   {
    "duration": 1175,
    "start_time": "2024-07-25T20:47:10.376Z"
   },
   {
    "duration": 6,
    "start_time": "2024-07-25T20:47:11.554Z"
   },
   {
    "duration": 7,
    "start_time": "2024-07-25T20:47:11.563Z"
   },
   {
    "duration": 404,
    "start_time": "2024-07-25T20:47:11.573Z"
   },
   {
    "duration": 239,
    "start_time": "2024-07-25T20:47:11.980Z"
   },
   {
    "duration": 424,
    "start_time": "2024-07-25T20:47:12.222Z"
   },
   {
    "duration": 14,
    "start_time": "2024-07-25T20:47:12.649Z"
   },
   {
    "duration": 7,
    "start_time": "2024-07-25T20:47:12.671Z"
   },
   {
    "duration": 524,
    "start_time": "2024-07-25T20:47:12.681Z"
   },
   {
    "duration": 40,
    "start_time": "2024-07-25T20:47:13.208Z"
   },
   {
    "duration": 286,
    "start_time": "2024-07-25T20:47:13.251Z"
   },
   {
    "duration": 7,
    "start_time": "2024-07-25T20:47:13.540Z"
   },
   {
    "duration": 9,
    "start_time": "2024-07-25T20:47:13.550Z"
   },
   {
    "duration": 7,
    "start_time": "2024-07-25T20:47:13.561Z"
   },
   {
    "duration": 680,
    "start_time": "2024-07-25T23:04:17.150Z"
   },
   {
    "duration": 1571,
    "start_time": "2024-07-25T23:04:17.834Z"
   },
   {
    "duration": 9,
    "start_time": "2024-07-25T23:04:19.408Z"
   },
   {
    "duration": 8,
    "start_time": "2024-07-25T23:04:19.433Z"
   },
   {
    "duration": 7,
    "start_time": "2024-07-25T23:04:19.444Z"
   },
   {
    "duration": 7,
    "start_time": "2024-07-25T23:04:19.454Z"
   },
   {
    "duration": 10,
    "start_time": "2024-07-25T23:04:19.464Z"
   },
   {
    "duration": 379,
    "start_time": "2024-07-25T23:04:19.476Z"
   },
   {
    "duration": 14,
    "start_time": "2024-07-25T23:04:19.859Z"
   },
   {
    "duration": 211,
    "start_time": "2024-07-25T23:04:19.879Z"
   },
   {
    "duration": 338,
    "start_time": "2024-07-25T23:04:20.093Z"
   },
   {
    "duration": 99,
    "start_time": "2024-07-25T23:04:20.434Z"
   },
   {
    "duration": 37,
    "start_time": "2024-07-25T23:04:20.536Z"
   },
   {
    "duration": 5,
    "start_time": "2024-07-25T23:04:20.576Z"
   },
   {
    "duration": 76,
    "start_time": "2024-07-25T23:04:20.584Z"
   },
   {
    "duration": 33,
    "start_time": "2024-07-25T23:04:20.662Z"
   },
   {
    "duration": 32,
    "start_time": "2024-07-25T23:04:20.698Z"
   },
   {
    "duration": 5,
    "start_time": "2024-07-25T23:04:20.734Z"
   },
   {
    "duration": 9,
    "start_time": "2024-07-25T23:04:20.742Z"
   },
   {
    "duration": 5,
    "start_time": "2024-07-25T23:04:20.754Z"
   },
   {
    "duration": 2689,
    "start_time": "2024-07-25T23:04:20.762Z"
   },
   {
    "duration": 49,
    "start_time": "2024-07-25T23:04:23.454Z"
   },
   {
    "duration": 65,
    "start_time": "2024-07-25T23:04:23.505Z"
   },
   {
    "duration": 14,
    "start_time": "2024-07-25T23:04:23.573Z"
   },
   {
    "duration": 12,
    "start_time": "2024-07-25T23:04:23.590Z"
   },
   {
    "duration": 12,
    "start_time": "2024-07-25T23:04:23.632Z"
   },
   {
    "duration": 38,
    "start_time": "2024-07-25T23:04:23.647Z"
   },
   {
    "duration": 61,
    "start_time": "2024-07-25T23:04:23.692Z"
   },
   {
    "duration": 15,
    "start_time": "2024-07-25T23:04:23.755Z"
   },
   {
    "duration": 131,
    "start_time": "2024-07-25T23:04:23.773Z"
   },
   {
    "duration": 61,
    "start_time": "2024-07-25T23:04:23.906Z"
   },
   {
    "duration": 9,
    "start_time": "2024-07-25T23:04:23.970Z"
   },
   {
    "duration": 235,
    "start_time": "2024-07-25T23:04:23.982Z"
   },
   {
    "duration": 1164,
    "start_time": "2024-07-25T23:04:24.220Z"
   },
   {
    "duration": 6,
    "start_time": "2024-07-25T23:04:25.386Z"
   },
   {
    "duration": 5,
    "start_time": "2024-07-25T23:04:25.395Z"
   },
   {
    "duration": 390,
    "start_time": "2024-07-25T23:04:25.430Z"
   },
   {
    "duration": 254,
    "start_time": "2024-07-25T23:04:25.823Z"
   },
   {
    "duration": 409,
    "start_time": "2024-07-25T23:04:26.080Z"
   },
   {
    "duration": 15,
    "start_time": "2024-07-25T23:04:26.492Z"
   },
   {
    "duration": 26,
    "start_time": "2024-07-25T23:04:26.510Z"
   },
   {
    "duration": 565,
    "start_time": "2024-07-25T23:04:26.539Z"
   },
   {
    "duration": 41,
    "start_time": "2024-07-25T23:04:27.108Z"
   },
   {
    "duration": 305,
    "start_time": "2024-07-25T23:04:27.152Z"
   },
   {
    "duration": 10,
    "start_time": "2024-07-25T23:04:27.459Z"
   },
   {
    "duration": 14,
    "start_time": "2024-07-25T23:04:27.474Z"
   },
   {
    "duration": 9,
    "start_time": "2024-07-25T23:04:27.491Z"
   },
   {
    "duration": 524,
    "start_time": "2024-07-25T23:08:05.457Z"
   },
   {
    "duration": 939,
    "start_time": "2024-07-25T23:13:55.885Z"
   },
   {
    "duration": 991,
    "start_time": "2024-07-25T23:15:59.466Z"
   },
   {
    "duration": 929,
    "start_time": "2024-07-25T23:17:45.962Z"
   },
   {
    "duration": 178,
    "start_time": "2024-07-25T23:28:29.638Z"
   },
   {
    "duration": 453,
    "start_time": "2024-07-25T23:31:29.760Z"
   },
   {
    "duration": 719,
    "start_time": "2024-07-25T23:31:40.419Z"
   },
   {
    "duration": 1590,
    "start_time": "2024-07-25T23:31:41.142Z"
   },
   {
    "duration": 12,
    "start_time": "2024-07-25T23:31:42.735Z"
   },
   {
    "duration": 8,
    "start_time": "2024-07-25T23:31:42.750Z"
   },
   {
    "duration": 7,
    "start_time": "2024-07-25T23:31:42.765Z"
   },
   {
    "duration": 6,
    "start_time": "2024-07-25T23:31:42.775Z"
   },
   {
    "duration": 54,
    "start_time": "2024-07-25T23:31:42.784Z"
   },
   {
    "duration": 369,
    "start_time": "2024-07-25T23:31:42.842Z"
   },
   {
    "duration": 24,
    "start_time": "2024-07-25T23:31:43.213Z"
   },
   {
    "duration": 192,
    "start_time": "2024-07-25T23:31:43.240Z"
   },
   {
    "duration": 335,
    "start_time": "2024-07-25T23:31:43.434Z"
   },
   {
    "duration": 92,
    "start_time": "2024-07-25T23:31:43.773Z"
   },
   {
    "duration": 36,
    "start_time": "2024-07-25T23:31:43.868Z"
   },
   {
    "duration": 5,
    "start_time": "2024-07-25T23:31:43.931Z"
   },
   {
    "duration": 50,
    "start_time": "2024-07-25T23:31:43.939Z"
   },
   {
    "duration": 56,
    "start_time": "2024-07-25T23:31:43.992Z"
   },
   {
    "duration": 8,
    "start_time": "2024-07-25T23:31:44.051Z"
   },
   {
    "duration": 6,
    "start_time": "2024-07-25T23:31:44.062Z"
   },
   {
    "duration": 9,
    "start_time": "2024-07-25T23:31:44.071Z"
   },
   {
    "duration": 49,
    "start_time": "2024-07-25T23:31:44.082Z"
   },
   {
    "duration": 2720,
    "start_time": "2024-07-25T23:31:44.134Z"
   },
   {
    "duration": 47,
    "start_time": "2024-07-25T23:31:46.858Z"
   },
   {
    "duration": 60,
    "start_time": "2024-07-25T23:31:46.910Z"
   },
   {
    "duration": 15,
    "start_time": "2024-07-25T23:31:46.973Z"
   },
   {
    "duration": 42,
    "start_time": "2024-07-25T23:31:46.991Z"
   },
   {
    "duration": 12,
    "start_time": "2024-07-25T23:31:47.036Z"
   },
   {
    "duration": 36,
    "start_time": "2024-07-25T23:31:47.051Z"
   },
   {
    "duration": 60,
    "start_time": "2024-07-25T23:31:47.090Z"
   },
   {
    "duration": 13,
    "start_time": "2024-07-25T23:31:47.153Z"
   },
   {
    "duration": 127,
    "start_time": "2024-07-25T23:31:47.169Z"
   },
   {
    "duration": 61,
    "start_time": "2024-07-25T23:31:47.300Z"
   },
   {
    "duration": 8,
    "start_time": "2024-07-25T23:31:47.364Z"
   },
   {
    "duration": 228,
    "start_time": "2024-07-25T23:31:47.375Z"
   },
   {
    "duration": 1185,
    "start_time": "2024-07-25T23:31:47.606Z"
   },
   {
    "duration": 7,
    "start_time": "2024-07-25T23:31:48.794Z"
   },
   {
    "duration": 31,
    "start_time": "2024-07-25T23:31:48.804Z"
   },
   {
    "duration": 374,
    "start_time": "2024-07-25T23:31:48.839Z"
   },
   {
    "duration": 225,
    "start_time": "2024-07-25T23:31:49.216Z"
   },
   {
    "duration": 394,
    "start_time": "2024-07-25T23:31:49.444Z"
   },
   {
    "duration": 16,
    "start_time": "2024-07-25T23:31:49.840Z"
   },
   {
    "duration": 7,
    "start_time": "2024-07-25T23:31:49.864Z"
   },
   {
    "duration": 518,
    "start_time": "2024-07-25T23:31:49.873Z"
   },
   {
    "duration": 38,
    "start_time": "2024-07-25T23:31:50.394Z"
   },
   {
    "duration": 299,
    "start_time": "2024-07-25T23:31:50.435Z"
   },
   {
    "duration": 11,
    "start_time": "2024-07-25T23:31:50.737Z"
   },
   {
    "duration": 9,
    "start_time": "2024-07-25T23:31:50.751Z"
   },
   {
    "duration": 6,
    "start_time": "2024-07-25T23:31:50.763Z"
   },
   {
    "duration": 985,
    "start_time": "2024-07-25T23:31:50.773Z"
   },
   {
    "duration": 641,
    "start_time": "2024-07-25T23:31:51.761Z"
   },
   {
    "duration": 5,
    "start_time": "2024-07-25T23:32:08.907Z"
   },
   {
    "duration": 131,
    "start_time": "2024-07-25T23:32:19.977Z"
   },
   {
    "duration": 838,
    "start_time": "2024-07-25T23:32:34.050Z"
   },
   {
    "duration": 559,
    "start_time": "2024-07-25T23:33:53.126Z"
   },
   {
    "duration": 190,
    "start_time": "2024-07-25T23:35:04.399Z"
   },
   {
    "duration": 1661,
    "start_time": "2024-07-25T23:37:10.404Z"
   },
   {
    "duration": 668,
    "start_time": "2024-07-25T23:38:19.870Z"
   },
   {
    "duration": 1738,
    "start_time": "2024-07-25T23:38:20.542Z"
   },
   {
    "duration": 10,
    "start_time": "2024-07-25T23:38:22.286Z"
   },
   {
    "duration": 7,
    "start_time": "2024-07-25T23:38:22.302Z"
   },
   {
    "duration": 7,
    "start_time": "2024-07-25T23:38:22.331Z"
   },
   {
    "duration": 9,
    "start_time": "2024-07-25T23:38:22.340Z"
   },
   {
    "duration": 7,
    "start_time": "2024-07-25T23:38:22.352Z"
   },
   {
    "duration": 385,
    "start_time": "2024-07-25T23:38:22.362Z"
   },
   {
    "duration": 17,
    "start_time": "2024-07-25T23:38:22.750Z"
   },
   {
    "duration": 205,
    "start_time": "2024-07-25T23:38:22.772Z"
   },
   {
    "duration": 344,
    "start_time": "2024-07-25T23:38:22.981Z"
   },
   {
    "duration": 84,
    "start_time": "2024-07-25T23:38:23.332Z"
   },
   {
    "duration": 46,
    "start_time": "2024-07-25T23:38:23.418Z"
   },
   {
    "duration": 5,
    "start_time": "2024-07-25T23:38:23.467Z"
   },
   {
    "duration": 79,
    "start_time": "2024-07-25T23:38:23.475Z"
   },
   {
    "duration": 33,
    "start_time": "2024-07-25T23:38:23.557Z"
   },
   {
    "duration": 9,
    "start_time": "2024-07-25T23:38:23.592Z"
   },
   {
    "duration": 5,
    "start_time": "2024-07-25T23:38:23.631Z"
   },
   {
    "duration": 9,
    "start_time": "2024-07-25T23:38:23.639Z"
   },
   {
    "duration": 5,
    "start_time": "2024-07-25T23:38:23.651Z"
   },
   {
    "duration": 2672,
    "start_time": "2024-07-25T23:38:23.659Z"
   },
   {
    "duration": 49,
    "start_time": "2024-07-25T23:38:26.334Z"
   },
   {
    "duration": 78,
    "start_time": "2024-07-25T23:38:26.387Z"
   },
   {
    "duration": 15,
    "start_time": "2024-07-25T23:38:26.469Z"
   },
   {
    "duration": 13,
    "start_time": "2024-07-25T23:38:26.488Z"
   },
   {
    "duration": 37,
    "start_time": "2024-07-25T23:38:26.503Z"
   },
   {
    "duration": 36,
    "start_time": "2024-07-25T23:38:26.542Z"
   },
   {
    "duration": 60,
    "start_time": "2024-07-25T23:38:26.586Z"
   },
   {
    "duration": 14,
    "start_time": "2024-07-25T23:38:26.650Z"
   },
   {
    "duration": 134,
    "start_time": "2024-07-25T23:38:26.668Z"
   },
   {
    "duration": 62,
    "start_time": "2024-07-25T23:38:26.804Z"
   },
   {
    "duration": 10,
    "start_time": "2024-07-25T23:38:26.869Z"
   },
   {
    "duration": 230,
    "start_time": "2024-07-25T23:38:26.882Z"
   },
   {
    "duration": 1198,
    "start_time": "2024-07-25T23:38:27.114Z"
   },
   {
    "duration": 15,
    "start_time": "2024-07-25T23:38:28.315Z"
   },
   {
    "duration": 5,
    "start_time": "2024-07-25T23:38:28.335Z"
   },
   {
    "duration": 395,
    "start_time": "2024-07-25T23:38:28.344Z"
   },
   {
    "duration": 225,
    "start_time": "2024-07-25T23:38:28.742Z"
   },
   {
    "duration": 379,
    "start_time": "2024-07-25T23:38:28.969Z"
   },
   {
    "duration": 14,
    "start_time": "2024-07-25T23:38:29.351Z"
   },
   {
    "duration": 8,
    "start_time": "2024-07-25T23:38:29.368Z"
   },
   {
    "duration": 525,
    "start_time": "2024-07-25T23:38:29.379Z"
   },
   {
    "duration": 39,
    "start_time": "2024-07-25T23:38:29.907Z"
   },
   {
    "duration": 282,
    "start_time": "2024-07-25T23:38:29.948Z"
   },
   {
    "duration": 7,
    "start_time": "2024-07-25T23:38:30.233Z"
   },
   {
    "duration": 10,
    "start_time": "2024-07-25T23:38:30.243Z"
   },
   {
    "duration": 7,
    "start_time": "2024-07-25T23:38:30.255Z"
   },
   {
    "duration": 986,
    "start_time": "2024-07-25T23:38:30.266Z"
   },
   {
    "duration": 1346,
    "start_time": "2024-07-25T23:38:31.255Z"
   },
   {
    "duration": 663,
    "start_time": "2024-07-25T23:45:25.176Z"
   },
   {
    "duration": 1559,
    "start_time": "2024-07-25T23:45:25.843Z"
   },
   {
    "duration": 10,
    "start_time": "2024-07-25T23:45:27.405Z"
   },
   {
    "duration": 7,
    "start_time": "2024-07-25T23:45:27.430Z"
   },
   {
    "duration": 6,
    "start_time": "2024-07-25T23:45:27.442Z"
   },
   {
    "duration": 6,
    "start_time": "2024-07-25T23:45:27.452Z"
   },
   {
    "duration": 7,
    "start_time": "2024-07-25T23:45:27.461Z"
   },
   {
    "duration": 375,
    "start_time": "2024-07-25T23:45:27.471Z"
   },
   {
    "duration": 13,
    "start_time": "2024-07-25T23:45:27.849Z"
   },
   {
    "duration": 201,
    "start_time": "2024-07-25T23:45:27.865Z"
   },
   {
    "duration": 351,
    "start_time": "2024-07-25T23:45:28.069Z"
   },
   {
    "duration": 88,
    "start_time": "2024-07-25T23:45:28.423Z"
   },
   {
    "duration": 50,
    "start_time": "2024-07-25T23:45:28.514Z"
   },
   {
    "duration": 6,
    "start_time": "2024-07-25T23:45:28.572Z"
   },
   {
    "duration": 77,
    "start_time": "2024-07-25T23:45:28.581Z"
   },
   {
    "duration": 35,
    "start_time": "2024-07-25T23:45:28.661Z"
   },
   {
    "duration": 32,
    "start_time": "2024-07-25T23:45:28.699Z"
   },
   {
    "duration": 5,
    "start_time": "2024-07-25T23:45:28.734Z"
   },
   {
    "duration": 9,
    "start_time": "2024-07-25T23:45:28.742Z"
   },
   {
    "duration": 6,
    "start_time": "2024-07-25T23:45:28.754Z"
   },
   {
    "duration": 2715,
    "start_time": "2024-07-25T23:45:28.763Z"
   },
   {
    "duration": 68,
    "start_time": "2024-07-25T23:45:31.481Z"
   },
   {
    "duration": 47,
    "start_time": "2024-07-25T23:45:31.552Z"
   },
   {
    "duration": 28,
    "start_time": "2024-07-25T23:45:31.603Z"
   },
   {
    "duration": 14,
    "start_time": "2024-07-25T23:45:31.634Z"
   },
   {
    "duration": 11,
    "start_time": "2024-07-25T23:45:31.651Z"
   },
   {
    "duration": 73,
    "start_time": "2024-07-25T23:45:31.665Z"
   },
   {
    "duration": 33,
    "start_time": "2024-07-25T23:45:31.741Z"
   },
   {
    "duration": 17,
    "start_time": "2024-07-25T23:45:31.778Z"
   },
   {
    "duration": 144,
    "start_time": "2024-07-25T23:45:31.798Z"
   },
   {
    "duration": 49,
    "start_time": "2024-07-25T23:45:31.945Z"
   },
   {
    "duration": 32,
    "start_time": "2024-07-25T23:45:31.999Z"
   },
   {
    "duration": 225,
    "start_time": "2024-07-25T23:45:32.041Z"
   },
   {
    "duration": 1198,
    "start_time": "2024-07-25T23:45:32.269Z"
   },
   {
    "duration": 6,
    "start_time": "2024-07-25T23:45:33.470Z"
   },
   {
    "duration": 7,
    "start_time": "2024-07-25T23:45:33.479Z"
   },
   {
    "duration": 390,
    "start_time": "2024-07-25T23:45:33.489Z"
   },
   {
    "duration": 223,
    "start_time": "2024-07-25T23:45:33.882Z"
   },
   {
    "duration": 386,
    "start_time": "2024-07-25T23:45:34.109Z"
   },
   {
    "duration": 15,
    "start_time": "2024-07-25T23:45:34.498Z"
   },
   {
    "duration": 8,
    "start_time": "2024-07-25T23:45:34.532Z"
   },
   {
    "duration": 513,
    "start_time": "2024-07-25T23:45:34.543Z"
   },
   {
    "duration": 27,
    "start_time": "2024-07-25T23:45:35.059Z"
   },
   {
    "duration": 294,
    "start_time": "2024-07-25T23:45:35.089Z"
   },
   {
    "duration": 7,
    "start_time": "2024-07-25T23:45:35.386Z"
   },
   {
    "duration": 34,
    "start_time": "2024-07-25T23:45:35.396Z"
   },
   {
    "duration": 7,
    "start_time": "2024-07-25T23:45:35.434Z"
   },
   {
    "duration": 980,
    "start_time": "2024-07-25T23:45:35.444Z"
   },
   {
    "duration": 1279,
    "start_time": "2024-07-25T23:45:36.431Z"
   },
   {
    "duration": 0,
    "start_time": "2024-07-25T23:45:37.713Z"
   },
   {
    "duration": 0,
    "start_time": "2024-07-25T23:45:37.716Z"
   },
   {
    "duration": 0,
    "start_time": "2024-07-25T23:45:37.718Z"
   },
   {
    "duration": 0,
    "start_time": "2024-07-25T23:45:37.731Z"
   },
   {
    "duration": 422,
    "start_time": "2024-07-25T23:46:21.370Z"
   },
   {
    "duration": 416,
    "start_time": "2024-07-25T23:46:54.889Z"
   },
   {
    "duration": 409,
    "start_time": "2024-07-25T23:49:16.850Z"
   },
   {
    "duration": 454,
    "start_time": "2024-07-25T23:50:40.541Z"
   },
   {
    "duration": 678,
    "start_time": "2024-07-25T23:52:55.107Z"
   },
   {
    "duration": 1563,
    "start_time": "2024-07-25T23:52:55.788Z"
   },
   {
    "duration": 10,
    "start_time": "2024-07-25T23:52:57.354Z"
   },
   {
    "duration": 7,
    "start_time": "2024-07-25T23:52:57.368Z"
   },
   {
    "duration": 7,
    "start_time": "2024-07-25T23:52:57.378Z"
   },
   {
    "duration": 42,
    "start_time": "2024-07-25T23:52:57.388Z"
   },
   {
    "duration": 8,
    "start_time": "2024-07-25T23:52:57.433Z"
   },
   {
    "duration": 371,
    "start_time": "2024-07-25T23:52:57.445Z"
   },
   {
    "duration": 21,
    "start_time": "2024-07-25T23:52:57.820Z"
   },
   {
    "duration": 197,
    "start_time": "2024-07-25T23:52:57.847Z"
   },
   {
    "duration": 325,
    "start_time": "2024-07-25T23:52:58.047Z"
   },
   {
    "duration": 96,
    "start_time": "2024-07-25T23:52:58.375Z"
   },
   {
    "duration": 36,
    "start_time": "2024-07-25T23:52:58.474Z"
   },
   {
    "duration": 6,
    "start_time": "2024-07-25T23:52:58.530Z"
   },
   {
    "duration": 53,
    "start_time": "2024-07-25T23:52:58.540Z"
   },
   {
    "duration": 67,
    "start_time": "2024-07-25T23:52:58.596Z"
   },
   {
    "duration": 8,
    "start_time": "2024-07-25T23:52:58.666Z"
   },
   {
    "duration": 6,
    "start_time": "2024-07-25T23:52:58.677Z"
   },
   {
    "duration": 45,
    "start_time": "2024-07-25T23:52:58.686Z"
   },
   {
    "duration": 5,
    "start_time": "2024-07-25T23:52:58.734Z"
   },
   {
    "duration": 2654,
    "start_time": "2024-07-25T23:52:58.742Z"
   },
   {
    "duration": 59,
    "start_time": "2024-07-25T23:53:01.399Z"
   },
   {
    "duration": 47,
    "start_time": "2024-07-25T23:53:01.461Z"
   },
   {
    "duration": 29,
    "start_time": "2024-07-25T23:53:01.511Z"
   },
   {
    "duration": 13,
    "start_time": "2024-07-25T23:53:01.543Z"
   },
   {
    "duration": 10,
    "start_time": "2024-07-25T23:53:01.559Z"
   },
   {
    "duration": 79,
    "start_time": "2024-07-25T23:53:01.572Z"
   },
   {
    "duration": 27,
    "start_time": "2024-07-25T23:53:01.660Z"
   },
   {
    "duration": 14,
    "start_time": "2024-07-25T23:53:01.690Z"
   },
   {
    "duration": 124,
    "start_time": "2024-07-25T23:53:01.734Z"
   },
   {
    "duration": 50,
    "start_time": "2024-07-25T23:53:01.861Z"
   },
   {
    "duration": 21,
    "start_time": "2024-07-25T23:53:01.914Z"
   },
   {
    "duration": 234,
    "start_time": "2024-07-25T23:53:01.938Z"
   },
   {
    "duration": 1219,
    "start_time": "2024-07-25T23:53:02.176Z"
   },
   {
    "duration": 6,
    "start_time": "2024-07-25T23:53:03.399Z"
   },
   {
    "duration": 25,
    "start_time": "2024-07-25T23:53:03.408Z"
   },
   {
    "duration": 373,
    "start_time": "2024-07-25T23:53:03.436Z"
   },
   {
    "duration": 228,
    "start_time": "2024-07-25T23:53:03.812Z"
   },
   {
    "duration": 382,
    "start_time": "2024-07-25T23:53:04.043Z"
   },
   {
    "duration": 16,
    "start_time": "2024-07-25T23:53:04.431Z"
   },
   {
    "duration": 8,
    "start_time": "2024-07-25T23:53:04.449Z"
   },
   {
    "duration": 515,
    "start_time": "2024-07-25T23:53:04.459Z"
   },
   {
    "duration": 33,
    "start_time": "2024-07-25T23:53:04.977Z"
   },
   {
    "duration": 288,
    "start_time": "2024-07-25T23:53:05.013Z"
   },
   {
    "duration": 7,
    "start_time": "2024-07-25T23:53:05.305Z"
   },
   {
    "duration": 23,
    "start_time": "2024-07-25T23:53:05.315Z"
   },
   {
    "duration": 6,
    "start_time": "2024-07-25T23:53:05.342Z"
   },
   {
    "duration": 1002,
    "start_time": "2024-07-25T23:53:05.351Z"
   },
   {
    "duration": 587,
    "start_time": "2024-07-25T23:53:06.358Z"
   },
   {
    "duration": 1209,
    "start_time": "2024-07-25T23:53:06.948Z"
   },
   {
    "duration": 0,
    "start_time": "2024-07-25T23:53:08.160Z"
   },
   {
    "duration": 0,
    "start_time": "2024-07-25T23:53:08.162Z"
   },
   {
    "duration": 0,
    "start_time": "2024-07-25T23:53:08.164Z"
   },
   {
    "duration": 517,
    "start_time": "2024-07-25T23:53:26.468Z"
   },
   {
    "duration": 490,
    "start_time": "2024-07-25T23:53:45.268Z"
   },
   {
    "duration": 498,
    "start_time": "2024-07-25T23:53:50.749Z"
   },
   {
    "duration": 511,
    "start_time": "2024-07-25T23:54:03.197Z"
   },
   {
    "duration": 641,
    "start_time": "2024-07-25T23:54:46.056Z"
   },
   {
    "duration": 500,
    "start_time": "2024-07-25T23:54:53.515Z"
   },
   {
    "duration": 19,
    "start_time": "2024-07-25T23:55:02.142Z"
   },
   {
    "duration": 503,
    "start_time": "2024-07-25T23:55:06.270Z"
   },
   {
    "duration": 186,
    "start_time": "2024-07-25T23:55:37.671Z"
   },
   {
    "duration": 188,
    "start_time": "2024-07-25T23:55:44.926Z"
   },
   {
    "duration": 500,
    "start_time": "2024-07-25T23:55:53.532Z"
   },
   {
    "duration": 581,
    "start_time": "2024-07-25T23:56:05.005Z"
   },
   {
    "duration": 455,
    "start_time": "2024-07-25T23:57:27.928Z"
   },
   {
    "duration": 646,
    "start_time": "2024-07-25T23:57:38.487Z"
   },
   {
    "duration": 1584,
    "start_time": "2024-07-25T23:57:39.136Z"
   },
   {
    "duration": 13,
    "start_time": "2024-07-25T23:57:40.723Z"
   },
   {
    "duration": 8,
    "start_time": "2024-07-25T23:57:40.739Z"
   },
   {
    "duration": 6,
    "start_time": "2024-07-25T23:57:40.754Z"
   },
   {
    "duration": 7,
    "start_time": "2024-07-25T23:57:40.763Z"
   },
   {
    "duration": 8,
    "start_time": "2024-07-25T23:57:40.774Z"
   },
   {
    "duration": 341,
    "start_time": "2024-07-25T23:57:40.832Z"
   },
   {
    "duration": 14,
    "start_time": "2024-07-25T23:57:41.177Z"
   },
   {
    "duration": 206,
    "start_time": "2024-07-25T23:57:41.194Z"
   },
   {
    "duration": 348,
    "start_time": "2024-07-25T23:57:41.403Z"
   },
   {
    "duration": 112,
    "start_time": "2024-07-25T23:57:41.754Z"
   },
   {
    "duration": 37,
    "start_time": "2024-07-25T23:57:41.869Z"
   },
   {
    "duration": 21,
    "start_time": "2024-07-25T23:57:41.912Z"
   },
   {
    "duration": 48,
    "start_time": "2024-07-25T23:57:41.937Z"
   },
   {
    "duration": 71,
    "start_time": "2024-07-25T23:57:41.989Z"
   },
   {
    "duration": 10,
    "start_time": "2024-07-25T23:57:42.063Z"
   },
   {
    "duration": 6,
    "start_time": "2024-07-25T23:57:42.075Z"
   },
   {
    "duration": 49,
    "start_time": "2024-07-25T23:57:42.084Z"
   },
   {
    "duration": 7,
    "start_time": "2024-07-25T23:57:42.139Z"
   },
   {
    "duration": 2737,
    "start_time": "2024-07-25T23:57:42.149Z"
   },
   {
    "duration": 58,
    "start_time": "2024-07-25T23:57:44.888Z"
   },
   {
    "duration": 46,
    "start_time": "2024-07-25T23:57:44.949Z"
   },
   {
    "duration": 36,
    "start_time": "2024-07-25T23:57:44.998Z"
   },
   {
    "duration": 14,
    "start_time": "2024-07-25T23:57:45.037Z"
   },
   {
    "duration": 12,
    "start_time": "2024-07-25T23:57:45.054Z"
   },
   {
    "duration": 73,
    "start_time": "2024-07-25T23:57:45.068Z"
   },
   {
    "duration": 29,
    "start_time": "2024-07-25T23:57:45.144Z"
   },
   {
    "duration": 15,
    "start_time": "2024-07-25T23:57:45.176Z"
   },
   {
    "duration": 143,
    "start_time": "2024-07-25T23:57:45.194Z"
   },
   {
    "duration": 49,
    "start_time": "2024-07-25T23:57:45.340Z"
   },
   {
    "duration": 10,
    "start_time": "2024-07-25T23:57:45.392Z"
   },
   {
    "duration": 216,
    "start_time": "2024-07-25T23:57:45.430Z"
   },
   {
    "duration": 1229,
    "start_time": "2024-07-25T23:57:45.649Z"
   },
   {
    "duration": 5,
    "start_time": "2024-07-25T23:57:46.881Z"
   },
   {
    "duration": 6,
    "start_time": "2024-07-25T23:57:46.890Z"
   },
   {
    "duration": 398,
    "start_time": "2024-07-25T23:57:46.899Z"
   },
   {
    "duration": 222,
    "start_time": "2024-07-25T23:57:47.301Z"
   },
   {
    "duration": 374,
    "start_time": "2024-07-25T23:57:47.530Z"
   },
   {
    "duration": 22,
    "start_time": "2024-07-25T23:57:47.908Z"
   },
   {
    "duration": 8,
    "start_time": "2024-07-25T23:57:47.939Z"
   },
   {
    "duration": 531,
    "start_time": "2024-07-25T23:57:47.950Z"
   },
   {
    "duration": 28,
    "start_time": "2024-07-25T23:57:48.484Z"
   },
   {
    "duration": 297,
    "start_time": "2024-07-25T23:57:48.515Z"
   },
   {
    "duration": 16,
    "start_time": "2024-07-25T23:57:48.815Z"
   },
   {
    "duration": 7,
    "start_time": "2024-07-25T23:57:48.834Z"
   },
   {
    "duration": 7,
    "start_time": "2024-07-25T23:57:48.844Z"
   },
   {
    "duration": 979,
    "start_time": "2024-07-25T23:57:48.854Z"
   },
   {
    "duration": 573,
    "start_time": "2024-07-25T23:57:49.836Z"
   },
   {
    "duration": 475,
    "start_time": "2024-07-25T23:57:50.413Z"
   },
   {
    "duration": 52,
    "start_time": "2024-07-25T23:57:50.890Z"
   },
   {
    "duration": 89,
    "start_time": "2024-07-25T23:57:50.945Z"
   },
   {
    "duration": 610,
    "start_time": "2024-07-25T23:57:51.037Z"
   },
   {
    "duration": 503,
    "start_time": "2024-07-25T23:59:00.253Z"
   },
   {
    "duration": 498,
    "start_time": "2024-07-25T23:59:36.446Z"
   },
   {
    "duration": 495,
    "start_time": "2024-07-25T23:59:42.318Z"
   },
   {
    "duration": 853,
    "start_time": "2024-07-26T00:07:03.477Z"
   },
   {
    "duration": 77,
    "start_time": "2024-07-26T00:07:19.733Z"
   },
   {
    "duration": 26,
    "start_time": "2024-07-26T00:07:32.260Z"
   },
   {
    "duration": 496,
    "start_time": "2024-07-26T00:07:51.109Z"
   },
   {
    "duration": 25,
    "start_time": "2024-07-26T00:07:57.765Z"
   },
   {
    "duration": 78,
    "start_time": "2024-07-26T00:08:06.322Z"
   },
   {
    "duration": 77,
    "start_time": "2024-07-26T00:08:48.079Z"
   },
   {
    "duration": 504,
    "start_time": "2024-07-26T00:10:52.141Z"
   },
   {
    "duration": 501,
    "start_time": "2024-07-26T00:11:05.934Z"
   },
   {
    "duration": 7,
    "start_time": "2024-07-26T00:12:47.691Z"
   },
   {
    "duration": 473,
    "start_time": "2024-07-26T00:12:54.082Z"
   },
   {
    "duration": 454,
    "start_time": "2024-07-26T00:13:12.955Z"
   },
   {
    "duration": 641,
    "start_time": "2024-07-26T00:13:48.591Z"
   },
   {
    "duration": 1567,
    "start_time": "2024-07-26T00:13:49.236Z"
   },
   {
    "duration": 11,
    "start_time": "2024-07-26T00:13:50.806Z"
   },
   {
    "duration": 8,
    "start_time": "2024-07-26T00:13:50.833Z"
   },
   {
    "duration": 7,
    "start_time": "2024-07-26T00:13:50.844Z"
   },
   {
    "duration": 7,
    "start_time": "2024-07-26T00:13:50.854Z"
   },
   {
    "duration": 7,
    "start_time": "2024-07-26T00:13:50.865Z"
   },
   {
    "duration": 380,
    "start_time": "2024-07-26T00:13:50.877Z"
   },
   {
    "duration": 13,
    "start_time": "2024-07-26T00:13:51.260Z"
   },
   {
    "duration": 206,
    "start_time": "2024-07-26T00:13:51.279Z"
   },
   {
    "duration": 354,
    "start_time": "2024-07-26T00:13:51.490Z"
   },
   {
    "duration": 99,
    "start_time": "2024-07-26T00:13:51.847Z"
   },
   {
    "duration": 37,
    "start_time": "2024-07-26T00:13:51.948Z"
   },
   {
    "duration": 5,
    "start_time": "2024-07-26T00:13:51.988Z"
   },
   {
    "duration": 85,
    "start_time": "2024-07-26T00:13:51.998Z"
   },
   {
    "duration": 46,
    "start_time": "2024-07-26T00:13:52.086Z"
   },
   {
    "duration": 11,
    "start_time": "2024-07-26T00:13:52.136Z"
   },
   {
    "duration": 6,
    "start_time": "2024-07-26T00:13:52.150Z"
   },
   {
    "duration": 10,
    "start_time": "2024-07-26T00:13:52.158Z"
   },
   {
    "duration": 6,
    "start_time": "2024-07-26T00:13:52.171Z"
   },
   {
    "duration": 2819,
    "start_time": "2024-07-26T00:13:52.180Z"
   },
   {
    "duration": 60,
    "start_time": "2024-07-26T00:13:55.002Z"
   },
   {
    "duration": 46,
    "start_time": "2024-07-26T00:13:55.065Z"
   },
   {
    "duration": 27,
    "start_time": "2024-07-26T00:13:55.114Z"
   },
   {
    "duration": 13,
    "start_time": "2024-07-26T00:13:55.145Z"
   },
   {
    "duration": 12,
    "start_time": "2024-07-26T00:13:55.161Z"
   },
   {
    "duration": 83,
    "start_time": "2024-07-26T00:13:55.175Z"
   },
   {
    "duration": 27,
    "start_time": "2024-07-26T00:13:55.266Z"
   },
   {
    "duration": 44,
    "start_time": "2024-07-26T00:13:55.296Z"
   },
   {
    "duration": 120,
    "start_time": "2024-07-26T00:13:55.343Z"
   },
   {
    "duration": 49,
    "start_time": "2024-07-26T00:13:55.465Z"
   },
   {
    "duration": 9,
    "start_time": "2024-07-26T00:13:55.530Z"
   },
   {
    "duration": 227,
    "start_time": "2024-07-26T00:13:55.545Z"
   },
   {
    "duration": 1190,
    "start_time": "2024-07-26T00:13:55.775Z"
   },
   {
    "duration": 6,
    "start_time": "2024-07-26T00:13:56.968Z"
   },
   {
    "duration": 6,
    "start_time": "2024-07-26T00:13:56.977Z"
   },
   {
    "duration": 394,
    "start_time": "2024-07-26T00:13:56.987Z"
   },
   {
    "duration": 229,
    "start_time": "2024-07-26T00:13:57.385Z"
   },
   {
    "duration": 393,
    "start_time": "2024-07-26T00:13:57.617Z"
   },
   {
    "duration": 25,
    "start_time": "2024-07-26T00:13:58.014Z"
   },
   {
    "duration": 29,
    "start_time": "2024-07-26T00:13:58.041Z"
   },
   {
    "duration": 481,
    "start_time": "2024-07-26T00:13:58.072Z"
   },
   {
    "duration": 25,
    "start_time": "2024-07-26T00:13:58.558Z"
   },
   {
    "duration": 287,
    "start_time": "2024-07-26T00:13:58.586Z"
   },
   {
    "duration": 7,
    "start_time": "2024-07-26T00:13:58.878Z"
   },
   {
    "duration": 8,
    "start_time": "2024-07-26T00:13:58.887Z"
   },
   {
    "duration": 7,
    "start_time": "2024-07-26T00:13:58.897Z"
   },
   {
    "duration": 964,
    "start_time": "2024-07-26T00:13:58.932Z"
   },
   {
    "duration": 583,
    "start_time": "2024-07-26T00:13:59.899Z"
   },
   {
    "duration": 516,
    "start_time": "2024-07-26T00:14:00.486Z"
   },
   {
    "duration": 672,
    "start_time": "2024-07-26T00:14:01.006Z"
   },
   {
    "duration": 45,
    "start_time": "2024-07-26T00:14:51.860Z"
   },
   {
    "duration": 46,
    "start_time": "2024-07-26T00:16:47.124Z"
   },
   {
    "duration": 100,
    "start_time": "2024-07-26T00:17:37.651Z"
   },
   {
    "duration": 2929,
    "start_time": "2024-07-26T00:18:42.501Z"
   },
   {
    "duration": 2878,
    "start_time": "2024-07-26T00:21:27.673Z"
   },
   {
    "duration": 2877,
    "start_time": "2024-07-26T00:22:08.281Z"
   },
   {
    "duration": 5,
    "start_time": "2024-07-26T00:22:50.585Z"
   },
   {
    "duration": 48,
    "start_time": "2024-07-26T00:23:16.816Z"
   },
   {
    "duration": 2849,
    "start_time": "2024-07-26T00:23:23.929Z"
   },
   {
    "duration": 46,
    "start_time": "2024-07-26T00:25:04.932Z"
   },
   {
    "duration": 1511,
    "start_time": "2024-07-26T00:28:05.808Z"
   },
   {
    "duration": 1471,
    "start_time": "2024-07-26T00:28:33.469Z"
   },
   {
    "duration": 1485,
    "start_time": "2024-07-26T00:29:15.345Z"
   },
   {
    "duration": 8,
    "start_time": "2024-07-26T00:29:51.022Z"
   },
   {
    "duration": 1532,
    "start_time": "2024-07-26T00:30:04.717Z"
   },
   {
    "duration": 1512,
    "start_time": "2024-07-26T00:30:58.550Z"
   },
   {
    "duration": 24,
    "start_time": "2024-07-26T00:33:41.722Z"
   },
   {
    "duration": 47,
    "start_time": "2024-07-26T00:33:46.114Z"
   },
   {
    "duration": 839,
    "start_time": "2024-07-26T00:33:47.328Z"
   },
   {
    "duration": 0,
    "start_time": "2024-07-26T00:33:48.169Z"
   },
   {
    "duration": 428,
    "start_time": "2024-07-26T00:34:19.986Z"
   },
   {
    "duration": 38,
    "start_time": "2024-07-26T00:34:22.392Z"
   },
   {
    "duration": 81,
    "start_time": "2024-07-26T00:34:25.137Z"
   },
   {
    "duration": 37,
    "start_time": "2024-07-26T00:35:05.439Z"
   },
   {
    "duration": 68,
    "start_time": "2024-07-26T00:35:10.395Z"
   },
   {
    "duration": 23,
    "start_time": "2024-07-26T00:35:12.670Z"
   },
   {
    "duration": 10,
    "start_time": "2024-07-26T00:35:18.343Z"
   },
   {
    "duration": 72,
    "start_time": "2024-07-26T00:36:17.855Z"
   },
   {
    "duration": 654,
    "start_time": "2024-07-26T00:37:00.785Z"
   },
   {
    "duration": 1609,
    "start_time": "2024-07-26T00:37:01.444Z"
   },
   {
    "duration": 9,
    "start_time": "2024-07-26T00:37:03.056Z"
   },
   {
    "duration": 8,
    "start_time": "2024-07-26T00:37:03.067Z"
   },
   {
    "duration": 6,
    "start_time": "2024-07-26T00:37:03.081Z"
   },
   {
    "duration": 43,
    "start_time": "2024-07-26T00:37:03.091Z"
   },
   {
    "duration": 8,
    "start_time": "2024-07-26T00:37:03.137Z"
   },
   {
    "duration": 362,
    "start_time": "2024-07-26T00:37:03.150Z"
   },
   {
    "duration": 21,
    "start_time": "2024-07-26T00:37:03.515Z"
   },
   {
    "duration": 197,
    "start_time": "2024-07-26T00:37:03.539Z"
   },
   {
    "duration": 337,
    "start_time": "2024-07-26T00:37:03.739Z"
   },
   {
    "duration": 95,
    "start_time": "2024-07-26T00:37:04.079Z"
   },
   {
    "duration": 55,
    "start_time": "2024-07-26T00:37:04.176Z"
   },
   {
    "duration": 5,
    "start_time": "2024-07-26T00:37:04.240Z"
   },
   {
    "duration": 50,
    "start_time": "2024-07-26T00:37:04.249Z"
   },
   {
    "duration": 32,
    "start_time": "2024-07-26T00:37:04.330Z"
   },
   {
    "duration": 8,
    "start_time": "2024-07-26T00:37:04.365Z"
   },
   {
    "duration": 9,
    "start_time": "2024-07-26T00:37:04.376Z"
   },
   {
    "duration": 41,
    "start_time": "2024-07-26T00:37:04.389Z"
   },
   {
    "duration": 6,
    "start_time": "2024-07-26T00:37:04.434Z"
   },
   {
    "duration": 2727,
    "start_time": "2024-07-26T00:37:04.442Z"
   },
   {
    "duration": 61,
    "start_time": "2024-07-26T00:37:07.172Z"
   },
   {
    "duration": 45,
    "start_time": "2024-07-26T00:37:07.236Z"
   },
   {
    "duration": 12,
    "start_time": "2024-07-26T00:37:07.285Z"
   },
   {
    "duration": 41,
    "start_time": "2024-07-26T00:37:07.299Z"
   },
   {
    "duration": 12,
    "start_time": "2024-07-26T00:37:07.343Z"
   },
   {
    "duration": 37,
    "start_time": "2024-07-26T00:37:07.357Z"
   },
   {
    "duration": 60,
    "start_time": "2024-07-26T00:37:07.397Z"
   },
   {
    "duration": 14,
    "start_time": "2024-07-26T00:37:07.461Z"
   },
   {
    "duration": 135,
    "start_time": "2024-07-26T00:37:07.478Z"
   },
   {
    "duration": 58,
    "start_time": "2024-07-26T00:37:07.617Z"
   },
   {
    "duration": 10,
    "start_time": "2024-07-26T00:37:07.678Z"
   },
   {
    "duration": 242,
    "start_time": "2024-07-26T00:37:07.690Z"
   },
   {
    "duration": 1170,
    "start_time": "2024-07-26T00:37:07.935Z"
   },
   {
    "duration": 6,
    "start_time": "2024-07-26T00:37:09.108Z"
   },
   {
    "duration": 9,
    "start_time": "2024-07-26T00:37:09.131Z"
   },
   {
    "duration": 386,
    "start_time": "2024-07-26T00:37:09.142Z"
   },
   {
    "duration": 221,
    "start_time": "2024-07-26T00:37:09.531Z"
   },
   {
    "duration": 382,
    "start_time": "2024-07-26T00:37:09.757Z"
   },
   {
    "duration": 15,
    "start_time": "2024-07-26T00:37:10.143Z"
   },
   {
    "duration": 8,
    "start_time": "2024-07-26T00:37:10.169Z"
   },
   {
    "duration": 528,
    "start_time": "2024-07-26T00:37:10.180Z"
   },
   {
    "duration": 36,
    "start_time": "2024-07-26T00:37:10.710Z"
   },
   {
    "duration": 286,
    "start_time": "2024-07-26T00:37:10.748Z"
   },
   {
    "duration": 6,
    "start_time": "2024-07-26T00:37:11.037Z"
   },
   {
    "duration": 7,
    "start_time": "2024-07-26T00:37:11.047Z"
   },
   {
    "duration": 6,
    "start_time": "2024-07-26T00:37:11.057Z"
   },
   {
    "duration": 1003,
    "start_time": "2024-07-26T00:37:11.066Z"
   },
   {
    "duration": 600,
    "start_time": "2024-07-26T00:37:12.072Z"
   },
   {
    "duration": 527,
    "start_time": "2024-07-26T00:37:12.675Z"
   },
   {
    "duration": 705,
    "start_time": "2024-07-26T00:37:13.206Z"
   },
   {
    "duration": 0,
    "start_time": "2024-07-26T00:37:13.918Z"
   },
   {
    "duration": 0,
    "start_time": "2024-07-26T00:37:13.920Z"
   },
   {
    "duration": 0,
    "start_time": "2024-07-26T00:37:13.922Z"
   },
   {
    "duration": 0,
    "start_time": "2024-07-26T00:37:13.925Z"
   },
   {
    "duration": 43,
    "start_time": "2024-07-26T00:37:31.789Z"
   },
   {
    "duration": 79,
    "start_time": "2024-07-26T00:37:33.371Z"
   },
   {
    "duration": 10,
    "start_time": "2024-07-26T00:37:33.826Z"
   },
   {
    "duration": 9,
    "start_time": "2024-07-26T00:37:47.922Z"
   },
   {
    "duration": 507,
    "start_time": "2024-07-26T00:40:34.497Z"
   },
   {
    "duration": 498,
    "start_time": "2024-07-26T00:41:06.980Z"
   },
   {
    "duration": 8,
    "start_time": "2024-07-26T00:43:04.971Z"
   },
   {
    "duration": 7,
    "start_time": "2024-07-26T00:45:25.582Z"
   },
   {
    "duration": 4,
    "start_time": "2024-07-26T00:45:34.418Z"
   },
   {
    "duration": 484,
    "start_time": "2024-07-26T00:46:04.656Z"
   },
   {
    "duration": 683,
    "start_time": "2024-07-26T00:46:32.552Z"
   },
   {
    "duration": 1568,
    "start_time": "2024-07-26T00:46:33.239Z"
   },
   {
    "duration": 9,
    "start_time": "2024-07-26T00:46:34.810Z"
   },
   {
    "duration": 8,
    "start_time": "2024-07-26T00:46:34.832Z"
   },
   {
    "duration": 7,
    "start_time": "2024-07-26T00:46:34.843Z"
   },
   {
    "duration": 8,
    "start_time": "2024-07-26T00:46:34.852Z"
   },
   {
    "duration": 7,
    "start_time": "2024-07-26T00:46:34.862Z"
   },
   {
    "duration": 384,
    "start_time": "2024-07-26T00:46:34.872Z"
   },
   {
    "duration": 14,
    "start_time": "2024-07-26T00:46:35.258Z"
   },
   {
    "duration": 218,
    "start_time": "2024-07-26T00:46:35.279Z"
   },
   {
    "duration": 343,
    "start_time": "2024-07-26T00:46:35.500Z"
   },
   {
    "duration": 95,
    "start_time": "2024-07-26T00:46:35.846Z"
   },
   {
    "duration": 37,
    "start_time": "2024-07-26T00:46:35.945Z"
   },
   {
    "duration": 5,
    "start_time": "2024-07-26T00:46:35.985Z"
   },
   {
    "duration": 76,
    "start_time": "2024-07-26T00:46:35.994Z"
   },
   {
    "duration": 31,
    "start_time": "2024-07-26T00:46:36.073Z"
   },
   {
    "duration": 7,
    "start_time": "2024-07-26T00:46:36.131Z"
   },
   {
    "duration": 6,
    "start_time": "2024-07-26T00:46:36.141Z"
   },
   {
    "duration": 8,
    "start_time": "2024-07-26T00:46:36.150Z"
   },
   {
    "duration": 5,
    "start_time": "2024-07-26T00:46:36.161Z"
   },
   {
    "duration": 2686,
    "start_time": "2024-07-26T00:46:36.170Z"
   },
   {
    "duration": 50,
    "start_time": "2024-07-26T00:46:38.859Z"
   },
   {
    "duration": 62,
    "start_time": "2024-07-26T00:46:38.911Z"
   },
   {
    "duration": 13,
    "start_time": "2024-07-26T00:46:38.976Z"
   },
   {
    "duration": 41,
    "start_time": "2024-07-26T00:46:38.992Z"
   },
   {
    "duration": 12,
    "start_time": "2024-07-26T00:46:39.035Z"
   },
   {
    "duration": 37,
    "start_time": "2024-07-26T00:46:39.050Z"
   },
   {
    "duration": 29,
    "start_time": "2024-07-26T00:46:39.130Z"
   },
   {
    "duration": 15,
    "start_time": "2024-07-26T00:46:39.161Z"
   },
   {
    "duration": 131,
    "start_time": "2024-07-26T00:46:39.182Z"
   },
   {
    "duration": 59,
    "start_time": "2024-07-26T00:46:39.316Z"
   },
   {
    "duration": 9,
    "start_time": "2024-07-26T00:46:39.378Z"
   },
   {
    "duration": 241,
    "start_time": "2024-07-26T00:46:39.390Z"
   },
   {
    "duration": 1191,
    "start_time": "2024-07-26T00:46:39.634Z"
   },
   {
    "duration": 6,
    "start_time": "2024-07-26T00:46:40.829Z"
   },
   {
    "duration": 6,
    "start_time": "2024-07-26T00:46:40.839Z"
   },
   {
    "duration": 385,
    "start_time": "2024-07-26T00:46:40.848Z"
   },
   {
    "duration": 217,
    "start_time": "2024-07-26T00:46:41.235Z"
   },
   {
    "duration": 401,
    "start_time": "2024-07-26T00:46:41.455Z"
   },
   {
    "duration": 15,
    "start_time": "2024-07-26T00:46:41.859Z"
   },
   {
    "duration": 9,
    "start_time": "2024-07-26T00:46:41.877Z"
   },
   {
    "duration": 528,
    "start_time": "2024-07-26T00:46:41.889Z"
   },
   {
    "duration": 35,
    "start_time": "2024-07-26T00:46:42.420Z"
   },
   {
    "duration": 295,
    "start_time": "2024-07-26T00:46:42.458Z"
   },
   {
    "duration": 7,
    "start_time": "2024-07-26T00:46:42.756Z"
   },
   {
    "duration": 8,
    "start_time": "2024-07-26T00:46:42.766Z"
   },
   {
    "duration": 7,
    "start_time": "2024-07-26T00:46:42.777Z"
   },
   {
    "duration": 991,
    "start_time": "2024-07-26T00:46:42.787Z"
   },
   {
    "duration": 582,
    "start_time": "2024-07-26T00:46:43.782Z"
   },
   {
    "duration": 526,
    "start_time": "2024-07-26T00:46:44.368Z"
   },
   {
    "duration": 698,
    "start_time": "2024-07-26T00:46:44.897Z"
   },
   {
    "duration": 0,
    "start_time": "2024-07-26T00:46:45.604Z"
   },
   {
    "duration": 0,
    "start_time": "2024-07-26T00:46:45.606Z"
   },
   {
    "duration": 0,
    "start_time": "2024-07-26T00:46:45.608Z"
   },
   {
    "duration": 0,
    "start_time": "2024-07-26T00:46:45.610Z"
   },
   {
    "duration": 0,
    "start_time": "2024-07-26T00:46:45.629Z"
   },
   {
    "duration": 1020,
    "start_time": "2024-07-26T00:50:45.986Z"
   },
   {
    "duration": 77,
    "start_time": "2024-07-26T00:52:25.128Z"
   },
   {
    "duration": 491,
    "start_time": "2024-07-26T00:54:57.273Z"
   },
   {
    "duration": 513,
    "start_time": "2024-07-26T00:57:53.548Z"
   },
   {
    "duration": 493,
    "start_time": "2024-07-26T00:58:38.087Z"
   },
   {
    "duration": 499,
    "start_time": "2024-07-26T00:59:16.441Z"
   },
   {
    "duration": 28,
    "start_time": "2024-07-26T01:00:11.545Z"
   },
   {
    "duration": 29,
    "start_time": "2024-07-26T01:00:34.882Z"
   },
   {
    "duration": 27,
    "start_time": "2024-07-26T01:01:37.820Z"
   },
   {
    "duration": 439,
    "start_time": "2024-07-26T01:04:23.080Z"
   },
   {
    "duration": 428,
    "start_time": "2024-07-26T01:05:30.804Z"
   },
   {
    "duration": 326,
    "start_time": "2024-07-26T01:08:14.278Z"
   },
   {
    "duration": 438,
    "start_time": "2024-07-26T01:08:54.892Z"
   },
   {
    "duration": 447,
    "start_time": "2024-07-26T01:09:07.844Z"
   },
   {
    "duration": 53,
    "start_time": "2024-07-26T01:12:17.465Z"
   },
   {
    "duration": 618,
    "start_time": "2024-07-26T01:13:17.111Z"
   },
   {
    "duration": 321,
    "start_time": "2024-07-26T01:14:16.508Z"
   },
   {
    "duration": 685,
    "start_time": "2024-07-26T01:14:30.729Z"
   },
   {
    "duration": 1600,
    "start_time": "2024-07-26T01:14:31.417Z"
   },
   {
    "duration": 18,
    "start_time": "2024-07-26T01:14:33.020Z"
   },
   {
    "duration": 10,
    "start_time": "2024-07-26T01:14:33.043Z"
   },
   {
    "duration": 7,
    "start_time": "2024-07-26T01:14:33.056Z"
   },
   {
    "duration": 8,
    "start_time": "2024-07-26T01:14:33.067Z"
   },
   {
    "duration": 51,
    "start_time": "2024-07-26T01:14:33.080Z"
   },
   {
    "duration": 344,
    "start_time": "2024-07-26T01:14:33.134Z"
   },
   {
    "duration": 14,
    "start_time": "2024-07-26T01:14:33.480Z"
   },
   {
    "duration": 208,
    "start_time": "2024-07-26T01:14:33.500Z"
   },
   {
    "duration": 328,
    "start_time": "2024-07-26T01:14:33.711Z"
   },
   {
    "duration": 109,
    "start_time": "2024-07-26T01:14:34.042Z"
   },
   {
    "duration": 38,
    "start_time": "2024-07-26T01:14:34.154Z"
   },
   {
    "duration": 5,
    "start_time": "2024-07-26T01:14:34.195Z"
   },
   {
    "duration": 70,
    "start_time": "2024-07-26T01:14:34.203Z"
   },
   {
    "duration": 33,
    "start_time": "2024-07-26T01:14:34.276Z"
   },
   {
    "duration": 8,
    "start_time": "2024-07-26T01:14:34.332Z"
   },
   {
    "duration": 5,
    "start_time": "2024-07-26T01:14:34.344Z"
   },
   {
    "duration": 10,
    "start_time": "2024-07-26T01:14:34.352Z"
   },
   {
    "duration": 6,
    "start_time": "2024-07-26T01:14:34.365Z"
   },
   {
    "duration": 2697,
    "start_time": "2024-07-26T01:14:34.374Z"
   },
   {
    "duration": 59,
    "start_time": "2024-07-26T01:14:37.074Z"
   },
   {
    "duration": 44,
    "start_time": "2024-07-26T01:14:37.137Z"
   },
   {
    "duration": 14,
    "start_time": "2024-07-26T01:14:37.184Z"
   },
   {
    "duration": 14,
    "start_time": "2024-07-26T01:14:37.230Z"
   },
   {
    "duration": 14,
    "start_time": "2024-07-26T01:14:37.247Z"
   },
   {
    "duration": 66,
    "start_time": "2024-07-26T01:14:37.264Z"
   },
   {
    "duration": 29,
    "start_time": "2024-07-26T01:14:37.338Z"
   },
   {
    "duration": 16,
    "start_time": "2024-07-26T01:14:37.370Z"
   },
   {
    "duration": 141,
    "start_time": "2024-07-26T01:14:37.389Z"
   },
   {
    "duration": 49,
    "start_time": "2024-07-26T01:14:37.533Z"
   },
   {
    "duration": 9,
    "start_time": "2024-07-26T01:14:37.584Z"
   },
   {
    "duration": 261,
    "start_time": "2024-07-26T01:14:37.596Z"
   },
   {
    "duration": 1173,
    "start_time": "2024-07-26T01:14:37.860Z"
   },
   {
    "duration": 6,
    "start_time": "2024-07-26T01:14:39.036Z"
   },
   {
    "duration": 6,
    "start_time": "2024-07-26T01:14:39.046Z"
   },
   {
    "duration": 388,
    "start_time": "2024-07-26T01:14:39.055Z"
   },
   {
    "duration": 232,
    "start_time": "2024-07-26T01:14:39.446Z"
   },
   {
    "duration": 378,
    "start_time": "2024-07-26T01:14:39.681Z"
   },
   {
    "duration": 14,
    "start_time": "2024-07-26T01:14:40.063Z"
   },
   {
    "duration": 8,
    "start_time": "2024-07-26T01:14:40.079Z"
   },
   {
    "duration": 520,
    "start_time": "2024-07-26T01:14:40.090Z"
   },
   {
    "duration": 41,
    "start_time": "2024-07-26T01:14:40.614Z"
   },
   {
    "duration": 288,
    "start_time": "2024-07-26T01:14:40.658Z"
   },
   {
    "duration": 8,
    "start_time": "2024-07-26T01:14:40.949Z"
   },
   {
    "duration": 8,
    "start_time": "2024-07-26T01:14:40.960Z"
   },
   {
    "duration": 7,
    "start_time": "2024-07-26T01:14:40.970Z"
   },
   {
    "duration": 988,
    "start_time": "2024-07-26T01:14:40.980Z"
   },
   {
    "duration": 537,
    "start_time": "2024-07-26T01:14:41.971Z"
   },
   {
    "duration": 1,
    "start_time": "2024-07-26T01:14:42.511Z"
   },
   {
    "duration": 0,
    "start_time": "2024-07-26T01:14:42.513Z"
   },
   {
    "duration": 0,
    "start_time": "2024-07-26T01:14:42.515Z"
   },
   {
    "duration": 0,
    "start_time": "2024-07-26T01:14:42.532Z"
   },
   {
    "duration": 0,
    "start_time": "2024-07-26T01:14:42.535Z"
   },
   {
    "duration": 0,
    "start_time": "2024-07-26T01:14:42.537Z"
   },
   {
    "duration": 0,
    "start_time": "2024-07-26T01:14:42.539Z"
   },
   {
    "duration": 1789,
    "start_time": "2024-07-26T01:15:17.350Z"
   },
   {
    "duration": 2579,
    "start_time": "2024-07-26T01:16:18.967Z"
   },
   {
    "duration": 111,
    "start_time": "2024-07-26T01:18:42.479Z"
   },
   {
    "duration": 457,
    "start_time": "2024-07-26T01:19:26.449Z"
   },
   {
    "duration": 482,
    "start_time": "2024-07-26T01:19:35.299Z"
   },
   {
    "duration": 690,
    "start_time": "2024-07-26T01:19:45.505Z"
   },
   {
    "duration": 1552,
    "start_time": "2024-07-26T01:19:46.199Z"
   },
   {
    "duration": 9,
    "start_time": "2024-07-26T01:19:47.754Z"
   },
   {
    "duration": 7,
    "start_time": "2024-07-26T01:19:47.767Z"
   },
   {
    "duration": 7,
    "start_time": "2024-07-26T01:19:47.777Z"
   },
   {
    "duration": 47,
    "start_time": "2024-07-26T01:19:47.787Z"
   },
   {
    "duration": 7,
    "start_time": "2024-07-26T01:19:47.837Z"
   },
   {
    "duration": 361,
    "start_time": "2024-07-26T01:19:47.847Z"
   },
   {
    "duration": 25,
    "start_time": "2024-07-26T01:19:48.211Z"
   },
   {
    "duration": 198,
    "start_time": "2024-07-26T01:19:48.242Z"
   },
   {
    "duration": 347,
    "start_time": "2024-07-26T01:19:48.444Z"
   },
   {
    "duration": 96,
    "start_time": "2024-07-26T01:19:48.794Z"
   },
   {
    "duration": 45,
    "start_time": "2024-07-26T01:19:48.892Z"
   },
   {
    "duration": 6,
    "start_time": "2024-07-26T01:19:48.939Z"
   },
   {
    "duration": 48,
    "start_time": "2024-07-26T01:19:48.948Z"
   },
   {
    "duration": 32,
    "start_time": "2024-07-26T01:19:49.031Z"
   },
   {
    "duration": 8,
    "start_time": "2024-07-26T01:19:49.066Z"
   },
   {
    "duration": 5,
    "start_time": "2024-07-26T01:19:49.077Z"
   },
   {
    "duration": 45,
    "start_time": "2024-07-26T01:19:49.085Z"
   },
   {
    "duration": 5,
    "start_time": "2024-07-26T01:19:49.133Z"
   },
   {
    "duration": 2695,
    "start_time": "2024-07-26T01:19:49.142Z"
   },
   {
    "duration": 48,
    "start_time": "2024-07-26T01:19:51.840Z"
   },
   {
    "duration": 67,
    "start_time": "2024-07-26T01:19:51.891Z"
   },
   {
    "duration": 13,
    "start_time": "2024-07-26T01:19:51.961Z"
   },
   {
    "duration": 14,
    "start_time": "2024-07-26T01:19:51.977Z"
   },
   {
    "duration": 48,
    "start_time": "2024-07-26T01:19:51.994Z"
   },
   {
    "duration": 41,
    "start_time": "2024-07-26T01:19:52.046Z"
   },
   {
    "duration": 57,
    "start_time": "2024-07-26T01:19:52.097Z"
   },
   {
    "duration": 15,
    "start_time": "2024-07-26T01:19:52.157Z"
   },
   {
    "duration": 136,
    "start_time": "2024-07-26T01:19:52.175Z"
   },
   {
    "duration": 58,
    "start_time": "2024-07-26T01:19:52.314Z"
   },
   {
    "duration": 11,
    "start_time": "2024-07-26T01:19:52.375Z"
   },
   {
    "duration": 236,
    "start_time": "2024-07-26T01:19:52.389Z"
   },
   {
    "duration": 1196,
    "start_time": "2024-07-26T01:19:52.630Z"
   },
   {
    "duration": 6,
    "start_time": "2024-07-26T01:19:53.831Z"
   },
   {
    "duration": 7,
    "start_time": "2024-07-26T01:19:53.841Z"
   },
   {
    "duration": 401,
    "start_time": "2024-07-26T01:19:53.851Z"
   },
   {
    "duration": 235,
    "start_time": "2024-07-26T01:19:54.255Z"
   },
   {
    "duration": 383,
    "start_time": "2024-07-26T01:19:54.493Z"
   },
   {
    "duration": 15,
    "start_time": "2024-07-26T01:19:54.879Z"
   },
   {
    "duration": 9,
    "start_time": "2024-07-26T01:19:54.896Z"
   },
   {
    "duration": 507,
    "start_time": "2024-07-26T01:19:54.931Z"
   },
   {
    "duration": 27,
    "start_time": "2024-07-26T01:19:55.441Z"
   },
   {
    "duration": 300,
    "start_time": "2024-07-26T01:19:55.470Z"
   },
   {
    "duration": 6,
    "start_time": "2024-07-26T01:19:55.773Z"
   },
   {
    "duration": 8,
    "start_time": "2024-07-26T01:19:55.782Z"
   },
   {
    "duration": 38,
    "start_time": "2024-07-26T01:19:55.793Z"
   },
   {
    "duration": 972,
    "start_time": "2024-07-26T01:19:55.834Z"
   },
   {
    "duration": 577,
    "start_time": "2024-07-26T01:19:56.809Z"
   },
   {
    "duration": 527,
    "start_time": "2024-07-26T01:19:57.389Z"
   },
   {
    "duration": 696,
    "start_time": "2024-07-26T01:19:57.919Z"
   },
   {
    "duration": 0,
    "start_time": "2024-07-26T01:19:58.623Z"
   },
   {
    "duration": 0,
    "start_time": "2024-07-26T01:19:58.624Z"
   },
   {
    "duration": 0,
    "start_time": "2024-07-26T01:19:58.630Z"
   },
   {
    "duration": 0,
    "start_time": "2024-07-26T01:19:58.633Z"
   },
   {
    "duration": 0,
    "start_time": "2024-07-26T01:19:58.635Z"
   },
   {
    "duration": 494,
    "start_time": "2024-07-26T01:20:34.473Z"
   },
   {
    "duration": 73,
    "start_time": "2024-07-26T01:20:53.356Z"
   },
   {
    "duration": 836,
    "start_time": "2024-07-26T01:21:15.819Z"
   },
   {
    "duration": 2813,
    "start_time": "2024-07-26T01:21:48.474Z"
   },
   {
    "duration": 2889,
    "start_time": "2024-07-26T01:22:39.089Z"
   },
   {
    "duration": 2847,
    "start_time": "2024-07-26T01:23:03.971Z"
   },
   {
    "duration": 41,
    "start_time": "2024-07-26T01:23:09.018Z"
   },
   {
    "duration": 72,
    "start_time": "2024-07-26T01:23:10.365Z"
   },
   {
    "duration": 10,
    "start_time": "2024-07-26T01:23:10.905Z"
   },
   {
    "duration": 698,
    "start_time": "2024-07-28T00:31:04.634Z"
   },
   {
    "duration": 1560,
    "start_time": "2024-07-28T00:31:05.336Z"
   },
   {
    "duration": 9,
    "start_time": "2024-07-28T00:31:06.901Z"
   },
   {
    "duration": 20,
    "start_time": "2024-07-28T00:31:06.913Z"
   },
   {
    "duration": 6,
    "start_time": "2024-07-28T00:31:06.939Z"
   },
   {
    "duration": 6,
    "start_time": "2024-07-28T00:31:06.948Z"
   },
   {
    "duration": 6,
    "start_time": "2024-07-28T00:31:06.958Z"
   },
   {
    "duration": 618,
    "start_time": "2024-07-28T00:31:06.968Z"
   },
   {
    "duration": 54,
    "start_time": "2024-07-28T00:31:07.590Z"
   },
   {
    "duration": 407,
    "start_time": "2024-07-28T00:31:07.647Z"
   },
   {
    "duration": 796,
    "start_time": "2024-07-28T00:31:08.057Z"
   },
   {
    "duration": 277,
    "start_time": "2024-07-28T00:31:08.857Z"
   },
   {
    "duration": 39,
    "start_time": "2024-07-28T00:31:09.138Z"
   },
   {
    "duration": 6,
    "start_time": "2024-07-28T00:31:09.183Z"
   },
   {
    "duration": 49,
    "start_time": "2024-07-28T00:31:09.234Z"
   },
   {
    "duration": 69,
    "start_time": "2024-07-28T00:31:09.286Z"
   },
   {
    "duration": 79,
    "start_time": "2024-07-28T00:31:09.358Z"
   },
   {
    "duration": 9,
    "start_time": "2024-07-28T00:31:09.441Z"
   },
   {
    "duration": 86,
    "start_time": "2024-07-28T00:31:09.453Z"
   },
   {
    "duration": 5,
    "start_time": "2024-07-28T00:31:09.543Z"
   },
   {
    "duration": 8897,
    "start_time": "2024-07-28T00:31:09.551Z"
   },
   {
    "duration": 289,
    "start_time": "2024-07-28T00:31:18.455Z"
   },
   {
    "duration": 205,
    "start_time": "2024-07-28T00:31:18.748Z"
   },
   {
    "duration": 86,
    "start_time": "2024-07-28T00:31:18.957Z"
   },
   {
    "duration": 89,
    "start_time": "2024-07-28T00:31:19.048Z"
   },
   {
    "duration": 14,
    "start_time": "2024-07-28T00:31:19.144Z"
   },
   {
    "duration": 195,
    "start_time": "2024-07-28T00:31:19.161Z"
   },
   {
    "duration": 183,
    "start_time": "2024-07-28T00:31:19.360Z"
   },
   {
    "duration": 95,
    "start_time": "2024-07-28T00:31:19.547Z"
   },
   {
    "duration": 594,
    "start_time": "2024-07-28T00:31:19.645Z"
   },
   {
    "duration": 291,
    "start_time": "2024-07-28T00:31:20.245Z"
   },
   {
    "duration": 100,
    "start_time": "2024-07-28T00:31:20.545Z"
   },
   {
    "duration": 1198,
    "start_time": "2024-07-28T00:31:20.657Z"
   },
   {
    "duration": 4416,
    "start_time": "2024-07-28T00:31:21.934Z"
   },
   {
    "duration": 78,
    "start_time": "2024-07-28T00:31:26.358Z"
   },
   {
    "duration": 8,
    "start_time": "2024-07-28T00:31:26.441Z"
   },
   {
    "duration": 1680,
    "start_time": "2024-07-28T00:31:26.453Z"
   },
   {
    "duration": 1097,
    "start_time": "2024-07-28T00:31:28.136Z"
   },
   {
    "duration": 1904,
    "start_time": "2024-07-28T00:31:29.237Z"
   },
   {
    "duration": 107,
    "start_time": "2024-07-28T00:31:31.147Z"
   },
   {
    "duration": 11,
    "start_time": "2024-07-28T00:31:31.347Z"
   },
   {
    "duration": 2410,
    "start_time": "2024-07-28T00:31:31.440Z"
   },
   {
    "duration": 192,
    "start_time": "2024-07-28T00:31:33.853Z"
   },
   {
    "duration": 1184,
    "start_time": "2024-07-28T00:31:34.049Z"
   },
   {
    "duration": 10,
    "start_time": "2024-07-28T00:31:35.236Z"
   },
   {
    "duration": 83,
    "start_time": "2024-07-28T00:31:35.250Z"
   },
   {
    "duration": 7,
    "start_time": "2024-07-28T00:31:35.337Z"
   },
   {
    "duration": 3195,
    "start_time": "2024-07-28T00:31:35.348Z"
   },
   {
    "duration": 1898,
    "start_time": "2024-07-28T00:31:38.546Z"
   },
   {
    "duration": 1390,
    "start_time": "2024-07-28T00:31:40.449Z"
   },
   {
    "duration": 308,
    "start_time": "2024-07-28T00:40:24.272Z"
   },
   {
    "duration": 317,
    "start_time": "2024-07-29T15:18:25.659Z"
   },
   {
    "duration": 4620,
    "start_time": "2024-07-29T15:18:35.250Z"
   },
   {
    "duration": 1839,
    "start_time": "2024-07-29T15:18:39.874Z"
   },
   {
    "duration": 10,
    "start_time": "2024-07-29T15:18:41.716Z"
   },
   {
    "duration": 9,
    "start_time": "2024-07-29T15:18:41.732Z"
   },
   {
    "duration": 7,
    "start_time": "2024-07-29T15:18:41.743Z"
   },
   {
    "duration": 7,
    "start_time": "2024-07-29T15:18:41.754Z"
   },
   {
    "duration": 48,
    "start_time": "2024-07-29T15:18:41.763Z"
   },
   {
    "duration": 363,
    "start_time": "2024-07-29T15:18:41.815Z"
   },
   {
    "duration": 25,
    "start_time": "2024-07-29T15:18:42.181Z"
   },
   {
    "duration": 194,
    "start_time": "2024-07-29T15:18:42.212Z"
   },
   {
    "duration": 326,
    "start_time": "2024-07-29T15:18:42.409Z"
   },
   {
    "duration": 93,
    "start_time": "2024-07-29T15:18:42.738Z"
   },
   {
    "duration": 36,
    "start_time": "2024-07-29T15:18:42.835Z"
   },
   {
    "duration": 5,
    "start_time": "2024-07-29T15:18:42.874Z"
   },
   {
    "duration": 69,
    "start_time": "2024-07-29T15:18:42.882Z"
   },
   {
    "duration": 61,
    "start_time": "2024-07-29T15:18:42.954Z"
   },
   {
    "duration": 9,
    "start_time": "2024-07-29T15:18:43.018Z"
   },
   {
    "duration": 6,
    "start_time": "2024-07-29T15:18:43.030Z"
   },
   {
    "duration": 8,
    "start_time": "2024-07-29T15:18:43.039Z"
   },
   {
    "duration": 5,
    "start_time": "2024-07-29T15:18:43.051Z"
   },
   {
    "duration": 2648,
    "start_time": "2024-07-29T15:18:43.105Z"
   },
   {
    "duration": 60,
    "start_time": "2024-07-29T15:18:45.756Z"
   },
   {
    "duration": 56,
    "start_time": "2024-07-29T15:18:45.819Z"
   },
   {
    "duration": 34,
    "start_time": "2024-07-29T15:18:45.878Z"
   },
   {
    "duration": 14,
    "start_time": "2024-07-29T15:18:45.915Z"
   },
   {
    "duration": 11,
    "start_time": "2024-07-29T15:18:45.932Z"
   },
   {
    "duration": 78,
    "start_time": "2024-07-29T15:18:45.946Z"
   },
   {
    "duration": 27,
    "start_time": "2024-07-29T15:18:46.032Z"
   },
   {
    "duration": 14,
    "start_time": "2024-07-29T15:18:46.062Z"
   },
   {
    "duration": 114,
    "start_time": "2024-07-29T15:18:46.106Z"
   },
   {
    "duration": 51,
    "start_time": "2024-07-29T15:18:46.224Z"
   },
   {
    "duration": 33,
    "start_time": "2024-07-29T15:18:46.278Z"
   },
   {
    "duration": 227,
    "start_time": "2024-07-29T15:18:46.313Z"
   },
   {
    "duration": 1172,
    "start_time": "2024-07-29T15:18:46.544Z"
   },
   {
    "duration": 6,
    "start_time": "2024-07-29T15:18:47.719Z"
   },
   {
    "duration": 6,
    "start_time": "2024-07-29T15:18:47.728Z"
   },
   {
    "duration": 413,
    "start_time": "2024-07-29T15:18:47.737Z"
   },
   {
    "duration": 286,
    "start_time": "2024-07-29T15:18:48.154Z"
   },
   {
    "duration": 394,
    "start_time": "2024-07-29T15:18:48.442Z"
   },
   {
    "duration": 15,
    "start_time": "2024-07-29T15:18:48.839Z"
   },
   {
    "duration": 9,
    "start_time": "2024-07-29T15:18:48.856Z"
   },
   {
    "duration": 568,
    "start_time": "2024-07-29T15:18:48.868Z"
   },
   {
    "duration": 27,
    "start_time": "2024-07-29T15:18:49.439Z"
   },
   {
    "duration": 302,
    "start_time": "2024-07-29T15:18:49.469Z"
   },
   {
    "duration": 7,
    "start_time": "2024-07-29T15:18:49.774Z"
   },
   {
    "duration": 29,
    "start_time": "2024-07-29T15:18:49.784Z"
   },
   {
    "duration": 7,
    "start_time": "2024-07-29T15:18:49.815Z"
   },
   {
    "duration": 997,
    "start_time": "2024-07-29T15:18:49.825Z"
   },
   {
    "duration": 1000,
    "start_time": "2024-07-29T15:18:50.825Z"
   },
   {
    "duration": 0,
    "start_time": "2024-07-29T15:18:51.828Z"
   },
   {
    "duration": 0,
    "start_time": "2024-07-29T15:18:51.831Z"
   },
   {
    "duration": 0,
    "start_time": "2024-07-29T15:18:51.833Z"
   },
   {
    "duration": 0,
    "start_time": "2024-07-29T15:18:51.835Z"
   },
   {
    "duration": 0,
    "start_time": "2024-07-29T15:18:51.838Z"
   },
   {
    "duration": 0,
    "start_time": "2024-07-29T15:18:51.840Z"
   },
   {
    "duration": 502,
    "start_time": "2024-07-29T15:19:17.573Z"
   },
   {
    "duration": 507,
    "start_time": "2024-07-29T15:19:32.644Z"
   },
   {
    "duration": 3048,
    "start_time": "2024-07-29T15:19:40.647Z"
   },
   {
    "duration": 0,
    "start_time": "2024-07-29T15:19:43.702Z"
   },
   {
    "duration": 853,
    "start_time": "2024-07-29T15:20:03.619Z"
   },
   {
    "duration": 669,
    "start_time": "2024-07-29T15:20:45.278Z"
   },
   {
    "duration": 1545,
    "start_time": "2024-07-29T15:20:45.950Z"
   },
   {
    "duration": 15,
    "start_time": "2024-07-29T15:20:47.498Z"
   },
   {
    "duration": 8,
    "start_time": "2024-07-29T15:20:47.517Z"
   },
   {
    "duration": 6,
    "start_time": "2024-07-29T15:20:47.530Z"
   },
   {
    "duration": 7,
    "start_time": "2024-07-29T15:20:47.539Z"
   },
   {
    "duration": 7,
    "start_time": "2024-07-29T15:20:47.550Z"
   },
   {
    "duration": 354,
    "start_time": "2024-07-29T15:20:47.608Z"
   },
   {
    "duration": 15,
    "start_time": "2024-07-29T15:20:47.965Z"
   },
   {
    "duration": 213,
    "start_time": "2024-07-29T15:20:47.984Z"
   },
   {
    "duration": 335,
    "start_time": "2024-07-29T15:20:48.200Z"
   },
   {
    "duration": 103,
    "start_time": "2024-07-29T15:20:48.538Z"
   },
   {
    "duration": 37,
    "start_time": "2024-07-29T15:20:48.644Z"
   },
   {
    "duration": 19,
    "start_time": "2024-07-29T15:20:48.688Z"
   },
   {
    "duration": 50,
    "start_time": "2024-07-29T15:20:48.711Z"
   },
   {
    "duration": 62,
    "start_time": "2024-07-29T15:20:48.764Z"
   },
   {
    "duration": 7,
    "start_time": "2024-07-29T15:20:48.830Z"
   },
   {
    "duration": 22,
    "start_time": "2024-07-29T15:20:48.840Z"
   },
   {
    "duration": 32,
    "start_time": "2024-07-29T15:20:48.864Z"
   },
   {
    "duration": 14,
    "start_time": "2024-07-29T15:20:48.899Z"
   },
   {
    "duration": 2666,
    "start_time": "2024-07-29T15:20:48.917Z"
   },
   {
    "duration": 56,
    "start_time": "2024-07-29T15:20:51.586Z"
   },
   {
    "duration": 61,
    "start_time": "2024-07-29T15:20:51.645Z"
   },
   {
    "duration": 14,
    "start_time": "2024-07-29T15:20:51.709Z"
   },
   {
    "duration": 13,
    "start_time": "2024-07-29T15:20:51.729Z"
   },
   {
    "duration": 13,
    "start_time": "2024-07-29T15:20:51.744Z"
   },
   {
    "duration": 73,
    "start_time": "2024-07-29T15:20:51.760Z"
   },
   {
    "duration": 27,
    "start_time": "2024-07-29T15:20:51.836Z"
   },
   {
    "duration": 47,
    "start_time": "2024-07-29T15:20:51.866Z"
   },
   {
    "duration": 113,
    "start_time": "2024-07-29T15:20:51.916Z"
   },
   {
    "duration": 55,
    "start_time": "2024-07-29T15:20:52.032Z"
   },
   {
    "duration": 10,
    "start_time": "2024-07-29T15:20:52.106Z"
   },
   {
    "duration": 227,
    "start_time": "2024-07-29T15:20:52.119Z"
   },
   {
    "duration": 1171,
    "start_time": "2024-07-29T15:20:52.349Z"
   },
   {
    "duration": 7,
    "start_time": "2024-07-29T15:20:53.522Z"
   },
   {
    "duration": 6,
    "start_time": "2024-07-29T15:20:53.533Z"
   },
   {
    "duration": 397,
    "start_time": "2024-07-29T15:20:53.543Z"
   },
   {
    "duration": 224,
    "start_time": "2024-07-29T15:20:53.943Z"
   },
   {
    "duration": 393,
    "start_time": "2024-07-29T15:20:54.170Z"
   },
   {
    "duration": 15,
    "start_time": "2024-07-29T15:20:54.566Z"
   },
   {
    "duration": 9,
    "start_time": "2024-07-29T15:20:54.606Z"
   },
   {
    "duration": 520,
    "start_time": "2024-07-29T15:20:54.618Z"
   },
   {
    "duration": 26,
    "start_time": "2024-07-29T15:20:55.141Z"
   },
   {
    "duration": 299,
    "start_time": "2024-07-29T15:20:55.169Z"
   },
   {
    "duration": 8,
    "start_time": "2024-07-29T15:20:55.471Z"
   },
   {
    "duration": 25,
    "start_time": "2024-07-29T15:20:55.482Z"
   },
   {
    "duration": 8,
    "start_time": "2024-07-29T15:20:55.510Z"
   },
   {
    "duration": 997,
    "start_time": "2024-07-29T15:20:55.521Z"
   },
   {
    "duration": 574,
    "start_time": "2024-07-29T15:20:56.521Z"
   },
   {
    "duration": 517,
    "start_time": "2024-07-29T15:20:57.099Z"
   },
   {
    "duration": 3508,
    "start_time": "2024-07-29T15:20:57.619Z"
   },
   {
    "duration": 0,
    "start_time": "2024-07-29T15:21:01.135Z"
   },
   {
    "duration": 0,
    "start_time": "2024-07-29T15:21:01.137Z"
   },
   {
    "duration": 0,
    "start_time": "2024-07-29T15:21:01.140Z"
   },
   {
    "duration": 2886,
    "start_time": "2024-07-29T15:21:42.579Z"
   },
   {
    "duration": 14,
    "start_time": "2024-07-29T16:29:57.972Z"
   },
   {
    "duration": 13,
    "start_time": "2024-07-29T16:30:30.637Z"
   },
   {
    "duration": 12,
    "start_time": "2024-07-29T16:30:42.227Z"
   },
   {
    "duration": 10,
    "start_time": "2024-07-29T16:30:54.437Z"
   },
   {
    "duration": 14,
    "start_time": "2024-07-29T16:31:04.144Z"
   },
   {
    "duration": 54,
    "start_time": "2024-07-29T17:24:13.521Z"
   },
   {
    "duration": 50,
    "start_time": "2024-07-29T17:24:23.367Z"
   },
   {
    "duration": 760,
    "start_time": "2024-07-29T17:24:32.413Z"
   },
   {
    "duration": 1678,
    "start_time": "2024-07-29T17:24:33.176Z"
   },
   {
    "duration": 18,
    "start_time": "2024-07-29T17:24:34.857Z"
   },
   {
    "duration": 33,
    "start_time": "2024-07-29T17:24:34.879Z"
   },
   {
    "duration": 12,
    "start_time": "2024-07-29T17:24:34.915Z"
   },
   {
    "duration": 11,
    "start_time": "2024-07-29T17:24:34.931Z"
   },
   {
    "duration": 15,
    "start_time": "2024-07-29T17:24:34.945Z"
   },
   {
    "duration": 362,
    "start_time": "2024-07-29T17:24:35.007Z"
   },
   {
    "duration": 16,
    "start_time": "2024-07-29T17:24:35.372Z"
   },
   {
    "duration": 191,
    "start_time": "2024-07-29T17:24:35.409Z"
   },
   {
    "duration": 322,
    "start_time": "2024-07-29T17:24:35.607Z"
   },
   {
    "duration": 98,
    "start_time": "2024-07-29T17:24:35.933Z"
   },
   {
    "duration": 37,
    "start_time": "2024-07-29T17:24:36.033Z"
   },
   {
    "duration": 7,
    "start_time": "2024-07-29T17:24:36.073Z"
   },
   {
    "duration": 48,
    "start_time": "2024-07-29T17:24:36.107Z"
   },
   {
    "duration": 55,
    "start_time": "2024-07-29T17:24:36.158Z"
   },
   {
    "duration": 8,
    "start_time": "2024-07-29T17:24:36.216Z"
   },
   {
    "duration": 6,
    "start_time": "2024-07-29T17:24:36.227Z"
   },
   {
    "duration": 9,
    "start_time": "2024-07-29T17:24:36.236Z"
   },
   {
    "duration": 6,
    "start_time": "2024-07-29T17:24:36.248Z"
   },
   {
    "duration": 2761,
    "start_time": "2024-07-29T17:24:36.306Z"
   },
   {
    "duration": 59,
    "start_time": "2024-07-29T17:24:39.070Z"
   },
   {
    "duration": 45,
    "start_time": "2024-07-29T17:24:39.134Z"
   },
   {
    "duration": 31,
    "start_time": "2024-07-29T17:24:39.182Z"
   },
   {
    "duration": 13,
    "start_time": "2024-07-29T17:24:39.216Z"
   },
   {
    "duration": 11,
    "start_time": "2024-07-29T17:24:39.232Z"
   },
   {
    "duration": 74,
    "start_time": "2024-07-29T17:24:39.246Z"
   },
   {
    "duration": 28,
    "start_time": "2024-07-29T17:24:39.329Z"
   },
   {
    "duration": 45,
    "start_time": "2024-07-29T17:24:39.361Z"
   },
   {
    "duration": 114,
    "start_time": "2024-07-29T17:24:39.409Z"
   },
   {
    "duration": 52,
    "start_time": "2024-07-29T17:24:39.526Z"
   },
   {
    "duration": 34,
    "start_time": "2024-07-29T17:24:39.582Z"
   },
   {
    "duration": 226,
    "start_time": "2024-07-29T17:24:39.619Z"
   },
   {
    "duration": 1184,
    "start_time": "2024-07-29T17:24:39.848Z"
   },
   {
    "duration": 6,
    "start_time": "2024-07-29T17:24:41.034Z"
   },
   {
    "duration": 5,
    "start_time": "2024-07-29T17:24:41.044Z"
   },
   {
    "duration": 388,
    "start_time": "2024-07-29T17:24:41.053Z"
   },
   {
    "duration": 223,
    "start_time": "2024-07-29T17:24:41.444Z"
   },
   {
    "duration": 394,
    "start_time": "2024-07-29T17:24:41.670Z"
   },
   {
    "duration": 15,
    "start_time": "2024-07-29T17:24:42.067Z"
   },
   {
    "duration": 26,
    "start_time": "2024-07-29T17:24:42.084Z"
   },
   {
    "duration": 500,
    "start_time": "2024-07-29T17:24:42.113Z"
   },
   {
    "duration": 26,
    "start_time": "2024-07-29T17:24:42.616Z"
   },
   {
    "duration": 299,
    "start_time": "2024-07-29T17:24:42.645Z"
   },
   {
    "duration": 8,
    "start_time": "2024-07-29T17:24:42.948Z"
   },
   {
    "duration": 9,
    "start_time": "2024-07-29T17:24:42.959Z"
   },
   {
    "duration": 37,
    "start_time": "2024-07-29T17:24:42.970Z"
   },
   {
    "duration": 964,
    "start_time": "2024-07-29T17:24:43.010Z"
   },
   {
    "duration": 589,
    "start_time": "2024-07-29T17:24:43.977Z"
   },
   {
    "duration": 529,
    "start_time": "2024-07-29T17:24:44.569Z"
   },
   {
    "duration": 664,
    "start_time": "2024-07-29T17:24:45.101Z"
   },
   {
    "duration": 0,
    "start_time": "2024-07-29T17:24:45.768Z"
   },
   {
    "duration": 0,
    "start_time": "2024-07-29T17:24:45.770Z"
   },
   {
    "duration": 0,
    "start_time": "2024-07-29T17:24:45.772Z"
   },
   {
    "duration": 743,
    "start_time": "2024-07-29T17:44:17.188Z"
   },
   {
    "duration": 1646,
    "start_time": "2024-07-29T17:44:17.937Z"
   },
   {
    "duration": 23,
    "start_time": "2024-07-29T17:44:19.587Z"
   },
   {
    "duration": 16,
    "start_time": "2024-07-29T17:44:19.613Z"
   },
   {
    "duration": 16,
    "start_time": "2024-07-29T17:44:19.633Z"
   },
   {
    "duration": 55,
    "start_time": "2024-07-29T17:44:19.652Z"
   },
   {
    "duration": 14,
    "start_time": "2024-07-29T17:44:19.711Z"
   },
   {
    "duration": 386,
    "start_time": "2024-07-29T17:44:19.729Z"
   },
   {
    "duration": 16,
    "start_time": "2024-07-29T17:44:20.119Z"
   },
   {
    "duration": 225,
    "start_time": "2024-07-29T17:44:20.138Z"
   },
   {
    "duration": 379,
    "start_time": "2024-07-29T17:44:20.366Z"
   },
   {
    "duration": 113,
    "start_time": "2024-07-29T17:44:20.748Z"
   },
   {
    "duration": 60,
    "start_time": "2024-07-29T17:44:20.864Z"
   },
   {
    "duration": 6,
    "start_time": "2024-07-29T17:44:20.932Z"
   },
   {
    "duration": 73,
    "start_time": "2024-07-29T17:44:20.945Z"
   },
   {
    "duration": 40,
    "start_time": "2024-07-29T17:44:21.021Z"
   },
   {
    "duration": 8,
    "start_time": "2024-07-29T17:44:21.065Z"
   },
   {
    "duration": 32,
    "start_time": "2024-07-29T17:44:21.077Z"
   },
   {
    "duration": 10,
    "start_time": "2024-07-29T17:44:21.113Z"
   },
   {
    "duration": 7,
    "start_time": "2024-07-29T17:44:21.130Z"
   },
   {
    "duration": 2941,
    "start_time": "2024-07-29T17:44:21.140Z"
   },
   {
    "duration": 62,
    "start_time": "2024-07-29T17:44:24.084Z"
   },
   {
    "duration": 68,
    "start_time": "2024-07-29T17:44:24.149Z"
   },
   {
    "duration": 16,
    "start_time": "2024-07-29T17:44:24.221Z"
   },
   {
    "duration": 15,
    "start_time": "2024-07-29T17:44:24.241Z"
   },
   {
    "duration": 11,
    "start_time": "2024-07-29T17:44:24.260Z"
   },
   {
    "duration": 44,
    "start_time": "2024-07-29T17:44:24.307Z"
   },
   {
    "duration": 59,
    "start_time": "2024-07-29T17:44:24.354Z"
   },
   {
    "duration": 16,
    "start_time": "2024-07-29T17:44:24.416Z"
   },
   {
    "duration": 136,
    "start_time": "2024-07-29T17:44:24.435Z"
   },
   {
    "duration": 69,
    "start_time": "2024-07-29T17:44:24.577Z"
   },
   {
    "duration": 12,
    "start_time": "2024-07-29T17:44:24.650Z"
   },
   {
    "duration": 228,
    "start_time": "2024-07-29T17:44:24.665Z"
   },
   {
    "duration": 1194,
    "start_time": "2024-07-29T17:44:24.896Z"
   },
   {
    "duration": 16,
    "start_time": "2024-07-29T17:44:26.093Z"
   },
   {
    "duration": 6,
    "start_time": "2024-07-29T17:44:26.112Z"
   },
   {
    "duration": 409,
    "start_time": "2024-07-29T17:44:26.122Z"
   },
   {
    "duration": 221,
    "start_time": "2024-07-29T17:44:26.536Z"
   },
   {
    "duration": 405,
    "start_time": "2024-07-29T17:44:26.761Z"
   },
   {
    "duration": 17,
    "start_time": "2024-07-29T17:44:27.168Z"
   },
   {
    "duration": 11,
    "start_time": "2024-07-29T17:44:27.206Z"
   },
   {
    "duration": 532,
    "start_time": "2024-07-29T17:44:27.221Z"
   },
   {
    "duration": 32,
    "start_time": "2024-07-29T17:44:27.756Z"
   },
   {
    "duration": 331,
    "start_time": "2024-07-29T17:44:27.791Z"
   },
   {
    "duration": 10,
    "start_time": "2024-07-29T17:44:28.129Z"
   },
   {
    "duration": 8,
    "start_time": "2024-07-29T17:44:28.142Z"
   },
   {
    "duration": 10,
    "start_time": "2024-07-29T17:44:28.152Z"
   },
   {
    "duration": 1071,
    "start_time": "2024-07-29T17:44:28.166Z"
   },
   {
    "duration": 611,
    "start_time": "2024-07-29T17:44:29.242Z"
   },
   {
    "duration": 568,
    "start_time": "2024-07-29T17:44:29.857Z"
   },
   {
    "duration": 706,
    "start_time": "2024-07-29T17:44:30.428Z"
   },
   {
    "duration": 0,
    "start_time": "2024-07-29T17:44:31.138Z"
   },
   {
    "duration": 0,
    "start_time": "2024-07-29T17:44:31.140Z"
   },
   {
    "duration": 0,
    "start_time": "2024-07-29T17:44:31.143Z"
   },
   {
    "duration": 45,
    "start_time": "2024-07-29T17:48:37.611Z"
   },
   {
    "duration": 1558,
    "start_time": "2024-07-29T17:53:08.305Z"
   },
   {
    "duration": 1481,
    "start_time": "2024-07-29T17:53:29.473Z"
   },
   {
    "duration": 738,
    "start_time": "2024-07-29T17:57:16.828Z"
   },
   {
    "duration": 1635,
    "start_time": "2024-07-29T17:57:17.571Z"
   },
   {
    "duration": 18,
    "start_time": "2024-07-29T17:57:19.209Z"
   },
   {
    "duration": 16,
    "start_time": "2024-07-29T17:57:19.231Z"
   },
   {
    "duration": 13,
    "start_time": "2024-07-29T17:57:19.252Z"
   },
   {
    "duration": 11,
    "start_time": "2024-07-29T17:57:19.307Z"
   },
   {
    "duration": 15,
    "start_time": "2024-07-29T17:57:19.321Z"
   },
   {
    "duration": 420,
    "start_time": "2024-07-29T17:57:19.339Z"
   },
   {
    "duration": 14,
    "start_time": "2024-07-29T17:57:19.762Z"
   },
   {
    "duration": 231,
    "start_time": "2024-07-29T17:57:19.782Z"
   },
   {
    "duration": 370,
    "start_time": "2024-07-29T17:57:20.017Z"
   },
   {
    "duration": 103,
    "start_time": "2024-07-29T17:57:20.390Z"
   },
   {
    "duration": 57,
    "start_time": "2024-07-29T17:57:20.497Z"
   },
   {
    "duration": 12,
    "start_time": "2024-07-29T17:57:20.557Z"
   },
   {
    "duration": 80,
    "start_time": "2024-07-29T17:57:20.572Z"
   },
   {
    "duration": 57,
    "start_time": "2024-07-29T17:57:20.657Z"
   },
   {
    "duration": 13,
    "start_time": "2024-07-29T17:57:20.717Z"
   },
   {
    "duration": 6,
    "start_time": "2024-07-29T17:57:20.733Z"
   },
   {
    "duration": 9,
    "start_time": "2024-07-29T17:57:20.745Z"
   },
   {
    "duration": 5,
    "start_time": "2024-07-29T17:57:20.758Z"
   },
   {
    "duration": 2842,
    "start_time": "2024-07-29T17:57:20.807Z"
   },
   {
    "duration": 60,
    "start_time": "2024-07-29T17:57:23.652Z"
   },
   {
    "duration": 55,
    "start_time": "2024-07-29T17:57:23.716Z"
   },
   {
    "duration": 39,
    "start_time": "2024-07-29T17:57:23.775Z"
   },
   {
    "duration": 17,
    "start_time": "2024-07-29T17:57:23.820Z"
   },
   {
    "duration": 14,
    "start_time": "2024-07-29T17:57:23.841Z"
   },
   {
    "duration": 81,
    "start_time": "2024-07-29T17:57:23.859Z"
   },
   {
    "duration": 30,
    "start_time": "2024-07-29T17:57:23.949Z"
   },
   {
    "duration": 16,
    "start_time": "2024-07-29T17:57:24.006Z"
   },
   {
    "duration": 121,
    "start_time": "2024-07-29T17:57:24.025Z"
   },
   {
    "duration": 68,
    "start_time": "2024-07-29T17:57:24.150Z"
   },
   {
    "duration": 11,
    "start_time": "2024-07-29T17:57:24.222Z"
   },
   {
    "duration": 233,
    "start_time": "2024-07-29T17:57:24.236Z"
   },
   {
    "duration": 1435,
    "start_time": "2024-07-29T17:57:24.474Z"
   },
   {
    "duration": 6,
    "start_time": "2024-07-29T17:57:25.913Z"
   },
   {
    "duration": 7,
    "start_time": "2024-07-29T17:57:25.923Z"
   },
   {
    "duration": 403,
    "start_time": "2024-07-29T17:57:25.934Z"
   },
   {
    "duration": 232,
    "start_time": "2024-07-29T17:57:26.340Z"
   },
   {
    "duration": 408,
    "start_time": "2024-07-29T17:57:26.577Z"
   },
   {
    "duration": 26,
    "start_time": "2024-07-29T17:57:26.988Z"
   },
   {
    "duration": 11,
    "start_time": "2024-07-29T17:57:27.018Z"
   },
   {
    "duration": 541,
    "start_time": "2024-07-29T17:57:27.033Z"
   },
   {
    "duration": 47,
    "start_time": "2024-07-29T17:57:27.577Z"
   },
   {
    "duration": 317,
    "start_time": "2024-07-29T17:57:27.628Z"
   },
   {
    "duration": 8,
    "start_time": "2024-07-29T17:57:27.955Z"
   },
   {
    "duration": 10,
    "start_time": "2024-07-29T17:57:27.966Z"
   },
   {
    "duration": 30,
    "start_time": "2024-07-29T17:57:27.978Z"
   },
   {
    "duration": 1046,
    "start_time": "2024-07-29T17:57:28.016Z"
   },
   {
    "duration": 632,
    "start_time": "2024-07-29T17:57:29.065Z"
   },
   {
    "duration": 552,
    "start_time": "2024-07-29T17:57:29.707Z"
   },
   {
    "duration": 1776,
    "start_time": "2024-07-29T17:57:30.264Z"
   },
   {
    "duration": 45,
    "start_time": "2024-07-29T17:57:32.043Z"
   },
   {
    "duration": 87,
    "start_time": "2024-07-29T17:57:32.091Z"
   },
   {
    "duration": 27,
    "start_time": "2024-07-29T17:57:32.181Z"
   },
   {
    "duration": 328,
    "start_time": "2024-07-30T15:44:39.129Z"
   },
   {
    "duration": 4310,
    "start_time": "2024-07-30T15:44:45.730Z"
   },
   {
    "duration": 1699,
    "start_time": "2024-07-30T15:44:50.044Z"
   },
   {
    "duration": 19,
    "start_time": "2024-07-30T15:44:51.745Z"
   },
   {
    "duration": 18,
    "start_time": "2024-07-30T15:44:51.768Z"
   },
   {
    "duration": 44,
    "start_time": "2024-07-30T15:44:51.788Z"
   },
   {
    "duration": 11,
    "start_time": "2024-07-30T15:44:51.835Z"
   },
   {
    "duration": 16,
    "start_time": "2024-07-30T15:44:51.849Z"
   },
   {
    "duration": 383,
    "start_time": "2024-07-30T15:44:51.870Z"
   },
   {
    "duration": 14,
    "start_time": "2024-07-30T15:44:52.256Z"
   },
   {
    "duration": 211,
    "start_time": "2024-07-30T15:44:52.276Z"
   },
   {
    "duration": 332,
    "start_time": "2024-07-30T15:44:52.490Z"
   },
   {
    "duration": 99,
    "start_time": "2024-07-30T15:44:52.827Z"
   },
   {
    "duration": 36,
    "start_time": "2024-07-30T15:44:52.929Z"
   },
   {
    "duration": 5,
    "start_time": "2024-07-30T15:44:52.969Z"
   },
   {
    "duration": 79,
    "start_time": "2024-07-30T15:44:52.977Z"
   },
   {
    "duration": 23,
    "start_time": "2024-07-30T15:44:53.059Z"
   },
   {
    "duration": 17,
    "start_time": "2024-07-30T15:44:53.085Z"
   },
   {
    "duration": 22,
    "start_time": "2024-07-30T15:44:53.105Z"
   },
   {
    "duration": 9,
    "start_time": "2024-07-30T15:44:53.130Z"
   },
   {
    "duration": 5,
    "start_time": "2024-07-30T15:44:53.142Z"
   },
   {
    "duration": 2741,
    "start_time": "2024-07-30T15:44:53.150Z"
   },
   {
    "duration": 61,
    "start_time": "2024-07-30T15:44:55.894Z"
   },
   {
    "duration": 49,
    "start_time": "2024-07-30T15:44:55.958Z"
   },
   {
    "duration": 25,
    "start_time": "2024-07-30T15:44:56.010Z"
   },
   {
    "duration": 13,
    "start_time": "2024-07-30T15:44:56.038Z"
   },
   {
    "duration": 11,
    "start_time": "2024-07-30T15:44:56.054Z"
   },
   {
    "duration": 87,
    "start_time": "2024-07-30T15:44:56.069Z"
   },
   {
    "duration": 28,
    "start_time": "2024-07-30T15:44:56.166Z"
   },
   {
    "duration": 36,
    "start_time": "2024-07-30T15:44:56.197Z"
   },
   {
    "duration": 123,
    "start_time": "2024-07-30T15:44:56.235Z"
   },
   {
    "duration": 64,
    "start_time": "2024-07-30T15:44:56.361Z"
   },
   {
    "duration": 9,
    "start_time": "2024-07-30T15:44:56.428Z"
   },
   {
    "duration": 227,
    "start_time": "2024-07-30T15:44:56.440Z"
   },
   {
    "duration": 1218,
    "start_time": "2024-07-30T15:44:56.670Z"
   },
   {
    "duration": 6,
    "start_time": "2024-07-30T15:44:57.892Z"
   },
   {
    "duration": 25,
    "start_time": "2024-07-30T15:44:57.901Z"
   },
   {
    "duration": 379,
    "start_time": "2024-07-30T15:44:57.929Z"
   },
   {
    "duration": 232,
    "start_time": "2024-07-30T15:44:58.311Z"
   },
   {
    "duration": 388,
    "start_time": "2024-07-30T15:44:58.546Z"
   },
   {
    "duration": 15,
    "start_time": "2024-07-30T15:44:58.937Z"
   },
   {
    "duration": 8,
    "start_time": "2024-07-30T15:44:58.955Z"
   },
   {
    "duration": 572,
    "start_time": "2024-07-30T15:44:58.966Z"
   },
   {
    "duration": 27,
    "start_time": "2024-07-30T15:44:59.540Z"
   },
   {
    "duration": 297,
    "start_time": "2024-07-30T15:44:59.570Z"
   },
   {
    "duration": 10,
    "start_time": "2024-07-30T15:44:59.870Z"
   },
   {
    "duration": 10,
    "start_time": "2024-07-30T15:44:59.884Z"
   },
   {
    "duration": 29,
    "start_time": "2024-07-30T15:44:59.897Z"
   },
   {
    "duration": 969,
    "start_time": "2024-07-30T15:44:59.929Z"
   },
   {
    "duration": 587,
    "start_time": "2024-07-30T15:45:00.901Z"
   },
   {
    "duration": 522,
    "start_time": "2024-07-30T15:45:01.492Z"
   },
   {
    "duration": 1575,
    "start_time": "2024-07-30T15:45:02.017Z"
   },
   {
    "duration": 50,
    "start_time": "2024-07-30T15:45:03.596Z"
   },
   {
    "duration": 80,
    "start_time": "2024-07-30T15:45:03.649Z"
   },
   {
    "duration": 9,
    "start_time": "2024-07-30T15:45:03.732Z"
   },
   {
    "duration": 33,
    "start_time": "2024-07-30T15:45:56.690Z"
   },
   {
    "duration": 239,
    "start_time": "2024-07-30T15:50:31.678Z"
   },
   {
    "duration": 77,
    "start_time": "2024-07-30T15:50:41.154Z"
   },
   {
    "duration": 50,
    "start_time": "2024-07-30T15:50:51.250Z"
   },
   {
    "duration": 1155,
    "start_time": "2024-07-30T15:51:33.013Z"
   },
   {
    "duration": 48,
    "start_time": "2024-07-30T15:51:41.387Z"
   },
   {
    "duration": 47,
    "start_time": "2024-07-30T15:53:59.878Z"
   },
   {
    "duration": 45,
    "start_time": "2024-07-30T15:54:19.237Z"
   },
   {
    "duration": 45,
    "start_time": "2024-07-30T15:54:49.620Z"
   },
   {
    "duration": 13,
    "start_time": "2024-07-30T15:55:48.638Z"
   },
   {
    "duration": 689,
    "start_time": "2024-07-30T15:55:55.371Z"
   },
   {
    "duration": 1575,
    "start_time": "2024-07-30T15:55:56.064Z"
   },
   {
    "duration": 21,
    "start_time": "2024-07-30T15:55:57.642Z"
   },
   {
    "duration": 13,
    "start_time": "2024-07-30T15:55:57.667Z"
   },
   {
    "duration": 52,
    "start_time": "2024-07-30T15:55:57.683Z"
   },
   {
    "duration": 11,
    "start_time": "2024-07-30T15:55:57.738Z"
   },
   {
    "duration": 14,
    "start_time": "2024-07-30T15:55:57.752Z"
   },
   {
    "duration": 380,
    "start_time": "2024-07-30T15:55:57.770Z"
   },
   {
    "duration": 13,
    "start_time": "2024-07-30T15:55:58.154Z"
   },
   {
    "duration": 216,
    "start_time": "2024-07-30T15:55:58.172Z"
   },
   {
    "duration": 346,
    "start_time": "2024-07-30T15:55:58.391Z"
   },
   {
    "duration": 101,
    "start_time": "2024-07-30T15:55:58.739Z"
   },
   {
    "duration": 37,
    "start_time": "2024-07-30T15:55:58.843Z"
   },
   {
    "duration": 5,
    "start_time": "2024-07-30T15:55:58.883Z"
   },
   {
    "duration": 74,
    "start_time": "2024-07-30T15:55:58.891Z"
   },
   {
    "duration": 33,
    "start_time": "2024-07-30T15:55:58.968Z"
   },
   {
    "duration": 9,
    "start_time": "2024-07-30T15:55:59.027Z"
   },
   {
    "duration": 6,
    "start_time": "2024-07-30T15:55:59.038Z"
   },
   {
    "duration": 8,
    "start_time": "2024-07-30T15:55:59.047Z"
   },
   {
    "duration": 5,
    "start_time": "2024-07-30T15:55:59.059Z"
   },
   {
    "duration": 2787,
    "start_time": "2024-07-30T15:55:59.067Z"
   },
   {
    "duration": 48,
    "start_time": "2024-07-30T15:56:01.857Z"
   },
   {
    "duration": 61,
    "start_time": "2024-07-30T15:56:01.908Z"
   },
   {
    "duration": 18,
    "start_time": "2024-07-30T15:56:01.974Z"
   },
   {
    "duration": 38,
    "start_time": "2024-07-30T15:56:01.995Z"
   },
   {
    "duration": 12,
    "start_time": "2024-07-30T15:56:02.035Z"
   },
   {
    "duration": 39,
    "start_time": "2024-07-30T15:56:02.050Z"
   },
   {
    "duration": 28,
    "start_time": "2024-07-30T15:56:02.134Z"
   },
   {
    "duration": 14,
    "start_time": "2024-07-30T15:56:02.165Z"
   },
   {
    "duration": 141,
    "start_time": "2024-07-30T15:56:02.185Z"
   },
   {
    "duration": 49,
    "start_time": "2024-07-30T15:56:02.329Z"
   },
   {
    "duration": 9,
    "start_time": "2024-07-30T15:56:02.381Z"
   },
   {
    "duration": 240,
    "start_time": "2024-07-30T15:56:02.394Z"
   },
   {
    "duration": 1159,
    "start_time": "2024-07-30T15:56:02.638Z"
   },
   {
    "duration": 5,
    "start_time": "2024-07-30T15:56:03.800Z"
   },
   {
    "duration": 6,
    "start_time": "2024-07-30T15:56:03.827Z"
   },
   {
    "duration": 379,
    "start_time": "2024-07-30T15:56:03.836Z"
   },
   {
    "duration": 221,
    "start_time": "2024-07-30T15:56:04.218Z"
   },
   {
    "duration": 384,
    "start_time": "2024-07-30T15:56:04.442Z"
   },
   {
    "duration": 15,
    "start_time": "2024-07-30T15:56:04.828Z"
   },
   {
    "duration": 8,
    "start_time": "2024-07-30T15:56:04.846Z"
   },
   {
    "duration": 531,
    "start_time": "2024-07-30T15:56:04.857Z"
   },
   {
    "duration": 44,
    "start_time": "2024-07-30T15:56:05.391Z"
   },
   {
    "duration": 275,
    "start_time": "2024-07-30T15:56:05.437Z"
   },
   {
    "duration": 14,
    "start_time": "2024-07-30T15:56:05.715Z"
   },
   {
    "duration": 8,
    "start_time": "2024-07-30T15:56:05.732Z"
   },
   {
    "duration": 6,
    "start_time": "2024-07-30T15:56:05.743Z"
   },
   {
    "duration": 982,
    "start_time": "2024-07-30T15:56:05.753Z"
   },
   {
    "duration": 581,
    "start_time": "2024-07-30T15:56:06.738Z"
   },
   {
    "duration": 530,
    "start_time": "2024-07-30T15:56:07.325Z"
   },
   {
    "duration": 1565,
    "start_time": "2024-07-30T15:56:07.858Z"
   },
   {
    "duration": 39,
    "start_time": "2024-07-30T15:56:09.427Z"
   },
   {
    "duration": 91,
    "start_time": "2024-07-30T15:56:09.468Z"
   },
   {
    "duration": 10,
    "start_time": "2024-07-30T15:56:09.561Z"
   },
   {
    "duration": 9,
    "start_time": "2024-07-30T15:57:19.565Z"
   },
   {
    "duration": 9,
    "start_time": "2024-07-30T15:57:23.057Z"
   },
   {
    "duration": 13,
    "start_time": "2024-07-30T15:57:30.774Z"
   },
   {
    "duration": 684,
    "start_time": "2024-07-30T15:57:38.650Z"
   },
   {
    "duration": 1549,
    "start_time": "2024-07-30T15:57:39.341Z"
   },
   {
    "duration": 17,
    "start_time": "2024-07-30T15:57:40.892Z"
   },
   {
    "duration": 14,
    "start_time": "2024-07-30T15:57:40.929Z"
   },
   {
    "duration": 12,
    "start_time": "2024-07-30T15:57:40.946Z"
   },
   {
    "duration": 11,
    "start_time": "2024-07-30T15:57:40.961Z"
   },
   {
    "duration": 61,
    "start_time": "2024-07-30T15:57:40.975Z"
   },
   {
    "duration": 357,
    "start_time": "2024-07-30T15:57:41.040Z"
   },
   {
    "duration": 26,
    "start_time": "2024-07-30T15:57:41.400Z"
   },
   {
    "duration": 208,
    "start_time": "2024-07-30T15:57:41.432Z"
   },
   {
    "duration": 332,
    "start_time": "2024-07-30T15:57:41.643Z"
   },
   {
    "duration": 96,
    "start_time": "2024-07-30T15:57:41.978Z"
   },
   {
    "duration": 56,
    "start_time": "2024-07-30T15:57:42.077Z"
   },
   {
    "duration": 6,
    "start_time": "2024-07-30T15:57:42.135Z"
   },
   {
    "duration": 49,
    "start_time": "2024-07-30T15:57:42.144Z"
   },
   {
    "duration": 65,
    "start_time": "2024-07-30T15:57:42.196Z"
   },
   {
    "duration": 8,
    "start_time": "2024-07-30T15:57:42.264Z"
   },
   {
    "duration": 5,
    "start_time": "2024-07-30T15:57:42.275Z"
   },
   {
    "duration": 44,
    "start_time": "2024-07-30T15:57:42.284Z"
   },
   {
    "duration": 6,
    "start_time": "2024-07-30T15:57:42.331Z"
   },
   {
    "duration": 2623,
    "start_time": "2024-07-30T15:57:42.340Z"
   },
   {
    "duration": 62,
    "start_time": "2024-07-30T15:57:44.967Z"
   },
   {
    "duration": 46,
    "start_time": "2024-07-30T15:57:45.032Z"
   },
   {
    "duration": 18,
    "start_time": "2024-07-30T15:57:45.081Z"
   },
   {
    "duration": 14,
    "start_time": "2024-07-30T15:57:45.127Z"
   },
   {
    "duration": 12,
    "start_time": "2024-07-30T15:57:45.144Z"
   },
   {
    "duration": 77,
    "start_time": "2024-07-30T15:57:45.159Z"
   },
   {
    "duration": 26,
    "start_time": "2024-07-30T15:57:45.244Z"
   },
   {
    "duration": 14,
    "start_time": "2024-07-30T15:57:45.273Z"
   },
   {
    "duration": 145,
    "start_time": "2024-07-30T15:57:45.291Z"
   },
   {
    "duration": 50,
    "start_time": "2024-07-30T15:57:45.439Z"
   },
   {
    "duration": 10,
    "start_time": "2024-07-30T15:57:45.493Z"
   },
   {
    "duration": 220,
    "start_time": "2024-07-30T15:57:45.526Z"
   },
   {
    "duration": 1156,
    "start_time": "2024-07-30T15:57:45.749Z"
   },
   {
    "duration": 18,
    "start_time": "2024-07-30T15:57:46.908Z"
   },
   {
    "duration": 5,
    "start_time": "2024-07-30T15:57:46.929Z"
   },
   {
    "duration": 378,
    "start_time": "2024-07-30T15:57:46.937Z"
   },
   {
    "duration": 231,
    "start_time": "2024-07-30T15:57:47.318Z"
   },
   {
    "duration": 394,
    "start_time": "2024-07-30T15:57:47.552Z"
   },
   {
    "duration": 15,
    "start_time": "2024-07-30T15:57:47.949Z"
   },
   {
    "duration": 8,
    "start_time": "2024-07-30T15:57:47.967Z"
   },
   {
    "duration": 529,
    "start_time": "2024-07-30T15:57:47.978Z"
   },
   {
    "duration": 40,
    "start_time": "2024-07-30T15:57:48.510Z"
   },
   {
    "duration": 289,
    "start_time": "2024-07-30T15:57:48.553Z"
   },
   {
    "duration": 7,
    "start_time": "2024-07-30T15:57:48.845Z"
   },
   {
    "duration": 8,
    "start_time": "2024-07-30T15:57:48.854Z"
   },
   {
    "duration": 7,
    "start_time": "2024-07-30T15:57:48.865Z"
   },
   {
    "duration": 1002,
    "start_time": "2024-07-30T15:57:48.875Z"
   },
   {
    "duration": 567,
    "start_time": "2024-07-30T15:57:49.884Z"
   },
   {
    "duration": 520,
    "start_time": "2024-07-30T15:57:50.455Z"
   },
   {
    "duration": 1537,
    "start_time": "2024-07-30T15:57:50.978Z"
   },
   {
    "duration": 37,
    "start_time": "2024-07-30T15:57:52.525Z"
   },
   {
    "duration": 88,
    "start_time": "2024-07-30T15:57:52.565Z"
   },
   {
    "duration": 10,
    "start_time": "2024-07-30T15:57:52.655Z"
   },
   {
    "duration": 10,
    "start_time": "2024-07-30T15:58:27.925Z"
   },
   {
    "duration": 9,
    "start_time": "2024-07-30T15:58:39.925Z"
   },
   {
    "duration": 41,
    "start_time": "2024-07-30T15:59:00.707Z"
   },
   {
    "duration": 13,
    "start_time": "2024-07-30T15:59:05.585Z"
   },
   {
    "duration": 68,
    "start_time": "2024-07-30T16:00:23.991Z"
   },
   {
    "duration": 67,
    "start_time": "2024-07-30T16:00:46.962Z"
   },
   {
    "duration": 13,
    "start_time": "2024-07-30T16:00:55.143Z"
   },
   {
    "duration": 677,
    "start_time": "2024-07-30T16:01:01.595Z"
   },
   {
    "duration": 1539,
    "start_time": "2024-07-30T16:01:02.276Z"
   },
   {
    "duration": 22,
    "start_time": "2024-07-30T16:01:03.818Z"
   },
   {
    "duration": 14,
    "start_time": "2024-07-30T16:01:03.844Z"
   },
   {
    "duration": 12,
    "start_time": "2024-07-30T16:01:03.861Z"
   },
   {
    "duration": 54,
    "start_time": "2024-07-30T16:01:03.875Z"
   },
   {
    "duration": 15,
    "start_time": "2024-07-30T16:01:03.931Z"
   },
   {
    "duration": 377,
    "start_time": "2024-07-30T16:01:03.949Z"
   },
   {
    "duration": 14,
    "start_time": "2024-07-30T16:01:04.329Z"
   },
   {
    "duration": 209,
    "start_time": "2024-07-30T16:01:04.348Z"
   },
   {
    "duration": 342,
    "start_time": "2024-07-30T16:01:04.560Z"
   },
   {
    "duration": 93,
    "start_time": "2024-07-30T16:01:04.905Z"
   },
   {
    "duration": 53,
    "start_time": "2024-07-30T16:01:05.001Z"
   },
   {
    "duration": 6,
    "start_time": "2024-07-30T16:01:05.057Z"
   },
   {
    "duration": 68,
    "start_time": "2024-07-30T16:01:05.066Z"
   },
   {
    "duration": 33,
    "start_time": "2024-07-30T16:01:05.137Z"
   },
   {
    "duration": 7,
    "start_time": "2024-07-30T16:01:05.173Z"
   },
   {
    "duration": 5,
    "start_time": "2024-07-30T16:01:05.184Z"
   },
   {
    "duration": 43,
    "start_time": "2024-07-30T16:01:05.192Z"
   },
   {
    "duration": 5,
    "start_time": "2024-07-30T16:01:05.239Z"
   },
   {
    "duration": 2701,
    "start_time": "2024-07-30T16:01:05.248Z"
   },
   {
    "duration": 49,
    "start_time": "2024-07-30T16:01:07.952Z"
   },
   {
    "duration": 67,
    "start_time": "2024-07-30T16:01:08.003Z"
   },
   {
    "duration": 84,
    "start_time": "2024-07-30T16:01:08.073Z"
   },
   {
    "duration": 13,
    "start_time": "2024-07-30T16:01:08.161Z"
   },
   {
    "duration": 12,
    "start_time": "2024-07-30T16:01:08.177Z"
   },
   {
    "duration": 67,
    "start_time": "2024-07-30T16:01:08.192Z"
   },
   {
    "duration": 27,
    "start_time": "2024-07-30T16:01:08.267Z"
   },
   {
    "duration": 42,
    "start_time": "2024-07-30T16:01:08.297Z"
   },
   {
    "duration": 122,
    "start_time": "2024-07-30T16:01:08.342Z"
   },
   {
    "duration": 63,
    "start_time": "2024-07-30T16:01:08.467Z"
   },
   {
    "duration": 11,
    "start_time": "2024-07-30T16:01:08.533Z"
   },
   {
    "duration": 229,
    "start_time": "2024-07-30T16:01:08.547Z"
   },
   {
    "duration": 1193,
    "start_time": "2024-07-30T16:01:08.780Z"
   },
   {
    "duration": 6,
    "start_time": "2024-07-30T16:01:09.977Z"
   },
   {
    "duration": 6,
    "start_time": "2024-07-30T16:01:09.986Z"
   },
   {
    "duration": 383,
    "start_time": "2024-07-30T16:01:09.997Z"
   },
   {
    "duration": 226,
    "start_time": "2024-07-30T16:01:10.384Z"
   },
   {
    "duration": 387,
    "start_time": "2024-07-30T16:01:10.613Z"
   },
   {
    "duration": 32,
    "start_time": "2024-07-30T16:01:11.003Z"
   },
   {
    "duration": 8,
    "start_time": "2024-07-30T16:01:11.037Z"
   },
   {
    "duration": 505,
    "start_time": "2024-07-30T16:01:11.047Z"
   },
   {
    "duration": 27,
    "start_time": "2024-07-30T16:01:11.556Z"
   },
   {
    "duration": 294,
    "start_time": "2024-07-30T16:01:11.586Z"
   },
   {
    "duration": 8,
    "start_time": "2024-07-30T16:01:11.884Z"
   },
   {
    "duration": 31,
    "start_time": "2024-07-30T16:01:11.895Z"
   },
   {
    "duration": 6,
    "start_time": "2024-07-30T16:01:11.929Z"
   },
   {
    "duration": 963,
    "start_time": "2024-07-30T16:01:11.938Z"
   },
   {
    "duration": 574,
    "start_time": "2024-07-30T16:01:12.904Z"
   },
   {
    "duration": 594,
    "start_time": "2024-07-30T16:01:13.481Z"
   },
   {
    "duration": 1520,
    "start_time": "2024-07-30T16:01:14.078Z"
   },
   {
    "duration": 51,
    "start_time": "2024-07-30T16:01:15.601Z"
   },
   {
    "duration": 89,
    "start_time": "2024-07-30T16:01:15.655Z"
   },
   {
    "duration": 8,
    "start_time": "2024-07-30T16:01:15.747Z"
   },
   {
    "duration": 14,
    "start_time": "2024-07-30T16:02:01.290Z"
   },
   {
    "duration": 15,
    "start_time": "2024-07-30T16:02:13.578Z"
   },
   {
    "duration": 14,
    "start_time": "2024-07-30T16:02:15.623Z"
   },
   {
    "duration": 71,
    "start_time": "2024-07-30T16:02:35.776Z"
   },
   {
    "duration": 9,
    "start_time": "2024-07-30T16:07:40.062Z"
   },
   {
    "duration": 10,
    "start_time": "2024-07-30T16:09:06.323Z"
   },
   {
    "duration": 10,
    "start_time": "2024-07-30T16:09:46.097Z"
   },
   {
    "duration": 10,
    "start_time": "2024-07-30T16:09:48.670Z"
   },
   {
    "duration": 10,
    "start_time": "2024-07-30T16:09:59.167Z"
   },
   {
    "duration": 53,
    "start_time": "2024-07-30T16:59:24.081Z"
   },
   {
    "duration": 55,
    "start_time": "2024-07-30T17:00:00.992Z"
   },
   {
    "duration": 249,
    "start_time": "2024-07-30T17:21:06.615Z"
   }
  ],
  "colab": {
   "provenance": []
  },
  "kernelspec": {
   "display_name": "Python 3 (ipykernel)",
   "language": "python",
   "name": "python3"
  },
  "language_info": {
   "codemirror_mode": {
    "name": "ipython",
    "version": 3
   },
   "file_extension": ".py",
   "mimetype": "text/x-python",
   "name": "python",
   "nbconvert_exporter": "python",
   "pygments_lexer": "ipython3",
   "version": "3.9.19"
  },
  "toc": {
   "base_numbering": 1,
   "nav_menu": {},
   "number_sections": true,
   "sideBar": true,
   "skip_h1_title": true,
   "title_cell": "Table of Contents",
   "title_sidebar": "Contents",
   "toc_cell": false,
   "toc_position": {},
   "toc_section_display": true,
   "toc_window_display": false
  },
  "vscode": {
   "interpreter": {
    "hash": "01a7be9ec63e704a62cefc5fe7a4756944464ee731be31632bdf42a4cb4688cf"
   }
  }
 },
 "nbformat": 4,
 "nbformat_minor": 5
}
